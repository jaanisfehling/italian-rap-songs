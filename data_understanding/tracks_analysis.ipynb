{
 "cells": [
  {
   "cell_type": "markdown",
   "id": "23924fd2",
   "metadata": {},
   "source": [
    "## Tracks data analysis"
   ]
  },
  {
   "cell_type": "markdown",
   "id": "7484a138",
   "metadata": {},
   "source": [
    "Let's assert tracks data analysis by taking a first inspection of the track dataset"
   ]
  },
  {
   "cell_type": "code",
   "execution_count": 1,
   "id": "20f1204c",
   "metadata": {},
   "outputs": [],
   "source": [
    "import pandas as pd\n",
    "import matplotlib.pyplot as plt\n",
    "from os import path\n",
    "import re\n",
    "dataset_path = path.join('..', 'dataset', 'tracks.csv')\n",
    "df = pd.read_csv(dataset_path, sep=',')"
   ]
  },
  {
   "cell_type": "code",
   "execution_count": 2,
   "id": "94aee455",
   "metadata": {
    "scrolled": true
   },
   "outputs": [
    {
     "name": "stdout",
     "output_type": "stream",
     "text": [
      "<class 'pandas.core.frame.DataFrame'>\n",
      "RangeIndex: 11166 entries, 0 to 11165\n",
      "Data columns (total 45 columns):\n",
      " #   Column                Non-Null Count  Dtype  \n",
      "---  ------                --------------  -----  \n",
      " 0   id                    11166 non-null  object \n",
      " 1   id_artist             11166 non-null  object \n",
      " 2   name_artist           11166 non-null  object \n",
      " 3   full_title            11166 non-null  object \n",
      " 4   title                 11166 non-null  object \n",
      " 5   featured_artists      3517 non-null   object \n",
      " 6   primary_artist        11166 non-null  object \n",
      " 7   language              11061 non-null  object \n",
      " 8   album                 9652 non-null   object \n",
      " 9   stats_pageviews       4642 non-null   float64\n",
      " 10  swear_IT              11166 non-null  int64  \n",
      " 11  swear_EN              11166 non-null  int64  \n",
      " 12  swear_IT_words        11166 non-null  object \n",
      " 13  swear_EN_words        11166 non-null  object \n",
      " 14  year                  10766 non-null  object \n",
      " 15  month                 9969 non-null   float64\n",
      " 16  day                   9843 non-null   float64\n",
      " 17  n_sentences           11090 non-null  float64\n",
      " 18  n_tokens              11090 non-null  float64\n",
      " 19  tokens_per_sent       11090 non-null  float64\n",
      " 20  char_per_tok          11090 non-null  float64\n",
      " 21  lexical_density       11090 non-null  float64\n",
      " 22  avg_token_per_clause  11090 non-null  float64\n",
      " 23  bpm                   11102 non-null  float64\n",
      " 24  centroid              11102 non-null  float64\n",
      " 25  rolloff               11102 non-null  float64\n",
      " 26  flux                  11102 non-null  float64\n",
      " 27  rms                   11102 non-null  float64\n",
      " 28  zcr                   11102 non-null  float64\n",
      " 29  flatness              11102 non-null  float64\n",
      " 30  spectral_complexity   11102 non-null  float64\n",
      " 31  pitch                 11102 non-null  float64\n",
      " 32  loudness              11102 non-null  float64\n",
      " 33  album_name            11088 non-null  object \n",
      " 34  album_release_date    11088 non-null  object \n",
      " 35  album_type            11088 non-null  object \n",
      " 36  disc_number           11088 non-null  float64\n",
      " 37  track_number          11088 non-null  float64\n",
      " 38  duration_ms           11088 non-null  float64\n",
      " 39  explicit              11088 non-null  object \n",
      " 40  popularity            11164 non-null  object \n",
      " 41  album_image           11088 non-null  object \n",
      " 42  id_album              11088 non-null  object \n",
      " 43  lyrics                11163 non-null  object \n",
      " 44  modified_popularity   11166 non-null  bool   \n",
      "dtypes: bool(1), float64(22), int64(2), object(20)\n",
      "memory usage: 3.8+ MB\n"
     ]
    }
   ],
   "source": [
    "df.info()"
   ]
  },
  {
   "cell_type": "markdown",
   "id": "21bb416c",
   "metadata": {},
   "source": [
    "year, month, day, n_sentence, n_tokens, disc_numer, track_number, popularity should all be Int64 (or at least float64: year and popularity are object), explicit should be bool"
   ]
  },
  {
   "cell_type": "markdown",
   "id": "720666e6",
   "metadata": {},
   "source": [
    "validation helper function checking expected types validity"
   ]
  },
  {
   "cell_type": "code",
   "execution_count": 3,
   "id": "68b6d642",
   "metadata": {},
   "outputs": [],
   "source": [
    "def check_type_validity(value, expected_type):\n",
    "    return not isinstance(value, expected_type)"
   ]
  },
  {
   "cell_type": "markdown",
   "id": "691c2626",
   "metadata": {},
   "source": [
    "### id"
   ]
  },
  {
   "cell_type": "code",
   "execution_count": 4,
   "id": "6e0e39f7",
   "metadata": {},
   "outputs": [
    {
     "name": "stdout",
     "output_type": "stream",
     "text": [
      "Series([], Name: id, dtype: object)\n",
      "number of missing values in id: 0\n",
      "number of unique ids: 11093\n"
     ]
    }
   ],
   "source": [
    "invalid_elems = df[df['id'].apply(check_type_validity, expected_type=str)]\n",
    "print(invalid_elems['id'])\n",
    "\n",
    "nan_indexes = df.index[df['id'].isna()].tolist()\n",
    "print(f\"number of missing values in id: {len(nan_indexes)}\")\n",
    "\n",
    "unique_ids = df['id'].nunique()\n",
    "print(f\"number of unique ids: {unique_ids}\")"
   ]
  },
  {
   "cell_type": "markdown",
   "id": "3e5bc4df",
   "metadata": {},
   "source": [
    "there are no missing id values in the dataset.\n",
    "all the ids are strings with the following format \"TR{unique_num_id}\".\n",
    "there are less unique ids than the number of rows (11093 < 11166), let's check if they come from duplicate songs or there are different songs with the same id"
   ]
  },
  {
   "cell_type": "code",
   "execution_count": 5,
   "id": "8d72dcde",
   "metadata": {},
   "outputs": [
    {
     "name": "stdout",
     "output_type": "stream",
     "text": [
      "there are 71 not unique ids:\n",
      "id\n",
      "TR367132    4\n",
      "TR978886    2\n",
      "TR987615    2\n",
      "TR690925    2\n",
      "TR772702    2\n",
      "           ..\n",
      "TR245683    2\n",
      "TR903275    2\n",
      "TR679972    2\n",
      "TR247772    2\n",
      "TR261964    2\n",
      "Name: count, Length: 71, dtype: int64\n",
      "0 come from duplicate songs,  70 come from different songs with the same id,  1 have both duplicate and different songs\n"
     ]
    }
   ],
   "source": [
    "not_unique_ids = df['id'].value_counts()\n",
    "not_unique_ids = not_unique_ids[not_unique_ids > 1]\n",
    "print(f\"there are {len(not_unique_ids)} not unique ids:\")\n",
    "print(not_unique_ids)\n",
    "\n",
    "not_unique_ids_list = not_unique_ids.index.tolist()\n",
    "\n",
    "identical_duplicates = []\n",
    "different_duplicates = []\n",
    "mixed_duplicates = [] #ids with both identical and different rows\n",
    "\n",
    "for dup_id in not_unique_ids_list:\n",
    "    duplicate_rows = df[df['id'] == dup_id]\n",
    "    num_occurrences = len(duplicate_rows)\n",
    "    \n",
    "    unique_songs = duplicate_rows[['name_artist', 'title']].drop_duplicates()\n",
    "    num_unique = len(unique_songs)\n",
    "\n",
    "    if num_unique == 1:\n",
    "        identical_duplicates.append(dup_id) #duplicate rows\n",
    "    elif num_unique == num_occurrences:\n",
    "        different_duplicates.append(dup_id) #different songs\n",
    "    else:\n",
    "        mixed_duplicates.append(dup_id) #duplicate rows and different songs\n",
    "\n",
    "print(f\"{len(identical_duplicates)} come from duplicate songs, \",\n",
    "      f\"{len(different_duplicates)} come from different songs with the same id, \",\n",
    "      f\"{len(mixed_duplicates)} have both duplicate and different songs\")"
   ]
  },
  {
   "cell_type": "markdown",
   "id": "0be2f1bd",
   "metadata": {},
   "source": [
    "of the 71 not unique ids, 70 refers to different songs, meaning that there are no duplicate songs respect to those ids, but there are ids which refers to multiple songs.\n",
    "\n",
    "by analyzing more in depth the case with both duplicate and different songs:"
   ]
  },
  {
   "cell_type": "code",
   "execution_count": 6,
   "id": "1077df2c",
   "metadata": {},
   "outputs": [
    {
     "name": "stdout",
     "output_type": "stream",
     "text": [
      "for id TR367132, there are 2 unique songs:\n",
      "\t- 'BUGIE' by artist: Madame, occuring 2 times\n",
      "\t\tdiffering columns: ['year', 'album_name', 'album_release_date', 'album_type', 'track_number', 'duration_ms', 'popularity', 'album_image', 'id_album']\n",
      "\n",
      "\t- '​sentimi' by artist: Madame, occuring 2 times\n",
      "\t\tdiffering columns: ['album_name', 'album_release_date', 'album_type', 'track_number', 'duration_ms', 'popularity', 'album_image', 'id_album']\n",
      "\n"
     ]
    }
   ],
   "source": [
    "for dup_id in mixed_duplicates: #iterating for a \"general\" solution, but in this case wouldn't be necessary\n",
    "    duplicate_artist_song = df[df['id'] == dup_id]\n",
    "    unique_songs = duplicate_artist_song[['name_artist', 'title']].drop_duplicates()\n",
    "    print(f\"for id {dup_id}, there are {len(unique_songs)} unique songs:\")\n",
    "    \n",
    "    for idx, row in unique_songs.iterrows():\n",
    "        song_rows = duplicate_artist_song[\n",
    "            (duplicate_artist_song['name_artist'] == row['name_artist']) &\n",
    "            (duplicate_artist_song['title'] == row['title'])]\n",
    "        \n",
    "        print(f\"\\t- '{row['title']}' by artist: {row['name_artist']}, occuring {len(song_rows)} times\")\n",
    "        \n",
    "        if len(song_rows) != 1: #more than one occurrence\n",
    "            first_row = song_rows.iloc[0]\n",
    "            all_identical = True\n",
    "            differing_columns = []\n",
    "\n",
    "            for col in song_rows.columns:\n",
    "                unique_values = song_rows[col].nunique()\n",
    "                if unique_values > 1:\n",
    "                    all_identical = False\n",
    "                    differing_columns.append(col)\n",
    "            \n",
    "            if not all_identical:\n",
    "                print(f\"\\t\\tdiffering columns: {differing_columns}\\n\")\n",
    "                \n",
    "                #for col in differing_columns: #uncomment this for see values of different rows\n",
    "                        #values = song_rows[col].tolist()\n",
    "                        #print(f\"\\t\\t• {col}:\")\n",
    "                        #for i, val in enumerate(values):\n",
    "                            #print(f\"\\t\\t\\tRow {i+1}: {val}\")"
   ]
  },
  {
   "cell_type": "markdown",
   "id": "e0a1f29e",
   "metadata": {},
   "source": [
    "so that id not only refers to 2 different songs, but each occurrence of the song (2) has different values. based on the values of different rows, it's possible to cut the additional wrong records"
   ]
  },
  {
   "cell_type": "markdown",
   "id": "8432bbf2",
   "metadata": {},
   "source": [
    "### id_artist"
   ]
  },
  {
   "cell_type": "code",
   "execution_count": 7,
   "id": "0bb93fda",
   "metadata": {},
   "outputs": [
    {
     "name": "stdout",
     "output_type": "stream",
     "text": [
      "Series([], Name: id_artist, dtype: object)\n",
      "number of missing values in id_artist: 0\n",
      "each id_artist corresponds to exactly one name_artist\n"
     ]
    }
   ],
   "source": [
    "invalid_elems = df[df['id_artist'].apply(check_type_validity, expected_type=str)]\n",
    "print(invalid_elems['id_artist'])\n",
    "\n",
    "nan_indexes = df.index[df['id_artist'].isna()].tolist()\n",
    "print(f\"number of missing values in id_artist: {len(nan_indexes)}\")\n",
    "\n",
    "id_to_names = df.groupby('id_artist')['name_artist'].nunique()\n",
    "multiple_names = id_to_names[id_to_names > 1]\n",
    "\n",
    "if len(multiple_names) == 0:\n",
    "    print(\"each id_artist corresponds to exactly one name_artist\")"
   ]
  },
  {
   "cell_type": "markdown",
   "id": "530f13c5",
   "metadata": {},
   "source": [
    "there are no missing id_artist values in the dataset. all the id_artists are strings with the following format \"ART{unique_num_id}\". each id_artist corresponds to exactly one name_artist"
   ]
  },
  {
   "cell_type": "markdown",
   "id": "7c655a4f",
   "metadata": {},
   "source": [
    "### id_artist"
   ]
  },
  {
   "cell_type": "code",
   "execution_count": 8,
   "id": "4680b5f6",
   "metadata": {},
   "outputs": [
    {
     "name": "stdout",
     "output_type": "stream",
     "text": [
      "Series([], Name: name_artist, dtype: object)\n",
      "number of missing values in name_artist: 0\n",
      "each name_artist corresponds to exactly one id_artist\n"
     ]
    }
   ],
   "source": [
    "invalid_elems = df[df['name_artist'].apply(check_type_validity, expected_type=str)]\n",
    "print(invalid_elems['name_artist'])\n",
    "\n",
    "nan_indexes = df.index[df['name_artist'].isna()].tolist()\n",
    "print(f\"number of missing values in name_artist: {len(nan_indexes)}\")\n",
    "\n",
    "name_to_ids  = df.groupby('name_artist')['id_artist'].nunique()\n",
    "multiple_ids  = name_to_ids [name_to_ids  > 1]\n",
    "\n",
    "if len(multiple_names) == 0:\n",
    "    print(\"each name_artist corresponds to exactly one id_artist\")"
   ]
  },
  {
   "cell_type": "markdown",
   "id": "d0469ce5",
   "metadata": {},
   "source": [
    "there are no missing name_artist values in the dataset. all the name_artists are strings with the following format \"ART{unique_num_id}\". each name_artist corresponds to exactly one id_artist"
   ]
  },
  {
   "cell_type": "markdown",
   "id": "9f76a1b0",
   "metadata": {},
   "source": [
    "### full_title"
   ]
  },
  {
   "cell_type": "code",
   "execution_count": 9,
   "id": "e42ebce5",
   "metadata": {},
   "outputs": [
    {
     "name": "stdout",
     "output_type": "stream",
     "text": [
      "Series([], Name: full_title, dtype: object)\n",
      "number of missing values in full_title: 0\n"
     ]
    }
   ],
   "source": [
    "invalid_elems = df[df['full_title'].apply(check_type_validity, expected_type=str)]\n",
    "print(invalid_elems['full_title'])\n",
    "\n",
    "nan_indexes = df.index[df['full_title'].isna()].tolist()\n",
    "print(f\"number of missing values in full_title: {len(nan_indexes)}\")"
   ]
  },
  {
   "cell_type": "markdown",
   "id": "cea46834",
   "metadata": {},
   "source": [
    "there are no missing full_title values in the dataset. \n",
    "all the full_titles are strings with the following format: \"{title} by {primary_artist} (Ft. {name_artist_1}, {...}, {name_artist_n-1} & {name_artist_n})\". let's check if name_artist is inside every full title"
   ]
  },
  {
   "cell_type": "code",
   "execution_count": 10,
   "id": "430634fe",
   "metadata": {},
   "outputs": [
    {
     "name": "stdout",
     "output_type": "stream",
     "text": [
      "number of name_artist mismatches inside full_title: 844\n",
      "sample mismatches:\n"
     ]
    },
    {
     "data": {
      "text/html": [
       "<div>\n",
       "<style scoped>\n",
       "    .dataframe tbody tr th:only-of-type {\n",
       "        vertical-align: middle;\n",
       "    }\n",
       "\n",
       "    .dataframe tbody tr th {\n",
       "        vertical-align: top;\n",
       "    }\n",
       "\n",
       "    .dataframe thead th {\n",
       "        text-align: right;\n",
       "    }\n",
       "</style>\n",
       "<table border=\"1\" class=\"dataframe\">\n",
       "  <thead>\n",
       "    <tr style=\"text-align: right;\">\n",
       "      <th></th>\n",
       "      <th>full_title</th>\n",
       "      <th>name_artist</th>\n",
       "      <th>extracted_artist</th>\n",
       "    </tr>\n",
       "  </thead>\n",
       "  <tbody>\n",
       "    <tr>\n",
       "      <th>36</th>\n",
       "      <td>Mattonelle* by Rosa Chemical, Mehdi (ITA), Fri...</td>\n",
       "      <td>Rosa Chemical</td>\n",
       "      <td>Rosa Chemical, Mehdi</td>\n",
       "    </tr>\n",
       "    <tr>\n",
       "      <th>129</th>\n",
       "      <td>a me mi piace by Alfa &amp; Manu Chao</td>\n",
       "      <td>Alfa</td>\n",
       "      <td>Alfa &amp; Manu Chao</td>\n",
       "    </tr>\n",
       "    <tr>\n",
       "      <th>223</th>\n",
       "      <td>EGLI È IL RE by thasup &amp; Mara Sattei</td>\n",
       "      <td>thasup</td>\n",
       "      <td>thasup &amp; Mara Sattei</td>\n",
       "    </tr>\n",
       "    <tr>\n",
       "      <th>225</th>\n",
       "      <td>POSTO MIO by thasup &amp; Mara Sattei</td>\n",
       "      <td>thasup</td>\n",
       "      <td>thasup &amp; Mara Sattei</td>\n",
       "    </tr>\n",
       "    <tr>\n",
       "      <th>227</th>\n",
       "      <td>​r()t()nda by thasup &amp; Tiziano Ferro</td>\n",
       "      <td>thasup</td>\n",
       "      <td>thasup &amp; Tiziano Ferro</td>\n",
       "    </tr>\n",
       "    <tr>\n",
       "      <th>231</th>\n",
       "      <td>SO CHE CI SEI by thasup &amp; Mara Sattei</td>\n",
       "      <td>thasup</td>\n",
       "      <td>thasup &amp; Mara Sattei</td>\n",
       "    </tr>\n",
       "    <tr>\n",
       "      <th>235</th>\n",
       "      <td>BLESS SU BLESS by thasup &amp; Mara Sattei</td>\n",
       "      <td>thasup</td>\n",
       "      <td>thasup &amp; Mara Sattei</td>\n",
       "    </tr>\n",
       "    <tr>\n",
       "      <th>238</th>\n",
       "      <td>ONE KING by thasup &amp; Mara Sattei</td>\n",
       "      <td>thasup</td>\n",
       "      <td>thasup &amp; Mara Sattei</td>\n",
       "    </tr>\n",
       "    <tr>\n",
       "      <th>241</th>\n",
       "      <td>COME POLVERE by thasup &amp; Mara Sattei</td>\n",
       "      <td>thasup</td>\n",
       "      <td>thasup &amp; Mara Sattei</td>\n",
       "    </tr>\n",
       "    <tr>\n",
       "      <th>244</th>\n",
       "      <td>OCCHI MIEI by thasup &amp; Mara Sattei</td>\n",
       "      <td>thasup</td>\n",
       "      <td>thasup &amp; Mara Sattei</td>\n",
       "    </tr>\n",
       "    <tr>\n",
       "      <th>246</th>\n",
       "      <td>BACK TO BACK by thasup &amp; Mara Sattei</td>\n",
       "      <td>thasup</td>\n",
       "      <td>thasup &amp; Mara Sattei</td>\n",
       "    </tr>\n",
       "    <tr>\n",
       "      <th>436</th>\n",
       "      <td>The Exchange by Lazza, Murda, Beny Jr, Guy2Bez...</td>\n",
       "      <td>Lazza</td>\n",
       "      <td>Lazza, Murda, Beny Jr, Guy2Bezbar &amp; Elias</td>\n",
       "    </tr>\n",
       "    <tr>\n",
       "      <th>521</th>\n",
       "      <td>Lasciami solo by Nerone &amp; Biggie Paul (Ft. Nitro)</td>\n",
       "      <td>Nerone</td>\n",
       "      <td>Nerone &amp; Biggie Paul</td>\n",
       "    </tr>\n",
       "    <tr>\n",
       "      <th>528</th>\n",
       "      <td>Six pack by Nerone &amp; Ensi (Ft. Fabri Fibra, Ge...</td>\n",
       "      <td>Nerone</td>\n",
       "      <td>Nerone &amp; Ensi</td>\n",
       "    </tr>\n",
       "    <tr>\n",
       "      <th>532</th>\n",
       "      <td>R2R by Nerone &amp; Ensi (Ft. Salmo)</td>\n",
       "      <td>Nerone</td>\n",
       "      <td>Nerone &amp; Ensi</td>\n",
       "    </tr>\n",
       "    <tr>\n",
       "      <th>542</th>\n",
       "      <td>King Kong vs. Godzilla by Nerone &amp; Ensi</td>\n",
       "      <td>Nerone</td>\n",
       "      <td>Nerone &amp; Ensi</td>\n",
       "    </tr>\n",
       "    <tr>\n",
       "      <th>550</th>\n",
       "      <td>Cemento by Nerone &amp; Ensi (Ft. Silent Bob)</td>\n",
       "      <td>Nerone</td>\n",
       "      <td>Nerone &amp; Ensi</td>\n",
       "    </tr>\n",
       "    <tr>\n",
       "      <th>551</th>\n",
       "      <td>DM by Nerone &amp; Warez (Ft. G. Nano)</td>\n",
       "      <td>Nerone</td>\n",
       "      <td>Nerone &amp; Warez</td>\n",
       "    </tr>\n",
       "    <tr>\n",
       "      <th>552</th>\n",
       "      <td>Domino by Nerone &amp; Ensi (Ft. Speranza)</td>\n",
       "      <td>Nerone</td>\n",
       "      <td>Nerone &amp; Ensi</td>\n",
       "    </tr>\n",
       "    <tr>\n",
       "      <th>558</th>\n",
       "      <td>Non è cosa by Nerone &amp; Ensi</td>\n",
       "      <td>Nerone</td>\n",
       "      <td>Nerone &amp; Ensi</td>\n",
       "    </tr>\n",
       "  </tbody>\n",
       "</table>\n",
       "</div>"
      ],
      "text/plain": [
       "                                            full_title    name_artist  \\\n",
       "36   Mattonelle* by Rosa Chemical, Mehdi (ITA), Fri...  Rosa Chemical   \n",
       "129                  a me mi piace by Alfa & Manu Chao           Alfa   \n",
       "223               EGLI È IL RE by thasup & Mara Sattei         thasup   \n",
       "225                  POSTO MIO by thasup & Mara Sattei         thasup   \n",
       "227               ​r()t()nda by thasup & Tiziano Ferro         thasup   \n",
       "231              SO CHE CI SEI by thasup & Mara Sattei         thasup   \n",
       "235             BLESS SU BLESS by thasup & Mara Sattei         thasup   \n",
       "238                   ONE KING by thasup & Mara Sattei         thasup   \n",
       "241               COME POLVERE by thasup & Mara Sattei         thasup   \n",
       "244                 OCCHI MIEI by thasup & Mara Sattei         thasup   \n",
       "246               BACK TO BACK by thasup & Mara Sattei         thasup   \n",
       "436  The Exchange by Lazza, Murda, Beny Jr, Guy2Bez...          Lazza   \n",
       "521  Lasciami solo by Nerone & Biggie Paul (Ft. Nitro)         Nerone   \n",
       "528  Six pack by Nerone & Ensi (Ft. Fabri Fibra, Ge...         Nerone   \n",
       "532                   R2R by Nerone & Ensi (Ft. Salmo)         Nerone   \n",
       "542            King Kong vs. Godzilla by Nerone & Ensi         Nerone   \n",
       "550          Cemento by Nerone & Ensi (Ft. Silent Bob)         Nerone   \n",
       "551                 DM by Nerone & Warez (Ft. G. Nano)         Nerone   \n",
       "552             Domino by Nerone & Ensi (Ft. Speranza)         Nerone   \n",
       "558                        Non è cosa by Nerone & Ensi         Nerone   \n",
       "\n",
       "                              extracted_artist  \n",
       "36                        Rosa Chemical, Mehdi  \n",
       "129                           Alfa & Manu Chao  \n",
       "223                       thasup & Mara Sattei  \n",
       "225                       thasup & Mara Sattei  \n",
       "227                     thasup & Tiziano Ferro  \n",
       "231                       thasup & Mara Sattei  \n",
       "235                       thasup & Mara Sattei  \n",
       "238                       thasup & Mara Sattei  \n",
       "241                       thasup & Mara Sattei  \n",
       "244                       thasup & Mara Sattei  \n",
       "246                       thasup & Mara Sattei  \n",
       "436  Lazza, Murda, Beny Jr, Guy2Bezbar & Elias  \n",
       "521                       Nerone & Biggie Paul  \n",
       "528                              Nerone & Ensi  \n",
       "532                              Nerone & Ensi  \n",
       "542                              Nerone & Ensi  \n",
       "550                              Nerone & Ensi  \n",
       "551                             Nerone & Warez  \n",
       "552                              Nerone & Ensi  \n",
       "558                              Nerone & Ensi  "
      ]
     },
     "metadata": {},
     "output_type": "display_data"
    }
   ],
   "source": [
    "#normalizing non-breaking space and quotes\n",
    "df['full_title'] = (df['full_title']\n",
    "                    .str.replace('\\xa0', ' ', regex=False)    #non-breaking space\n",
    "                    .str.replace('\\u2019', \"'\", regex=False)  #right single quote\n",
    "                    .str.replace('\\u2018', \"'\", regex=False)  #left single quote\n",
    "                    .str.replace('\\u201c', '\"', regex=False)  #left double quote\n",
    "                    .str.replace('\\u201d', '\"', regex=False)) #right double quote\n",
    "\n",
    "#(.+?) -> capture everything; (?:\\s*\\(|$) -> stop at either \" (\" or end of string\n",
    "extracted_artist = df['full_title'].str.extract(r' by (.+?)(?:\\s*\\(|$)', expand=False).str.strip()\n",
    "\n",
    "mismatches = df[extracted_artist != df['name_artist']]\n",
    "print(f\"number of name_artist mismatches inside full_title: {len(mismatches)}\")\n",
    "\n",
    "if len(mismatches) > 0:\n",
    "    print(\"sample mismatches:\")\n",
    "    mismatches_display = mismatches.copy()\n",
    "    mismatches_display['extracted_artist'] = extracted_artist[mismatches.index]\n",
    "    display(mismatches_display[['full_title', 'name_artist', 'extracted_artist']].head(20))"
   ]
  },
  {
   "cell_type": "code",
   "execution_count": 11,
   "id": "b3cf1dba",
   "metadata": {},
   "outputs": [
    {
     "name": "stdout",
     "output_type": "stream",
     "text": [
      "records with single artist: 11166\n"
     ]
    }
   ],
   "source": [
    "multi_artist_indicators = ['&', ',', ' and ']\n",
    "\n",
    "has_separator = df['primary_artist'].str.contains('|'.join(multi_artist_indicators), case=False, na=False)\n",
    "potential_multi = df[has_separator]\n",
    "\n",
    "print(f\"records with single artist: {len(df) - len(potential_multi)}\")"
   ]
  },
  {
   "cell_type": "markdown",
   "id": "5c00fe13",
   "metadata": {},
   "source": [
    "The name_artist column contains only one artist per track, even when multiple artists collaborated (excluding featured artists), likely due to a data collection system limitation. while some tracks include non-rapper collaborators not in the dataset (e.g. Tiziano Ferro, Mara Sattei), which is expected, other tracks list only one rapper despite having multiple rapper collaborators who are present in the dataset (e.g. Ensi in Cemento). this causes artist-based analyses to undercount songs, as tracks where an artist collaborated but wasn't listed as the primary artist will be excluded from their catalog."
   ]
  },
  {
   "cell_type": "markdown",
   "id": "d8e89a20",
   "metadata": {},
   "source": [
    "### title"
   ]
  },
  {
   "cell_type": "code",
   "execution_count": 12,
   "id": "4f10192d",
   "metadata": {},
   "outputs": [
    {
     "name": "stdout",
     "output_type": "stream",
     "text": [
      "Series([], Name: title, dtype: object)\n",
      "number of missing values in title: 0\n"
     ]
    }
   ],
   "source": [
    "invalid_elems = df[df['title'].apply(check_type_validity, expected_type=str)]\n",
    "print(invalid_elems['title'])\n",
    "\n",
    "nan_indexes = df.index[df['title'].isna()].tolist()\n",
    "print(f\"number of missing values in title: {len(nan_indexes)}\")"
   ]
  },
  {
   "cell_type": "code",
   "execution_count": 13,
   "id": "ba005097",
   "metadata": {},
   "outputs": [
    {
     "name": "stdout",
     "output_type": "stream",
     "text": [
      "number of title mismatches inside full_title: 4\n",
      "remaining mismatches (likely titles containing 'by'):\n",
      "\n"
     ]
    },
    {
     "data": {
      "text/html": [
       "<div>\n",
       "<style scoped>\n",
       "    .dataframe tbody tr th:only-of-type {\n",
       "        vertical-align: middle;\n",
       "    }\n",
       "\n",
       "    .dataframe tbody tr th {\n",
       "        vertical-align: top;\n",
       "    }\n",
       "\n",
       "    .dataframe thead th {\n",
       "        text-align: right;\n",
       "    }\n",
       "</style>\n",
       "<table border=\"1\" class=\"dataframe\">\n",
       "  <thead>\n",
       "    <tr style=\"text-align: right;\">\n",
       "      <th></th>\n",
       "      <th>full_title</th>\n",
       "      <th>title</th>\n",
       "      <th>extracted_title</th>\n",
       "    </tr>\n",
       "  </thead>\n",
       "  <tbody>\n",
       "    <tr>\n",
       "      <th>2513</th>\n",
       "      <td>Bolo by Night RMX by Inoki</td>\n",
       "      <td>Bolo by Night RMX</td>\n",
       "      <td>Bolo</td>\n",
       "    </tr>\n",
       "    <tr>\n",
       "      <th>2578</th>\n",
       "      <td>Bolo by Night RMX (NewKingzTape) by Inoki (Ft....</td>\n",
       "      <td>Bolo by Night RMX (NewKingzTape)</td>\n",
       "      <td>Bolo</td>\n",
       "    </tr>\n",
       "    <tr>\n",
       "      <th>2600</th>\n",
       "      <td>Bolo by Night (NewKingz RMX) by Inoki (Ft. Lil...</td>\n",
       "      <td>Bolo by Night (NewKingz RMX)</td>\n",
       "      <td>Bolo</td>\n",
       "    </tr>\n",
       "    <tr>\n",
       "      <th>2642</th>\n",
       "      <td>Barona by Night (Red Bull Culture Clash dubpla...</td>\n",
       "      <td>Barona by Night (Red Bull Culture Clash dubplate)</td>\n",
       "      <td>Barona</td>\n",
       "    </tr>\n",
       "  </tbody>\n",
       "</table>\n",
       "</div>"
      ],
      "text/plain": [
       "                                             full_title  \\\n",
       "2513                         Bolo by Night RMX by Inoki   \n",
       "2578  Bolo by Night RMX (NewKingzTape) by Inoki (Ft....   \n",
       "2600  Bolo by Night (NewKingz RMX) by Inoki (Ft. Lil...   \n",
       "2642  Barona by Night (Red Bull Culture Clash dubpla...   \n",
       "\n",
       "                                                  title extracted_title  \n",
       "2513                                  Bolo by Night RMX            Bolo  \n",
       "2578                   Bolo by Night RMX (NewKingzTape)            Bolo  \n",
       "2600                       Bolo by Night (NewKingz RMX)            Bolo  \n",
       "2642  Barona by Night (Red Bull Culture Clash dubplate)          Barona  "
      ]
     },
     "metadata": {},
     "output_type": "display_data"
    }
   ],
   "source": [
    "df['title'] = (df['title']\n",
    "                .str.replace('\\xa0', ' ', regex=False)\n",
    "                .str.replace('\\u2019', \"'\", regex=False)\n",
    "                .str.replace('\\u2018', \"'\", regex=False)\n",
    "                .str.replace('\\u201c', '\"', regex=False)\n",
    "                .str.replace('\\u201d', '\"', regex=False))\n",
    "\n",
    "# ^(.+?) -> capture from start; \\s+by\\s+ -> stop at \" by \" (with flexible whitespace)\n",
    "extracted_title = df['full_title'].str.extract(r'^(.+?)\\s+by\\s+', expand=False).str.strip()\n",
    "\n",
    "mismatches = df[df['title'] != extracted_title]\n",
    "print(f\"number of title mismatches inside full_title: {len(mismatches)}\")\n",
    "\n",
    "if len(mismatches) > 0:\n",
    "    print(\"remaining mismatches (likely titles containing 'by'):\\n\")\n",
    "    mismatches_display = mismatches.copy()\n",
    "    mismatches_display['extracted_title'] = extracted_title[mismatches.index]\n",
    "    display(mismatches_display[['full_title', 'title', 'extracted_title']].head(10))"
   ]
  },
  {
   "cell_type": "markdown",
   "id": "07f93196",
   "metadata": {},
   "source": [
    "title is contained inside full_title with no errors. the missmatches appearing are titles containing the word 'by', which is what's used from the regex to split the string."
   ]
  },
  {
   "cell_type": "markdown",
   "id": "1dd13c24",
   "metadata": {},
   "source": [
    "### featured_artists"
   ]
  },
  {
   "cell_type": "code",
   "execution_count": 14,
   "id": "aee6b441",
   "metadata": {},
   "outputs": [
    {
     "name": "stdout",
     "output_type": "stream",
     "text": [
      "5        NaN\n",
      "6        NaN\n",
      "8        NaN\n",
      "9        NaN\n",
      "10       NaN\n",
      "        ... \n",
      "11159    NaN\n",
      "11161    NaN\n",
      "11163    NaN\n",
      "11164    NaN\n",
      "11165    NaN\n",
      "Name: featured_artists, Length: 7649, dtype: object\n",
      "number of missing values in featured_artists: 7649\n"
     ]
    }
   ],
   "source": [
    "invalid_elems = df[df['featured_artists'].apply(check_type_validity, expected_type=str)]\n",
    "print(invalid_elems['featured_artists'])\n",
    "\n",
    "nan_indexes = df.index[df['featured_artists'].isna()].tolist()\n",
    "print(f\"number of missing values in featured_artists: {len(nan_indexes)}\")"
   ]
  },
  {
   "cell_type": "markdown",
   "id": "dfa970e7",
   "metadata": {},
   "source": [
    "this is expected, since not every track must have a featured artist. let's check if the featured artists of the column are the same listed in the full_title"
   ]
  },
  {
   "cell_type": "code",
   "execution_count": 15,
   "id": "3f40ef08",
   "metadata": {},
   "outputs": [
    {
     "name": "stdout",
     "output_type": "stream",
     "text": [
      "Rows with featured artists in full_title: 3517\n",
      "Rows with featured artists in column: 3517\n",
      "number of featured_artists mismatches (ignoring order): 9\n",
      "\n",
      "Sample mismatches (actual differences, not just ordering):\n"
     ]
    },
    {
     "data": {
      "text/html": [
       "<div>\n",
       "<style scoped>\n",
       "    .dataframe tbody tr th:only-of-type {\n",
       "        vertical-align: middle;\n",
       "    }\n",
       "\n",
       "    .dataframe tbody tr th {\n",
       "        vertical-align: top;\n",
       "    }\n",
       "\n",
       "    .dataframe thead th {\n",
       "        text-align: right;\n",
       "    }\n",
       "</style>\n",
       "<table border=\"1\" class=\"dataframe\">\n",
       "  <thead>\n",
       "    <tr style=\"text-align: right;\">\n",
       "      <th></th>\n",
       "      <th>full_title</th>\n",
       "      <th>featured_sorted</th>\n",
       "      <th>extracted_sorted</th>\n",
       "    </tr>\n",
       "  </thead>\n",
       "  <tbody>\n",
       "    <tr>\n",
       "      <th>1566</th>\n",
       "      <td>Comunque vada... by Piotta (Ft. Turi &amp; Compari)</td>\n",
       "      <td>Turi &amp; Compari</td>\n",
       "      <td>Compari, Turi</td>\n",
       "    </tr>\n",
       "    <tr>\n",
       "      <th>2427</th>\n",
       "      <td>Musica Vera by Mistaman (Ft. Stokka &amp; MadBuddy)</td>\n",
       "      <td>Stokka &amp; MadBuddy</td>\n",
       "      <td>MadBuddy, Stokka</td>\n",
       "    </tr>\n",
       "    <tr>\n",
       "      <th>2461</th>\n",
       "      <td>Il giorno in cui ci siamo svegliati by Mistama...</td>\n",
       "      <td>Stokka &amp; MadBuddy</td>\n",
       "      <td>MadBuddy, Stokka</td>\n",
       "    </tr>\n",
       "    <tr>\n",
       "      <th>2645</th>\n",
       "      <td>Lo Facciamo Così by Inoki (Ft. Stokka &amp; MadBuddy)</td>\n",
       "      <td>Stokka &amp; MadBuddy</td>\n",
       "      <td>MadBuddy, Stokka</td>\n",
       "    </tr>\n",
       "    <tr>\n",
       "      <th>2844</th>\n",
       "      <td>Dreams by Johnny Marsiglia &amp; Big Joe (Ft. Stok...</td>\n",
       "      <td>Stokka &amp; MadBuddy</td>\n",
       "      <td>MadBuddy, Stokka</td>\n",
       "    </tr>\n",
       "    <tr>\n",
       "      <th>3301</th>\n",
       "      <td>Pace by Ghemon (Ft. Franco Negrè &amp; Stokka &amp; Ma...</td>\n",
       "      <td>Franco Negrè, Stokka &amp; MadBuddy</td>\n",
       "      <td>Franco Negrè, MadBuddy, Stokka</td>\n",
       "    </tr>\n",
       "    <tr>\n",
       "      <th>3616</th>\n",
       "      <td>'O Sarracino by Neffa (Ft. Giuliano Palma &amp; Th...</td>\n",
       "      <td>Giuliano Palma &amp; The Bluebeaters</td>\n",
       "      <td>Giuliano Palma, The Bluebeaters</td>\n",
       "    </tr>\n",
       "    <tr>\n",
       "      <th>5576</th>\n",
       "      <td>CHIAGNE by Geolier (Ft. Lazza &amp; Takagi &amp; Ketra)</td>\n",
       "      <td>Lazza, Takagi &amp; Ketra</td>\n",
       "      <td>Ketra, Lazza, Takagi</td>\n",
       "    </tr>\n",
       "    <tr>\n",
       "      <th>9095</th>\n",
       "      <td>DONDURÈ by Dark Polo Gang (Ft. Ski &amp; Wok)</td>\n",
       "      <td>Ski &amp; Wok</td>\n",
       "      <td>Ski, Wok</td>\n",
       "    </tr>\n",
       "  </tbody>\n",
       "</table>\n",
       "</div>"
      ],
      "text/plain": [
       "                                             full_title  \\\n",
       "1566    Comunque vada... by Piotta (Ft. Turi & Compari)   \n",
       "2427    Musica Vera by Mistaman (Ft. Stokka & MadBuddy)   \n",
       "2461  Il giorno in cui ci siamo svegliati by Mistama...   \n",
       "2645  Lo Facciamo Così by Inoki (Ft. Stokka & MadBuddy)   \n",
       "2844  Dreams by Johnny Marsiglia & Big Joe (Ft. Stok...   \n",
       "3301  Pace by Ghemon (Ft. Franco Negrè & Stokka & Ma...   \n",
       "3616  'O Sarracino by Neffa (Ft. Giuliano Palma & Th...   \n",
       "5576    CHIAGNE by Geolier (Ft. Lazza & Takagi & Ketra)   \n",
       "9095          DONDURÈ by Dark Polo Gang (Ft. Ski & Wok)   \n",
       "\n",
       "                       featured_sorted                 extracted_sorted  \n",
       "1566                    Turi & Compari                    Compari, Turi  \n",
       "2427                 Stokka & MadBuddy                 MadBuddy, Stokka  \n",
       "2461                 Stokka & MadBuddy                 MadBuddy, Stokka  \n",
       "2645                 Stokka & MadBuddy                 MadBuddy, Stokka  \n",
       "2844                 Stokka & MadBuddy                 MadBuddy, Stokka  \n",
       "3301   Franco Negrè, Stokka & MadBuddy   Franco Negrè, MadBuddy, Stokka  \n",
       "3616  Giuliano Palma & The Bluebeaters  Giuliano Palma, The Bluebeaters  \n",
       "5576             Lazza, Takagi & Ketra             Ketra, Lazza, Takagi  \n",
       "9095                         Ski & Wok                         Ski, Wok  "
      ]
     },
     "metadata": {},
     "output_type": "display_data"
    }
   ],
   "source": [
    "df['featured_artists'] = (df['featured_artists']\n",
    "                    .str.replace('\\xa0', ' ', regex=False)\n",
    "                    .str.replace('\\u2019', \"'\", regex=False)\n",
    "                    .str.replace('\\u2018', \"'\", regex=False)\n",
    "                    .str.replace('\\u201c', '\"', regex=False)\n",
    "                    .str.replace('\\u201d', '\"', regex=False))\n",
    "\n",
    "# \\((?:Ft\\.)\\s*(.+?)\\)\\s*$ -> everything from \"(Ft.)\" until the closing \")\"\n",
    "extracted_featured = df['full_title'].str.extract(r'\\((?:Ft\\.)\\s*(.+?)\\)\\s*$', expand=False).str.strip()\n",
    "extracted_featured_normalized = extracted_featured.str.replace(' & ', ', ', regex=False)\n",
    "\n",
    "def sort_splitted_by_comma(string):\n",
    "    if pd.isna(string):\n",
    "        return string\n",
    "    ret = [a.strip() for a in string.split(',')]\n",
    "    return ', '.join(sorted(ret))\n",
    "\n",
    "extracted_sorted = extracted_featured_normalized.apply(sort_splitted_by_comma)\n",
    "featured_sorted = df['featured_artists'].apply(sort_splitted_by_comma)\n",
    "\n",
    "mismatches = df[\n",
    "    ((extracted_sorted.notna()) & (featured_sorted.isna())) |\n",
    "    ((extracted_sorted.isna()) & (featured_sorted.notna())) |\n",
    "    ((extracted_sorted.notna()) & (featured_sorted.notna()) & (extracted_sorted != featured_sorted))\n",
    "]\n",
    "\n",
    "print(f\"Rows with featured artists in full_title: {extracted_featured.notna().sum()}\")\n",
    "print(f\"Rows with featured artists in column: {df['featured_artists'].notna().sum()}\")\n",
    "print(f\"number of featured_artists mismatches (ignoring order): {len(mismatches)}\\n\")\n",
    "\n",
    "if len(mismatches) > 0:\n",
    "    print(\"Sample mismatches (actual differences, not just ordering):\")\n",
    "    mismatches_display = mismatches.copy()\n",
    "    mismatches_display['featured_sorted'] = featured_sorted[mismatches.index]\n",
    "    mismatches_display['extracted_sorted'] = extracted_sorted[mismatches.index]\n",
    "    display(mismatches_display[['full_title', 'featured_sorted', 'extracted_sorted']].head(10))"
   ]
  },
  {
   "cell_type": "markdown",
   "id": "acd67b18",
   "metadata": {},
   "source": [
    "featured_artists is contained inside full_title with no errors. the missmatches are given from features made with group names including the character '&', which is what's used from the regex to split the string."
   ]
  },
  {
   "cell_type": "markdown",
   "id": "a8b14b35",
   "metadata": {},
   "source": [
    "### primary_artist"
   ]
  },
  {
   "cell_type": "code",
   "execution_count": 16,
   "id": "5bc548f8",
   "metadata": {},
   "outputs": [
    {
     "name": "stdout",
     "output_type": "stream",
     "text": [
      "Series([], Name: primary_artist, dtype: object)\n",
      "number of missing values in primary_artist: 0\n"
     ]
    }
   ],
   "source": [
    "invalid_elems = df[df['primary_artist'].apply(check_type_validity, expected_type=str)]\n",
    "print(invalid_elems['primary_artist'])\n",
    "\n",
    "nan_indexes = df.index[df['primary_artist'].isna()].tolist()\n",
    "print(f\"number of missing values in primary_artist: {len(nan_indexes)}\")"
   ]
  },
  {
   "cell_type": "code",
   "execution_count": 17,
   "id": "2df01963",
   "metadata": {},
   "outputs": [
    {
     "name": "stdout",
     "output_type": "stream",
     "text": [
      "mismatches between name_artist and primary_artist: 0\n"
     ]
    }
   ],
   "source": [
    "mismatches = df[df['primary_artist'] != df['name_artist']]\n",
    "print(f\"mismatches between name_artist and primary_artist: {len(mismatches)}\")\n",
    "\n",
    "if len(mismatches) > 0:\n",
    "    display(mismatches[['id', 'full_title', 'name_artist', 'primary_artist']].head(5))"
   ]
  },
  {
   "cell_type": "markdown",
   "id": "88f65693",
   "metadata": {},
   "source": [
    "there are no mismatches betweem this column and the name_artist column, so it doesn't add new informations. regarding the multiple primary_artists issue highlighted during the full_title analysis, it could be possible to both use this column to list all the primary artists (if more are present, and they are also present in the artist dataset), or cut this column and add more rows for the primary artists not present in name_artist but are present as artist and are present in the artist dataset."
   ]
  },
  {
   "cell_type": "markdown",
   "id": "8888c09e",
   "metadata": {},
   "source": [
    "### language"
   ]
  },
  {
   "cell_type": "code",
   "execution_count": 18,
   "id": "cabb383b",
   "metadata": {},
   "outputs": [
    {
     "name": "stdout",
     "output_type": "stream",
     "text": [
      "198      NaN\n",
      "268      NaN\n",
      "627      NaN\n",
      "646      NaN\n",
      "664      NaN\n",
      "        ... \n",
      "8714     NaN\n",
      "8757     NaN\n",
      "8784     NaN\n",
      "9086     NaN\n",
      "10129    NaN\n",
      "Name: language, Length: 105, dtype: object\n",
      "number of missing values in language: 105\n"
     ]
    }
   ],
   "source": [
    "invalid_elems = df[df['language'].apply(check_type_validity, expected_type=str)]\n",
    "print(invalid_elems['language'])\n",
    "\n",
    "nan_indexes = df.index[df['language'].isna()].tolist()\n",
    "print(f\"number of missing values in language: {len(nan_indexes)}\")"
   ]
  },
  {
   "cell_type": "code",
   "execution_count": 19,
   "id": "110999e0",
   "metadata": {},
   "outputs": [
    {
     "name": "stdout",
     "output_type": "stream",
     "text": [
      "  1. it            :  9352 tracks\n",
      "  2. en            :   843 tracks\n",
      "  3. pl            :   588 tracks\n",
      "  4. NaN (missing) :   105 tracks\n",
      "  5. es            :    63 tracks\n",
      "  6. co            :    48 tracks\n",
      "  7. pt            :    45 tracks\n",
      "  8. da            :    18 tracks\n",
      "  9. cs            :    14 tracks\n",
      " 10. fr            :    13 tracks\n",
      " 11. nl            :     9 tracks\n",
      " 12. sr            :     9 tracks\n",
      " 13. war           :     9 tracks\n",
      " 14. eu            :     8 tracks\n",
      " 15. no            :     6 tracks\n",
      " 16. ia            :     5 tracks\n",
      " 17. ca            :     5 tracks\n",
      " 18. gl            :     3 tracks\n",
      " 19. de            :     2 tracks\n",
      " 20. sco           :     2 tracks\n",
      " 21. la            :     2 tracks\n",
      " 22. eo            :     2 tracks\n",
      " 23. rm            :     2 tracks\n",
      " 24. et            :     1 tracks\n",
      " 25. lt            :     1 tracks\n",
      " 26. aa            :     1 tracks\n",
      " 27. ro            :     1 tracks\n",
      " 28. rw            :     1 tracks\n",
      " 29. ru            :     1 tracks\n",
      " 30. chr           :     1 tracks\n",
      " 31. qu            :     1 tracks\n",
      " 32. mt            :     1 tracks\n",
      " 33. cy            :     1 tracks\n",
      " 34. bg            :     1 tracks\n",
      " 35. sq            :     1 tracks\n",
      " 36. sw            :     1 tracks\n"
     ]
    }
   ],
   "source": [
    "language_counts = df['language'].value_counts(dropna=False)\n",
    "\n",
    "for i, (lang, count) in enumerate(language_counts.items(), 1):\n",
    "    percentage = (count / len(df)) * 100\n",
    "    lang_display = lang if pd.notna(lang) else \"NaN (missing)\"\n",
    "    print(f\"{i:3d}. {lang_display:13s} : {count:5d} tracks\")"
   ]
  },
  {
   "cell_type": "markdown",
   "id": "cf3f01bf",
   "metadata": {},
   "source": [
    "here are all the languages in the dataset. a lot of entries here are incorrect, and the criteria by which the language was assigned is not known. the following is a list of language codes that, upon manual inspection, actually correspond to Italian tracks: pl (Polish), da (Danish), cs (Czech), nl (Dutch), sr (Serbian), war (?), eu (?), no (?), ia (Interlingua), ca (Catalan), gl (Galician), sco (?), la (Latin), eo (Esperanto), rm (Romansh), et (Estonian), lt (Lithuanian), aa (?), ro (Romanian), rw (Kinyarwanda), chr (?), qu (Quechua), mt (Maltese), cy (Welsh), sq (Albanian), sw (Swahili)"
   ]
  },
  {
   "cell_type": "code",
   "execution_count": 20,
   "id": "7d433fc5",
   "metadata": {},
   "outputs": [
    {
     "name": "stdout",
     "output_type": "stream",
     "text": [
      "updated rows: 741\n",
      "  1. it            : 10093 tracks\n",
      "  2. en            :   843 tracks\n",
      "  3. NaN (missing) :   105 tracks\n",
      "  4. es            :    63 tracks\n",
      "  5. pt            :    45 tracks\n",
      "  6. fr            :    13 tracks\n",
      "  7. de            :     2 tracks\n",
      "  8. ru            :     1 tracks\n",
      "  9. bg            :     1 tracks\n"
     ]
    }
   ],
   "source": [
    "incorrect_italian_codes = ['pl', 'da', 'cs', 'nl', 'sr', 'war', 'eu', 'no', 'ia', 'ca', 'gl', 'sco', 'la', 'eo', 'rm', 'et', 'lt', 'aa', 'ro', 'rw', 'chr', 'qu', 'mt', 'cy', 'sq', 'sw', 'co']\n",
    "updated_rows = df[df['language'].isin(incorrect_italian_codes)]\n",
    "print(f\"updated rows: {len(updated_rows)}\")\n",
    "\n",
    "df.loc[df['language'].isin(incorrect_italian_codes), 'language'] = 'it'\n",
    "\n",
    "language_counts = df['language'].value_counts(dropna=False)\n",
    "for i, (lang, count) in enumerate(language_counts.items(), 1):\n",
    "    percentage = (count / len(df)) * 100\n",
    "    lang_display = lang if pd.notna(lang) else \"NaN (missing)\"\n",
    "    print(f\"{i:3d}. {lang_display:13s} : {count:5d} tracks\")"
   ]
  },
  {
   "cell_type": "markdown",
   "id": "d6831f16",
   "metadata": {},
   "source": [
    "some (en (English), es (Spanish), pt (Portuguese), fr (French)) are mixed, co (Corsican) is basically italian (merged with 'it' as well), while the rest (de (German), ru (Russian), bg (Bulgarian)) are good. having this knowledge, i wouldn't rely much on this column for performing analysis\n",
    "\n",
    "Ref. for languages code: https://www.cambridge.org/core/books/abs/interaction-of-borrowing-and-word-formation/list-of-iso639-language-codes/624C593339914D4A7DDA1AC55AC4889F"
   ]
  },
  {
   "cell_type": "markdown",
   "id": "e718ae7f",
   "metadata": {},
   "source": [
    "### album"
   ]
  },
  {
   "cell_type": "code",
   "execution_count": 21,
   "id": "1f0e998f",
   "metadata": {},
   "outputs": [
    {
     "name": "stdout",
     "output_type": "stream",
     "text": [
      "10       NaN\n",
      "21       NaN\n",
      "22       NaN\n",
      "23       NaN\n",
      "24       NaN\n",
      "        ... \n",
      "11156    NaN\n",
      "11157    NaN\n",
      "11159    NaN\n",
      "11164    NaN\n",
      "11165    NaN\n",
      "Name: album, Length: 1514, dtype: object\n",
      "number of missing values in album: 1514\n"
     ]
    }
   ],
   "source": [
    "invalid_elems = df[df['album'].apply(check_type_validity, expected_type=str)]\n",
    "print(invalid_elems['album'])\n",
    "\n",
    "nan_indexes = df.index[df['album'].isna()].tolist()\n",
    "print(f\"number of missing values in album: {len(nan_indexes)}\")"
   ]
  },
  {
   "cell_type": "markdown",
   "id": "df7aef64",
   "metadata": {},
   "source": [
    "this is expected, since not every track must be inside an album."
   ]
  },
  {
   "cell_type": "code",
   "execution_count": 22,
   "id": "e87f61ca",
   "metadata": {},
   "outputs": [
    {
     "name": "stdout",
     "output_type": "stream",
     "text": [
      "top 20 albums with most tracks:\n",
      "  1. Rimo Da Quando                                     :  47 tracks\n",
      "  2. TAXI DRIVER (Deluxe)                               :  37 tracks\n",
      "  3. Solo Un Uomo (Gold Edition)                        :  36 tracks\n",
      "  4. Il tempo vola 2002-2020                            :  36 tracks\n",
      "  5. Di vizi di forma virtù                             :  35 tracks\n",
      "  6. Cose Dell’Altro Mondo Mondo Marcio: Special Editio :  34 tracks\n",
      "  7. SurreAle                                           :  30 tracks\n",
      "  8. DIO LO SA - ATTO II                                :  30 tracks\n",
      "  9. Status (Vendetta Edition)                          :  30 tracks\n",
      " 10. Re Mida: Aurum                                     :  29 tracks\n",
      " 11. The NewKingzTape Vol. 1                            :  29 tracks\n",
      " 12. Miracolo! (Deluxe Edition)                         :  28 tracks\n",
      " 13. ’A Verità 2.0                                      :  27 tracks\n",
      " 14. Una cosetta così                                   :  26 tracks\n",
      " 15. N Mixtape                                          :  26 tracks\n",
      " 16. Quello Che Vi Consiglio Vol. 2                     :  25 tracks\n",
      " 17. SignorHunt: Wake Up Edition                        :  25 tracks\n",
      " 18. Ferite (Deluxe Edition)                            :  25 tracks\n",
      " 19. Marracash - 10 Anni Dopo                           :  24 tracks\n",
      " 20. NUOVO MEDIOEGO                                     :  24 tracks\n"
     ]
    }
   ],
   "source": [
    "tracks_per_album = df['album'].value_counts()\n",
    "\n",
    "print('top 20 albums with most tracks:')\n",
    "for i, (album, count) in enumerate(tracks_per_album.head(20).items(), 1):\n",
    "    print(f\"{i:3d}. {album[:50]:50s} : {count:3d} tracks\")"
   ]
  },
  {
   "cell_type": "markdown",
   "id": "6edda383",
   "metadata": {},
   "source": [
    "some albums list more tracks than they actually contain. my best guess is that a few standalone songs were mistakenly assigned to one of the artist’s albums."
   ]
  },
  {
   "cell_type": "markdown",
   "id": "dc4fc9b0",
   "metadata": {},
   "source": [
    "### stats_pageviews"
   ]
  },
  {
   "cell_type": "code",
   "execution_count": 23,
   "id": "bd68156f",
   "metadata": {},
   "outputs": [
    {
     "name": "stdout",
     "output_type": "stream",
     "text": [
      "0        196033.0\n",
      "1        164450.0\n",
      "2         58313.0\n",
      "3         39890.0\n",
      "4         35432.0\n",
      "           ...   \n",
      "11161         NaN\n",
      "11162         NaN\n",
      "11163         NaN\n",
      "11164         NaN\n",
      "11165         NaN\n",
      "Name: stats_pageviews, Length: 11166, dtype: float64\n",
      "number of missing values in stats_pageviews: 6524\n"
     ]
    }
   ],
   "source": [
    "invalid_elems = df[df['stats_pageviews'].apply(check_type_validity, expected_type=int)]\n",
    "print(invalid_elems['stats_pageviews'])\n",
    "\n",
    "nan_indexes = df.index[df['stats_pageviews'].isna()].tolist()\n",
    "print(f\"number of missing values in stats_pageviews: {len(nan_indexes)}\")"
   ]
  },
  {
   "cell_type": "code",
   "execution_count": 24,
   "id": "a43e8346",
   "metadata": {},
   "outputs": [
    {
     "name": "stdout",
     "output_type": "stream",
     "text": [
      "24       <NA>\n",
      "25       <NA>\n",
      "26       <NA>\n",
      "27       <NA>\n",
      "28       <NA>\n",
      "         ... \n",
      "11161    <NA>\n",
      "11162    <NA>\n",
      "11163    <NA>\n",
      "11164    <NA>\n",
      "11165    <NA>\n",
      "Name: stats_pageviews, Length: 6524, dtype: Int64\n",
      "number of missing values in stats_pageviews: 6524\n"
     ]
    }
   ],
   "source": [
    "df['stats_pageviews'] = df['stats_pageviews'].astype('Int64')\n",
    "\n",
    "invalid_elems = df[df['stats_pageviews'].apply(check_type_validity, expected_type=int)]\n",
    "print(invalid_elems['stats_pageviews'])\n",
    "\n",
    "nan_indexes = df.index[df['stats_pageviews'].isna()].tolist()\n",
    "print(f\"number of missing values in stats_pageviews: {len(nan_indexes)}\")"
   ]
  },
  {
   "cell_type": "markdown",
   "id": "4140c544",
   "metadata": {},
   "source": [
    "converted stats_pageviews to Int64 (nullable integer, NaN shown as <NA>), since the values in the column are without a decimal point."
   ]
  },
  {
   "cell_type": "markdown",
   "id": "7e4687a5",
   "metadata": {},
   "source": [
    "### swear_IT_words"
   ]
  },
  {
   "cell_type": "code",
   "execution_count": 25,
   "id": "9b40fbdb",
   "metadata": {},
   "outputs": [
    {
     "name": "stdout",
     "output_type": "stream",
     "text": [
      "Series([], Name: swear_IT_words, dtype: object)\n",
      "number of missing values in swear_IT_words: 0\n"
     ]
    }
   ],
   "source": [
    "invalid_elems = df[df['swear_IT_words'].apply(check_type_validity, expected_type=str)]\n",
    "print(invalid_elems['swear_IT_words'])\n",
    "\n",
    "nan_indexes = df.index[df['swear_IT_words'].isna()].tolist()\n",
    "print(f\"number of missing values in swear_IT_words: {len(nan_indexes)}\")"
   ]
  },
  {
   "cell_type": "code",
   "execution_count": 26,
   "id": "38e256f4",
   "metadata": {},
   "outputs": [
    {
     "name": "stdout",
     "output_type": "stream",
     "text": [
      "{'toro', 'incazzato', 'incazzare', 'cagna', 'cazzeggiare', 'spagnola', 'coglioni', 'stronzata', 'grilletto', 'palle', 'coglione', 'sborra', 'spompinare', 'schizzare', 'madonna', 'tetta', 'fogne', 'paraculo', 'sfigata', 'pipa', 'mezzasega', 'topa', 'pompinara', 'trombare', 'segaiolo', 'strafottenza', 'cazzo', 'gay', 'handicappato', 'merdata', 'troia', 'idiozia', 'fregarsene', 'pisciare', 'merda', 'farabutti', 'troiaio', 'farabutto', 'merdaio', 'sedere', 'piscio', 'peluria', 'sboccare', 'bocchino', 'cretino', 'granchio', 'fottersi', 'cornuto', 'water', 'fottuti', 'sborrare', 'cazzone', 'sveltina', 'glutei', 'sorca', 'rottinculo', 'sgualdrina', 'bastardo', 'merdina', 'cozza', 'scazzo', 'scopata', 'pisciata', 'troiaggine', 'figa', 'gnocca', 'chiavata', 'coglionata', 'fico', 'stupido', 'fesso', 'sputtanare', 'puttana', 'cappella', 'pippa', 'missionario', 'inculare', 'cacca', 'culattone', 'cazzuto', 'zanzara', 'fortuna', 'fava', 'cogliona', 'controcazzi', 'fottuto', 'cesso', 'scazzato', 'ricchione', 'sfiga', 'cacata', 'puttaniere', 'smerdare', 'uccello', 'feci', 'finocchio', 'scassare', 'stupida', 'scoreggia', 'nerchia', 'zoccola', 'vaffanculo', 'minchiata', 'fregare', 'puttano', 'travestito', 'scopare', 'fregna', 'cagata', 'controcoglioni', 'cagare', 'chiappa', 'vagina', 'arrapato', 'arrapante', 'culo', 'jug', 'cretina', 'bagascia', 'chiavare', 'cacare', 'cazzeggio', 'fogna', 'escremento', 'cazzi', 'pompino', 'maroni', 'seccatore', 'sega', 'selvaggio', 'checca', 'zizza', 'bocchinaro', 'incazzarsi', 'pisello', 'mazzo', 'fottere', 'bastardi', 'battona', 'mignotta', 'stronzo', 'frocio', 'minchioni', 'raspa', 'cazzata', 'vacca', 'pene', 'merdaiolo', 'leccaculo', 'blowjob', 'puttanaio', 'bombare', 'porca', 'pugnetta', 'figo', 'puttanata', 'vaccata', 'arrapare', 'rompicoglioni', 'cunnu', 'scrofa', 'bernarda', 'pecorina', 'rompipalle', 'deretano', 'cretini', 'fottio', 'maiala', 'fica', 'piccione', 'bischero', 'fellatio', 'gigolo'}\n"
     ]
    }
   ],
   "source": [
    "import ast\n",
    "\n",
    "all_it_swear_words = set()\n",
    "\n",
    "for value in df['swear_IT_words']:\n",
    "    if pd.notna(value) and value != '[]':  #skip NaN and empty lists\n",
    "        try:\n",
    "            word_list = ast.literal_eval(value)\n",
    "            all_it_swear_words.update(word_list)\n",
    "        except:\n",
    "            pass\n",
    "        \n",
    "print(all_it_swear_words)"
   ]
  },
  {
   "cell_type": "markdown",
   "id": "ef8751ac",
   "metadata": {},
   "source": [
    "there seems to be some english words among the italian swear words: \"water, blowjob, jug\"; \"gay\" is also english, but it doesn't appean in the swear_EN_words, so it was probably counted as an italian word. also there are words that are not swear words (\"toro, fortuna, zanzara, granchio\"), and other that are 'neutral' words (\"pene, vagina, glutei, sedere, escremento, feci, peluria, selvaggio\") but can sound vulgar in certain tracks. note that not all the swear words are taken into consideration, since some of them inside the lyrics can be a bit 'creative' (e.g. \"apputtanamento\")"
   ]
  },
  {
   "cell_type": "code",
   "execution_count": 27,
   "id": "edea3405",
   "metadata": {},
   "outputs": [],
   "source": [
    "it_words_to_exclude = ['water', 'blowjob', 'jug', 'toro', 'fortuna', 'zanzara', 'granchio']\n",
    "filtered_it_swear_words = {word for word in all_it_swear_words if word not in it_words_to_exclude}"
   ]
  },
  {
   "cell_type": "code",
   "execution_count": 28,
   "id": "f0334ae5",
   "metadata": {},
   "outputs": [
    {
     "name": "stdout",
     "output_type": "stream",
     "text": [
      "unchanged rows: 10659\n",
      "rows where swear_IT_words was changed: 507\n",
      "\t- words added only: 0\n",
      "\t- words removed only: 507\n",
      "\t- both added and removed: 0\n"
     ]
    }
   ],
   "source": [
    "def find_swear_words_in_lyrics(lyrics, swear_words_list):\n",
    "    if pd.isna(lyrics):\n",
    "        return []\n",
    "\n",
    "    lyrics_lower = lyrics.lower() #case-insensitive matching\n",
    "    \n",
    "    found_words = []\n",
    "    for word in swear_words_list:\n",
    "        pattern = r'\\b' + re.escape(word) + r'\\b'\n",
    "        if re.search(pattern, lyrics_lower):\n",
    "            found_words.append(word)\n",
    "    \n",
    "    return found_words\n",
    "            \n",
    "rows_changed = 0\n",
    "rows_increased = 0\n",
    "rows_decreased = 0\n",
    "rows_both_changed = 0\n",
    "rows_unchanged = 0\n",
    "rows_processed = 0\n",
    "\n",
    "for idx in df.index:\n",
    "    lyrics = df.loc[idx, 'lyrics']\n",
    "    \n",
    "    found_words = find_swear_words_in_lyrics(lyrics, filtered_it_swear_words)\n",
    "    new_words = set(found_words)\n",
    "    \n",
    "    old_value = df.loc[idx, 'swear_IT_words']\n",
    "    \n",
    "    #parse old swear words\n",
    "    try:\n",
    "        if pd.isna(old_value) or old_value == '[]':\n",
    "            old_words = set()\n",
    "        else:\n",
    "            old_words = set(ast.literal_eval(old_value))\n",
    "    except:\n",
    "        old_words = set()\n",
    "    \n",
    "    new_value = str(found_words)\n",
    "    df.loc[idx, 'swear_IT_words'] = new_value\n",
    "    \n",
    "    #track changes\n",
    "    if old_words != new_words:\n",
    "        rows_changed += 1\n",
    "        \n",
    "        words_added = new_words - old_words\n",
    "        words_removed = old_words - new_words\n",
    "        \n",
    "        if words_added and words_removed:\n",
    "            rows_both_changed += 1\n",
    "        elif words_added:\n",
    "            rows_increased += 1\n",
    "        elif words_removed:\n",
    "            rows_decreased += 1\n",
    "    else:\n",
    "        rows_unchanged += 1\n",
    "    \n",
    "    rows_processed += 1\n",
    "\n",
    "print(f\"unchanged rows: {rows_processed - rows_changed}\")\n",
    "print(f\"rows where swear_IT_words was changed: {rows_changed}\")\n",
    "\n",
    "print(f\"\\t- words added only: {rows_increased}\")\n",
    "print(f\"\\t- words removed only: {rows_decreased}\")\n",
    "print(f\"\\t- both added and removed: {rows_both_changed}\")"
   ]
  },
  {
   "cell_type": "markdown",
   "id": "16a7037b",
   "metadata": {},
   "source": [
    "### swear_EN_words"
   ]
  },
  {
   "cell_type": "code",
   "execution_count": 29,
   "id": "558bfde1",
   "metadata": {},
   "outputs": [
    {
     "name": "stdout",
     "output_type": "stream",
     "text": [
      "Series([], Name: swear_EN_words, dtype: object)\n",
      "number of missing values in swear_EN_words: 0\n"
     ]
    }
   ],
   "source": [
    "invalid_elems = df[df['swear_EN_words'].apply(check_type_validity, expected_type=str)]\n",
    "print(invalid_elems['swear_EN_words'])\n",
    "\n",
    "nan_indexes = df.index[df['swear_EN_words'].isna()].tolist()\n",
    "print(f\"number of missing values in swear_EN_words: {len(nan_indexes)}\")"
   ]
  },
  {
   "cell_type": "code",
   "execution_count": 30,
   "id": "d3af9704",
   "metadata": {},
   "outputs": [
    {
     "name": "stdout",
     "output_type": "stream",
     "text": [
      "{'asshole', 'gangbang', 'fisting', 'rapist', 'snatch', 'bitch', 'horny', 'fuckin', 'cocks', 'hentai', 'voyeur', 'doggystyle', 'nigga', 'sexy', 'neonazi', 'cumshot', 'shibari', 'milf', 'anus', 'butt', 'rimming', 'vulva', 'tit', 'panties', 'bastardo', 'motherfucker', 'escort', 'topless', 'domination', 'xx', 'negro', 'creampie', 'viagra', 'anal', 'nude', 'tranny', 'fucking', 'cumming', 'dick', 'hooker', 'threesome', 'cialis', 'rape', 'punany', 'pedobear', 'poof', 'sex', 'slut', 'suck', 'cock', 'skeet', 'boobs', 'bukkake', 'titty', 'raping', 'playboy', 'vagina', 'cum', 'hardcore', 'scat', 'deepthroat', 'porno', 'tits', 'faggot', 'spic', 'dildo', 'masturbation', 'pussy', 'pissing', 'sexual', 'sucks', 'sexo', 'nympho', 'porn', 'cunt', 'kinky', 'fag', 'bastard', 'lolita', 'ass', 'shitty', 'ecchi', 'nipple', 'bbw', 'xxx', 'fuck', 'blowjob', 'bitches', 'coon', 'clit', 'bullshit', 'busty', 'shit', 'semen', 'bondage', 'fellatio'}\n"
     ]
    }
   ],
   "source": [
    "import ast\n",
    "\n",
    "all_en_swear_words = set()\n",
    "\n",
    "for value in df['swear_EN_words']:\n",
    "    if pd.notna(value) and value != '[]':  #skip NaN and empty lists\n",
    "        try:\n",
    "            word_list = ast.literal_eval(value)\n",
    "            all_en_swear_words.update(word_list)\n",
    "        except:\n",
    "            pass\n",
    "        \n",
    "print(all_en_swear_words)"
   ]
  },
  {
   "cell_type": "markdown",
   "id": "d23e4043",
   "metadata": {},
   "source": [
    "there's an italian word \"bastardo\" among the english swear words. as in the italian set of swear words, there are words that aren't necessary swear words, but in certain tracks can be perceived as vulgar."
   ]
  },
  {
   "cell_type": "code",
   "execution_count": 31,
   "id": "16b35252",
   "metadata": {},
   "outputs": [],
   "source": [
    "en_words_to_exclude = ['bastardo']\n",
    "filtered_en_swear_words = {word for word in all_en_swear_words if word not in en_words_to_exclude}"
   ]
  },
  {
   "cell_type": "code",
   "execution_count": 32,
   "id": "fc58e820",
   "metadata": {},
   "outputs": [
    {
     "name": "stdout",
     "output_type": "stream",
     "text": [
      "unchanged rows: 10954\n",
      "rows where swear_EN_words was changed: 212\n",
      "\t- words added only: 0\n",
      "\t- words removed only: 212\n",
      "\t- both added and removed: 0\n"
     ]
    }
   ],
   "source": [
    "rows_changed = 0\n",
    "rows_increased = 0\n",
    "rows_decreased = 0\n",
    "rows_both_changed = 0\n",
    "rows_unchanged = 0\n",
    "rows_processed = 0\n",
    "\n",
    "for idx in df.index:\n",
    "    lyrics = df.loc[idx, 'lyrics']\n",
    "    \n",
    "    found_words = find_swear_words_in_lyrics(lyrics, filtered_en_swear_words)\n",
    "    new_words = set(found_words)\n",
    "    \n",
    "    old_value = df.loc[idx, 'swear_EN_words']\n",
    "    \n",
    "    #parse old swear words\n",
    "    try:\n",
    "        if pd.isna(old_value) or old_value == '[]':\n",
    "            old_words = set()\n",
    "        else:\n",
    "            old_words = set(ast.literal_eval(old_value))\n",
    "    except:\n",
    "        old_words = set()\n",
    "    \n",
    "    new_value = str(found_words)\n",
    "    df.loc[idx, 'swear_EN_words'] = new_value\n",
    "    \n",
    "    #track changes\n",
    "    if old_words != new_words:\n",
    "        rows_changed += 1\n",
    "        \n",
    "        words_added = new_words - old_words\n",
    "        words_removed = old_words - new_words\n",
    "        \n",
    "        if words_added and words_removed:\n",
    "            rows_both_changed += 1\n",
    "        elif words_added:\n",
    "            rows_increased += 1\n",
    "        elif words_removed:\n",
    "            rows_decreased += 1\n",
    "    else:\n",
    "        rows_unchanged += 1\n",
    "    \n",
    "    rows_processed += 1\n",
    "\n",
    "print(f\"unchanged rows: {rows_processed - rows_changed}\")\n",
    "print(f\"rows where swear_EN_words was changed: {rows_changed}\")\n",
    "\n",
    "print(f\"\\t- words added only: {rows_increased}\")\n",
    "print(f\"\\t- words removed only: {rows_decreased}\")\n",
    "print(f\"\\t- both added and removed: {rows_both_changed}\")"
   ]
  },
  {
   "cell_type": "markdown",
   "id": "80c1c60e",
   "metadata": {},
   "source": [
    "### swear_IT"
   ]
  },
  {
   "cell_type": "code",
   "execution_count": 33,
   "id": "10a50f97",
   "metadata": {},
   "outputs": [
    {
     "name": "stdout",
     "output_type": "stream",
     "text": [
      "Series([], Name: swear_IT, dtype: int64)\n",
      "number of missing values in swear_IT: 0\n"
     ]
    }
   ],
   "source": [
    "invalid_elems = df[df['swear_IT'].apply(check_type_validity, expected_type=int)]\n",
    "print(invalid_elems['swear_IT'])\n",
    "\n",
    "nan_indexes = df.index[df['swear_IT'].isna()].tolist()\n",
    "print(f\"number of missing values in swear_IT: {len(nan_indexes)}\")"
   ]
  },
  {
   "cell_type": "code",
   "execution_count": 34,
   "id": "0baa0f5a",
   "metadata": {},
   "outputs": [
    {
     "name": "stdout",
     "output_type": "stream",
     "text": [
      "unchanged rows: 10659\n",
      "rows where swear_IT_words was updated: 507\n"
     ]
    }
   ],
   "source": [
    "def count_swear_words_in_lyrics(lyrics, swear_words_list):\n",
    "    if pd.isna(lyrics):\n",
    "        return 0\n",
    "    \n",
    "    lyrics_lower = lyrics.lower()\n",
    "    total_count = 0\n",
    "    \n",
    "    for word in swear_words_list:\n",
    "        pattern = r'\\b' + re.escape(word) + r'\\b'\n",
    "        matches = re.findall(pattern, lyrics_lower)\n",
    "        total_count += len(matches)\n",
    "    \n",
    "    return total_count\n",
    "\n",
    "rows_processed = 0\n",
    "rows_changed = 0\n",
    "\n",
    "for idx in df.index:\n",
    "    lyrics = df.loc[idx, 'lyrics']\n",
    "    old_count = df.loc[idx, 'swear_IT']\n",
    "    \n",
    "    swear_words_value = df.loc[idx, 'swear_IT_words']\n",
    "    \n",
    "    try:\n",
    "        if pd.isna(swear_words_value) or swear_words_value == '[]':\n",
    "            words_to_count = []\n",
    "        else:\n",
    "            words_to_count = ast.literal_eval(swear_words_value)\n",
    "    except:\n",
    "        words_to_count = []\n",
    "    \n",
    "    new_count = count_swear_words_in_lyrics(lyrics, words_to_count)\n",
    "    \n",
    "    df.loc[idx, 'swear_IT'] = new_count\n",
    "    \n",
    "    if old_count != new_count:\n",
    "        rows_changed += 1\n",
    "    \n",
    "    rows_processed += 1\n",
    "    \n",
    "print(f\"unchanged rows: {rows_processed - rows_changed}\")\n",
    "print(f\"rows where swear_IT_words was updated: {rows_changed}\")"
   ]
  },
  {
   "cell_type": "markdown",
   "id": "f5af7a07",
   "metadata": {},
   "source": [
    "### swear_EN"
   ]
  },
  {
   "cell_type": "code",
   "execution_count": 35,
   "id": "c3172a82",
   "metadata": {},
   "outputs": [
    {
     "name": "stdout",
     "output_type": "stream",
     "text": [
      "Series([], Name: swear_EN, dtype: int64)\n",
      "number of missing values in swear_EN: 0\n"
     ]
    }
   ],
   "source": [
    "invalid_elems = df[df['swear_EN'].apply(check_type_validity, expected_type=int)]\n",
    "print(invalid_elems['swear_EN'])\n",
    "\n",
    "nan_indexes = df.index[df['swear_EN'].isna()].tolist()\n",
    "print(f\"number of missing values in swear_EN: {len(nan_indexes)}\")"
   ]
  },
  {
   "cell_type": "code",
   "execution_count": 36,
   "id": "fa7545ae",
   "metadata": {},
   "outputs": [
    {
     "name": "stdout",
     "output_type": "stream",
     "text": [
      "unchanged rows: 10954\n",
      "rows where swear_EN_words was updated: 212\n"
     ]
    }
   ],
   "source": [
    "rows_processed = 0\n",
    "rows_changed = 0\n",
    "\n",
    "for idx in df.index:\n",
    "    lyrics = df.loc[idx, 'lyrics']\n",
    "    old_count = df.loc[idx, 'swear_EN']\n",
    "    \n",
    "    swear_words_value = df.loc[idx, 'swear_EN_words']\n",
    "    \n",
    "    try:\n",
    "        if pd.isna(swear_words_value) or swear_words_value == '[]':\n",
    "            words_to_count = []\n",
    "        else:\n",
    "            words_to_count = ast.literal_eval(swear_words_value)\n",
    "    except:\n",
    "        words_to_count = []\n",
    "    \n",
    "    new_count = count_swear_words_in_lyrics(lyrics, words_to_count)\n",
    "    \n",
    "    df.loc[idx, 'swear_EN'] = new_count\n",
    "    \n",
    "    if old_count != new_count:\n",
    "        rows_changed += 1\n",
    "    \n",
    "    rows_processed += 1\n",
    "    \n",
    "print(f\"unchanged rows: {rows_processed - rows_changed}\")\n",
    "print(f\"rows where swear_EN_words was updated: {rows_changed}\")"
   ]
  },
  {
   "cell_type": "markdown",
   "id": "95dd1d20",
   "metadata": {},
   "source": [
    "### year"
   ]
  },
  {
   "cell_type": "code",
   "execution_count": 37,
   "id": "a549767b",
   "metadata": {},
   "outputs": [
    {
     "name": "stdout",
     "output_type": "stream",
     "text": [
      "0        2021.0\n",
      "1        2020.0\n",
      "2        2021.0\n",
      "3        2019.0\n",
      "4        2020.0\n",
      "          ...  \n",
      "11161       NaN\n",
      "11162    2015.0\n",
      "11163       NaN\n",
      "11164    2005.0\n",
      "11165       NaN\n",
      "Name: year, Length: 11166, dtype: object\n",
      "number of missing values in year: 400\n"
     ]
    }
   ],
   "source": [
    "invalid_elems = df[df['year'].apply(check_type_validity, expected_type=int)]\n",
    "print(invalid_elems['year'])\n",
    "\n",
    "nan_indexes = df.index[df['year'].isna()].tolist()\n",
    "print(f\"number of missing values in year: {len(nan_indexes)}\")"
   ]
  },
  {
   "cell_type": "code",
   "execution_count": 38,
   "id": "1ca08a55",
   "metadata": {},
   "outputs": [
    {
     "name": "stdout",
     "output_type": "stream",
     "text": [
      "non-numeric year values (38):\n",
      "['nPmvFS' 'MoKKcY' 'PdLLvs' 'Tr5ghq' 'FZM9N5' '3KBIhx' '7arrc9' '0S4bYq'\n",
      " 'Ww2RM0' 'YDWvPA' 'v9Gs4k' '1uWHmg' 's7ujOB' 'CeZdpY' 'DkWnRx' 'oiiWuy'\n",
      " 'IlHfzv' 'uUsYUb' 'unxIUH' 'iW9Q9J' 'td0lg8' 'fNBiFf' 'RqnJ7g' 'VwVFFX'\n",
      " 'Ise7dm' 'vgGgkT' 'QPNIJj' 'BMMnal' 'k2QnmQ' '6R1q9L' 'P03Hkq' 'tMcdp6'\n",
      " 'epqCR2' 'Tl2Dgz' 'uiux8t' 'gZ2JDM' 'Gv70wC' '8i0piY']\n",
      "157      <NA>\n",
      "178      <NA>\n",
      "184      <NA>\n",
      "190      <NA>\n",
      "195      <NA>\n",
      "         ... \n",
      "10976    <NA>\n",
      "11159    <NA>\n",
      "11161    <NA>\n",
      "11163    <NA>\n",
      "11165    <NA>\n",
      "Name: year, Length: 438, dtype: Int64\n",
      "number of missing values in year: 438\n"
     ]
    }
   ],
   "source": [
    "non_numeric = df[pd.to_numeric(df['year'], errors='coerce').isna() & df['year'].notna()]\n",
    "print(f\"non-numeric year values ({len(non_numeric)}):\")\n",
    "print(non_numeric['year'].unique())\n",
    "\n",
    "df['year'] = pd.to_numeric(df['year'], errors='coerce').astype('Int64')\n",
    "\n",
    "invalid_elems = df[df['year'].apply(check_type_validity, expected_type=int)]\n",
    "print(invalid_elems['year'])\n",
    "\n",
    "nan_indexes = df.index[df['year'].isna()].tolist()\n",
    "print(f\"number of missing values in year: {len(nan_indexes)}\")"
   ]
  },
  {
   "cell_type": "code",
   "execution_count": 39,
   "id": "16832fcb",
   "metadata": {},
   "outputs": [
    {
     "name": "stdout",
     "output_type": "stream",
     "text": [
      "found 2153 rows with invalid years (< 1973 or > 2025):\n"
     ]
    },
    {
     "data": {
      "text/html": [
       "<div>\n",
       "<style scoped>\n",
       "    .dataframe tbody tr th:only-of-type {\n",
       "        vertical-align: middle;\n",
       "    }\n",
       "\n",
       "    .dataframe tbody tr th {\n",
       "        vertical-align: top;\n",
       "    }\n",
       "\n",
       "    .dataframe thead th {\n",
       "        text-align: right;\n",
       "    }\n",
       "</style>\n",
       "<table border=\"1\" class=\"dataframe\">\n",
       "  <thead>\n",
       "    <tr style=\"text-align: right;\">\n",
       "      <th></th>\n",
       "      <th>id</th>\n",
       "      <th>title</th>\n",
       "      <th>name_artist</th>\n",
       "      <th>year</th>\n",
       "    </tr>\n",
       "  </thead>\n",
       "  <tbody>\n",
       "    <tr>\n",
       "      <th>6</th>\n",
       "      <td>TR170793</td>\n",
       "      <td>LOBBY WAY</td>\n",
       "      <td>Rosa Chemical</td>\n",
       "      <td>2072</td>\n",
       "    </tr>\n",
       "    <tr>\n",
       "      <th>7</th>\n",
       "      <td>TR627195</td>\n",
       "      <td>SLATT</td>\n",
       "      <td>Rosa Chemical</td>\n",
       "      <td>2098</td>\n",
       "    </tr>\n",
       "    <tr>\n",
       "      <th>22</th>\n",
       "      <td>TR634516</td>\n",
       "      <td>Freestyle #redbullnext #essemagazine</td>\n",
       "      <td>Rosa Chemical</td>\n",
       "      <td>1917</td>\n",
       "    </tr>\n",
       "    <tr>\n",
       "      <th>29</th>\n",
       "      <td>TR242610</td>\n",
       "      <td>Sono Io !!</td>\n",
       "      <td>Rosa Chemical</td>\n",
       "      <td>1920</td>\n",
       "    </tr>\n",
       "    <tr>\n",
       "      <th>34</th>\n",
       "      <td>TR344681</td>\n",
       "      <td>ALIENO</td>\n",
       "      <td>Rosa Chemical</td>\n",
       "      <td>1901</td>\n",
       "    </tr>\n",
       "    <tr>\n",
       "      <th>35</th>\n",
       "      <td>TR945862</td>\n",
       "      <td>Teschio</td>\n",
       "      <td>Rosa Chemical</td>\n",
       "      <td>2052</td>\n",
       "    </tr>\n",
       "    <tr>\n",
       "      <th>48</th>\n",
       "      <td>TR225367</td>\n",
       "      <td>TIPO DI N</td>\n",
       "      <td>Rosa Chemical</td>\n",
       "      <td>2081</td>\n",
       "    </tr>\n",
       "    <tr>\n",
       "      <th>53</th>\n",
       "      <td>TR904495</td>\n",
       "      <td>Dovreicomprarmiunacollanacomeimigos</td>\n",
       "      <td>Rosa Chemical</td>\n",
       "      <td>2060</td>\n",
       "    </tr>\n",
       "    <tr>\n",
       "      <th>58</th>\n",
       "      <td>TR440692</td>\n",
       "      <td>LATTE +</td>\n",
       "      <td>Rosa Chemical</td>\n",
       "      <td>1933</td>\n",
       "    </tr>\n",
       "    <tr>\n",
       "      <th>59</th>\n",
       "      <td>TR141416</td>\n",
       "      <td>I need some sleep (Intro)</td>\n",
       "      <td>Rosa Chemical</td>\n",
       "      <td>1928</td>\n",
       "    </tr>\n",
       "  </tbody>\n",
       "</table>\n",
       "</div>"
      ],
      "text/plain": [
       "          id                                 title    name_artist  year\n",
       "6   TR170793                             LOBBY WAY  Rosa Chemical  2072\n",
       "7   TR627195                                 SLATT  Rosa Chemical  2098\n",
       "22  TR634516  Freestyle #redbullnext #essemagazine  Rosa Chemical  1917\n",
       "29  TR242610                            Sono Io !!  Rosa Chemical  1920\n",
       "34  TR344681                                ALIENO  Rosa Chemical  1901\n",
       "35  TR945862                               Teschio  Rosa Chemical  2052\n",
       "48  TR225367                             TIPO DI N  Rosa Chemical  2081\n",
       "53  TR904495   Dovreicomprarmiunacollanacomeimigos  Rosa Chemical  2060\n",
       "58  TR440692                               LATTE +  Rosa Chemical  1933\n",
       "59  TR141416             I need some sleep (Intro)  Rosa Chemical  1928"
      ]
     },
     "metadata": {},
     "output_type": "display_data"
    },
    {
     "data": {
      "text/plain": [
       "(array([1875., 1900., 1925., 1950., 1975., 2000., 2025., 2050., 2075.,\n",
       "        2100., 2125.]),\n",
       " [Text(1875.0, 0, '1875'),\n",
       "  Text(1900.0, 0, '1900'),\n",
       "  Text(1925.0, 0, '1925'),\n",
       "  Text(1950.0, 0, '1950'),\n",
       "  Text(1975.0, 0, '1975'),\n",
       "  Text(2000.0, 0, '2000'),\n",
       "  Text(2025.0, 0, '2025'),\n",
       "  Text(2050.0, 0, '2050'),\n",
       "  Text(2075.0, 0, '2075'),\n",
       "  Text(2100.0, 0, '2100'),\n",
       "  Text(2125.0, 0, '2125')])"
      ]
     },
     "execution_count": 39,
     "metadata": {},
     "output_type": "execute_result"
    },
    {
     "data": {
      "image/png": "[encoded data removed]",
      "text/plain": [
       "<Figure size 1400x600 with 1 Axes>"
      ]
     },
     "metadata": {},
     "output_type": "display_data"
    }
   ],
   "source": [
    "invalid_years = df[(df['year'] < 1973) | (df['year'] > 2025)]\n",
    "\n",
    "if len(invalid_years) > 0:\n",
    "    print(f\"found {len(invalid_years)} rows with invalid years (< 1973 or > 2025):\")\n",
    "    display(invalid_years[['id', 'title', 'name_artist', 'year']].head(10))\n",
    "    \n",
    "year_counts = df['year'].value_counts().sort_index()\n",
    "\n",
    "plt.figure(figsize=(14, 6))\n",
    "plt.bar(year_counts.index, year_counts.values, color='steelblue', edgecolor='black', alpha=0.7)\n",
    "\n",
    "plt.xlabel('Year', fontsize=12, fontweight='bold')\n",
    "plt.ylabel('Number of Tracks', fontsize=12, fontweight='bold')\n",
    "plt.title('Distribution of tracks per year', fontsize=14, fontweight='bold')\n",
    "plt.grid(axis='y', alpha=0.3, linestyle='--')\n",
    "\n",
    "plt.xticks(rotation=45, ha='right')"
   ]
  },
  {
   "cell_type": "markdown",
   "id": "8f6ec912",
   "metadata": {},
   "source": [
    "there seems to be a lot of invalid years. the ones above the year 2025 are for obvious reasons wrong, but the ones below 1973 might be really old tracks. let's check this by using the lowest active_start field of the artists.csv dataset"
   ]
  },
  {
   "cell_type": "code",
   "execution_count": 40,
   "id": "6e9e468b",
   "metadata": {},
   "outputs": [
    {
     "name": "stdout",
     "output_type": "stream",
     "text": [
      "missing active_start values: 54\n",
      "earliest active_start: 1988-01-01 00:00:00\n"
     ]
    }
   ],
   "source": [
    "artists_path = path.join('..', 'dataset', 'artists.csv')\n",
    "df_artists = pd.read_csv(artists_path, sep=';')\n",
    "\n",
    "df_artists['active_start'] = pd.to_datetime(df_artists['active_start'], errors='coerce')\n",
    "missing_count = df_artists['active_start'].isna().sum()\n",
    "print(f\"missing active_start values: {missing_count}\")\n",
    "\n",
    "earliest_date = df_artists['active_start'].min()\n",
    "print(f\"earliest active_start: {earliest_date}\")"
   ]
  },
  {
   "cell_type": "markdown",
   "id": "68e269d1",
   "metadata": {},
   "source": [
    "by checking them, we can notice that are there are no artist in the dataset with such low year of active_start. there might be one in the missing active_start values that is lower, but by checking some of the tracks with release year below 1973, i can say with enough confidence that those are all invalid years."
   ]
  },
  {
   "cell_type": "markdown",
   "id": "d5c412db",
   "metadata": {},
   "source": [
    "### month"
   ]
  },
  {
   "cell_type": "code",
   "execution_count": 41,
   "id": "2040b829",
   "metadata": {},
   "outputs": [
    {
     "name": "stdout",
     "output_type": "stream",
     "text": [
      "0         4.0\n",
      "1         3.0\n",
      "2         2.0\n",
      "3         3.0\n",
      "4         5.0\n",
      "         ... \n",
      "11161     NaN\n",
      "11162    11.0\n",
      "11163     NaN\n",
      "11164     1.0\n",
      "11165     NaN\n",
      "Name: month, Length: 11166, dtype: float64\n",
      "number of missing values in month: 1197\n"
     ]
    }
   ],
   "source": [
    "invalid_elems = df[df['month'].apply(check_type_validity, expected_type=int)]\n",
    "print(invalid_elems['month'])\n",
    "\n",
    "nan_indexes = df.index[df['month'].isna()].tolist()\n",
    "print(f\"number of missing values in month: {len(nan_indexes)}\")"
   ]
  },
  {
   "cell_type": "code",
   "execution_count": 42,
   "id": "74e70fb4",
   "metadata": {},
   "outputs": [
    {
     "name": "stdout",
     "output_type": "stream",
     "text": [
      "36       <NA>\n",
      "157      <NA>\n",
      "178      <NA>\n",
      "179      <NA>\n",
      "184      <NA>\n",
      "         ... \n",
      "11152    <NA>\n",
      "11159    <NA>\n",
      "11161    <NA>\n",
      "11163    <NA>\n",
      "11165    <NA>\n",
      "Name: month, Length: 1197, dtype: Int64\n",
      "number of missing values in month: 1197\n"
     ]
    }
   ],
   "source": [
    "df['month'] = pd.to_numeric(df['month'], errors='coerce').astype('Int64')\n",
    "\n",
    "invalid_elems = df[df['month'].apply(check_type_validity, expected_type=int)]\n",
    "print(invalid_elems['month'])\n",
    "\n",
    "nan_indexes = df.index[df['month'].isna()].tolist()\n",
    "print(f\"number of missing values in month: {len(nan_indexes)}\")"
   ]
  },
  {
   "cell_type": "code",
   "execution_count": 43,
   "id": "5afa012d",
   "metadata": {},
   "outputs": [],
   "source": [
    "invalid_months = df[(df['month'] < 1) | (df['month'] > 12)]\n",
    "\n",
    "if len(invalid_months) > 0:\n",
    "    print(f\"found {len(invalid_years)} rows with invalid month (< 1 or > 12):\")\n",
    "    display(invalid_months[['id', 'title', 'name_artist', 'month']].head(10))"
   ]
  },
  {
   "cell_type": "markdown",
   "id": "ddae1ebe",
   "metadata": {},
   "source": [
    "even though all the months have valid values, a lot of them are missing"
   ]
  },
  {
   "cell_type": "markdown",
   "id": "9411e350",
   "metadata": {},
   "source": [
    "### day"
   ]
  },
  {
   "cell_type": "code",
   "execution_count": 44,
   "id": "cff0491e",
   "metadata": {},
   "outputs": [
    {
     "name": "stdout",
     "output_type": "stream",
     "text": [
      "0         2.0\n",
      "1         6.0\n",
      "2        19.0\n",
      "3         8.0\n",
      "4        29.0\n",
      "         ... \n",
      "11161     NaN\n",
      "11162     9.0\n",
      "11163     NaN\n",
      "11164     1.0\n",
      "11165     NaN\n",
      "Name: day, Length: 11166, dtype: float64\n",
      "number of missing values in day: 1323\n"
     ]
    }
   ],
   "source": [
    "invalid_elems = df[df['day'].apply(check_type_validity, expected_type=int)]\n",
    "print(invalid_elems['day'])\n",
    "\n",
    "nan_indexes = df.index[df['day'].isna()].tolist()\n",
    "print(f\"number of missing values in day: {len(nan_indexes)}\")"
   ]
  },
  {
   "cell_type": "code",
   "execution_count": 45,
   "id": "c8a5dd18",
   "metadata": {},
   "outputs": [
    {
     "name": "stdout",
     "output_type": "stream",
     "text": [
      "36       <NA>\n",
      "157      <NA>\n",
      "178      <NA>\n",
      "179      <NA>\n",
      "184      <NA>\n",
      "         ... \n",
      "11152    <NA>\n",
      "11159    <NA>\n",
      "11161    <NA>\n",
      "11163    <NA>\n",
      "11165    <NA>\n",
      "Name: day, Length: 1323, dtype: Int64\n",
      "number of missing values in day: 1323\n"
     ]
    }
   ],
   "source": [
    "df['day'] = pd.to_numeric(df['day'], errors='coerce').astype('Int64')\n",
    "\n",
    "invalid_elems = df[df['day'].apply(check_type_validity, expected_type=int)]\n",
    "print(invalid_elems['day'])\n",
    "\n",
    "nan_indexes = df.index[df['day'].isna()].tolist()\n",
    "print(f\"number of missing values in day: {len(nan_indexes)}\")"
   ]
  },
  {
   "cell_type": "markdown",
   "id": "d69faeb9",
   "metadata": {},
   "source": [
    "### n_sentences"
   ]
  },
  {
   "cell_type": "code",
   "execution_count": 46,
   "id": "13b9f6a9",
   "metadata": {},
   "outputs": [
    {
     "name": "stdout",
     "output_type": "stream",
     "text": [
      "0        102.0\n",
      "1         56.0\n",
      "2         88.0\n",
      "3         37.0\n",
      "4         48.0\n",
      "         ...  \n",
      "11161     75.0\n",
      "11162     76.0\n",
      "11163     74.0\n",
      "11164     32.0\n",
      "11165     45.0\n",
      "Name: n_sentences, Length: 11166, dtype: float64\n",
      "number of missing values in n_sentences: 76\n"
     ]
    }
   ],
   "source": [
    "invalid_elems = df[df['n_sentences'].apply(check_type_validity, expected_type=int)]\n",
    "print(invalid_elems['n_sentences'])\n",
    "\n",
    "nan_indexes = df.index[df['n_sentences'].isna()].tolist()\n",
    "print(f\"number of missing values in n_sentences: {len(nan_indexes)}\")"
   ]
  },
  {
   "cell_type": "code",
   "execution_count": 47,
   "id": "f44ae90c",
   "metadata": {},
   "outputs": [
    {
     "name": "stdout",
     "output_type": "stream",
     "text": [
      "matching rows: 4768\n",
      "mismatching rows: 6398\n",
      "\n"
     ]
    },
    {
     "data": {
      "text/html": [
       "<div>\n",
       "<style scoped>\n",
       "    .dataframe tbody tr th:only-of-type {\n",
       "        vertical-align: middle;\n",
       "    }\n",
       "\n",
       "    .dataframe tbody tr th {\n",
       "        vertical-align: top;\n",
       "    }\n",
       "\n",
       "    .dataframe thead th {\n",
       "        text-align: right;\n",
       "    }\n",
       "</style>\n",
       "<table border=\"1\" class=\"dataframe\">\n",
       "  <thead>\n",
       "    <tr style=\"text-align: right;\">\n",
       "      <th></th>\n",
       "      <th>title</th>\n",
       "      <th>stored_n_sentences</th>\n",
       "      <th>computed_non_empty</th>\n",
       "      <th>empty_lines</th>\n",
       "      <th>total_lines</th>\n",
       "      <th>diff</th>\n",
       "    </tr>\n",
       "  </thead>\n",
       "  <tbody>\n",
       "    <tr>\n",
       "      <th>0</th>\n",
       "      <td>​polka 2 :-/</td>\n",
       "      <td>102</td>\n",
       "      <td>98</td>\n",
       "      <td>5</td>\n",
       "      <td>103</td>\n",
       "      <td>-4</td>\n",
       "    </tr>\n",
       "    <tr>\n",
       "      <th>1</th>\n",
       "      <td>POLKA</td>\n",
       "      <td>56</td>\n",
       "      <td>56</td>\n",
       "      <td>5</td>\n",
       "      <td>61</td>\n",
       "      <td>0</td>\n",
       "    </tr>\n",
       "    <tr>\n",
       "      <th>2</th>\n",
       "      <td>​britney ;-)</td>\n",
       "      <td>88</td>\n",
       "      <td>87</td>\n",
       "      <td>7</td>\n",
       "      <td>94</td>\n",
       "      <td>-1</td>\n",
       "    </tr>\n",
       "    <tr>\n",
       "      <th>3</th>\n",
       "      <td>CEO</td>\n",
       "      <td>37</td>\n",
       "      <td>37</td>\n",
       "      <td>4</td>\n",
       "      <td>41</td>\n",
       "      <td>0</td>\n",
       "    </tr>\n",
       "    <tr>\n",
       "      <th>4</th>\n",
       "      <td>LONDRA</td>\n",
       "      <td>48</td>\n",
       "      <td>48</td>\n",
       "      <td>6</td>\n",
       "      <td>54</td>\n",
       "      <td>0</td>\n",
       "    </tr>\n",
       "    <tr>\n",
       "      <th>5</th>\n",
       "      <td>BOHEME</td>\n",
       "      <td>62</td>\n",
       "      <td>62</td>\n",
       "      <td>8</td>\n",
       "      <td>70</td>\n",
       "      <td>0</td>\n",
       "    </tr>\n",
       "    <tr>\n",
       "      <th>6</th>\n",
       "      <td>LOBBY WAY</td>\n",
       "      <td>82</td>\n",
       "      <td>80</td>\n",
       "      <td>6</td>\n",
       "      <td>86</td>\n",
       "      <td>-2</td>\n",
       "    </tr>\n",
       "    <tr>\n",
       "      <th>7</th>\n",
       "      <td>SLATT</td>\n",
       "      <td>82</td>\n",
       "      <td>77</td>\n",
       "      <td>8</td>\n",
       "      <td>85</td>\n",
       "      <td>-5</td>\n",
       "    </tr>\n",
       "    <tr>\n",
       "      <th>8</th>\n",
       "      <td>MADE IN ITALY</td>\n",
       "      <td>82</td>\n",
       "      <td>82</td>\n",
       "      <td>8</td>\n",
       "      <td>90</td>\n",
       "      <td>0</td>\n",
       "    </tr>\n",
       "    <tr>\n",
       "      <th>9</th>\n",
       "      <td>ROSE &amp; ROVI</td>\n",
       "      <td>50</td>\n",
       "      <td>49</td>\n",
       "      <td>3</td>\n",
       "      <td>52</td>\n",
       "      <td>-1</td>\n",
       "    </tr>\n",
       "  </tbody>\n",
       "</table>\n",
       "</div>"
      ],
      "text/plain": [
       "           title  stored_n_sentences  computed_non_empty  empty_lines  \\\n",
       "0   ​polka 2 :-/                 102                  98            5   \n",
       "1          POLKA                  56                  56            5   \n",
       "2   ​britney ;-)                  88                  87            7   \n",
       "3            CEO                  37                  37            4   \n",
       "4         LONDRA                  48                  48            6   \n",
       "5         BOHEME                  62                  62            8   \n",
       "6      LOBBY WAY                  82                  80            6   \n",
       "7          SLATT                  82                  77            8   \n",
       "8  MADE IN ITALY                  82                  82            8   \n",
       "9    ROSE & ROVI                  50                  49            3   \n",
       "\n",
       "   total_lines  diff  \n",
       "0          103    -4  \n",
       "1           61     0  \n",
       "2           94    -1  \n",
       "3           41     0  \n",
       "4           54     0  \n",
       "5           70     0  \n",
       "6           86    -2  \n",
       "7           85    -5  \n",
       "8           90     0  \n",
       "9           52    -1  "
      ]
     },
     "metadata": {},
     "output_type": "display_data"
    }
   ],
   "source": [
    "df['n_sentences'] = pd.to_numeric(df['n_sentences'], errors='coerce').astype('Int64')\n",
    "\n",
    "def count_sentences_in_lyrics(lyrics):\n",
    "    if pd.isna(lyrics):\n",
    "        return 0\n",
    "    lines = lyrics.split('\\n')\n",
    "    count = sum(1 for line in lines if line.strip())\n",
    "    return count\n",
    "\n",
    "def count_empty_lines(lyrics):\n",
    "    if pd.isna(lyrics):\n",
    "        return 0\n",
    "    lines = lyrics.split('\\n')\n",
    "    return sum(1 for line in lines if not line.strip())\n",
    "\n",
    "def count_total_lines(lyrics):\n",
    "    if pd.isna(lyrics):\n",
    "        return 0\n",
    "    return len(lyrics.split('\\n'))\n",
    "\n",
    "computed_sentences = df['lyrics'].apply(count_sentences_in_lyrics)\n",
    "empty_lines = df['lyrics'].apply(count_empty_lines)\n",
    "total_lines = df['lyrics'].apply(count_total_lines)\n",
    "\n",
    "mismatches_sentences = df[df['n_sentences'] != computed_sentences]\n",
    "\n",
    "print(f\"matching rows: {len(df) - len(mismatches_sentences)}\")\n",
    "print(f\"mismatching rows: {len(mismatches_sentences)}\\n\")\n",
    "\n",
    "comparison_display = pd.DataFrame({\n",
    "    'title': df['title'],\n",
    "    'stored_n_sentences': df['n_sentences'],\n",
    "    'computed_non_empty': computed_sentences,\n",
    "    'empty_lines': empty_lines,\n",
    "    'total_lines': total_lines,\n",
    "    'diff': computed_sentences - df['n_sentences']\n",
    "})\n",
    "display(comparison_display.head(10))"
   ]
  },
  {
   "cell_type": "markdown",
   "id": "4d9e12fd",
   "metadata": {},
   "source": [
    "from those results my guess is that the number of sentences is counted from the number of new lines in the lyrics. the results seems to be inconsistent: some of the songs also count the empty lines, while others don't"
   ]
  },
  {
   "cell_type": "markdown",
   "id": "06dede61",
   "metadata": {},
   "source": [
    " ### n_tokens"
   ]
  },
  {
   "cell_type": "code",
   "execution_count": 48,
   "id": "9d7e28b8",
   "metadata": {},
   "outputs": [
    {
     "name": "stdout",
     "output_type": "stream",
     "text": [
      "0        911.0\n",
      "1        675.0\n",
      "2        758.0\n",
      "3        382.0\n",
      "4        429.0\n",
      "         ...  \n",
      "11161    624.0\n",
      "11162    602.0\n",
      "11163    570.0\n",
      "11164    304.0\n",
      "11165    338.0\n",
      "Name: n_tokens, Length: 11166, dtype: float64\n",
      "number of missing values in n_tokens: 76\n"
     ]
    }
   ],
   "source": [
    "invalid_elems = df[df['n_tokens'].apply(check_type_validity, expected_type=int)]\n",
    "print(invalid_elems['n_tokens'])\n",
    "\n",
    "nan_indexes = df.index[df['n_tokens'].isna()].tolist()\n",
    "print(f\"number of missing values in n_tokens: {len(nan_indexes)}\")"
   ]
  },
  {
   "cell_type": "code",
   "execution_count": 49,
   "id": "4abb224a",
   "metadata": {},
   "outputs": [
    {
     "name": "stdout",
     "output_type": "stream",
     "text": [
      "matches: 88\n",
      "mean difference: -79.56\n",
      "\n",
      "some matching tracks:\n"
     ]
    },
    {
     "data": {
      "text/html": [
       "<div>\n",
       "<style scoped>\n",
       "    .dataframe tbody tr th:only-of-type {\n",
       "        vertical-align: middle;\n",
       "    }\n",
       "\n",
       "    .dataframe tbody tr th {\n",
       "        vertical-align: top;\n",
       "    }\n",
       "\n",
       "    .dataframe thead th {\n",
       "        text-align: right;\n",
       "    }\n",
       "</style>\n",
       "<table border=\"1\" class=\"dataframe\">\n",
       "  <thead>\n",
       "    <tr style=\"text-align: right;\">\n",
       "      <th></th>\n",
       "      <th>title</th>\n",
       "      <th>n_tokens</th>\n",
       "      <th>lyrics</th>\n",
       "    </tr>\n",
       "  </thead>\n",
       "  <tbody>\n",
       "    <tr>\n",
       "      <th>58</th>\n",
       "      <td>LATTE +</td>\n",
       "      <td>4</td>\n",
       "      <td>1 ContributorLATTE + Lyrics</td>\n",
       "    </tr>\n",
       "    <tr>\n",
       "      <th>65</th>\n",
       "      <td>C. A. S.</td>\n",
       "      <td>5</td>\n",
       "      <td>1 ContributorC. A. S. Lyrics</td>\n",
       "    </tr>\n",
       "    <tr>\n",
       "      <th>279</th>\n",
       "      <td>Night Cherry</td>\n",
       "      <td>4</td>\n",
       "      <td>8 ContributorsNight Cherry Lyrics</td>\n",
       "    </tr>\n",
       "    <tr>\n",
       "      <th>641</th>\n",
       "      <td>Escamotage</td>\n",
       "      <td>8</td>\n",
       "      <td>Biggie Paul sopra il beat sta in alto</td>\n",
       "    </tr>\n",
       "    <tr>\n",
       "      <th>645</th>\n",
       "      <td>2P solo</td>\n",
       "      <td>4</td>\n",
       "      <td>4 Contributors2P solo Lyrics</td>\n",
       "    </tr>\n",
       "    <tr>\n",
       "      <th>1575</th>\n",
       "      <td>Overture</td>\n",
       "      <td>3</td>\n",
       "      <td>3 ContributorsOverture Lyrics</td>\n",
       "    </tr>\n",
       "    <tr>\n",
       "      <th>1623</th>\n",
       "      <td>Incompatibile - Strumentale</td>\n",
       "      <td>9</td>\n",
       "      <td>1 ContributorIncompatibile - Strumentale Lyric...</td>\n",
       "    </tr>\n",
       "    <tr>\n",
       "      <th>1626</th>\n",
       "      <td>La Valigia - Strumentale</td>\n",
       "      <td>10</td>\n",
       "      <td>1 ContributorLa Valigia - Strumentale LyricsTh...</td>\n",
       "    </tr>\n",
       "    <tr>\n",
       "      <th>1982</th>\n",
       "      <td>Intro</td>\n",
       "      <td>12</td>\n",
       "      <td>La Pina\\nPina\\nLa Pina\\nPina\\nLa Pina\\nPina\\nL...</td>\n",
       "    </tr>\n",
       "    <tr>\n",
       "      <th>2671</th>\n",
       "      <td>Nobiltà Di Strada (Intro)</td>\n",
       "      <td>4</td>\n",
       "      <td>Inoki\\nNobiltà di strada</td>\n",
       "    </tr>\n",
       "    <tr>\n",
       "      <th>3180</th>\n",
       "      <td>Star*</td>\n",
       "      <td>26</td>\n",
       "      <td>Senorita sai che sono un giovane re\\n\\nOcchi a...</td>\n",
       "    </tr>\n",
       "    <tr>\n",
       "      <th>3484</th>\n",
       "      <td>Cantico Errante Di Due D.J. Notturni</td>\n",
       "      <td>14</td>\n",
       "      <td>Questo è il nostro stile\\n\\nMica male\\nDue\\nDJ...</td>\n",
       "    </tr>\n",
       "    <tr>\n",
       "      <th>3508</th>\n",
       "      <td>Il mio viaggio</td>\n",
       "      <td>5</td>\n",
       "      <td>3 ContributorsIl mio viaggio Lyrics</td>\n",
       "    </tr>\n",
       "    <tr>\n",
       "      <th>3574</th>\n",
       "      <td>Wicked Man</td>\n",
       "      <td>4</td>\n",
       "      <td>3 ContributorsWicked Man Lyrics</td>\n",
       "    </tr>\n",
       "    <tr>\n",
       "      <th>3585</th>\n",
       "      <td>Il Funk Dopo La Morte</td>\n",
       "      <td>7</td>\n",
       "      <td>1 ContributorIl Funk Dopo La Morte Lyrics</td>\n",
       "    </tr>\n",
       "    <tr>\n",
       "      <th>3604</th>\n",
       "      <td>Arrivi e partenze</td>\n",
       "      <td>5</td>\n",
       "      <td>2 ContributorsArrivi e partenze Lyrics</td>\n",
       "    </tr>\n",
       "    <tr>\n",
       "      <th>3631</th>\n",
       "      <td>Tentazioni</td>\n",
       "      <td>3</td>\n",
       "      <td>2 ContributorsTentazioni Lyrics</td>\n",
       "    </tr>\n",
       "    <tr>\n",
       "      <th>3639</th>\n",
       "      <td>0 tempo e 0 vento</td>\n",
       "      <td>108</td>\n",
       "      <td>3 Contributors0 tempo e 0 vento LyricsAs cores...</td>\n",
       "    </tr>\n",
       "    <tr>\n",
       "      <th>3662</th>\n",
       "      <td>Laura</td>\n",
       "      <td>3</td>\n",
       "      <td>1 ContributorLaura Lyrics</td>\n",
       "    </tr>\n",
       "    <tr>\n",
       "      <th>3663</th>\n",
       "      <td>Alpha 2000</td>\n",
       "      <td>4</td>\n",
       "      <td>1 ContributorAlpha 2000 Lyrics</td>\n",
       "    </tr>\n",
       "  </tbody>\n",
       "</table>\n",
       "</div>"
      ],
      "text/plain": [
       "                                     title  n_tokens  \\\n",
       "58                                 LATTE +         4   \n",
       "65                                C. A. S.         5   \n",
       "279                           Night Cherry         4   \n",
       "641                             Escamotage         8   \n",
       "645                                2P solo         4   \n",
       "1575                              Overture         3   \n",
       "1623           Incompatibile - Strumentale         9   \n",
       "1626              La Valigia - Strumentale        10   \n",
       "1982                                 Intro        12   \n",
       "2671             Nobiltà Di Strada (Intro)         4   \n",
       "3180                                 Star*        26   \n",
       "3484  Cantico Errante Di Due D.J. Notturni        14   \n",
       "3508                        Il mio viaggio         5   \n",
       "3574                            Wicked Man         4   \n",
       "3585                 Il Funk Dopo La Morte         7   \n",
       "3604                     Arrivi e partenze         5   \n",
       "3631                            Tentazioni         3   \n",
       "3639                     0 tempo e 0 vento       108   \n",
       "3662                                 Laura         3   \n",
       "3663                            Alpha 2000         4   \n",
       "\n",
       "                                                 lyrics  \n",
       "58                          1 ContributorLATTE + Lyrics  \n",
       "65                         1 ContributorC. A. S. Lyrics  \n",
       "279                   8 ContributorsNight Cherry Lyrics  \n",
       "641               Biggie Paul sopra il beat sta in alto  \n",
       "645                        4 Contributors2P solo Lyrics  \n",
       "1575                      3 ContributorsOverture Lyrics  \n",
       "1623  1 ContributorIncompatibile - Strumentale Lyric...  \n",
       "1626  1 ContributorLa Valigia - Strumentale LyricsTh...  \n",
       "1982  La Pina\\nPina\\nLa Pina\\nPina\\nLa Pina\\nPina\\nL...  \n",
       "2671                           Inoki\\nNobiltà di strada  \n",
       "3180  Senorita sai che sono un giovane re\\n\\nOcchi a...  \n",
       "3484  Questo è il nostro stile\\n\\nMica male\\nDue\\nDJ...  \n",
       "3508                3 ContributorsIl mio viaggio Lyrics  \n",
       "3574                    3 ContributorsWicked Man Lyrics  \n",
       "3585          1 ContributorIl Funk Dopo La Morte Lyrics  \n",
       "3604             2 ContributorsArrivi e partenze Lyrics  \n",
       "3631                    2 ContributorsTentazioni Lyrics  \n",
       "3639  3 Contributors0 tempo e 0 vento LyricsAs cores...  \n",
       "3662                          1 ContributorLaura Lyrics  \n",
       "3663                     1 ContributorAlpha 2000 Lyrics  "
      ]
     },
     "metadata": {},
     "output_type": "display_data"
    }
   ],
   "source": [
    "df['n_tokens'] = pd.to_numeric(df['n_tokens'], errors='coerce').astype('Int64')\n",
    "\n",
    "def count_words(lyrics):\n",
    "    if pd.isna(lyrics):\n",
    "        return 0\n",
    "    return len(lyrics.split()) #split by whitespace\n",
    "\n",
    "computed_words = df['lyrics'].apply(count_words)\n",
    "\n",
    "matches_words = (df['n_tokens'] == computed_words).sum()\n",
    "matching_tracks = df[computed_words == df['n_tokens']].copy()\n",
    "diff_words = computed_words - df['n_tokens']\n",
    "\n",
    "print(f\"matches: {matches_words}\")\n",
    "print(f\"mean difference: {diff_words.mean():+.2f}\")\n",
    "\n",
    "print(f\"\\nsome matching tracks:\")\n",
    "display_cols = ['title', 'n_tokens', 'lyrics']\n",
    "display(matching_tracks[display_cols].head(20))"
   ]
  },
  {
   "cell_type": "markdown",
   "id": "173b4aa5",
   "metadata": {},
   "source": [
    "the number of tokens doesn't seem to count the tokens only by splitting by whitespace. From the mean difference, we can notice that there are missing tokens that are not getting counted. By analyzing some of the lyrics, all seem to have in common to be short (mostly errors) and with no punctuation, so i'll try to include it in the token count"
   ]
  },
  {
   "cell_type": "code",
   "execution_count": 50,
   "id": "c28b9e21",
   "metadata": {},
   "outputs": [
    {
     "name": "stdout",
     "output_type": "stream",
     "text": [
      "matches: 561\n",
      "mean difference: +3.50\n",
      "\n",
      "some matching tracks:\n"
     ]
    },
    {
     "data": {
      "text/html": [
       "<div>\n",
       "<style scoped>\n",
       "    .dataframe tbody tr th:only-of-type {\n",
       "        vertical-align: middle;\n",
       "    }\n",
       "\n",
       "    .dataframe tbody tr th {\n",
       "        vertical-align: top;\n",
       "    }\n",
       "\n",
       "    .dataframe thead th {\n",
       "        text-align: right;\n",
       "    }\n",
       "</style>\n",
       "<table border=\"1\" class=\"dataframe\">\n",
       "  <thead>\n",
       "    <tr style=\"text-align: right;\">\n",
       "      <th></th>\n",
       "      <th>title</th>\n",
       "      <th>n_tokens</th>\n",
       "      <th>lyrics</th>\n",
       "    </tr>\n",
       "  </thead>\n",
       "  <tbody>\n",
       "    <tr>\n",
       "      <th>50</th>\n",
       "      <td>Blackout</td>\n",
       "      <td>241</td>\n",
       "      <td>Chiusi dentro una stanza senza guardare l'ora,...</td>\n",
       "    </tr>\n",
       "    <tr>\n",
       "      <th>58</th>\n",
       "      <td>LATTE +</td>\n",
       "      <td>4</td>\n",
       "      <td>1 ContributorLATTE + Lyrics</td>\n",
       "    </tr>\n",
       "    <tr>\n",
       "      <th>61</th>\n",
       "      <td>Punk 'a Piana</td>\n",
       "      <td>6</td>\n",
       "      <td>2 ContributorsPunk ’a Piana Lyrics</td>\n",
       "    </tr>\n",
       "    <tr>\n",
       "      <th>62</th>\n",
       "      <td>Ritratti dell'odio</td>\n",
       "      <td>805</td>\n",
       "      <td>Kranyo, ah, vai\\n\\nMi siedo e ripenso \"Mah, st...</td>\n",
       "    </tr>\n",
       "    <tr>\n",
       "      <th>68</th>\n",
       "      <td>Luciano Pavarotty // Glock</td>\n",
       "      <td>7</td>\n",
       "      <td>1 ContributorLuciano Pavarotty // Glock Lyrics</td>\n",
       "    </tr>\n",
       "    <tr>\n",
       "      <th>82</th>\n",
       "      <td>Chicas</td>\n",
       "      <td>333</td>\n",
       "      <td>Tutte matte le mie amiche\\nTutte matte le mie ...</td>\n",
       "    </tr>\n",
       "    <tr>\n",
       "      <th>113</th>\n",
       "      <td>Mood Blu</td>\n",
       "      <td>396</td>\n",
       "      <td>Tra tutte le scuse che mi racconto, mi circond...</td>\n",
       "    </tr>\n",
       "    <tr>\n",
       "      <th>153</th>\n",
       "      <td>CI SARÒ</td>\n",
       "      <td>386</td>\n",
       "      <td>Voglio guadagnarmi da vivere, ma non vivere pe...</td>\n",
       "    </tr>\n",
       "    <tr>\n",
       "      <th>167</th>\n",
       "      <td>non so chi ha creato il mondo</td>\n",
       "      <td>45</td>\n",
       "      <td>Questa donna che riflette il cielo\\nChe fa azz...</td>\n",
       "    </tr>\n",
       "    <tr>\n",
       "      <th>176</th>\n",
       "      <td>WNDLST Freestyle</td>\n",
       "      <td>219</td>\n",
       "      <td>Eh, okay\\nNon sono uno che parla tanto, ma sto...</td>\n",
       "    </tr>\n",
       "    <tr>\n",
       "      <th>196</th>\n",
       "      <td>Omega (Outro)</td>\n",
       "      <td>472</td>\n",
       "      <td>Tranne una volta, lei ricorda bene\\nSputo vele...</td>\n",
       "    </tr>\n",
       "    <tr>\n",
       "      <th>235</th>\n",
       "      <td>BLESS SU BLESS</td>\n",
       "      <td>511</td>\n",
       "      <td>(Vedo bless) Da quando ero nella culla\\n(Chied...</td>\n",
       "    </tr>\n",
       "    <tr>\n",
       "      <th>269</th>\n",
       "      <td>Cazzeggio Nella BV3 House</td>\n",
       "      <td>112</td>\n",
       "      <td>Probabilmente si tratta di un provino di BV3 s...</td>\n",
       "    </tr>\n",
       "    <tr>\n",
       "      <th>277</th>\n",
       "      <td>Dulcis in Fundo</td>\n",
       "      <td>27</td>\n",
       "      <td>4 ContributorsDulcis in Fundo Lyrics“Dulcis in...</td>\n",
       "    </tr>\n",
       "    <tr>\n",
       "      <th>279</th>\n",
       "      <td>Night Cherry</td>\n",
       "      <td>4</td>\n",
       "      <td>8 ContributorsNight Cherry Lyrics</td>\n",
       "    </tr>\n",
       "    <tr>\n",
       "      <th>290</th>\n",
       "      <td>I Don't Give a Fück</td>\n",
       "      <td>34</td>\n",
       "      <td>2 ContributorsI Don’t Give a Fück Lyrics“I Don...</td>\n",
       "    </tr>\n",
       "    <tr>\n",
       "      <th>300</th>\n",
       "      <td>Nuova Car</td>\n",
       "      <td>46</td>\n",
       "      <td>Yah,yah\\nGuarda la mia nuova car\\nVado avanti ...</td>\n",
       "    </tr>\n",
       "    <tr>\n",
       "      <th>302</th>\n",
       "      <td>2ombie*</td>\n",
       "      <td>109</td>\n",
       "      <td>\\nYeah\\n\\nCerte volte mi sembro uno zombie, zo...</td>\n",
       "    </tr>\n",
       "    <tr>\n",
       "      <th>303</th>\n",
       "      <td>via da te</td>\n",
       "      <td>59</td>\n",
       "      <td>Ah\\nFumiamo le mura di sta casa\\nSentivo le tu...</td>\n",
       "    </tr>\n",
       "    <tr>\n",
       "      <th>328</th>\n",
       "      <td>100 MESSAGGI</td>\n",
       "      <td>527</td>\n",
       "      <td>Ti prego, non cominciare\\nSai che per me è già...</td>\n",
       "    </tr>\n",
       "  </tbody>\n",
       "</table>\n",
       "</div>"
      ],
      "text/plain": [
       "                             title  n_tokens  \\\n",
       "50                        Blackout       241   \n",
       "58                         LATTE +         4   \n",
       "61                   Punk 'a Piana         6   \n",
       "62              Ritratti dell'odio       805   \n",
       "68      Luciano Pavarotty // Glock         7   \n",
       "82                          Chicas       333   \n",
       "113                       Mood Blu       396   \n",
       "153                        CI SARÒ       386   \n",
       "167  non so chi ha creato il mondo        45   \n",
       "176               WNDLST Freestyle       219   \n",
       "196                  Omega (Outro)       472   \n",
       "235                 BLESS SU BLESS       511   \n",
       "269      Cazzeggio Nella BV3 House       112   \n",
       "277                Dulcis in Fundo        27   \n",
       "279                   Night Cherry         4   \n",
       "290            I Don't Give a Fück        34   \n",
       "300                      Nuova Car        46   \n",
       "302                        2ombie*       109   \n",
       "303                      via da te        59   \n",
       "328                   100 MESSAGGI       527   \n",
       "\n",
       "                                                lyrics  \n",
       "50   Chiusi dentro una stanza senza guardare l'ora,...  \n",
       "58                         1 ContributorLATTE + Lyrics  \n",
       "61                  2 ContributorsPunk ’a Piana Lyrics  \n",
       "62   Kranyo, ah, vai\\n\\nMi siedo e ripenso \"Mah, st...  \n",
       "68      1 ContributorLuciano Pavarotty // Glock Lyrics  \n",
       "82   Tutte matte le mie amiche\\nTutte matte le mie ...  \n",
       "113  Tra tutte le scuse che mi racconto, mi circond...  \n",
       "153  Voglio guadagnarmi da vivere, ma non vivere pe...  \n",
       "167  Questa donna che riflette il cielo\\nChe fa azz...  \n",
       "176  Eh, okay\\nNon sono uno che parla tanto, ma sto...  \n",
       "196  Tranne una volta, lei ricorda bene\\nSputo vele...  \n",
       "235  (Vedo bless) Da quando ero nella culla\\n(Chied...  \n",
       "269  Probabilmente si tratta di un provino di BV3 s...  \n",
       "277  4 ContributorsDulcis in Fundo Lyrics“Dulcis in...  \n",
       "279                  8 ContributorsNight Cherry Lyrics  \n",
       "290  2 ContributorsI Don’t Give a Fück Lyrics“I Don...  \n",
       "300  Yah,yah\\nGuarda la mia nuova car\\nVado avanti ...  \n",
       "302  \\nYeah\\n\\nCerte volte mi sembro uno zombie, zo...  \n",
       "303  Ah\\nFumiamo le mura di sta casa\\nSentivo le tu...  \n",
       "328  Ti prego, non cominciare\\nSai che per me è già...  "
      ]
     },
     "metadata": {},
     "output_type": "display_data"
    }
   ],
   "source": [
    "def count_tokens_split_punctuation(lyrics):\n",
    "    if pd.isna(lyrics):\n",
    "        return 0\n",
    "    import re\n",
    "    #split on word boundaries - keeps alphanumeric sequences separate from punctuation\n",
    "    # \\w+ -> word characters (letters, numbers); [^\\w\\s] ->  punctuation (not words and not separators);\n",
    "    tokens = re.findall(r'\\w+|[^\\w\\s]', lyrics)\n",
    "    return len(tokens)\n",
    "\n",
    "computed_split_punct = df['lyrics'].apply(count_tokens_split_punctuation)\n",
    "\n",
    "matches_words = (df['n_tokens'] == computed_split_punct).sum()\n",
    "matching_tracks = df[computed_split_punct == df['n_tokens']].copy()\n",
    "diff_words = computed_split_punct - df['n_tokens']\n",
    "\n",
    "print(f\"matches: {matches_words}\")\n",
    "print(f\"mean difference: {diff_words.mean():+.2f}\")\n",
    "\n",
    "print(f\"\\nsome matching tracks:\")\n",
    "display_cols = ['title', 'n_tokens', 'lyrics']\n",
    "display(matching_tracks[display_cols].head(20))"
   ]
  },
  {
   "cell_type": "markdown",
   "id": "bb6ee6b3",
   "metadata": {},
   "source": [
    "this produces a result similar to the one in the dataset (with even long songs matching), but it's hard to say which are the chars that counted as tokens and which are not."
   ]
  },
  {
   "cell_type": "markdown",
   "id": "8416f6bd",
   "metadata": {},
   "source": [
    "### tokens_per_sent"
   ]
  },
  {
   "cell_type": "code",
   "execution_count": 51,
   "id": "aedafede",
   "metadata": {},
   "outputs": [
    {
     "name": "stdout",
     "output_type": "stream",
     "text": [
      "0         8.931373\n",
      "1        12.053571\n",
      "2         8.613636\n",
      "3        10.324324\n",
      "4         8.937500\n",
      "           ...    \n",
      "11161     8.320000\n",
      "11162     7.921053\n",
      "11163     7.702703\n",
      "11164     9.500000\n",
      "11165     7.511111\n",
      "Name: tokens_per_sent, Length: 11166, dtype: float64\n",
      "number of missing values in tokens_per_sent: 76\n"
     ]
    }
   ],
   "source": [
    "invalid_elems = df[df['tokens_per_sent'].apply(check_type_validity, expected_type=int)]\n",
    "print(invalid_elems['tokens_per_sent'])\n",
    "\n",
    "nan_indexes = df.index[df['tokens_per_sent'].isna()].tolist()\n",
    "print(f\"number of missing values in tokens_per_sent: {len(nan_indexes)}\")"
   ]
  },
  {
   "cell_type": "code",
   "execution_count": 52,
   "id": "3359ea24",
   "metadata": {},
   "outputs": [
    {
     "name": "stdout",
     "output_type": "stream",
     "text": [
      "Matching rows (correct n_tokens over n_sentences): 11166\n",
      "Mismatching rows: 0\n"
     ]
    }
   ],
   "source": [
    "expected_tokens_per_sent = df['n_tokens'] / df['n_sentences']\n",
    "\n",
    "tolerance = 1e-6\n",
    "matches = (abs(df['tokens_per_sent'] - expected_tokens_per_sent) <= tolerance) | (df['tokens_per_sent'].isna() & expected_tokens_per_sent.isna())\n",
    "\n",
    "total_rows = len(df)\n",
    "num_matches = matches.sum()\n",
    "num_mismatches = total_rows - num_matches\n",
    "\n",
    "print(f\"Matching rows (correct n_tokens over n_sentences): {num_matches}\")\n",
    "print(f\"Mismatching rows: {num_mismatches}\")"
   ]
  },
  {
   "cell_type": "markdown",
   "id": "4be3e9bb",
   "metadata": {},
   "source": [
    "this column is correctly computed, the 76 missing values are given by the missing 76 values of n_tokens and n_sentences."
   ]
  }
 ],
 "metadata": {
  "kernelspec": {
   "display_name": "Python 3 (ipykernel)",
   "language": "python",
   "name": "python3"
  },
  "language_info": {
   "codemirror_mode": {
    "name": "ipython",
    "version": 3
   },
   "file_extension": ".py",
   "mimetype": "text/x-python",
   "name": "python",
   "nbconvert_exporter": "python",
   "pygments_lexer": "ipython3",
   "version": "3.12.3"
  }
 },
 "nbformat": 4,
 "nbformat_minor": 5
}
