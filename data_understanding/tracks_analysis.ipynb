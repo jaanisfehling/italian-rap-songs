{
 "cells": [
  {
   "cell_type": "markdown",
   "id": "23924fd2",
   "metadata": {},
   "source": [
    "## Tracks data analysis"
   ]
  },
  {
   "cell_type": "markdown",
   "id": "7484a138",
   "metadata": {},
   "source": [
    "Let's assert tracks data analysis by taking a first inspection of the track dataset"
   ]
  },
  {
   "cell_type": "code",
   "execution_count": 1,
   "id": "20f1204c",
   "metadata": {},
   "outputs": [],
   "source": [
    "import pandas as pd\n",
    "import matplotlib.pyplot as plt\n",
    "from os import path\n",
    "dataset_path = path.join('..', 'dataset', 'tracks.csv')\n",
    "df = pd.read_csv(dataset_path, sep=',')"
   ]
  },
  {
   "cell_type": "code",
   "execution_count": 2,
   "id": "94aee455",
   "metadata": {
    "scrolled": true
   },
   "outputs": [
    {
     "name": "stdout",
     "output_type": "stream",
     "text": [
      "<class 'pandas.core.frame.DataFrame'>\n",
      "RangeIndex: 11166 entries, 0 to 11165\n",
      "Data columns (total 45 columns):\n",
      " #   Column                Non-Null Count  Dtype  \n",
      "---  ------                --------------  -----  \n",
      " 0   id                    11166 non-null  object \n",
      " 1   id_artist             11166 non-null  object \n",
      " 2   name_artist           11166 non-null  object \n",
      " 3   full_title            11166 non-null  object \n",
      " 4   title                 11166 non-null  object \n",
      " 5   featured_artists      3517 non-null   object \n",
      " 6   primary_artist        11166 non-null  object \n",
      " 7   language              11061 non-null  object \n",
      " 8   album                 9652 non-null   object \n",
      " 9   stats_pageviews       4642 non-null   float64\n",
      " 10  swear_IT              11166 non-null  int64  \n",
      " 11  swear_EN              11166 non-null  int64  \n",
      " 12  swear_IT_words        11166 non-null  object \n",
      " 13  swear_EN_words        11166 non-null  object \n",
      " 14  year                  10766 non-null  object \n",
      " 15  month                 9969 non-null   float64\n",
      " 16  day                   9843 non-null   float64\n",
      " 17  n_sentences           11090 non-null  float64\n",
      " 18  n_tokens              11090 non-null  float64\n",
      " 19  tokens_per_sent       11090 non-null  float64\n",
      " 20  char_per_tok          11090 non-null  float64\n",
      " 21  lexical_density       11090 non-null  float64\n",
      " 22  avg_token_per_clause  11090 non-null  float64\n",
      " 23  bpm                   11102 non-null  float64\n",
      " 24  centroid              11102 non-null  float64\n",
      " 25  rolloff               11102 non-null  float64\n",
      " 26  flux                  11102 non-null  float64\n",
      " 27  rms                   11102 non-null  float64\n",
      " 28  zcr                   11102 non-null  float64\n",
      " 29  flatness              11102 non-null  float64\n",
      " 30  spectral_complexity   11102 non-null  float64\n",
      " 31  pitch                 11102 non-null  float64\n",
      " 32  loudness              11102 non-null  float64\n",
      " 33  album_name            11088 non-null  object \n",
      " 34  album_release_date    11088 non-null  object \n",
      " 35  album_type            11088 non-null  object \n",
      " 36  disc_number           11088 non-null  float64\n",
      " 37  track_number          11088 non-null  float64\n",
      " 38  duration_ms           11088 non-null  float64\n",
      " 39  explicit              11088 non-null  object \n",
      " 40  popularity            11164 non-null  object \n",
      " 41  album_image           11088 non-null  object \n",
      " 42  id_album              11088 non-null  object \n",
      " 43  lyrics                11163 non-null  object \n",
      " 44  modified_popularity   11166 non-null  bool   \n",
      "dtypes: bool(1), float64(22), int64(2), object(20)\n",
      "memory usage: 3.8+ MB\n"
     ]
    }
   ],
   "source": [
    "df.info()"
   ]
  },
  {
   "cell_type": "markdown",
   "id": "21bb416c",
   "metadata": {},
   "source": [
    "year, month, day, n_sentence, n_tokens, disc_numer, track_number, popularity should all be int64 (or at least float64: year and popularity are object), explicit should be bool"
   ]
  },
  {
   "cell_type": "markdown",
   "id": "720666e6",
   "metadata": {},
   "source": [
    "validation function checking expected types validity"
   ]
  },
  {
   "cell_type": "code",
   "execution_count": 3,
   "id": "68b6d642",
   "metadata": {},
   "outputs": [],
   "source": [
    "def check_type_validity(value, expected_type):\n",
    "    return not isinstance(value, expected_type)"
   ]
  },
  {
   "cell_type": "markdown",
   "id": "691c2626",
   "metadata": {},
   "source": [
    "### id"
   ]
  },
  {
   "cell_type": "code",
   "execution_count": 4,
   "id": "6e0e39f7",
   "metadata": {},
   "outputs": [
    {
     "name": "stdout",
     "output_type": "stream",
     "text": [
      "Series([], Name: id, dtype: object)\n",
      "number of missing values in id: 0\n",
      "number of unique ids: 11093\n"
     ]
    }
   ],
   "source": [
    "invalid_elems = df[df['id'].apply(check_type_validity, expected_type=str)]\n",
    "print(invalid_elems['id'])\n",
    "\n",
    "nan_indexes = df.index[df['id'].isna()].tolist()\n",
    "print(f\"number of missing values in id: {len(nan_indexes)}\")\n",
    "\n",
    "unique_ids = df['id'].nunique()\n",
    "print(f\"number of unique ids: {unique_ids}\")"
   ]
  },
  {
   "cell_type": "markdown",
   "id": "3e5bc4df",
   "metadata": {},
   "source": [
    "there are no missing id values in the dataset.\n",
    "all the ids are strings with the following format \"TR{unique_num_id}\".\n",
    "there are less unique ids than the number of rows (11093 < 11166), let's check if they come from duplicate songs or there are different songs with the same id"
   ]
  },
  {
   "cell_type": "code",
   "execution_count": 5,
   "id": "8d72dcde",
   "metadata": {},
   "outputs": [
    {
     "name": "stdout",
     "output_type": "stream",
     "text": [
      "there are 71 not unique ids:\n",
      "id\n",
      "TR367132    4\n",
      "TR978886    2\n",
      "TR987615    2\n",
      "TR690925    2\n",
      "TR772702    2\n",
      "           ..\n",
      "TR245683    2\n",
      "TR903275    2\n",
      "TR679972    2\n",
      "TR247772    2\n",
      "TR261964    2\n",
      "Name: count, Length: 71, dtype: int64\n",
      "0 come from duplicate songs,  70 come from different songs with the same id,  1 have both duplicate and different songs\n"
     ]
    }
   ],
   "source": [
    "not_unique_ids = df['id'].value_counts()\n",
    "not_unique_ids = not_unique_ids[not_unique_ids > 1]\n",
    "print(f\"there are {len(not_unique_ids)} not unique ids:\")\n",
    "print(not_unique_ids)\n",
    "\n",
    "not_unique_ids_list = not_unique_ids.index.tolist()\n",
    "\n",
    "identical_duplicates = []\n",
    "different_duplicates = []\n",
    "mixed_duplicates = [] #ids with both identical and different rows\n",
    "\n",
    "for dup_id in not_unique_ids_list:\n",
    "    duplicate_rows = df[df['id'] == dup_id]\n",
    "    num_occurrences = len(duplicate_rows)\n",
    "    \n",
    "    unique_songs = duplicate_rows[['name_artist', 'title']].drop_duplicates()\n",
    "    num_unique = len(unique_songs)\n",
    "\n",
    "    if num_unique == 1:\n",
    "        identical_duplicates.append(dup_id) #duplicate rows\n",
    "    elif num_unique == num_occurrences:\n",
    "        different_duplicates.append(dup_id) #different songs\n",
    "    else:\n",
    "        mixed_duplicates.append(dup_id) #duplicate rows and different songs\n",
    "\n",
    "print(f\"{len(identical_duplicates)} come from duplicate songs, \",\n",
    "      f\"{len(different_duplicates)} come from different songs with the same id, \",\n",
    "      f\"{len(mixed_duplicates)} have both duplicate and different songs\")"
   ]
  },
  {
   "cell_type": "markdown",
   "id": "0be2f1bd",
   "metadata": {},
   "source": [
    "of the 71 not unique ids, 70 refers to different songs, meaning that there are no duplicate songs respect to those ids, but there are ids which refers to multiple songs.\n",
    "\n",
    "by analyzing more in depth the case with both duplicate and different songs:"
   ]
  },
  {
   "cell_type": "code",
   "execution_count": 6,
   "id": "1077df2c",
   "metadata": {},
   "outputs": [
    {
     "name": "stdout",
     "output_type": "stream",
     "text": [
      "for id TR367132, there are 2 unique songs:\n",
      "\t- 'BUGIE' by artist: Madame, occuring 2 times\n",
      "\t\tdiffering columns: ['year', 'album_name', 'album_release_date', 'album_type', 'track_number', 'duration_ms', 'popularity', 'album_image', 'id_album']\n",
      "\n",
      "\t- '​sentimi' by artist: Madame, occuring 2 times\n",
      "\t\tdiffering columns: ['album_name', 'album_release_date', 'album_type', 'track_number', 'duration_ms', 'popularity', 'album_image', 'id_album']\n",
      "\n"
     ]
    }
   ],
   "source": [
    "for dup_id in mixed_duplicates: #iterating for a \"general\" solution, but in this case wouldn't be necessary\n",
    "    duplicate_artist_song = df[df['id'] == dup_id]\n",
    "    unique_songs = duplicate_artist_song[['name_artist', 'title']].drop_duplicates()\n",
    "    print(f\"for id {dup_id}, there are {len(unique_songs)} unique songs:\")\n",
    "    \n",
    "    for idx, row in unique_songs.iterrows():\n",
    "        song_rows = duplicate_artist_song[\n",
    "            (duplicate_artist_song['name_artist'] == row['name_artist']) &\n",
    "            (duplicate_artist_song['title'] == row['title'])]\n",
    "        \n",
    "        print(f\"\\t- '{row['title']}' by artist: {row['name_artist']}, occuring {len(song_rows)} times\")\n",
    "        \n",
    "        if len(song_rows) != 1: #more than one occurrence\n",
    "            first_row = song_rows.iloc[0]\n",
    "            all_identical = True\n",
    "            differing_columns = []\n",
    "\n",
    "            for col in song_rows.columns:\n",
    "                unique_values = song_rows[col].nunique()\n",
    "                if unique_values > 1:\n",
    "                    all_identical = False\n",
    "                    differing_columns.append(col)\n",
    "            \n",
    "            if not all_identical:\n",
    "                print(f\"\\t\\tdiffering columns: {differing_columns}\\n\")\n",
    "                \n",
    "                #for col in differing_columns: #uncomment this for see values of different rows\n",
    "                        #values = song_rows[col].tolist()\n",
    "                        #print(f\"\\t\\t• {col}:\")\n",
    "                        #for i, val in enumerate(values):\n",
    "                            #print(f\"\\t\\t\\tRow {i+1}: {val}\")"
   ]
  },
  {
   "cell_type": "markdown",
   "id": "e0a1f29e",
   "metadata": {},
   "source": [
    "so that id not only refers to 2 different songs, but each occurrence of the song (2) has different values. based on the values of different rows, it's possible to cut the additional wrong records"
   ]
  },
  {
   "cell_type": "markdown",
   "id": "8432bbf2",
   "metadata": {},
   "source": [
    "### id_artist"
   ]
  },
  {
   "cell_type": "code",
   "execution_count": 7,
   "id": "0bb93fda",
   "metadata": {},
   "outputs": [
    {
     "name": "stdout",
     "output_type": "stream",
     "text": [
      "Series([], Name: id_artist, dtype: object)\n",
      "number of missing values in id_artist: 0\n",
      "each id_artist corresponds to exactly one name_artist\n"
     ]
    }
   ],
   "source": [
    "invalid_elems = df[df['id_artist'].apply(check_type_validity, expected_type=str)]\n",
    "print(invalid_elems['id_artist'])\n",
    "\n",
    "nan_indexes = df.index[df['id_artist'].isna()].tolist()\n",
    "print(f\"number of missing values in id_artist: {len(nan_indexes)}\")\n",
    "\n",
    "id_to_names = df.groupby('id_artist')['name_artist'].nunique()\n",
    "multiple_names = id_to_names[id_to_names > 1]\n",
    "\n",
    "if len(multiple_names) == 0:\n",
    "    print(\"each id_artist corresponds to exactly one name_artist\")"
   ]
  },
  {
   "cell_type": "markdown",
   "id": "530f13c5",
   "metadata": {},
   "source": [
    "there are no missing id_artist values in the dataset. all the id_artists are strings with the following format \"ART{unique_num_id}\". each id_artist corresponds to exactly one name_artist"
   ]
  },
  {
   "cell_type": "markdown",
   "id": "7c655a4f",
   "metadata": {},
   "source": [
    "### id_artist"
   ]
  },
  {
   "cell_type": "code",
   "execution_count": 8,
   "id": "4680b5f6",
   "metadata": {},
   "outputs": [
    {
     "name": "stdout",
     "output_type": "stream",
     "text": [
      "Series([], Name: name_artist, dtype: object)\n",
      "number of missing values in name_artist: 0\n",
      "each name_artist corresponds to exactly one id_artist\n"
     ]
    }
   ],
   "source": [
    "invalid_elems = df[df['name_artist'].apply(check_type_validity, expected_type=str)]\n",
    "print(invalid_elems['name_artist'])\n",
    "\n",
    "nan_indexes = df.index[df['name_artist'].isna()].tolist()\n",
    "print(f\"number of missing values in name_artist: {len(nan_indexes)}\")\n",
    "\n",
    "name_to_ids  = df.groupby('name_artist')['id_artist'].nunique()\n",
    "multiple_ids  = name_to_ids [name_to_ids  > 1]\n",
    "\n",
    "if len(multiple_names) == 0:\n",
    "    print(\"each name_artist corresponds to exactly one id_artist\")"
   ]
  },
  {
   "cell_type": "markdown",
   "id": "d0469ce5",
   "metadata": {},
   "source": [
    "there are no missing name_artist values in the dataset. all the name_artists are strings with the following format \"ART{unique_num_id}\". each name_artist corresponds to exactly one id_artist"
   ]
  },
  {
   "cell_type": "markdown",
   "id": "9f76a1b0",
   "metadata": {},
   "source": [
    "### full_title"
   ]
  },
  {
   "cell_type": "code",
   "execution_count": 9,
   "id": "e42ebce5",
   "metadata": {},
   "outputs": [
    {
     "name": "stdout",
     "output_type": "stream",
     "text": [
      "Series([], Name: full_title, dtype: object)\n",
      "number of missing values in full_title: 0\n"
     ]
    }
   ],
   "source": [
    "invalid_elems = df[df['full_title'].apply(check_type_validity, expected_type=str)]\n",
    "print(invalid_elems['full_title'])\n",
    "\n",
    "nan_indexes = df.index[df['full_title'].isna()].tolist()\n",
    "print(f\"number of missing values in full_title: {len(nan_indexes)}\")"
   ]
  },
  {
   "cell_type": "markdown",
   "id": "cea46834",
   "metadata": {},
   "source": [
    "there are no missing full_title values in the dataset. \n",
    "all the full_titles are strings with the following format: \"{title} by {primary_artist} (Ft. {name_artist_1}, {...}, {name_artist_n-1} & {name_artist_n})\". let's check if name_artist is inside every full title"
   ]
  },
  {
   "cell_type": "code",
   "execution_count": 10,
   "id": "430634fe",
   "metadata": {},
   "outputs": [
    {
     "name": "stdout",
     "output_type": "stream",
     "text": [
      "number of primary_artist mismatches inside full_title: 844\n",
      "sample mismatches:\n"
     ]
    },
    {
     "data": {
      "text/html": [
       "<div>\n",
       "<style scoped>\n",
       "    .dataframe tbody tr th:only-of-type {\n",
       "        vertical-align: middle;\n",
       "    }\n",
       "\n",
       "    .dataframe tbody tr th {\n",
       "        vertical-align: top;\n",
       "    }\n",
       "\n",
       "    .dataframe thead th {\n",
       "        text-align: right;\n",
       "    }\n",
       "</style>\n",
       "<table border=\"1\" class=\"dataframe\">\n",
       "  <thead>\n",
       "    <tr style=\"text-align: right;\">\n",
       "      <th></th>\n",
       "      <th>full_title</th>\n",
       "      <th>primary_artist</th>\n",
       "      <th>extracted_artist</th>\n",
       "    </tr>\n",
       "  </thead>\n",
       "  <tbody>\n",
       "    <tr>\n",
       "      <th>36</th>\n",
       "      <td>Mattonelle* by Rosa Chemical, Mehdi (ITA), Fri...</td>\n",
       "      <td>Rosa Chemical</td>\n",
       "      <td>Rosa Chemical, Mehdi</td>\n",
       "    </tr>\n",
       "    <tr>\n",
       "      <th>129</th>\n",
       "      <td>a me mi piace by Alfa &amp; Manu Chao</td>\n",
       "      <td>Alfa</td>\n",
       "      <td>Alfa &amp; Manu Chao</td>\n",
       "    </tr>\n",
       "    <tr>\n",
       "      <th>223</th>\n",
       "      <td>EGLI È IL RE by thasup &amp; Mara Sattei</td>\n",
       "      <td>thasup</td>\n",
       "      <td>thasup &amp; Mara Sattei</td>\n",
       "    </tr>\n",
       "    <tr>\n",
       "      <th>225</th>\n",
       "      <td>POSTO MIO by thasup &amp; Mara Sattei</td>\n",
       "      <td>thasup</td>\n",
       "      <td>thasup &amp; Mara Sattei</td>\n",
       "    </tr>\n",
       "    <tr>\n",
       "      <th>227</th>\n",
       "      <td>​r()t()nda by thasup &amp; Tiziano Ferro</td>\n",
       "      <td>thasup</td>\n",
       "      <td>thasup &amp; Tiziano Ferro</td>\n",
       "    </tr>\n",
       "    <tr>\n",
       "      <th>231</th>\n",
       "      <td>SO CHE CI SEI by thasup &amp; Mara Sattei</td>\n",
       "      <td>thasup</td>\n",
       "      <td>thasup &amp; Mara Sattei</td>\n",
       "    </tr>\n",
       "    <tr>\n",
       "      <th>235</th>\n",
       "      <td>BLESS SU BLESS by thasup &amp; Mara Sattei</td>\n",
       "      <td>thasup</td>\n",
       "      <td>thasup &amp; Mara Sattei</td>\n",
       "    </tr>\n",
       "    <tr>\n",
       "      <th>238</th>\n",
       "      <td>ONE KING by thasup &amp; Mara Sattei</td>\n",
       "      <td>thasup</td>\n",
       "      <td>thasup &amp; Mara Sattei</td>\n",
       "    </tr>\n",
       "    <tr>\n",
       "      <th>241</th>\n",
       "      <td>COME POLVERE by thasup &amp; Mara Sattei</td>\n",
       "      <td>thasup</td>\n",
       "      <td>thasup &amp; Mara Sattei</td>\n",
       "    </tr>\n",
       "    <tr>\n",
       "      <th>244</th>\n",
       "      <td>OCCHI MIEI by thasup &amp; Mara Sattei</td>\n",
       "      <td>thasup</td>\n",
       "      <td>thasup &amp; Mara Sattei</td>\n",
       "    </tr>\n",
       "    <tr>\n",
       "      <th>246</th>\n",
       "      <td>BACK TO BACK by thasup &amp; Mara Sattei</td>\n",
       "      <td>thasup</td>\n",
       "      <td>thasup &amp; Mara Sattei</td>\n",
       "    </tr>\n",
       "    <tr>\n",
       "      <th>436</th>\n",
       "      <td>The Exchange by Lazza, Murda, Beny Jr, Guy2Bez...</td>\n",
       "      <td>Lazza</td>\n",
       "      <td>Lazza, Murda, Beny Jr, Guy2Bezbar &amp; Elias</td>\n",
       "    </tr>\n",
       "    <tr>\n",
       "      <th>521</th>\n",
       "      <td>Lasciami solo by Nerone &amp; Biggie Paul (Ft. Nitro)</td>\n",
       "      <td>Nerone</td>\n",
       "      <td>Nerone &amp; Biggie Paul</td>\n",
       "    </tr>\n",
       "    <tr>\n",
       "      <th>528</th>\n",
       "      <td>Six pack by Nerone &amp; Ensi (Ft. Fabri Fibra, Ge...</td>\n",
       "      <td>Nerone</td>\n",
       "      <td>Nerone &amp; Ensi</td>\n",
       "    </tr>\n",
       "    <tr>\n",
       "      <th>532</th>\n",
       "      <td>R2R by Nerone &amp; Ensi (Ft. Salmo)</td>\n",
       "      <td>Nerone</td>\n",
       "      <td>Nerone &amp; Ensi</td>\n",
       "    </tr>\n",
       "    <tr>\n",
       "      <th>542</th>\n",
       "      <td>King Kong vs. Godzilla by Nerone &amp; Ensi</td>\n",
       "      <td>Nerone</td>\n",
       "      <td>Nerone &amp; Ensi</td>\n",
       "    </tr>\n",
       "    <tr>\n",
       "      <th>550</th>\n",
       "      <td>Cemento by Nerone &amp; Ensi (Ft. Silent Bob)</td>\n",
       "      <td>Nerone</td>\n",
       "      <td>Nerone &amp; Ensi</td>\n",
       "    </tr>\n",
       "    <tr>\n",
       "      <th>551</th>\n",
       "      <td>DM by Nerone &amp; Warez (Ft. G. Nano)</td>\n",
       "      <td>Nerone</td>\n",
       "      <td>Nerone &amp; Warez</td>\n",
       "    </tr>\n",
       "    <tr>\n",
       "      <th>552</th>\n",
       "      <td>Domino by Nerone &amp; Ensi (Ft. Speranza)</td>\n",
       "      <td>Nerone</td>\n",
       "      <td>Nerone &amp; Ensi</td>\n",
       "    </tr>\n",
       "    <tr>\n",
       "      <th>558</th>\n",
       "      <td>Non è cosa by Nerone &amp; Ensi</td>\n",
       "      <td>Nerone</td>\n",
       "      <td>Nerone &amp; Ensi</td>\n",
       "    </tr>\n",
       "  </tbody>\n",
       "</table>\n",
       "</div>"
      ],
      "text/plain": [
       "                                            full_title primary_artist  \\\n",
       "36   Mattonelle* by Rosa Chemical, Mehdi (ITA), Fri...  Rosa Chemical   \n",
       "129                  a me mi piace by Alfa & Manu Chao           Alfa   \n",
       "223               EGLI È IL RE by thasup & Mara Sattei         thasup   \n",
       "225                  POSTO MIO by thasup & Mara Sattei         thasup   \n",
       "227               ​r()t()nda by thasup & Tiziano Ferro         thasup   \n",
       "231              SO CHE CI SEI by thasup & Mara Sattei         thasup   \n",
       "235             BLESS SU BLESS by thasup & Mara Sattei         thasup   \n",
       "238                   ONE KING by thasup & Mara Sattei         thasup   \n",
       "241               COME POLVERE by thasup & Mara Sattei         thasup   \n",
       "244                 OCCHI MIEI by thasup & Mara Sattei         thasup   \n",
       "246               BACK TO BACK by thasup & Mara Sattei         thasup   \n",
       "436  The Exchange by Lazza, Murda, Beny Jr, Guy2Bez...          Lazza   \n",
       "521  Lasciami solo by Nerone & Biggie Paul (Ft. Nitro)         Nerone   \n",
       "528  Six pack by Nerone & Ensi (Ft. Fabri Fibra, Ge...         Nerone   \n",
       "532                   R2R by Nerone & Ensi (Ft. Salmo)         Nerone   \n",
       "542            King Kong vs. Godzilla by Nerone & Ensi         Nerone   \n",
       "550          Cemento by Nerone & Ensi (Ft. Silent Bob)         Nerone   \n",
       "551                 DM by Nerone & Warez (Ft. G. Nano)         Nerone   \n",
       "552             Domino by Nerone & Ensi (Ft. Speranza)         Nerone   \n",
       "558                        Non è cosa by Nerone & Ensi         Nerone   \n",
       "\n",
       "                              extracted_artist  \n",
       "36                        Rosa Chemical, Mehdi  \n",
       "129                           Alfa & Manu Chao  \n",
       "223                       thasup & Mara Sattei  \n",
       "225                       thasup & Mara Sattei  \n",
       "227                     thasup & Tiziano Ferro  \n",
       "231                       thasup & Mara Sattei  \n",
       "235                       thasup & Mara Sattei  \n",
       "238                       thasup & Mara Sattei  \n",
       "241                       thasup & Mara Sattei  \n",
       "244                       thasup & Mara Sattei  \n",
       "246                       thasup & Mara Sattei  \n",
       "436  Lazza, Murda, Beny Jr, Guy2Bezbar & Elias  \n",
       "521                       Nerone & Biggie Paul  \n",
       "528                              Nerone & Ensi  \n",
       "532                              Nerone & Ensi  \n",
       "542                              Nerone & Ensi  \n",
       "550                              Nerone & Ensi  \n",
       "551                             Nerone & Warez  \n",
       "552                              Nerone & Ensi  \n",
       "558                              Nerone & Ensi  "
      ]
     },
     "metadata": {},
     "output_type": "display_data"
    }
   ],
   "source": [
    "#normalizing non-breaking space and quotes\n",
    "df['full_title'] = (df['full_title']\n",
    "                    .str.replace('\\xa0', ' ', regex=False)    #non-breaking space\n",
    "                    .str.replace('\\u2019', \"'\", regex=False)  #right single quote\n",
    "                    .str.replace('\\u2018', \"'\", regex=False)  #left single quote\n",
    "                    .str.replace('\\u201c', '\"', regex=False)  #left double quote\n",
    "                    .str.replace('\\u201d', '\"', regex=False)) #right double quote\n",
    "\n",
    "#(.+?) -> capture everything; (?:\\s*\\(|$) -> stop at either \" (\" or end of string\n",
    "extracted_artist = df['full_title'].str.extract(r' by (.+?)(?:\\s*\\(|$)', expand=False).str.strip()\n",
    "\n",
    "mismatches = df[extracted_artist != df['primary_artist']]\n",
    "print(f\"number of primary_artist mismatches inside full_title: {len(mismatches)}\")\n",
    "\n",
    "if len(mismatches) > 0:\n",
    "    print(\"sample mismatches:\")\n",
    "    mismatches_display = mismatches.copy()\n",
    "    mismatches_display['extracted_artist'] = extracted_artist[mismatches.index]\n",
    "    display(mismatches_display[['full_title', 'primary_artist', 'extracted_artist']].head(20))"
   ]
  },
  {
   "cell_type": "code",
   "execution_count": 11,
   "id": "b3cf1dba",
   "metadata": {},
   "outputs": [
    {
     "name": "stdout",
     "output_type": "stream",
     "text": [
      "records with single artist: 11166\n"
     ]
    }
   ],
   "source": [
    "multi_artist_indicators = ['&', ',', ' and ']\n",
    "\n",
    "has_separator = df['primary_artist'].str.contains('|'.join(multi_artist_indicators), case=False, na=False)\n",
    "potential_multi = df[has_separator]\n",
    "\n",
    "print(f\"records with single artist: {len(df) - len(potential_multi)}\")"
   ]
  },
  {
   "cell_type": "markdown",
   "id": "5c00fe13",
   "metadata": {},
   "source": [
    "The name_artist column contains only one artist per track, even when multiple artists collaborated (excluding featured artists), likely due to a data collection system limitation. while some tracks include non-rapper collaborators not in the dataset (e.g. Tiziano Ferro, Mara Sattei), which is expected, other tracks list only one rapper despite having multiple rapper collaborators who are present in the dataset (e.g. Ensi in Cemento). this causes artist-based analyses to undercount songs, as tracks where an artist collaborated but wasn't listed as the primary artist will be excluded from their catalog."
   ]
  },
  {
   "cell_type": "markdown",
   "id": "d8e89a20",
   "metadata": {},
   "source": [
    "### title"
   ]
  },
  {
   "cell_type": "code",
   "execution_count": 12,
   "id": "4f10192d",
   "metadata": {},
   "outputs": [
    {
     "name": "stdout",
     "output_type": "stream",
     "text": [
      "Series([], Name: title, dtype: object)\n",
      "number of missing values in title: 0\n"
     ]
    }
   ],
   "source": [
    "invalid_elems = df[df['title'].apply(check_type_validity, expected_type=str)]\n",
    "print(invalid_elems['title'])\n",
    "\n",
    "nan_indexes = df.index[df['title'].isna()].tolist()\n",
    "print(f\"number of missing values in title: {len(nan_indexes)}\")"
   ]
  },
  {
   "cell_type": "code",
   "execution_count": 13,
   "id": "ba005097",
   "metadata": {},
   "outputs": [
    {
     "name": "stdout",
     "output_type": "stream",
     "text": [
      "number of title mismatches inside full_title: 4\n",
      "remaining mismatches (likely titles containing 'by'):\n",
      "\n"
     ]
    },
    {
     "data": {
      "text/html": [
       "<div>\n",
       "<style scoped>\n",
       "    .dataframe tbody tr th:only-of-type {\n",
       "        vertical-align: middle;\n",
       "    }\n",
       "\n",
       "    .dataframe tbody tr th {\n",
       "        vertical-align: top;\n",
       "    }\n",
       "\n",
       "    .dataframe thead th {\n",
       "        text-align: right;\n",
       "    }\n",
       "</style>\n",
       "<table border=\"1\" class=\"dataframe\">\n",
       "  <thead>\n",
       "    <tr style=\"text-align: right;\">\n",
       "      <th></th>\n",
       "      <th>full_title</th>\n",
       "      <th>title</th>\n",
       "      <th>extracted_title</th>\n",
       "    </tr>\n",
       "  </thead>\n",
       "  <tbody>\n",
       "    <tr>\n",
       "      <th>2513</th>\n",
       "      <td>Bolo by Night RMX by Inoki</td>\n",
       "      <td>Bolo by Night RMX</td>\n",
       "      <td>Bolo</td>\n",
       "    </tr>\n",
       "    <tr>\n",
       "      <th>2578</th>\n",
       "      <td>Bolo by Night RMX (NewKingzTape) by Inoki (Ft....</td>\n",
       "      <td>Bolo by Night RMX (NewKingzTape)</td>\n",
       "      <td>Bolo</td>\n",
       "    </tr>\n",
       "    <tr>\n",
       "      <th>2600</th>\n",
       "      <td>Bolo by Night (NewKingz RMX) by Inoki (Ft. Lil...</td>\n",
       "      <td>Bolo by Night (NewKingz RMX)</td>\n",
       "      <td>Bolo</td>\n",
       "    </tr>\n",
       "    <tr>\n",
       "      <th>2642</th>\n",
       "      <td>Barona by Night (Red Bull Culture Clash dubpla...</td>\n",
       "      <td>Barona by Night (Red Bull Culture Clash dubplate)</td>\n",
       "      <td>Barona</td>\n",
       "    </tr>\n",
       "  </tbody>\n",
       "</table>\n",
       "</div>"
      ],
      "text/plain": [
       "                                             full_title  \\\n",
       "2513                         Bolo by Night RMX by Inoki   \n",
       "2578  Bolo by Night RMX (NewKingzTape) by Inoki (Ft....   \n",
       "2600  Bolo by Night (NewKingz RMX) by Inoki (Ft. Lil...   \n",
       "2642  Barona by Night (Red Bull Culture Clash dubpla...   \n",
       "\n",
       "                                                  title extracted_title  \n",
       "2513                                  Bolo by Night RMX            Bolo  \n",
       "2578                   Bolo by Night RMX (NewKingzTape)            Bolo  \n",
       "2600                       Bolo by Night (NewKingz RMX)            Bolo  \n",
       "2642  Barona by Night (Red Bull Culture Clash dubplate)          Barona  "
      ]
     },
     "metadata": {},
     "output_type": "display_data"
    }
   ],
   "source": [
    "df['title'] = (df['title']\n",
    "                .str.replace('\\xa0', ' ', regex=False)\n",
    "                .str.replace('\\u2019', \"'\", regex=False)\n",
    "                .str.replace('\\u2018', \"'\", regex=False)\n",
    "                .str.replace('\\u201c', '\"', regex=False)\n",
    "                .str.replace('\\u201d', '\"', regex=False))\n",
    "\n",
    "# ^(.+?) -> capture from start; \\s+by\\s+ -> stop at \" by \" (with flexible whitespace)\n",
    "extracted_title = df['full_title'].str.extract(r'^(.+?)\\s+by\\s+', expand=False).str.strip()\n",
    "\n",
    "mismatches = df[df['title'] != extracted_title]\n",
    "print(f\"number of title mismatches inside full_title: {len(mismatches)}\")\n",
    "\n",
    "if len(mismatches) > 0:\n",
    "    print(\"remaining mismatches (likely titles containing 'by'):\\n\")\n",
    "    mismatches_display = mismatches.copy()\n",
    "    mismatches_display['extracted_title'] = extracted_title[mismatches.index]\n",
    "    display(mismatches_display[['full_title', 'title', 'extracted_title']].head(10))"
   ]
  },
  {
   "cell_type": "markdown",
   "id": "07f93196",
   "metadata": {},
   "source": [
    "title is contained inside full_title with no errors. the missmatches appearing are titles containing the word 'by', which is what's used from the regex to split the string."
   ]
  },
  {
   "cell_type": "markdown",
   "id": "aa2f6cea",
   "metadata": {},
   "source": [
    "### featured_artists"
   ]
  },
  {
   "cell_type": "code",
   "execution_count": 14,
   "id": "15641aec",
   "metadata": {},
   "outputs": [
    {
     "name": "stdout",
     "output_type": "stream",
     "text": [
      "5        NaN\n",
      "6        NaN\n",
      "8        NaN\n",
      "9        NaN\n",
      "10       NaN\n",
      "        ... \n",
      "11159    NaN\n",
      "11161    NaN\n",
      "11163    NaN\n",
      "11164    NaN\n",
      "11165    NaN\n",
      "Name: featured_artists, Length: 7649, dtype: object\n",
      "number of missing values in featured_artists: 7649\n"
     ]
    }
   ],
   "source": [
    "invalid_elems = df[df['featured_artists'].apply(check_type_validity, expected_type=str)]\n",
    "print(invalid_elems['featured_artists'])\n",
    "\n",
    "nan_indexes = df.index[df['featured_artists'].isna()].tolist()\n",
    "print(f\"number of missing values in featured_artists: {len(nan_indexes)}\")"
   ]
  },
  {
   "cell_type": "markdown",
   "id": "e03c1f93",
   "metadata": {},
   "source": [
    "this is expected, since not every track must have a featured artist. let's check if the featured artists of the column are the same listed in the full_title"
   ]
  },
  {
   "cell_type": "code",
   "execution_count": 18,
   "id": "5f2a2e33",
   "metadata": {},
   "outputs": [
    {
     "name": "stdout",
     "output_type": "stream",
     "text": [
      "Rows with featured artists in full_title: 3517\n",
      "Rows with featured artists in column: 3517\n",
      "number of featured_artists mismatches (ignoring order): 9\n",
      "\n",
      "Sample mismatches (actual differences, not just ordering):\n"
     ]
    },
    {
     "data": {
      "text/html": [
       "<div>\n",
       "<style scoped>\n",
       "    .dataframe tbody tr th:only-of-type {\n",
       "        vertical-align: middle;\n",
       "    }\n",
       "\n",
       "    .dataframe tbody tr th {\n",
       "        vertical-align: top;\n",
       "    }\n",
       "\n",
       "    .dataframe thead th {\n",
       "        text-align: right;\n",
       "    }\n",
       "</style>\n",
       "<table border=\"1\" class=\"dataframe\">\n",
       "  <thead>\n",
       "    <tr style=\"text-align: right;\">\n",
       "      <th></th>\n",
       "      <th>full_title</th>\n",
       "      <th>featured_sorted</th>\n",
       "      <th>extracted_sorted</th>\n",
       "    </tr>\n",
       "  </thead>\n",
       "  <tbody>\n",
       "    <tr>\n",
       "      <th>1566</th>\n",
       "      <td>Comunque vada... by Piotta (Ft. Turi &amp; Compari)</td>\n",
       "      <td>Turi &amp; Compari</td>\n",
       "      <td>Compari, Turi</td>\n",
       "    </tr>\n",
       "    <tr>\n",
       "      <th>2427</th>\n",
       "      <td>Musica Vera by Mistaman (Ft. Stokka &amp; MadBuddy)</td>\n",
       "      <td>Stokka &amp; MadBuddy</td>\n",
       "      <td>MadBuddy, Stokka</td>\n",
       "    </tr>\n",
       "    <tr>\n",
       "      <th>2461</th>\n",
       "      <td>Il giorno in cui ci siamo svegliati by Mistama...</td>\n",
       "      <td>Stokka &amp; MadBuddy</td>\n",
       "      <td>MadBuddy, Stokka</td>\n",
       "    </tr>\n",
       "    <tr>\n",
       "      <th>2645</th>\n",
       "      <td>Lo Facciamo Così by Inoki (Ft. Stokka &amp; MadBuddy)</td>\n",
       "      <td>Stokka &amp; MadBuddy</td>\n",
       "      <td>MadBuddy, Stokka</td>\n",
       "    </tr>\n",
       "    <tr>\n",
       "      <th>2844</th>\n",
       "      <td>Dreams by Johnny Marsiglia &amp; Big Joe (Ft. Stok...</td>\n",
       "      <td>Stokka &amp; MadBuddy</td>\n",
       "      <td>MadBuddy, Stokka</td>\n",
       "    </tr>\n",
       "    <tr>\n",
       "      <th>3301</th>\n",
       "      <td>Pace by Ghemon (Ft. Franco Negrè &amp; Stokka &amp; Ma...</td>\n",
       "      <td>Franco Negrè, Stokka &amp; MadBuddy</td>\n",
       "      <td>Franco Negrè, MadBuddy, Stokka</td>\n",
       "    </tr>\n",
       "    <tr>\n",
       "      <th>3616</th>\n",
       "      <td>'O Sarracino by Neffa (Ft. Giuliano Palma &amp; Th...</td>\n",
       "      <td>Giuliano Palma &amp; The Bluebeaters</td>\n",
       "      <td>Giuliano Palma, The Bluebeaters</td>\n",
       "    </tr>\n",
       "    <tr>\n",
       "      <th>5576</th>\n",
       "      <td>CHIAGNE by Geolier (Ft. Lazza &amp; Takagi &amp; Ketra)</td>\n",
       "      <td>Lazza, Takagi &amp; Ketra</td>\n",
       "      <td>Ketra, Lazza, Takagi</td>\n",
       "    </tr>\n",
       "    <tr>\n",
       "      <th>9095</th>\n",
       "      <td>DONDURÈ by Dark Polo Gang (Ft. Ski &amp; Wok)</td>\n",
       "      <td>Ski &amp; Wok</td>\n",
       "      <td>Ski, Wok</td>\n",
       "    </tr>\n",
       "  </tbody>\n",
       "</table>\n",
       "</div>"
      ],
      "text/plain": [
       "                                             full_title  \\\n",
       "1566    Comunque vada... by Piotta (Ft. Turi & Compari)   \n",
       "2427    Musica Vera by Mistaman (Ft. Stokka & MadBuddy)   \n",
       "2461  Il giorno in cui ci siamo svegliati by Mistama...   \n",
       "2645  Lo Facciamo Così by Inoki (Ft. Stokka & MadBuddy)   \n",
       "2844  Dreams by Johnny Marsiglia & Big Joe (Ft. Stok...   \n",
       "3301  Pace by Ghemon (Ft. Franco Negrè & Stokka & Ma...   \n",
       "3616  'O Sarracino by Neffa (Ft. Giuliano Palma & Th...   \n",
       "5576    CHIAGNE by Geolier (Ft. Lazza & Takagi & Ketra)   \n",
       "9095          DONDURÈ by Dark Polo Gang (Ft. Ski & Wok)   \n",
       "\n",
       "                       featured_sorted                 extracted_sorted  \n",
       "1566                    Turi & Compari                    Compari, Turi  \n",
       "2427                 Stokka & MadBuddy                 MadBuddy, Stokka  \n",
       "2461                 Stokka & MadBuddy                 MadBuddy, Stokka  \n",
       "2645                 Stokka & MadBuddy                 MadBuddy, Stokka  \n",
       "2844                 Stokka & MadBuddy                 MadBuddy, Stokka  \n",
       "3301   Franco Negrè, Stokka & MadBuddy   Franco Negrè, MadBuddy, Stokka  \n",
       "3616  Giuliano Palma & The Bluebeaters  Giuliano Palma, The Bluebeaters  \n",
       "5576             Lazza, Takagi & Ketra             Ketra, Lazza, Takagi  \n",
       "9095                         Ski & Wok                         Ski, Wok  "
      ]
     },
     "metadata": {},
     "output_type": "display_data"
    }
   ],
   "source": [
    "df['featured_artists'] = (df['featured_artists']\n",
    "                    .str.replace('\\xa0', ' ', regex=False)\n",
    "                    .str.replace('\\u2019', \"'\", regex=False)\n",
    "                    .str.replace('\\u2018', \"'\", regex=False)\n",
    "                    .str.replace('\\u201c', '\"', regex=False)\n",
    "                    .str.replace('\\u201d', '\"', regex=False))\n",
    "\n",
    "# \\((?:Ft\\.)\\s*(.+?)\\)\\s*$ -> everything from \"(Ft.)\" until the closing \")\"\n",
    "extracted_featured = df['full_title'].str.extract(r'\\((?:Ft\\.)\\s*(.+?)\\)\\s*$', expand=False).str.strip()\n",
    "extracted_featured_normalized = extracted_featured.str.replace(' & ', ', ', regex=False)\n",
    "\n",
    "def sort_splitted_by_comma(string):\n",
    "    if pd.isna(string):\n",
    "        return string\n",
    "    ret = [a.strip() for a in string.split(',')]\n",
    "    return ', '.join(sorted(ret))\n",
    "\n",
    "extracted_sorted = extracted_featured_normalized.apply(sort_splitted_by_comma)\n",
    "featured_sorted = df['featured_artists'].apply(sort_splitted_by_comma)\n",
    "\n",
    "mismatches = df[\n",
    "    ((extracted_sorted.notna()) & (featured_sorted.isna())) |\n",
    "    ((extracted_sorted.isna()) & (featured_sorted.notna())) |\n",
    "    ((extracted_sorted.notna()) & (featured_sorted.notna()) & (extracted_sorted != featured_sorted))\n",
    "]\n",
    "\n",
    "print(f\"Rows with featured artists in full_title: {extracted_featured.notna().sum()}\")\n",
    "print(f\"Rows with featured artists in column: {df['featured_artists'].notna().sum()}\")\n",
    "print(f\"number of featured_artists mismatches (ignoring order): {len(mismatches)}\\n\")\n",
    "\n",
    "if len(mismatches) > 0:\n",
    "    print(\"Sample mismatches (actual differences, not just ordering):\")\n",
    "    mismatches_display = mismatches.copy()\n",
    "    mismatches_display['featured_sorted'] = featured_sorted[mismatches.index]\n",
    "    mismatches_display['extracted_sorted'] = extracted_sorted[mismatches.index]\n",
    "    display(mismatches_display[['full_title', 'featured_sorted', 'extracted_sorted']].head(10))"
   ]
  },
  {
   "cell_type": "markdown",
   "id": "3b4c4528",
   "metadata": {},
   "source": [
    "featured_artists is contained inside full_title with no errors. the missmatches are given from features made with group names including the character '&', which is what's used from the regex to split the string."
   ]
  }
 ],
 "metadata": {
  "kernelspec": {
   "display_name": "Python 3 (ipykernel)",
   "language": "python",
   "name": "python3"
  },
  "language_info": {
   "codemirror_mode": {
    "name": "ipython",
    "version": 3
   },
   "file_extension": ".py",
   "mimetype": "text/x-python",
   "name": "python",
   "nbconvert_exporter": "python",
   "pygments_lexer": "ipython3",
   "version": "3.12.3"
  }
 },
 "nbformat": 4,
 "nbformat_minor": 5
}
