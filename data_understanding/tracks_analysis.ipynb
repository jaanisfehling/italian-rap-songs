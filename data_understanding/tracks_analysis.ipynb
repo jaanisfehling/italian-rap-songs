{
 "cells": [
  {
   "cell_type": "markdown",
   "id": "23924fd2",
   "metadata": {},
   "source": [
    "## Tracks data analysis"
   ]
  },
  {
   "cell_type": "markdown",
   "id": "7484a138",
   "metadata": {},
   "source": [
    "Let's assert tracks data analysis by taking a first inspection of the track dataset"
   ]
  },
  {
   "cell_type": "code",
   "execution_count": 1,
   "id": "20f1204c",
   "metadata": {},
   "outputs": [],
   "source": [
    "import pandas as pd\n",
    "import altair as alt\n",
    "from os import path\n",
    "import numpy as np\n",
    "import re\n",
    "dataset_path = path.join('..', 'dataset', 'tracks.csv')\n",
    "df = pd.read_csv(dataset_path, sep=',')"
   ]
  },
  {
   "cell_type": "code",
   "execution_count": 2,
   "id": "94aee455",
   "metadata": {
    "scrolled": true
   },
   "outputs": [
    {
     "name": "stdout",
     "output_type": "stream",
     "text": [
      "<class 'pandas.core.frame.DataFrame'>\n",
      "RangeIndex: 11166 entries, 0 to 11165\n",
      "Data columns (total 45 columns):\n",
      " #   Column                Non-Null Count  Dtype  \n",
      "---  ------                --------------  -----  \n",
      " 0   id                    11166 non-null  object \n",
      " 1   id_artist             11166 non-null  object \n",
      " 2   name_artist           11166 non-null  object \n",
      " 3   full_title            11166 non-null  object \n",
      " 4   title                 11166 non-null  object \n",
      " 5   featured_artists      3517 non-null   object \n",
      " 6   primary_artist        11166 non-null  object \n",
      " 7   language              11061 non-null  object \n",
      " 8   album                 9652 non-null   object \n",
      " 9   stats_pageviews       4642 non-null   float64\n",
      " 10  swear_IT              11166 non-null  int64  \n",
      " 11  swear_EN              11166 non-null  int64  \n",
      " 12  swear_IT_words        11166 non-null  object \n",
      " 13  swear_EN_words        11166 non-null  object \n",
      " 14  year                  10766 non-null  object \n",
      " 15  month                 9969 non-null   float64\n",
      " 16  day                   9843 non-null   float64\n",
      " 17  n_sentences           11090 non-null  float64\n",
      " 18  n_tokens              11090 non-null  float64\n",
      " 19  tokens_per_sent       11090 non-null  float64\n",
      " 20  char_per_tok          11090 non-null  float64\n",
      " 21  lexical_density       11090 non-null  float64\n",
      " 22  avg_token_per_clause  11090 non-null  float64\n",
      " 23  bpm                   11102 non-null  float64\n",
      " 24  centroid              11102 non-null  float64\n",
      " 25  rolloff               11102 non-null  float64\n",
      " 26  flux                  11102 non-null  float64\n",
      " 27  rms                   11102 non-null  float64\n",
      " 28  zcr                   11102 non-null  float64\n",
      " 29  flatness              11102 non-null  float64\n",
      " 30  spectral_complexity   11102 non-null  float64\n",
      " 31  pitch                 11102 non-null  float64\n",
      " 32  loudness              11102 non-null  float64\n",
      " 33  album_name            11088 non-null  object \n",
      " 34  album_release_date    11088 non-null  object \n",
      " 35  album_type            11088 non-null  object \n",
      " 36  disc_number           11088 non-null  float64\n",
      " 37  track_number          11088 non-null  float64\n",
      " 38  duration_ms           11088 non-null  float64\n",
      " 39  explicit              11088 non-null  object \n",
      " 40  popularity            11164 non-null  object \n",
      " 41  album_image           11088 non-null  object \n",
      " 42  id_album              11088 non-null  object \n",
      " 43  lyrics                11163 non-null  object \n",
      " 44  modified_popularity   11166 non-null  bool   \n",
      "dtypes: bool(1), float64(22), int64(2), object(20)\n",
      "memory usage: 3.8+ MB\n"
     ]
    }
   ],
   "source": [
    "df.info()"
   ]
  },
  {
   "cell_type": "markdown",
   "id": "21bb416c",
   "metadata": {},
   "source": [
    "year, month, day, n_sentence, n_tokens, disc_numer, track_number, popularity should all be Int64 (or at least float64: year and popularity are object), explicit should be bool"
   ]
  },
  {
   "cell_type": "markdown",
   "id": "720666e6",
   "metadata": {},
   "source": [
    "validation helper function checking expected types validity"
   ]
  },
  {
   "cell_type": "code",
   "execution_count": 3,
   "id": "68b6d642",
   "metadata": {},
   "outputs": [],
   "source": [
    "def check_type_validity(value, expected_type):\n",
    "    return not isinstance(value, expected_type)"
   ]
  },
  {
   "cell_type": "markdown",
   "id": "691c2626",
   "metadata": {},
   "source": [
    "### id"
   ]
  },
  {
   "cell_type": "code",
   "execution_count": 4,
   "id": "6e0e39f7",
   "metadata": {},
   "outputs": [
    {
     "name": "stdout",
     "output_type": "stream",
     "text": [
      "Series([], Name: id, dtype: object)\n",
      "number of missing values in id: 0\n",
      "number of unique ids: 11093\n"
     ]
    }
   ],
   "source": [
    "invalid_elems = df[df['id'].apply(check_type_validity, expected_type=str)]\n",
    "print(invalid_elems['id'])\n",
    "\n",
    "nan_indexes = df.index[df['id'].isna()].tolist()\n",
    "print(f\"number of missing values in id: {len(nan_indexes)}\")\n",
    "\n",
    "unique_ids = df['id'].nunique()\n",
    "print(f\"number of unique ids: {unique_ids}\")"
   ]
  },
  {
   "cell_type": "markdown",
   "id": "3e5bc4df",
   "metadata": {},
   "source": [
    "there are no missing id values in the dataset.\n",
    "all the ids are strings with the following format \"TR{unique_num_id}\".\n",
    "there are less unique ids than the number of rows (11093 < 11166), let's check if they come from duplicate songs or there are different songs with the same id"
   ]
  },
  {
   "cell_type": "code",
   "execution_count": 5,
   "id": "8d72dcde",
   "metadata": {},
   "outputs": [
    {
     "name": "stdout",
     "output_type": "stream",
     "text": [
      "there are 71 not unique ids:\n",
      "id\n",
      "TR367132    4\n",
      "TR978886    2\n",
      "TR987615    2\n",
      "TR690925    2\n",
      "TR772702    2\n",
      "           ..\n",
      "TR245683    2\n",
      "TR903275    2\n",
      "TR679972    2\n",
      "TR247772    2\n",
      "TR261964    2\n",
      "Name: count, Length: 71, dtype: int64\n",
      "0 come from duplicate songs,  70 come from different songs with the same id,  1 have both duplicate and different songs\n"
     ]
    }
   ],
   "source": [
    "not_unique_ids = df['id'].value_counts()\n",
    "not_unique_ids = not_unique_ids[not_unique_ids > 1]\n",
    "print(f\"there are {len(not_unique_ids)} not unique ids:\")\n",
    "print(not_unique_ids)\n",
    "\n",
    "not_unique_ids_list = not_unique_ids.index.tolist()\n",
    "\n",
    "identical_duplicates = []\n",
    "different_duplicates = []\n",
    "mixed_duplicates = [] #ids with both identical and different rows\n",
    "\n",
    "for dup_id in not_unique_ids_list:\n",
    "    duplicate_rows = df[df['id'] == dup_id]\n",
    "    num_occurrences = len(duplicate_rows)\n",
    "    \n",
    "    unique_songs = duplicate_rows[['name_artist', 'title']].drop_duplicates()\n",
    "    num_unique = len(unique_songs)\n",
    "\n",
    "    if num_unique == 1:\n",
    "        identical_duplicates.append(dup_id) #duplicate rows\n",
    "    elif num_unique == num_occurrences:\n",
    "        different_duplicates.append(dup_id) #different songs\n",
    "    else:\n",
    "        mixed_duplicates.append(dup_id) #duplicate rows and different songs\n",
    "\n",
    "print(f\"{len(identical_duplicates)} come from duplicate songs, \",\n",
    "      f\"{len(different_duplicates)} come from different songs with the same id, \",\n",
    "      f\"{len(mixed_duplicates)} have both duplicate and different songs\")"
   ]
  },
  {
   "cell_type": "markdown",
   "id": "0be2f1bd",
   "metadata": {},
   "source": [
    "of the 71 not unique ids, 70 refers to different songs, meaning that there are no duplicate songs respect to those ids, but there are ids which refers to multiple songs.\n",
    "\n",
    "by analyzing more in depth the case with both duplicate and different songs:"
   ]
  },
  {
   "cell_type": "code",
   "execution_count": 6,
   "id": "1077df2c",
   "metadata": {},
   "outputs": [
    {
     "name": "stdout",
     "output_type": "stream",
     "text": [
      "for id TR367132, there are 2 unique songs:\n",
      "\t- 'BUGIE' by artist: Madame, occuring 2 times\n",
      "\t\tdiffering columns: ['year', 'album_name', 'album_release_date', 'album_type', 'track_number', 'duration_ms', 'popularity', 'album_image', 'id_album']\n",
      "\n",
      "\t- '​sentimi' by artist: Madame, occuring 2 times\n",
      "\t\tdiffering columns: ['album_name', 'album_release_date', 'album_type', 'track_number', 'duration_ms', 'popularity', 'album_image', 'id_album']\n",
      "\n"
     ]
    }
   ],
   "source": [
    "for dup_id in mixed_duplicates: #iterating for a \"general\" solution, but in this case wouldn't be necessary\n",
    "    duplicate_artist_song = df[df['id'] == dup_id]\n",
    "    unique_songs = duplicate_artist_song[['name_artist', 'title']].drop_duplicates()\n",
    "    print(f\"for id {dup_id}, there are {len(unique_songs)} unique songs:\")\n",
    "    \n",
    "    for idx, row in unique_songs.iterrows():\n",
    "        song_rows = duplicate_artist_song[\n",
    "            (duplicate_artist_song['name_artist'] == row['name_artist']) &\n",
    "            (duplicate_artist_song['title'] == row['title'])]\n",
    "        \n",
    "        print(f\"\\t- '{row['title']}' by artist: {row['name_artist']}, occuring {len(song_rows)} times\")\n",
    "        \n",
    "        if len(song_rows) != 1: #more than one occurrence\n",
    "            first_row = song_rows.iloc[0]\n",
    "            all_identical = True\n",
    "            differing_columns = []\n",
    "\n",
    "            for col in song_rows.columns:\n",
    "                unique_values = song_rows[col].nunique()\n",
    "                if unique_values > 1:\n",
    "                    all_identical = False\n",
    "                    differing_columns.append(col)\n",
    "            \n",
    "            if not all_identical:\n",
    "                print(f\"\\t\\tdiffering columns: {differing_columns}\\n\")\n",
    "                \n",
    "                #for col in differing_columns: #uncomment this for see values of different rows\n",
    "                        #values = song_rows[col].tolist()\n",
    "                        #print(f\"\\t\\t• {col}:\")\n",
    "                        #for i, val in enumerate(values):\n",
    "                            #print(f\"\\t\\t\\tRow {i+1}: {val}\")"
   ]
  },
  {
   "cell_type": "markdown",
   "id": "e0a1f29e",
   "metadata": {},
   "source": [
    "so that id not only refers to 2 different songs, but each occurrence of the song (2) has different values. based on the values of different rows, it's possible to cut the additional wrong records"
   ]
  },
  {
   "cell_type": "markdown",
   "id": "8432bbf2",
   "metadata": {},
   "source": [
    "### id_artist"
   ]
  },
  {
   "cell_type": "code",
   "execution_count": 7,
   "id": "0bb93fda",
   "metadata": {},
   "outputs": [
    {
     "name": "stdout",
     "output_type": "stream",
     "text": [
      "Series([], Name: id_artist, dtype: object)\n",
      "number of missing values in id_artist: 0\n",
      "each id_artist corresponds to exactly one name_artist\n"
     ]
    }
   ],
   "source": [
    "invalid_elems = df[df['id_artist'].apply(check_type_validity, expected_type=str)]\n",
    "print(invalid_elems['id_artist'])\n",
    "\n",
    "nan_indexes = df.index[df['id_artist'].isna()].tolist()\n",
    "print(f\"number of missing values in id_artist: {len(nan_indexes)}\")\n",
    "\n",
    "id_to_names = df.groupby('id_artist')['name_artist'].nunique()\n",
    "multiple_names = id_to_names[id_to_names > 1]\n",
    "\n",
    "if len(multiple_names) == 0:\n",
    "    print(\"each id_artist corresponds to exactly one name_artist\")"
   ]
  },
  {
   "cell_type": "markdown",
   "id": "530f13c5",
   "metadata": {},
   "source": [
    "there are no missing id_artist values in the dataset. all the id_artists are strings with the following format \"ART{unique_num_id}\". each id_artist corresponds to exactly one name_artist"
   ]
  },
  {
   "cell_type": "markdown",
   "id": "7c655a4f",
   "metadata": {},
   "source": [
    "### name_artist"
   ]
  },
  {
   "cell_type": "code",
   "execution_count": 8,
   "id": "4680b5f6",
   "metadata": {},
   "outputs": [
    {
     "name": "stdout",
     "output_type": "stream",
     "text": [
      "Series([], Name: name_artist, dtype: object)\n",
      "number of missing values in name_artist: 0\n",
      "each name_artist corresponds to exactly one id_artist\n"
     ]
    }
   ],
   "source": [
    "invalid_elems = df[df['name_artist'].apply(check_type_validity, expected_type=str)]\n",
    "print(invalid_elems['name_artist'])\n",
    "\n",
    "nan_indexes = df.index[df['name_artist'].isna()].tolist()\n",
    "print(f\"number of missing values in name_artist: {len(nan_indexes)}\")\n",
    "\n",
    "name_to_ids  = df.groupby('name_artist')['id_artist'].nunique()\n",
    "multiple_ids  = name_to_ids [name_to_ids  > 1]\n",
    "\n",
    "if len(multiple_names) == 0:\n",
    "    print(\"each name_artist corresponds to exactly one id_artist\")"
   ]
  },
  {
   "cell_type": "markdown",
   "id": "d0469ce5",
   "metadata": {},
   "source": [
    "there are no missing name_artist values in the dataset. all the name_artists are strings with the following format \"ART{unique_num_id}\". each name_artist corresponds to exactly one id_artist"
   ]
  },
  {
   "cell_type": "markdown",
   "id": "9f76a1b0",
   "metadata": {},
   "source": [
    "### full_title"
   ]
  },
  {
   "cell_type": "code",
   "execution_count": 9,
   "id": "e42ebce5",
   "metadata": {},
   "outputs": [
    {
     "name": "stdout",
     "output_type": "stream",
     "text": [
      "Series([], Name: full_title, dtype: object)\n",
      "number of missing values in full_title: 0\n"
     ]
    }
   ],
   "source": [
    "invalid_elems = df[df['full_title'].apply(check_type_validity, expected_type=str)]\n",
    "print(invalid_elems['full_title'])\n",
    "\n",
    "nan_indexes = df.index[df['full_title'].isna()].tolist()\n",
    "print(f\"number of missing values in full_title: {len(nan_indexes)}\")"
   ]
  },
  {
   "cell_type": "markdown",
   "id": "cea46834",
   "metadata": {},
   "source": [
    "there are no missing full_title values in the dataset. \n",
    "all the full_titles are strings with the following format: \"{title} by {primary_artist} (Ft. {name_artist_1}, {...}, {name_artist_n-1} & {name_artist_n})\". let's check if name_artist is inside every full title"
   ]
  },
  {
   "cell_type": "code",
   "execution_count": 10,
   "id": "430634fe",
   "metadata": {},
   "outputs": [
    {
     "name": "stdout",
     "output_type": "stream",
     "text": [
      "number of name_artist mismatches inside full_title: 844\n",
      "sample mismatches:\n"
     ]
    },
    {
     "data": {
      "text/html": [
       "<div>\n",
       "<style scoped>\n",
       "    .dataframe tbody tr th:only-of-type {\n",
       "        vertical-align: middle;\n",
       "    }\n",
       "\n",
       "    .dataframe tbody tr th {\n",
       "        vertical-align: top;\n",
       "    }\n",
       "\n",
       "    .dataframe thead th {\n",
       "        text-align: right;\n",
       "    }\n",
       "</style>\n",
       "<table border=\"1\" class=\"dataframe\">\n",
       "  <thead>\n",
       "    <tr style=\"text-align: right;\">\n",
       "      <th></th>\n",
       "      <th>full_title</th>\n",
       "      <th>name_artist</th>\n",
       "      <th>extracted_artist</th>\n",
       "    </tr>\n",
       "  </thead>\n",
       "  <tbody>\n",
       "    <tr>\n",
       "      <th>36</th>\n",
       "      <td>Mattonelle* by Rosa Chemical, Mehdi (ITA), Fri...</td>\n",
       "      <td>Rosa Chemical</td>\n",
       "      <td>Rosa Chemical, Mehdi</td>\n",
       "    </tr>\n",
       "    <tr>\n",
       "      <th>129</th>\n",
       "      <td>a me mi piace by Alfa &amp; Manu Chao</td>\n",
       "      <td>Alfa</td>\n",
       "      <td>Alfa &amp; Manu Chao</td>\n",
       "    </tr>\n",
       "    <tr>\n",
       "      <th>223</th>\n",
       "      <td>EGLI È IL RE by thasup &amp; Mara Sattei</td>\n",
       "      <td>thasup</td>\n",
       "      <td>thasup &amp; Mara Sattei</td>\n",
       "    </tr>\n",
       "    <tr>\n",
       "      <th>225</th>\n",
       "      <td>POSTO MIO by thasup &amp; Mara Sattei</td>\n",
       "      <td>thasup</td>\n",
       "      <td>thasup &amp; Mara Sattei</td>\n",
       "    </tr>\n",
       "    <tr>\n",
       "      <th>227</th>\n",
       "      <td>​r()t()nda by thasup &amp; Tiziano Ferro</td>\n",
       "      <td>thasup</td>\n",
       "      <td>thasup &amp; Tiziano Ferro</td>\n",
       "    </tr>\n",
       "    <tr>\n",
       "      <th>231</th>\n",
       "      <td>SO CHE CI SEI by thasup &amp; Mara Sattei</td>\n",
       "      <td>thasup</td>\n",
       "      <td>thasup &amp; Mara Sattei</td>\n",
       "    </tr>\n",
       "    <tr>\n",
       "      <th>235</th>\n",
       "      <td>BLESS SU BLESS by thasup &amp; Mara Sattei</td>\n",
       "      <td>thasup</td>\n",
       "      <td>thasup &amp; Mara Sattei</td>\n",
       "    </tr>\n",
       "    <tr>\n",
       "      <th>238</th>\n",
       "      <td>ONE KING by thasup &amp; Mara Sattei</td>\n",
       "      <td>thasup</td>\n",
       "      <td>thasup &amp; Mara Sattei</td>\n",
       "    </tr>\n",
       "    <tr>\n",
       "      <th>241</th>\n",
       "      <td>COME POLVERE by thasup &amp; Mara Sattei</td>\n",
       "      <td>thasup</td>\n",
       "      <td>thasup &amp; Mara Sattei</td>\n",
       "    </tr>\n",
       "    <tr>\n",
       "      <th>244</th>\n",
       "      <td>OCCHI MIEI by thasup &amp; Mara Sattei</td>\n",
       "      <td>thasup</td>\n",
       "      <td>thasup &amp; Mara Sattei</td>\n",
       "    </tr>\n",
       "    <tr>\n",
       "      <th>246</th>\n",
       "      <td>BACK TO BACK by thasup &amp; Mara Sattei</td>\n",
       "      <td>thasup</td>\n",
       "      <td>thasup &amp; Mara Sattei</td>\n",
       "    </tr>\n",
       "    <tr>\n",
       "      <th>436</th>\n",
       "      <td>The Exchange by Lazza, Murda, Beny Jr, Guy2Bez...</td>\n",
       "      <td>Lazza</td>\n",
       "      <td>Lazza, Murda, Beny Jr, Guy2Bezbar &amp; Elias</td>\n",
       "    </tr>\n",
       "    <tr>\n",
       "      <th>521</th>\n",
       "      <td>Lasciami solo by Nerone &amp; Biggie Paul (Ft. Nitro)</td>\n",
       "      <td>Nerone</td>\n",
       "      <td>Nerone &amp; Biggie Paul</td>\n",
       "    </tr>\n",
       "    <tr>\n",
       "      <th>528</th>\n",
       "      <td>Six pack by Nerone &amp; Ensi (Ft. Fabri Fibra, Ge...</td>\n",
       "      <td>Nerone</td>\n",
       "      <td>Nerone &amp; Ensi</td>\n",
       "    </tr>\n",
       "    <tr>\n",
       "      <th>532</th>\n",
       "      <td>R2R by Nerone &amp; Ensi (Ft. Salmo)</td>\n",
       "      <td>Nerone</td>\n",
       "      <td>Nerone &amp; Ensi</td>\n",
       "    </tr>\n",
       "    <tr>\n",
       "      <th>542</th>\n",
       "      <td>King Kong vs. Godzilla by Nerone &amp; Ensi</td>\n",
       "      <td>Nerone</td>\n",
       "      <td>Nerone &amp; Ensi</td>\n",
       "    </tr>\n",
       "    <tr>\n",
       "      <th>550</th>\n",
       "      <td>Cemento by Nerone &amp; Ensi (Ft. Silent Bob)</td>\n",
       "      <td>Nerone</td>\n",
       "      <td>Nerone &amp; Ensi</td>\n",
       "    </tr>\n",
       "    <tr>\n",
       "      <th>551</th>\n",
       "      <td>DM by Nerone &amp; Warez (Ft. G. Nano)</td>\n",
       "      <td>Nerone</td>\n",
       "      <td>Nerone &amp; Warez</td>\n",
       "    </tr>\n",
       "    <tr>\n",
       "      <th>552</th>\n",
       "      <td>Domino by Nerone &amp; Ensi (Ft. Speranza)</td>\n",
       "      <td>Nerone</td>\n",
       "      <td>Nerone &amp; Ensi</td>\n",
       "    </tr>\n",
       "    <tr>\n",
       "      <th>558</th>\n",
       "      <td>Non è cosa by Nerone &amp; Ensi</td>\n",
       "      <td>Nerone</td>\n",
       "      <td>Nerone &amp; Ensi</td>\n",
       "    </tr>\n",
       "  </tbody>\n",
       "</table>\n",
       "</div>"
      ],
      "text/plain": [
       "                                            full_title    name_artist  \\\n",
       "36   Mattonelle* by Rosa Chemical, Mehdi (ITA), Fri...  Rosa Chemical   \n",
       "129                  a me mi piace by Alfa & Manu Chao           Alfa   \n",
       "223               EGLI È IL RE by thasup & Mara Sattei         thasup   \n",
       "225                  POSTO MIO by thasup & Mara Sattei         thasup   \n",
       "227               ​r()t()nda by thasup & Tiziano Ferro         thasup   \n",
       "231              SO CHE CI SEI by thasup & Mara Sattei         thasup   \n",
       "235             BLESS SU BLESS by thasup & Mara Sattei         thasup   \n",
       "238                   ONE KING by thasup & Mara Sattei         thasup   \n",
       "241               COME POLVERE by thasup & Mara Sattei         thasup   \n",
       "244                 OCCHI MIEI by thasup & Mara Sattei         thasup   \n",
       "246               BACK TO BACK by thasup & Mara Sattei         thasup   \n",
       "436  The Exchange by Lazza, Murda, Beny Jr, Guy2Bez...          Lazza   \n",
       "521  Lasciami solo by Nerone & Biggie Paul (Ft. Nitro)         Nerone   \n",
       "528  Six pack by Nerone & Ensi (Ft. Fabri Fibra, Ge...         Nerone   \n",
       "532                   R2R by Nerone & Ensi (Ft. Salmo)         Nerone   \n",
       "542            King Kong vs. Godzilla by Nerone & Ensi         Nerone   \n",
       "550          Cemento by Nerone & Ensi (Ft. Silent Bob)         Nerone   \n",
       "551                 DM by Nerone & Warez (Ft. G. Nano)         Nerone   \n",
       "552             Domino by Nerone & Ensi (Ft. Speranza)         Nerone   \n",
       "558                        Non è cosa by Nerone & Ensi         Nerone   \n",
       "\n",
       "                              extracted_artist  \n",
       "36                        Rosa Chemical, Mehdi  \n",
       "129                           Alfa & Manu Chao  \n",
       "223                       thasup & Mara Sattei  \n",
       "225                       thasup & Mara Sattei  \n",
       "227                     thasup & Tiziano Ferro  \n",
       "231                       thasup & Mara Sattei  \n",
       "235                       thasup & Mara Sattei  \n",
       "238                       thasup & Mara Sattei  \n",
       "241                       thasup & Mara Sattei  \n",
       "244                       thasup & Mara Sattei  \n",
       "246                       thasup & Mara Sattei  \n",
       "436  Lazza, Murda, Beny Jr, Guy2Bezbar & Elias  \n",
       "521                       Nerone & Biggie Paul  \n",
       "528                              Nerone & Ensi  \n",
       "532                              Nerone & Ensi  \n",
       "542                              Nerone & Ensi  \n",
       "550                              Nerone & Ensi  \n",
       "551                             Nerone & Warez  \n",
       "552                              Nerone & Ensi  \n",
       "558                              Nerone & Ensi  "
      ]
     },
     "metadata": {},
     "output_type": "display_data"
    }
   ],
   "source": [
    "#normalizing non-breaking space and quotes\n",
    "df['full_title'] = (df['full_title']\n",
    "                    .str.replace('\\xa0', ' ', regex=False)    #non-breaking space\n",
    "                    .str.replace('\\u2019', \"'\", regex=False)  #right single quote\n",
    "                    .str.replace('\\u2018', \"'\", regex=False)  #left single quote\n",
    "                    .str.replace('\\u201c', '\"', regex=False)  #left double quote\n",
    "                    .str.replace('\\u201d', '\"', regex=False)) #right double quote\n",
    "\n",
    "#(.+?) -> capture everything; (?:\\s*\\(|$) -> stop at either \" (\" or end of string\n",
    "extracted_artist = df['full_title'].str.extract(r' by (.+?)(?:\\s*\\(|$)', expand=False).str.strip()\n",
    "\n",
    "mismatches = df[extracted_artist != df['name_artist']]\n",
    "print(f\"number of name_artist mismatches inside full_title: {len(mismatches)}\")\n",
    "\n",
    "if len(mismatches) > 0:\n",
    "    print(\"sample mismatches:\")\n",
    "    mismatches_display = mismatches.copy()\n",
    "    mismatches_display['extracted_artist'] = extracted_artist[mismatches.index]\n",
    "    display(mismatches_display[['full_title', 'name_artist', 'extracted_artist']].head(20))"
   ]
  },
  {
   "cell_type": "code",
   "execution_count": 11,
   "id": "b3cf1dba",
   "metadata": {},
   "outputs": [
    {
     "name": "stdout",
     "output_type": "stream",
     "text": [
      "records with single artist: 11166\n"
     ]
    }
   ],
   "source": [
    "multi_artist_indicators = ['&', ',', ' and ']\n",
    "\n",
    "has_separator = df['primary_artist'].str.contains('|'.join(multi_artist_indicators), case=False, na=False)\n",
    "potential_multi = df[has_separator]\n",
    "\n",
    "print(f\"records with single artist: {len(df) - len(potential_multi)}\")"
   ]
  },
  {
   "cell_type": "markdown",
   "id": "5c00fe13",
   "metadata": {},
   "source": [
    "The name_artist column contains only one artist per track, even when multiple artists collaborated (excluding featured artists), likely due to a data collection system limitation. while some tracks include non-rapper collaborators not in the dataset (e.g. Tiziano Ferro, Mara Sattei), which is expected, other tracks list only one rapper despite having multiple rapper collaborators who are present in the dataset (e.g. Ensi in Cemento). this causes artist-based analyses to undercount songs, as tracks where an artist collaborated but wasn't listed as the primary artist will be excluded from their catalog."
   ]
  },
  {
   "cell_type": "markdown",
   "id": "d8e89a20",
   "metadata": {},
   "source": [
    "### title"
   ]
  },
  {
   "cell_type": "code",
   "execution_count": 12,
   "id": "4f10192d",
   "metadata": {},
   "outputs": [
    {
     "name": "stdout",
     "output_type": "stream",
     "text": [
      "Series([], Name: title, dtype: object)\n",
      "number of missing values in title: 0\n"
     ]
    }
   ],
   "source": [
    "invalid_elems = df[df['title'].apply(check_type_validity, expected_type=str)]\n",
    "print(invalid_elems['title'])\n",
    "\n",
    "nan_indexes = df.index[df['title'].isna()].tolist()\n",
    "print(f\"number of missing values in title: {len(nan_indexes)}\")"
   ]
  },
  {
   "cell_type": "code",
   "execution_count": 13,
   "id": "ba005097",
   "metadata": {},
   "outputs": [
    {
     "name": "stdout",
     "output_type": "stream",
     "text": [
      "number of title mismatches inside full_title: 4\n",
      "remaining mismatches (likely titles containing 'by'):\n",
      "\n"
     ]
    },
    {
     "data": {
      "text/html": [
       "<div>\n",
       "<style scoped>\n",
       "    .dataframe tbody tr th:only-of-type {\n",
       "        vertical-align: middle;\n",
       "    }\n",
       "\n",
       "    .dataframe tbody tr th {\n",
       "        vertical-align: top;\n",
       "    }\n",
       "\n",
       "    .dataframe thead th {\n",
       "        text-align: right;\n",
       "    }\n",
       "</style>\n",
       "<table border=\"1\" class=\"dataframe\">\n",
       "  <thead>\n",
       "    <tr style=\"text-align: right;\">\n",
       "      <th></th>\n",
       "      <th>full_title</th>\n",
       "      <th>title</th>\n",
       "      <th>extracted_title</th>\n",
       "    </tr>\n",
       "  </thead>\n",
       "  <tbody>\n",
       "    <tr>\n",
       "      <th>2513</th>\n",
       "      <td>Bolo by Night RMX by Inoki</td>\n",
       "      <td>Bolo by Night RMX</td>\n",
       "      <td>Bolo</td>\n",
       "    </tr>\n",
       "    <tr>\n",
       "      <th>2578</th>\n",
       "      <td>Bolo by Night RMX (NewKingzTape) by Inoki (Ft....</td>\n",
       "      <td>Bolo by Night RMX (NewKingzTape)</td>\n",
       "      <td>Bolo</td>\n",
       "    </tr>\n",
       "    <tr>\n",
       "      <th>2600</th>\n",
       "      <td>Bolo by Night (NewKingz RMX) by Inoki (Ft. Lil...</td>\n",
       "      <td>Bolo by Night (NewKingz RMX)</td>\n",
       "      <td>Bolo</td>\n",
       "    </tr>\n",
       "    <tr>\n",
       "      <th>2642</th>\n",
       "      <td>Barona by Night (Red Bull Culture Clash dubpla...</td>\n",
       "      <td>Barona by Night (Red Bull Culture Clash dubplate)</td>\n",
       "      <td>Barona</td>\n",
       "    </tr>\n",
       "  </tbody>\n",
       "</table>\n",
       "</div>"
      ],
      "text/plain": [
       "                                             full_title  \\\n",
       "2513                         Bolo by Night RMX by Inoki   \n",
       "2578  Bolo by Night RMX (NewKingzTape) by Inoki (Ft....   \n",
       "2600  Bolo by Night (NewKingz RMX) by Inoki (Ft. Lil...   \n",
       "2642  Barona by Night (Red Bull Culture Clash dubpla...   \n",
       "\n",
       "                                                  title extracted_title  \n",
       "2513                                  Bolo by Night RMX            Bolo  \n",
       "2578                   Bolo by Night RMX (NewKingzTape)            Bolo  \n",
       "2600                       Bolo by Night (NewKingz RMX)            Bolo  \n",
       "2642  Barona by Night (Red Bull Culture Clash dubplate)          Barona  "
      ]
     },
     "metadata": {},
     "output_type": "display_data"
    }
   ],
   "source": [
    "df['title'] = (df['title']\n",
    "                .str.replace('\\xa0', ' ', regex=False)\n",
    "                .str.replace('\\u2019', \"'\", regex=False)\n",
    "                .str.replace('\\u2018', \"'\", regex=False)\n",
    "                .str.replace('\\u201c', '\"', regex=False)\n",
    "                .str.replace('\\u201d', '\"', regex=False))\n",
    "\n",
    "# ^(.+?) -> capture from start; \\s+by\\s+ -> stop at \" by \" (with flexible whitespace)\n",
    "extracted_title = df['full_title'].str.extract(r'^(.+?)\\s+by\\s+', expand=False).str.strip()\n",
    "\n",
    "mismatches = df[df['title'] != extracted_title]\n",
    "print(f\"number of title mismatches inside full_title: {len(mismatches)}\")\n",
    "\n",
    "if len(mismatches) > 0:\n",
    "    print(\"remaining mismatches (likely titles containing 'by'):\\n\")\n",
    "    mismatches_display = mismatches.copy()\n",
    "    mismatches_display['extracted_title'] = extracted_title[mismatches.index]\n",
    "    display(mismatches_display[['full_title', 'title', 'extracted_title']].head(10))"
   ]
  },
  {
   "cell_type": "markdown",
   "id": "07f93196",
   "metadata": {},
   "source": [
    "title is contained inside full_title with no errors. the missmatches appearing are titles containing the word 'by', which is what's used from the regex to split the string."
   ]
  },
  {
   "cell_type": "markdown",
   "id": "1dd13c24",
   "metadata": {},
   "source": [
    "### featured_artists"
   ]
  },
  {
   "cell_type": "code",
   "execution_count": 14,
   "id": "aee6b441",
   "metadata": {},
   "outputs": [
    {
     "name": "stdout",
     "output_type": "stream",
     "text": [
      "5        NaN\n",
      "6        NaN\n",
      "8        NaN\n",
      "9        NaN\n",
      "10       NaN\n",
      "        ... \n",
      "11159    NaN\n",
      "11161    NaN\n",
      "11163    NaN\n",
      "11164    NaN\n",
      "11165    NaN\n",
      "Name: featured_artists, Length: 7649, dtype: object\n",
      "number of missing values in featured_artists: 7649\n"
     ]
    }
   ],
   "source": [
    "invalid_elems = df[df['featured_artists'].apply(check_type_validity, expected_type=str)]\n",
    "print(invalid_elems['featured_artists'])\n",
    "\n",
    "nan_indexes = df.index[df['featured_artists'].isna()].tolist()\n",
    "print(f\"number of missing values in featured_artists: {len(nan_indexes)}\")"
   ]
  },
  {
   "cell_type": "markdown",
   "id": "dfa970e7",
   "metadata": {},
   "source": [
    "this is expected, since not every track must have a featured artist. let's check if the featured artists of the column are the same listed in the full_title"
   ]
  },
  {
   "cell_type": "code",
   "execution_count": 15,
   "id": "3f40ef08",
   "metadata": {},
   "outputs": [
    {
     "name": "stdout",
     "output_type": "stream",
     "text": [
      "Rows with featured artists in full_title: 3517\n",
      "Rows with featured artists in column: 3517\n",
      "number of featured_artists mismatches (ignoring order): 9\n",
      "\n",
      "Sample mismatches (actual differences, not just ordering):\n"
     ]
    },
    {
     "data": {
      "text/html": [
       "<div>\n",
       "<style scoped>\n",
       "    .dataframe tbody tr th:only-of-type {\n",
       "        vertical-align: middle;\n",
       "    }\n",
       "\n",
       "    .dataframe tbody tr th {\n",
       "        vertical-align: top;\n",
       "    }\n",
       "\n",
       "    .dataframe thead th {\n",
       "        text-align: right;\n",
       "    }\n",
       "</style>\n",
       "<table border=\"1\" class=\"dataframe\">\n",
       "  <thead>\n",
       "    <tr style=\"text-align: right;\">\n",
       "      <th></th>\n",
       "      <th>full_title</th>\n",
       "      <th>featured_sorted</th>\n",
       "      <th>extracted_sorted</th>\n",
       "    </tr>\n",
       "  </thead>\n",
       "  <tbody>\n",
       "    <tr>\n",
       "      <th>1566</th>\n",
       "      <td>Comunque vada... by Piotta (Ft. Turi &amp; Compari)</td>\n",
       "      <td>Turi &amp; Compari</td>\n",
       "      <td>Compari, Turi</td>\n",
       "    </tr>\n",
       "    <tr>\n",
       "      <th>2427</th>\n",
       "      <td>Musica Vera by Mistaman (Ft. Stokka &amp; MadBuddy)</td>\n",
       "      <td>Stokka &amp; MadBuddy</td>\n",
       "      <td>MadBuddy, Stokka</td>\n",
       "    </tr>\n",
       "    <tr>\n",
       "      <th>2461</th>\n",
       "      <td>Il giorno in cui ci siamo svegliati by Mistama...</td>\n",
       "      <td>Stokka &amp; MadBuddy</td>\n",
       "      <td>MadBuddy, Stokka</td>\n",
       "    </tr>\n",
       "    <tr>\n",
       "      <th>2645</th>\n",
       "      <td>Lo Facciamo Così by Inoki (Ft. Stokka &amp; MadBuddy)</td>\n",
       "      <td>Stokka &amp; MadBuddy</td>\n",
       "      <td>MadBuddy, Stokka</td>\n",
       "    </tr>\n",
       "    <tr>\n",
       "      <th>2844</th>\n",
       "      <td>Dreams by Johnny Marsiglia &amp; Big Joe (Ft. Stok...</td>\n",
       "      <td>Stokka &amp; MadBuddy</td>\n",
       "      <td>MadBuddy, Stokka</td>\n",
       "    </tr>\n",
       "    <tr>\n",
       "      <th>3301</th>\n",
       "      <td>Pace by Ghemon (Ft. Franco Negrè &amp; Stokka &amp; Ma...</td>\n",
       "      <td>Franco Negrè, Stokka &amp; MadBuddy</td>\n",
       "      <td>Franco Negrè, MadBuddy, Stokka</td>\n",
       "    </tr>\n",
       "    <tr>\n",
       "      <th>3616</th>\n",
       "      <td>'O Sarracino by Neffa (Ft. Giuliano Palma &amp; Th...</td>\n",
       "      <td>Giuliano Palma &amp; The Bluebeaters</td>\n",
       "      <td>Giuliano Palma, The Bluebeaters</td>\n",
       "    </tr>\n",
       "    <tr>\n",
       "      <th>5576</th>\n",
       "      <td>CHIAGNE by Geolier (Ft. Lazza &amp; Takagi &amp; Ketra)</td>\n",
       "      <td>Lazza, Takagi &amp; Ketra</td>\n",
       "      <td>Ketra, Lazza, Takagi</td>\n",
       "    </tr>\n",
       "    <tr>\n",
       "      <th>9095</th>\n",
       "      <td>DONDURÈ by Dark Polo Gang (Ft. Ski &amp; Wok)</td>\n",
       "      <td>Ski &amp; Wok</td>\n",
       "      <td>Ski, Wok</td>\n",
       "    </tr>\n",
       "  </tbody>\n",
       "</table>\n",
       "</div>"
      ],
      "text/plain": [
       "                                             full_title  \\\n",
       "1566    Comunque vada... by Piotta (Ft. Turi & Compari)   \n",
       "2427    Musica Vera by Mistaman (Ft. Stokka & MadBuddy)   \n",
       "2461  Il giorno in cui ci siamo svegliati by Mistama...   \n",
       "2645  Lo Facciamo Così by Inoki (Ft. Stokka & MadBuddy)   \n",
       "2844  Dreams by Johnny Marsiglia & Big Joe (Ft. Stok...   \n",
       "3301  Pace by Ghemon (Ft. Franco Negrè & Stokka & Ma...   \n",
       "3616  'O Sarracino by Neffa (Ft. Giuliano Palma & Th...   \n",
       "5576    CHIAGNE by Geolier (Ft. Lazza & Takagi & Ketra)   \n",
       "9095          DONDURÈ by Dark Polo Gang (Ft. Ski & Wok)   \n",
       "\n",
       "                       featured_sorted                 extracted_sorted  \n",
       "1566                    Turi & Compari                    Compari, Turi  \n",
       "2427                 Stokka & MadBuddy                 MadBuddy, Stokka  \n",
       "2461                 Stokka & MadBuddy                 MadBuddy, Stokka  \n",
       "2645                 Stokka & MadBuddy                 MadBuddy, Stokka  \n",
       "2844                 Stokka & MadBuddy                 MadBuddy, Stokka  \n",
       "3301   Franco Negrè, Stokka & MadBuddy   Franco Negrè, MadBuddy, Stokka  \n",
       "3616  Giuliano Palma & The Bluebeaters  Giuliano Palma, The Bluebeaters  \n",
       "5576             Lazza, Takagi & Ketra             Ketra, Lazza, Takagi  \n",
       "9095                         Ski & Wok                         Ski, Wok  "
      ]
     },
     "metadata": {},
     "output_type": "display_data"
    }
   ],
   "source": [
    "df['featured_artists'] = (df['featured_artists']\n",
    "                    .str.replace('\\xa0', ' ', regex=False)\n",
    "                    .str.replace('\\u2019', \"'\", regex=False)\n",
    "                    .str.replace('\\u2018', \"'\", regex=False)\n",
    "                    .str.replace('\\u201c', '\"', regex=False)\n",
    "                    .str.replace('\\u201d', '\"', regex=False))\n",
    "\n",
    "# \\((?:Ft\\.)\\s*(.+?)\\)\\s*$ -> everything from \"(Ft.)\" until the closing \")\"\n",
    "extracted_featured = df['full_title'].str.extract(r'\\((?:Ft\\.)\\s*(.+?)\\)\\s*$', expand=False).str.strip()\n",
    "extracted_featured_normalized = extracted_featured.str.replace(' & ', ', ', regex=False)\n",
    "\n",
    "def sort_splitted_by_comma(string):\n",
    "    if pd.isna(string):\n",
    "        return string\n",
    "    ret = [a.strip() for a in string.split(',')]\n",
    "    return ', '.join(sorted(ret))\n",
    "\n",
    "extracted_sorted = extracted_featured_normalized.apply(sort_splitted_by_comma)\n",
    "featured_sorted = df['featured_artists'].apply(sort_splitted_by_comma)\n",
    "\n",
    "mismatches = df[\n",
    "    ((extracted_sorted.notna()) & (featured_sorted.isna())) |\n",
    "    ((extracted_sorted.isna()) & (featured_sorted.notna())) |\n",
    "    ((extracted_sorted.notna()) & (featured_sorted.notna()) & (extracted_sorted != featured_sorted))\n",
    "]\n",
    "\n",
    "print(f\"Rows with featured artists in full_title: {extracted_featured.notna().sum()}\")\n",
    "print(f\"Rows with featured artists in column: {df['featured_artists'].notna().sum()}\")\n",
    "print(f\"number of featured_artists mismatches (ignoring order): {len(mismatches)}\\n\")\n",
    "\n",
    "if len(mismatches) > 0:\n",
    "    print(\"Sample mismatches (actual differences, not just ordering):\")\n",
    "    mismatches_display = mismatches.copy()\n",
    "    mismatches_display['featured_sorted'] = featured_sorted[mismatches.index]\n",
    "    mismatches_display['extracted_sorted'] = extracted_sorted[mismatches.index]\n",
    "    display(mismatches_display[['full_title', 'featured_sorted', 'extracted_sorted']].head(10))"
   ]
  },
  {
   "cell_type": "markdown",
   "id": "acd67b18",
   "metadata": {},
   "source": [
    "featured_artists is contained inside full_title with no errors. the missmatches are given from features made with group names including the character '&', which is what's used from the regex to split the string."
   ]
  },
  {
   "cell_type": "markdown",
   "id": "a8b14b35",
   "metadata": {},
   "source": [
    "### primary_artist"
   ]
  },
  {
   "cell_type": "code",
   "execution_count": 16,
   "id": "5bc548f8",
   "metadata": {},
   "outputs": [
    {
     "name": "stdout",
     "output_type": "stream",
     "text": [
      "Series([], Name: primary_artist, dtype: object)\n",
      "number of missing values in primary_artist: 0\n"
     ]
    }
   ],
   "source": [
    "invalid_elems = df[df['primary_artist'].apply(check_type_validity, expected_type=str)]\n",
    "print(invalid_elems['primary_artist'])\n",
    "\n",
    "nan_indexes = df.index[df['primary_artist'].isna()].tolist()\n",
    "print(f\"number of missing values in primary_artist: {len(nan_indexes)}\")"
   ]
  },
  {
   "cell_type": "code",
   "execution_count": 17,
   "id": "2df01963",
   "metadata": {},
   "outputs": [
    {
     "name": "stdout",
     "output_type": "stream",
     "text": [
      "mismatches between name_artist and primary_artist: 0\n"
     ]
    }
   ],
   "source": [
    "mismatches = df[df['primary_artist'] != df['name_artist']]\n",
    "print(f\"mismatches between name_artist and primary_artist: {len(mismatches)}\")\n",
    "\n",
    "if len(mismatches) > 0:\n",
    "    display(mismatches[['id', 'full_title', 'name_artist', 'primary_artist']].head(5))"
   ]
  },
  {
   "cell_type": "markdown",
   "id": "88f65693",
   "metadata": {},
   "source": [
    "there are no mismatches betweem this column and the name_artist column, so it doesn't add new informations. regarding the multiple primary_artists issue highlighted during the full_title analysis, it could be possible to both use this column to list all the primary artists (if more are present, and they are also present in the artist dataset), or cut this column and add more rows for the primary artists not present in name_artist but are present as artist and are present in the artist dataset."
   ]
  },
  {
   "cell_type": "markdown",
   "id": "8888c09e",
   "metadata": {},
   "source": [
    "### language"
   ]
  },
  {
   "cell_type": "code",
   "execution_count": 18,
   "id": "cabb383b",
   "metadata": {},
   "outputs": [
    {
     "name": "stdout",
     "output_type": "stream",
     "text": [
      "198      NaN\n",
      "268      NaN\n",
      "627      NaN\n",
      "646      NaN\n",
      "664      NaN\n",
      "        ... \n",
      "8714     NaN\n",
      "8757     NaN\n",
      "8784     NaN\n",
      "9086     NaN\n",
      "10129    NaN\n",
      "Name: language, Length: 105, dtype: object\n",
      "number of missing values in language: 105\n"
     ]
    }
   ],
   "source": [
    "invalid_elems = df[df['language'].apply(check_type_validity, expected_type=str)]\n",
    "print(invalid_elems['language'])\n",
    "\n",
    "nan_indexes = df.index[df['language'].isna()].tolist()\n",
    "print(f\"number of missing values in language: {len(nan_indexes)}\")"
   ]
  },
  {
   "cell_type": "code",
   "execution_count": 19,
   "id": "110999e0",
   "metadata": {},
   "outputs": [
    {
     "name": "stdout",
     "output_type": "stream",
     "text": [
      "  1. it            :  9352 tracks\n",
      "  2. en            :   843 tracks\n",
      "  3. pl            :   588 tracks\n",
      "  4. NaN (missing) :   105 tracks\n",
      "  5. es            :    63 tracks\n",
      "  6. co            :    48 tracks\n",
      "  7. pt            :    45 tracks\n",
      "  8. da            :    18 tracks\n",
      "  9. cs            :    14 tracks\n",
      " 10. fr            :    13 tracks\n",
      " 11. nl            :     9 tracks\n",
      " 12. sr            :     9 tracks\n",
      " 13. war           :     9 tracks\n",
      " 14. eu            :     8 tracks\n",
      " 15. no            :     6 tracks\n",
      " 16. ia            :     5 tracks\n",
      " 17. ca            :     5 tracks\n",
      " 18. gl            :     3 tracks\n",
      " 19. de            :     2 tracks\n",
      " 20. sco           :     2 tracks\n",
      " 21. la            :     2 tracks\n",
      " 22. eo            :     2 tracks\n",
      " 23. rm            :     2 tracks\n",
      " 24. et            :     1 tracks\n",
      " 25. lt            :     1 tracks\n",
      " 26. aa            :     1 tracks\n",
      " 27. ro            :     1 tracks\n",
      " 28. rw            :     1 tracks\n",
      " 29. ru            :     1 tracks\n",
      " 30. chr           :     1 tracks\n",
      " 31. qu            :     1 tracks\n",
      " 32. mt            :     1 tracks\n",
      " 33. cy            :     1 tracks\n",
      " 34. bg            :     1 tracks\n",
      " 35. sq            :     1 tracks\n",
      " 36. sw            :     1 tracks\n"
     ]
    }
   ],
   "source": [
    "language_counts = df['language'].value_counts(dropna=False)\n",
    "\n",
    "for i, (lang, count) in enumerate(language_counts.items(), 1):\n",
    "    percentage = (count / len(df)) * 100\n",
    "    lang_display = lang if pd.notna(lang) else \"NaN (missing)\"\n",
    "    print(f\"{i:3d}. {lang_display:13s} : {count:5d} tracks\")"
   ]
  },
  {
   "cell_type": "markdown",
   "id": "cf3f01bf",
   "metadata": {},
   "source": [
    "here are all the languages in the dataset. a lot of entries here are incorrect, and the criteria by which the language was assigned is not known. the following is a list of language codes that, upon manual inspection, actually correspond to Italian tracks: pl (Polish), da (Danish), cs (Czech), nl (Dutch), sr (Serbian), war (?), eu (?), no (?), ia (Interlingua), ca (Catalan), gl (Galician), sco (?), la (Latin), eo (Esperanto), rm (Romansh), et (Estonian), lt (Lithuanian), aa (?), ro (Romanian), rw (Kinyarwanda), chr (?), qu (Quechua), mt (Maltese), cy (Welsh), sq (Albanian), sw (Swahili)"
   ]
  },
  {
   "cell_type": "code",
   "execution_count": 20,
   "id": "7d433fc5",
   "metadata": {},
   "outputs": [
    {
     "name": "stdout",
     "output_type": "stream",
     "text": [
      "updated rows: 741\n",
      "  1. it            : 10093 tracks\n",
      "  2. en            :   843 tracks\n",
      "  3. NaN (missing) :   105 tracks\n",
      "  4. es            :    63 tracks\n",
      "  5. pt            :    45 tracks\n",
      "  6. fr            :    13 tracks\n",
      "  7. de            :     2 tracks\n",
      "  8. ru            :     1 tracks\n",
      "  9. bg            :     1 tracks\n"
     ]
    }
   ],
   "source": [
    "incorrect_italian_codes = ['pl', 'da', 'cs', 'nl', 'sr', 'war', 'eu', 'no', 'ia', 'ca', 'gl', 'sco', 'la', 'eo', 'rm', 'et', 'lt', 'aa', 'ro', 'rw', 'chr', 'qu', 'mt', 'cy', 'sq', 'sw', 'co']\n",
    "updated_rows = df[df['language'].isin(incorrect_italian_codes)]\n",
    "print(f\"updated rows: {len(updated_rows)}\")\n",
    "\n",
    "df.loc[df['language'].isin(incorrect_italian_codes), 'language'] = 'it'\n",
    "\n",
    "language_counts = df['language'].value_counts(dropna=False)\n",
    "for i, (lang, count) in enumerate(language_counts.items(), 1):\n",
    "    percentage = (count / len(df)) * 100\n",
    "    lang_display = lang if pd.notna(lang) else \"NaN (missing)\"\n",
    "    print(f\"{i:3d}. {lang_display:13s} : {count:5d} tracks\")"
   ]
  },
  {
   "cell_type": "markdown",
   "id": "d6831f16",
   "metadata": {},
   "source": [
    "some (en (English), es (Spanish), pt (Portuguese), fr (French)) are mixed, co (Corsican) is basically italian (merged with 'it' as well), while the rest (de (German), ru (Russian), bg (Bulgarian)) are good. having this knowledge, i wouldn't rely much on this column for performing analysis\n",
    "\n",
    "Ref. for languages code: https://www.cambridge.org/core/books/abs/interaction-of-borrowing-and-word-formation/list-of-iso639-language-codes/624C593339914D4A7DDA1AC55AC4889F"
   ]
  },
  {
   "cell_type": "markdown",
   "id": "e718ae7f",
   "metadata": {},
   "source": [
    "### album"
   ]
  },
  {
   "cell_type": "code",
   "execution_count": 21,
   "id": "1f0e998f",
   "metadata": {},
   "outputs": [
    {
     "name": "stdout",
     "output_type": "stream",
     "text": [
      "10       NaN\n",
      "21       NaN\n",
      "22       NaN\n",
      "23       NaN\n",
      "24       NaN\n",
      "        ... \n",
      "11156    NaN\n",
      "11157    NaN\n",
      "11159    NaN\n",
      "11164    NaN\n",
      "11165    NaN\n",
      "Name: album, Length: 1514, dtype: object\n",
      "number of missing values in album: 1514\n"
     ]
    }
   ],
   "source": [
    "invalid_elems = df[df['album'].apply(check_type_validity, expected_type=str)]\n",
    "print(invalid_elems['album'])\n",
    "\n",
    "nan_indexes = df.index[df['album'].isna()].tolist()\n",
    "print(f\"number of missing values in album: {len(nan_indexes)}\")"
   ]
  },
  {
   "cell_type": "markdown",
   "id": "df7aef64",
   "metadata": {},
   "source": [
    "this is expected, since not every track must be inside an album."
   ]
  },
  {
   "cell_type": "code",
   "execution_count": 22,
   "id": "e87f61ca",
   "metadata": {},
   "outputs": [
    {
     "name": "stdout",
     "output_type": "stream",
     "text": [
      "top 20 albums with most tracks:\n",
      "  1. Rimo Da Quando                                     :  47 tracks\n",
      "  2. TAXI DRIVER (Deluxe)                               :  37 tracks\n",
      "  3. Solo Un Uomo (Gold Edition)                        :  36 tracks\n",
      "  4. Il tempo vola 2002-2020                            :  36 tracks\n",
      "  5. Di vizi di forma virtù                             :  35 tracks\n",
      "  6. Cose Dell’Altro Mondo Mondo Marcio: Special Editio :  34 tracks\n",
      "  7. SurreAle                                           :  30 tracks\n",
      "  8. Status (Vendetta Edition)                          :  30 tracks\n",
      "  9. DIO LO SA - ATTO II                                :  30 tracks\n",
      " 10. Re Mida: Aurum                                     :  29 tracks\n",
      " 11. The NewKingzTape Vol. 1                            :  29 tracks\n",
      " 12. Miracolo! (Deluxe Edition)                         :  28 tracks\n",
      " 13. ’A Verità 2.0                                      :  27 tracks\n",
      " 14. Una cosetta così                                   :  26 tracks\n",
      " 15. N Mixtape                                          :  26 tracks\n",
      " 16. Ferite (Deluxe Edition)                            :  25 tracks\n",
      " 17. SignorHunt: Wake Up Edition                        :  25 tracks\n",
      " 18. Quello Che Vi Consiglio Vol. 2                     :  25 tracks\n",
      " 19. Mea Culpa (Gold Edition)                           :  24 tracks\n",
      " 20. IL CORAGGIO DEI BAMBINI - ATTO II                  :  24 tracks\n"
     ]
    }
   ],
   "source": [
    "tracks_per_album = df['album'].value_counts()\n",
    "\n",
    "print('top 20 albums with most tracks:')\n",
    "for i, (album, count) in enumerate(tracks_per_album.head(20).items(), 1):\n",
    "    print(f\"{i:3d}. {album[:50]:50s} : {count:3d} tracks\")"
   ]
  },
  {
   "cell_type": "markdown",
   "id": "6edda383",
   "metadata": {},
   "source": [
    "some albums list more tracks than they actually contain. my best guess is that a few standalone songs were mistakenly assigned to one of the artist’s albums."
   ]
  },
  {
   "cell_type": "markdown",
   "id": "dc4fc9b0",
   "metadata": {},
   "source": [
    "### stats_pageviews"
   ]
  },
  {
   "cell_type": "code",
   "execution_count": 23,
   "id": "bd68156f",
   "metadata": {},
   "outputs": [
    {
     "name": "stdout",
     "output_type": "stream",
     "text": [
      "0        196033.0\n",
      "1        164450.0\n",
      "2         58313.0\n",
      "3         39890.0\n",
      "4         35432.0\n",
      "           ...   \n",
      "11161         NaN\n",
      "11162         NaN\n",
      "11163         NaN\n",
      "11164         NaN\n",
      "11165         NaN\n",
      "Name: stats_pageviews, Length: 11166, dtype: float64\n",
      "number of missing values in stats_pageviews: 6524\n"
     ]
    }
   ],
   "source": [
    "invalid_elems = df[df['stats_pageviews'].apply(check_type_validity, expected_type=int)]\n",
    "print(invalid_elems['stats_pageviews'])\n",
    "\n",
    "nan_indexes = df.index[df['stats_pageviews'].isna()].tolist()\n",
    "print(f\"number of missing values in stats_pageviews: {len(nan_indexes)}\")"
   ]
  },
  {
   "cell_type": "code",
   "execution_count": 24,
   "id": "a43e8346",
   "metadata": {},
   "outputs": [
    {
     "name": "stdout",
     "output_type": "stream",
     "text": [
      "0        196033\n",
      "1        164450\n",
      "2         58313\n",
      "3         39890\n",
      "4         35432\n",
      "          ...  \n",
      "11161      <NA>\n",
      "11162      <NA>\n",
      "11163      <NA>\n",
      "11164      <NA>\n",
      "11165      <NA>\n",
      "Name: stats_pageviews, Length: 11166, dtype: Int64\n",
      "number of missing values in stats_pageviews: 6524\n"
     ]
    }
   ],
   "source": [
    "df['stats_pageviews'] = df['stats_pageviews'].astype('Int64')\n",
    "\n",
    "invalid_elems = df[df['stats_pageviews'].apply(check_type_validity, expected_type=int)]\n",
    "print(invalid_elems['stats_pageviews'])\n",
    "\n",
    "nan_indexes = df.index[df['stats_pageviews'].isna()].tolist()\n",
    "print(f\"number of missing values in stats_pageviews: {len(nan_indexes)}\")"
   ]
  },
  {
   "cell_type": "markdown",
   "id": "4140c544",
   "metadata": {},
   "source": [
    "converted stats_pageviews to Int64 (nullable integer, NaN shown as <NA>), since the values in the column are without a decimal point."
   ]
  },
  {
   "cell_type": "code",
   "execution_count": 25,
   "id": "60a7e4c5-eb1c-481f-a5fa-333012e00bbc",
   "metadata": {},
   "outputs": [
    {
     "data": {
      "text/html": [
       "\n",
       "<style>\n",
       "  #altair-viz-6eb5e2efb5874e2e96778db6718371bc.vega-embed {\n",
       "    width: 100%;\n",
       "    display: flex;\n",
       "  }\n",
       "\n",
       "  #altair-viz-6eb5e2efb5874e2e96778db6718371bc.vega-embed details,\n",
       "  #altair-viz-6eb5e2efb5874e2e96778db6718371bc.vega-embed details summary {\n",
       "    position: relative;\n",
       "  }\n",
       "</style>\n",
       "<div id=\"altair-viz-6eb5e2efb5874e2e96778db6718371bc\"></div>\n",
       "<script type=\"text/javascript\">\n",
       "  var VEGA_DEBUG = (typeof VEGA_DEBUG == \"undefined\") ? {} : VEGA_DEBUG;\n",
       "  (function(spec, embedOpt){\n",
       "    let outputDiv = document.currentScript.previousElementSibling;\n",
       "    if (outputDiv.id !== \"altair-viz-6eb5e2efb5874e2e96778db6718371bc\") {\n",
       "      outputDiv = document.getElementById(\"altair-viz-6eb5e2efb5874e2e96778db6718371bc\");\n",
       "    }\n",
       "\n",
       "    const paths = {\n",
       "      \"vega\": \"https://cdn.jsdelivr.net/npm/vega@5?noext\",\n",
       "      \"vega-lib\": \"https://cdn.jsdelivr.net/npm/vega-lib?noext\",\n",
       "      \"vega-lite\": \"https://cdn.jsdelivr.net/npm/vega-lite@5.20.1?noext\",\n",
       "      \"vega-embed\": \"https://cdn.jsdelivr.net/npm/vega-embed@6?noext\",\n",
       "    };\n",
       "\n",
       "    function maybeLoadScript(lib, version) {\n",
       "      var key = `${lib.replace(\"-\", \"\")}_version`;\n",
       "      return (VEGA_DEBUG[key] == version) ?\n",
       "        Promise.resolve(paths[lib]) :\n",
       "        new Promise(function(resolve, reject) {\n",
       "          var s = document.createElement('script');\n",
       "          document.getElementsByTagName(\"head\")[0].appendChild(s);\n",
       "          s.async = true;\n",
       "          s.onload = () => {\n",
       "            VEGA_DEBUG[key] = version;\n",
       "            return resolve(paths[lib]);\n",
       "          };\n",
       "          s.onerror = () => reject(`Error loading script: ${paths[lib]}`);\n",
       "          s.src = paths[lib];\n",
       "        });\n",
       "    }\n",
       "\n",
       "    function showError(err) {\n",
       "      outputDiv.innerHTML = `<div class=\"error\" style=\"color:red;\">${err}</div>`;\n",
       "      throw err;\n",
       "    }\n",
       "\n",
       "    function displayChart(vegaEmbed) {\n",
       "      vegaEmbed(outputDiv, spec, embedOpt)\n",
       "        .catch(err => showError(`Javascript Error: ${err.message}<br>This usually means there's a typo in your chart specification. See the javascript console for the full traceback.`));\n",
       "    }\n",
       "\n",
       "    if(typeof define === \"function\" && define.amd) {\n",
       "      requirejs.config({paths});\n",
       "      let deps = [\"vega-embed\"];\n",
       "      require(deps, displayChart, err => showError(`Error loading script: ${err.message}`));\n",
       "    } else {\n",
       "      maybeLoadScript(\"vega\", \"5\")\n",
       "        .then(() => maybeLoadScript(\"vega-lite\", \"5.20.1\"))\n",
       "        .then(() => maybeLoadScript(\"vega-embed\", \"6\"))\n",
       "        .catch(showError)\n",
       "        .then(() => displayChart(vegaEmbed));\n",
       "    }\n",
       "  })({\"config\": {\"view\": {\"continuousWidth\": 300, \"continuousHeight\": 300}}, \"layer\": [{\"mark\": {\"type\": \"bar\", \"color\": \"steelblue\", \"opacity\": 0.7}, \"encoding\": {\"x\": {\"bin\": {\"maxbins\": 30}, \"field\": \"stats_pageviews\", \"title\": \"Pageviews Range\", \"type\": \"quantitative\"}, \"y\": {\"aggregate\": \"count\", \"title\": \"Number of Tracks\", \"type\": \"quantitative\"}}, \"name\": \"view_1\", \"title\": \"Distribution of Tracks by Pageviews Range\"}, {\"mark\": {\"type\": \"text\", \"color\": \"black\", \"dy\": -5}, \"encoding\": {\"text\": {\"aggregate\": \"count\", \"type\": \"quantitative\"}, \"x\": {\"bin\": {\"maxbins\": 30}, \"field\": \"stats_pageviews\", \"title\": \"Pageviews Range\", \"type\": \"quantitative\"}, \"y\": {\"aggregate\": \"count\", \"title\": \"Number of Tracks\", \"type\": \"quantitative\"}}, \"title\": \"Distribution of Tracks by Pageviews Range\"}], \"data\": {\"name\": \"data-0b2fc4621056cd487ef6911438717670\"}, \"height\": 400, \"params\": [{\"name\": \"param_1\", \"select\": {\"type\": \"interval\", \"encodings\": [\"x\", \"y\"]}, \"bind\": \"scales\", \"views\": [\"view_1\"]}], \"width\": 1000, \"$schema\": \"https://vega.github.io/schema/vega-lite/v5.20.1.json\", \"datasets\": {\"data-0b2fc4621056cd487ef6911438717670\": [{\"stats_pageviews\": 196033}, {\"stats_pageviews\": 164450}, {\"stats_pageviews\": 58313}, {\"stats_pageviews\": 39890}, {\"stats_pageviews\": 35432}, {\"stats_pageviews\": 34443}, {\"stats_pageviews\": 29265}, {\"stats_pageviews\": 26902}, {\"stats_pageviews\": 19724}, {\"stats_pageviews\": 19148}, {\"stats_pageviews\": 17824}, {\"stats_pageviews\": 14986}, {\"stats_pageviews\": 14555}, {\"stats_pageviews\": 13172}, {\"stats_pageviews\": 12701}, {\"stats_pageviews\": 12590}, {\"stats_pageviews\": 12555}, {\"stats_pageviews\": 11627}, {\"stats_pageviews\": 11167}, {\"stats_pageviews\": 10411}, {\"stats_pageviews\": 9675}, {\"stats_pageviews\": 8453}, {\"stats_pageviews\": 7444}, {\"stats_pageviews\": 5071}, {\"stats_pageviews\": 23695}, {\"stats_pageviews\": 20151}, {\"stats_pageviews\": 18661}, {\"stats_pageviews\": 18295}, {\"stats_pageviews\": 17128}, {\"stats_pageviews\": 16006}, {\"stats_pageviews\": 14194}, {\"stats_pageviews\": 14161}, {\"stats_pageviews\": 14113}, {\"stats_pageviews\": 11337}, {\"stats_pageviews\": 10898}, {\"stats_pageviews\": 10806}, {\"stats_pageviews\": 7345}, {\"stats_pageviews\": 7008}, {\"stats_pageviews\": 6961}, {\"stats_pageviews\": 6564}, {\"stats_pageviews\": 94586}, {\"stats_pageviews\": 65769}, {\"stats_pageviews\": 29002}, {\"stats_pageviews\": 27054}, {\"stats_pageviews\": 25246}, {\"stats_pageviews\": 22297}, {\"stats_pageviews\": 19526}, {\"stats_pageviews\": 15433}, {\"stats_pageviews\": 12155}, {\"stats_pageviews\": 12037}, {\"stats_pageviews\": 9009}, {\"stats_pageviews\": 8468}, {\"stats_pageviews\": 8175}, {\"stats_pageviews\": 7622}, {\"stats_pageviews\": 6088}, {\"stats_pageviews\": 5864}, {\"stats_pageviews\": 5611}, {\"stats_pageviews\": 5419}, {\"stats_pageviews\": 448797}, {\"stats_pageviews\": 329796}, {\"stats_pageviews\": 191698}, {\"stats_pageviews\": 157850}, {\"stats_pageviews\": 142347}, {\"stats_pageviews\": 140152}, {\"stats_pageviews\": 134923}, {\"stats_pageviews\": 123388}, {\"stats_pageviews\": 116433}, {\"stats_pageviews\": 115411}, {\"stats_pageviews\": 114891}, {\"stats_pageviews\": 98698}, {\"stats_pageviews\": 98560}, {\"stats_pageviews\": 94968}, {\"stats_pageviews\": 90624}, {\"stats_pageviews\": 86588}, {\"stats_pageviews\": 62972}, {\"stats_pageviews\": 59626}, {\"stats_pageviews\": 59158}, {\"stats_pageviews\": 56448}, {\"stats_pageviews\": 55972}, {\"stats_pageviews\": 55770}, {\"stats_pageviews\": 55624}, {\"stats_pageviews\": 55228}, {\"stats_pageviews\": 45689}, {\"stats_pageviews\": 42094}, {\"stats_pageviews\": 36666}, {\"stats_pageviews\": 35956}, {\"stats_pageviews\": 35457}, {\"stats_pageviews\": 32923}, {\"stats_pageviews\": 29929}, {\"stats_pageviews\": 29503}, {\"stats_pageviews\": 27140}, {\"stats_pageviews\": 27022}, {\"stats_pageviews\": 26560}, {\"stats_pageviews\": 26188}, {\"stats_pageviews\": 25985}, {\"stats_pageviews\": 25676}, {\"stats_pageviews\": 25436}, {\"stats_pageviews\": 24182}, {\"stats_pageviews\": 23929}, {\"stats_pageviews\": 20919}, {\"stats_pageviews\": 20133}, {\"stats_pageviews\": 19460}, {\"stats_pageviews\": 19100}, {\"stats_pageviews\": 18979}, {\"stats_pageviews\": 18069}, {\"stats_pageviews\": 17876}, {\"stats_pageviews\": 16235}, {\"stats_pageviews\": 15135}, {\"stats_pageviews\": 13425}, {\"stats_pageviews\": 12707}, {\"stats_pageviews\": 11898}, {\"stats_pageviews\": 11823}, {\"stats_pageviews\": 10511}, {\"stats_pageviews\": 9943}, {\"stats_pageviews\": 8835}, {\"stats_pageviews\": 8793}, {\"stats_pageviews\": 7656}, {\"stats_pageviews\": 6751}, {\"stats_pageviews\": 5508}, {\"stats_pageviews\": 8112}, {\"stats_pageviews\": 5340}, {\"stats_pageviews\": 210676}, {\"stats_pageviews\": 185335}, {\"stats_pageviews\": 183833}, {\"stats_pageviews\": 182513}, {\"stats_pageviews\": 151677}, {\"stats_pageviews\": 132939}, {\"stats_pageviews\": 129584}, {\"stats_pageviews\": 129179}, {\"stats_pageviews\": 123405}, {\"stats_pageviews\": 119646}, {\"stats_pageviews\": 117833}, {\"stats_pageviews\": 108077}, {\"stats_pageviews\": 107542}, {\"stats_pageviews\": 102549}, {\"stats_pageviews\": 102474}, {\"stats_pageviews\": 94023}, {\"stats_pageviews\": 93481}, {\"stats_pageviews\": 92453}, {\"stats_pageviews\": 91008}, {\"stats_pageviews\": 90770}, {\"stats_pageviews\": 90476}, {\"stats_pageviews\": 88716}, {\"stats_pageviews\": 88336}, {\"stats_pageviews\": 86896}, {\"stats_pageviews\": 86760}, {\"stats_pageviews\": 85073}, {\"stats_pageviews\": 76705}, {\"stats_pageviews\": 76202}, {\"stats_pageviews\": 72665}, {\"stats_pageviews\": 72354}, {\"stats_pageviews\": 70752}, {\"stats_pageviews\": 70194}, {\"stats_pageviews\": 69679}, {\"stats_pageviews\": 63195}, {\"stats_pageviews\": 62620}, {\"stats_pageviews\": 61420}, {\"stats_pageviews\": 61405}, {\"stats_pageviews\": 60235}, {\"stats_pageviews\": 60204}, {\"stats_pageviews\": 59138}, {\"stats_pageviews\": 59100}, {\"stats_pageviews\": 58472}, {\"stats_pageviews\": 56958}, {\"stats_pageviews\": 56615}, {\"stats_pageviews\": 53892}, {\"stats_pageviews\": 52887}, {\"stats_pageviews\": 52624}, {\"stats_pageviews\": 51404}, {\"stats_pageviews\": 50433}, {\"stats_pageviews\": 49591}, {\"stats_pageviews\": 47435}, {\"stats_pageviews\": 45499}, {\"stats_pageviews\": 44224}, {\"stats_pageviews\": 42873}, {\"stats_pageviews\": 42864}, {\"stats_pageviews\": 40127}, {\"stats_pageviews\": 38516}, {\"stats_pageviews\": 38454}, {\"stats_pageviews\": 37933}, {\"stats_pageviews\": 37837}, {\"stats_pageviews\": 37454}, {\"stats_pageviews\": 37133}, {\"stats_pageviews\": 36899}, {\"stats_pageviews\": 35542}, {\"stats_pageviews\": 35417}, {\"stats_pageviews\": 35067}, {\"stats_pageviews\": 34849}, {\"stats_pageviews\": 34719}, {\"stats_pageviews\": 34701}, {\"stats_pageviews\": 34534}, {\"stats_pageviews\": 34386}, {\"stats_pageviews\": 34258}, {\"stats_pageviews\": 33638}, {\"stats_pageviews\": 33618}, {\"stats_pageviews\": 31932}, {\"stats_pageviews\": 31662}, {\"stats_pageviews\": 31367}, {\"stats_pageviews\": 31126}, {\"stats_pageviews\": 30723}, {\"stats_pageviews\": 29716}, {\"stats_pageviews\": 29292}, {\"stats_pageviews\": 26889}, {\"stats_pageviews\": 24383}, {\"stats_pageviews\": 22720}, {\"stats_pageviews\": 22446}, {\"stats_pageviews\": 21986}, {\"stats_pageviews\": 20839}, {\"stats_pageviews\": 20430}, {\"stats_pageviews\": 18317}, {\"stats_pageviews\": 17916}, {\"stats_pageviews\": 17469}, {\"stats_pageviews\": 16375}, {\"stats_pageviews\": 16246}, {\"stats_pageviews\": 16185}, {\"stats_pageviews\": 12656}, {\"stats_pageviews\": 11934}, {\"stats_pageviews\": 11046}, {\"stats_pageviews\": 10963}, {\"stats_pageviews\": 10871}, {\"stats_pageviews\": 10137}, {\"stats_pageviews\": 9818}, {\"stats_pageviews\": 9788}, {\"stats_pageviews\": 9327}, {\"stats_pageviews\": 9284}, {\"stats_pageviews\": 7919}, {\"stats_pageviews\": 7889}, {\"stats_pageviews\": 7717}, {\"stats_pageviews\": 5851}, {\"stats_pageviews\": 5710}, {\"stats_pageviews\": 5298}, {\"stats_pageviews\": 136896}, {\"stats_pageviews\": 112002}, {\"stats_pageviews\": 35393}, {\"stats_pageviews\": 35368}, {\"stats_pageviews\": 32827}, {\"stats_pageviews\": 32501}, {\"stats_pageviews\": 24037}, {\"stats_pageviews\": 23867}, {\"stats_pageviews\": 20619}, {\"stats_pageviews\": 16919}, {\"stats_pageviews\": 16270}, {\"stats_pageviews\": 13314}, {\"stats_pageviews\": 12579}, {\"stats_pageviews\": 12119}, {\"stats_pageviews\": 12095}, {\"stats_pageviews\": 11458}, {\"stats_pageviews\": 10228}, {\"stats_pageviews\": 10209}, {\"stats_pageviews\": 9671}, {\"stats_pageviews\": 9452}, {\"stats_pageviews\": 9057}, {\"stats_pageviews\": 8825}, {\"stats_pageviews\": 8306}, {\"stats_pageviews\": 8169}, {\"stats_pageviews\": 8148}, {\"stats_pageviews\": 8068}, {\"stats_pageviews\": 7789}, {\"stats_pageviews\": 7599}, {\"stats_pageviews\": 7525}, {\"stats_pageviews\": 7462}, {\"stats_pageviews\": 7099}, {\"stats_pageviews\": 7084}, {\"stats_pageviews\": 6899}, {\"stats_pageviews\": 6624}, {\"stats_pageviews\": 6582}, {\"stats_pageviews\": 6588}, {\"stats_pageviews\": 6451}, {\"stats_pageviews\": 5949}, {\"stats_pageviews\": 5894}, {\"stats_pageviews\": 5821}, {\"stats_pageviews\": 5815}, {\"stats_pageviews\": 5799}, {\"stats_pageviews\": 5710}, {\"stats_pageviews\": 5647}, {\"stats_pageviews\": 5630}, {\"stats_pageviews\": 5625}, {\"stats_pageviews\": 5561}, {\"stats_pageviews\": 5492}, {\"stats_pageviews\": 5392}, {\"stats_pageviews\": 5221}, {\"stats_pageviews\": 5193}, {\"stats_pageviews\": 5186}, {\"stats_pageviews\": 5061}, {\"stats_pageviews\": 18004}, {\"stats_pageviews\": 7200}, {\"stats_pageviews\": 6481}, {\"stats_pageviews\": 48115}, {\"stats_pageviews\": 24317}, {\"stats_pageviews\": 22220}, {\"stats_pageviews\": 16134}, {\"stats_pageviews\": 13851}, {\"stats_pageviews\": 12367}, {\"stats_pageviews\": 10287}, {\"stats_pageviews\": 7398}, {\"stats_pageviews\": 6473}, {\"stats_pageviews\": 5088}, {\"stats_pageviews\": 198166}, {\"stats_pageviews\": 173817}, {\"stats_pageviews\": 173268}, {\"stats_pageviews\": 173113}, {\"stats_pageviews\": 146749}, {\"stats_pageviews\": 137854}, {\"stats_pageviews\": 128048}, {\"stats_pageviews\": 123354}, {\"stats_pageviews\": 115373}, {\"stats_pageviews\": 108967}, {\"stats_pageviews\": 103573}, {\"stats_pageviews\": 101598}, {\"stats_pageviews\": 99913}, {\"stats_pageviews\": 99437}, {\"stats_pageviews\": 99331}, {\"stats_pageviews\": 98977}, {\"stats_pageviews\": 97558}, {\"stats_pageviews\": 93196}, {\"stats_pageviews\": 89035}, {\"stats_pageviews\": 88902}, {\"stats_pageviews\": 86638}, {\"stats_pageviews\": 85173}, {\"stats_pageviews\": 84608}, {\"stats_pageviews\": 82760}, {\"stats_pageviews\": 81226}, {\"stats_pageviews\": 79502}, {\"stats_pageviews\": 79087}, {\"stats_pageviews\": 77568}, {\"stats_pageviews\": 75251}, {\"stats_pageviews\": 74660}, {\"stats_pageviews\": 73407}, {\"stats_pageviews\": 72939}, {\"stats_pageviews\": 72310}, {\"stats_pageviews\": 72212}, {\"stats_pageviews\": 72031}, {\"stats_pageviews\": 71532}, {\"stats_pageviews\": 70967}, {\"stats_pageviews\": 70933}, {\"stats_pageviews\": 70361}, {\"stats_pageviews\": 70106}, {\"stats_pageviews\": 69513}, {\"stats_pageviews\": 69420}, {\"stats_pageviews\": 67110}, {\"stats_pageviews\": 64007}, {\"stats_pageviews\": 61656}, {\"stats_pageviews\": 61159}, {\"stats_pageviews\": 61021}, {\"stats_pageviews\": 60568}, {\"stats_pageviews\": 60087}, {\"stats_pageviews\": 60069}, {\"stats_pageviews\": 59558}, {\"stats_pageviews\": 59175}, {\"stats_pageviews\": 55408}, {\"stats_pageviews\": 55303}, {\"stats_pageviews\": 55279}, {\"stats_pageviews\": 55166}, {\"stats_pageviews\": 54678}, {\"stats_pageviews\": 54644}, {\"stats_pageviews\": 54601}, {\"stats_pageviews\": 53818}, {\"stats_pageviews\": 52340}, {\"stats_pageviews\": 51758}, {\"stats_pageviews\": 50556}, {\"stats_pageviews\": 49671}, {\"stats_pageviews\": 49559}, {\"stats_pageviews\": 49168}, {\"stats_pageviews\": 48673}, {\"stats_pageviews\": 48363}, {\"stats_pageviews\": 47957}, {\"stats_pageviews\": 47372}, {\"stats_pageviews\": 46965}, {\"stats_pageviews\": 46632}, {\"stats_pageviews\": 45714}, {\"stats_pageviews\": 45692}, {\"stats_pageviews\": 45532}, {\"stats_pageviews\": 45119}, {\"stats_pageviews\": 44913}, {\"stats_pageviews\": 44363}, {\"stats_pageviews\": 44100}, {\"stats_pageviews\": 43283}, {\"stats_pageviews\": 43236}, {\"stats_pageviews\": 42184}, {\"stats_pageviews\": 41558}, {\"stats_pageviews\": 41004}, {\"stats_pageviews\": 40958}, {\"stats_pageviews\": 40218}, {\"stats_pageviews\": 39727}, {\"stats_pageviews\": 39535}, {\"stats_pageviews\": 39394}, {\"stats_pageviews\": 39278}, {\"stats_pageviews\": 38808}, {\"stats_pageviews\": 37485}, {\"stats_pageviews\": 37354}, {\"stats_pageviews\": 36742}, {\"stats_pageviews\": 36712}, {\"stats_pageviews\": 36705}, {\"stats_pageviews\": 35549}, {\"stats_pageviews\": 33818}, {\"stats_pageviews\": 33674}, {\"stats_pageviews\": 33230}, {\"stats_pageviews\": 33067}, {\"stats_pageviews\": 32392}, {\"stats_pageviews\": 32237}, {\"stats_pageviews\": 31706}, {\"stats_pageviews\": 31335}, {\"stats_pageviews\": 31158}, {\"stats_pageviews\": 31120}, {\"stats_pageviews\": 30841}, {\"stats_pageviews\": 30557}, {\"stats_pageviews\": 30478}, {\"stats_pageviews\": 30161}, {\"stats_pageviews\": 30153}, {\"stats_pageviews\": 30044}, {\"stats_pageviews\": 29877}, {\"stats_pageviews\": 28319}, {\"stats_pageviews\": 28217}, {\"stats_pageviews\": 27765}, {\"stats_pageviews\": 27458}, {\"stats_pageviews\": 27357}, {\"stats_pageviews\": 25263}, {\"stats_pageviews\": 25081}, {\"stats_pageviews\": 24737}, {\"stats_pageviews\": 24239}, {\"stats_pageviews\": 24046}, {\"stats_pageviews\": 23456}, {\"stats_pageviews\": 23135}, {\"stats_pageviews\": 22249}, {\"stats_pageviews\": 21842}, {\"stats_pageviews\": 21646}, {\"stats_pageviews\": 21280}, {\"stats_pageviews\": 21112}, {\"stats_pageviews\": 20961}, {\"stats_pageviews\": 20669}, {\"stats_pageviews\": 20102}, {\"stats_pageviews\": 19650}, {\"stats_pageviews\": 19481}, {\"stats_pageviews\": 19099}, {\"stats_pageviews\": 18906}, {\"stats_pageviews\": 18600}, {\"stats_pageviews\": 18235}, {\"stats_pageviews\": 18109}, {\"stats_pageviews\": 17714}, {\"stats_pageviews\": 17604}, {\"stats_pageviews\": 17473}, {\"stats_pageviews\": 17447}, {\"stats_pageviews\": 17067}, {\"stats_pageviews\": 16773}, {\"stats_pageviews\": 16571}, {\"stats_pageviews\": 16535}, {\"stats_pageviews\": 16282}, {\"stats_pageviews\": 16116}, {\"stats_pageviews\": 16090}, {\"stats_pageviews\": 15884}, {\"stats_pageviews\": 15470}, {\"stats_pageviews\": 15456}, {\"stats_pageviews\": 15344}, {\"stats_pageviews\": 14929}, {\"stats_pageviews\": 14504}, {\"stats_pageviews\": 14091}, {\"stats_pageviews\": 13863}, {\"stats_pageviews\": 13528}, {\"stats_pageviews\": 13172}, {\"stats_pageviews\": 13037}, {\"stats_pageviews\": 12853}, {\"stats_pageviews\": 12484}, {\"stats_pageviews\": 12474}, {\"stats_pageviews\": 12293}, {\"stats_pageviews\": 11929}, {\"stats_pageviews\": 11842}, {\"stats_pageviews\": 11748}, {\"stats_pageviews\": 11125}, {\"stats_pageviews\": 10806}, {\"stats_pageviews\": 10377}, {\"stats_pageviews\": 10362}, {\"stats_pageviews\": 10369}, {\"stats_pageviews\": 10180}, {\"stats_pageviews\": 10112}, {\"stats_pageviews\": 9889}, {\"stats_pageviews\": 9876}, {\"stats_pageviews\": 9674}, {\"stats_pageviews\": 9669}, {\"stats_pageviews\": 9295}, {\"stats_pageviews\": 9009}, {\"stats_pageviews\": 8608}, {\"stats_pageviews\": 7916}, {\"stats_pageviews\": 7145}, {\"stats_pageviews\": 6549}, {\"stats_pageviews\": 6360}, {\"stats_pageviews\": 6223}, {\"stats_pageviews\": 6108}, {\"stats_pageviews\": 6036}, {\"stats_pageviews\": 5866}, {\"stats_pageviews\": 5735}, {\"stats_pageviews\": 5721}, {\"stats_pageviews\": 5717}, {\"stats_pageviews\": 5373}, {\"stats_pageviews\": 5212}, {\"stats_pageviews\": 5238}, {\"stats_pageviews\": 5194}, {\"stats_pageviews\": 5188}, {\"stats_pageviews\": 5043}, {\"stats_pageviews\": 50911}, {\"stats_pageviews\": 37125}, {\"stats_pageviews\": 11883}, {\"stats_pageviews\": 5130}, {\"stats_pageviews\": 5017}, {\"stats_pageviews\": 11716}, {\"stats_pageviews\": 8848}, {\"stats_pageviews\": 5782}, {\"stats_pageviews\": 5315}, {\"stats_pageviews\": 484090}, {\"stats_pageviews\": 404976}, {\"stats_pageviews\": 365270}, {\"stats_pageviews\": 241747}, {\"stats_pageviews\": 238805}, {\"stats_pageviews\": 205772}, {\"stats_pageviews\": 197033}, {\"stats_pageviews\": 141322}, {\"stats_pageviews\": 119852}, {\"stats_pageviews\": 113632}, {\"stats_pageviews\": 111558}, {\"stats_pageviews\": 90546}, {\"stats_pageviews\": 84089}, {\"stats_pageviews\": 83470}, {\"stats_pageviews\": 73352}, {\"stats_pageviews\": 69326}, {\"stats_pageviews\": 56382}, {\"stats_pageviews\": 55926}, {\"stats_pageviews\": 53925}, {\"stats_pageviews\": 48999}, {\"stats_pageviews\": 37071}, {\"stats_pageviews\": 36934}, {\"stats_pageviews\": 36625}, {\"stats_pageviews\": 34109}, {\"stats_pageviews\": 33819}, {\"stats_pageviews\": 33638}, {\"stats_pageviews\": 32843}, {\"stats_pageviews\": 30961}, {\"stats_pageviews\": 30486}, {\"stats_pageviews\": 30108}, {\"stats_pageviews\": 29820}, {\"stats_pageviews\": 29700}, {\"stats_pageviews\": 29437}, {\"stats_pageviews\": 29047}, {\"stats_pageviews\": 28490}, {\"stats_pageviews\": 28398}, {\"stats_pageviews\": 27195}, {\"stats_pageviews\": 27150}, {\"stats_pageviews\": 27109}, {\"stats_pageviews\": 25904}, {\"stats_pageviews\": 25501}, {\"stats_pageviews\": 24167}, {\"stats_pageviews\": 23242}, {\"stats_pageviews\": 22206}, {\"stats_pageviews\": 22150}, {\"stats_pageviews\": 21835}, {\"stats_pageviews\": 21693}, {\"stats_pageviews\": 20379}, {\"stats_pageviews\": 20102}, {\"stats_pageviews\": 19279}, {\"stats_pageviews\": 18862}, {\"stats_pageviews\": 18113}, {\"stats_pageviews\": 17354}, {\"stats_pageviews\": 17225}, {\"stats_pageviews\": 17084}, {\"stats_pageviews\": 17066}, {\"stats_pageviews\": 16204}, {\"stats_pageviews\": 16177}, {\"stats_pageviews\": 16157}, {\"stats_pageviews\": 16078}, {\"stats_pageviews\": 16052}, {\"stats_pageviews\": 14954}, {\"stats_pageviews\": 14365}, {\"stats_pageviews\": 14182}, {\"stats_pageviews\": 13963}, {\"stats_pageviews\": 13687}, {\"stats_pageviews\": 11555}, {\"stats_pageviews\": 10951}, {\"stats_pageviews\": 10797}, {\"stats_pageviews\": 10288}, {\"stats_pageviews\": 10393}, {\"stats_pageviews\": 9971}, {\"stats_pageviews\": 9663}, {\"stats_pageviews\": 9638}, {\"stats_pageviews\": 8687}, {\"stats_pageviews\": 8525}, {\"stats_pageviews\": 8316}, {\"stats_pageviews\": 8236}, {\"stats_pageviews\": 8060}, {\"stats_pageviews\": 7628}, {\"stats_pageviews\": 7485}, {\"stats_pageviews\": 7118}, {\"stats_pageviews\": 7058}, {\"stats_pageviews\": 6917}, {\"stats_pageviews\": 6771}, {\"stats_pageviews\": 6562}, {\"stats_pageviews\": 5998}, {\"stats_pageviews\": 5826}, {\"stats_pageviews\": 5728}, {\"stats_pageviews\": 5696}, {\"stats_pageviews\": 5267}, {\"stats_pageviews\": 5088}, {\"stats_pageviews\": 218772}, {\"stats_pageviews\": 178604}, {\"stats_pageviews\": 115993}, {\"stats_pageviews\": 104471}, {\"stats_pageviews\": 95088}, {\"stats_pageviews\": 91694}, {\"stats_pageviews\": 89804}, {\"stats_pageviews\": 82134}, {\"stats_pageviews\": 77510}, {\"stats_pageviews\": 76289}, {\"stats_pageviews\": 76002}, {\"stats_pageviews\": 64196}, {\"stats_pageviews\": 63395}, {\"stats_pageviews\": 61585}, {\"stats_pageviews\": 59847}, {\"stats_pageviews\": 53635}, {\"stats_pageviews\": 50956}, {\"stats_pageviews\": 46120}, {\"stats_pageviews\": 42143}, {\"stats_pageviews\": 41518}, {\"stats_pageviews\": 41135}, {\"stats_pageviews\": 36543}, {\"stats_pageviews\": 34598}, {\"stats_pageviews\": 31217}, {\"stats_pageviews\": 30901}, {\"stats_pageviews\": 27209}, {\"stats_pageviews\": 26533}, {\"stats_pageviews\": 26407}, {\"stats_pageviews\": 25989}, {\"stats_pageviews\": 23736}, {\"stats_pageviews\": 23528}, {\"stats_pageviews\": 22870}, {\"stats_pageviews\": 21858}, {\"stats_pageviews\": 21604}, {\"stats_pageviews\": 20601}, {\"stats_pageviews\": 20153}, {\"stats_pageviews\": 17644}, {\"stats_pageviews\": 16735}, {\"stats_pageviews\": 16243}, {\"stats_pageviews\": 16052}, {\"stats_pageviews\": 15850}, {\"stats_pageviews\": 15523}, {\"stats_pageviews\": 14209}, {\"stats_pageviews\": 14051}, {\"stats_pageviews\": 12452}, {\"stats_pageviews\": 12022}, {\"stats_pageviews\": 11324}, {\"stats_pageviews\": 10417}, {\"stats_pageviews\": 9826}, {\"stats_pageviews\": 7840}, {\"stats_pageviews\": 7826}, {\"stats_pageviews\": 6787}, {\"stats_pageviews\": 5597}, {\"stats_pageviews\": 158888}, {\"stats_pageviews\": 44547}, {\"stats_pageviews\": 42398}, {\"stats_pageviews\": 35201}, {\"stats_pageviews\": 30849}, {\"stats_pageviews\": 26460}, {\"stats_pageviews\": 26348}, {\"stats_pageviews\": 21800}, {\"stats_pageviews\": 16100}, {\"stats_pageviews\": 10004}, {\"stats_pageviews\": 9711}, {\"stats_pageviews\": 9491}, {\"stats_pageviews\": 8361}, {\"stats_pageviews\": 8318}, {\"stats_pageviews\": 7538}, {\"stats_pageviews\": 7518}, {\"stats_pageviews\": 7382}, {\"stats_pageviews\": 7043}, {\"stats_pageviews\": 6813}, {\"stats_pageviews\": 6660}, {\"stats_pageviews\": 6643}, {\"stats_pageviews\": 6341}, {\"stats_pageviews\": 6321}, {\"stats_pageviews\": 6160}, {\"stats_pageviews\": 6077}, {\"stats_pageviews\": 5776}, {\"stats_pageviews\": 5735}, {\"stats_pageviews\": 5651}, {\"stats_pageviews\": 5260}, {\"stats_pageviews\": 5255}, {\"stats_pageviews\": 5232}, {\"stats_pageviews\": 245198}, {\"stats_pageviews\": 218782}, {\"stats_pageviews\": 98619}, {\"stats_pageviews\": 71588}, {\"stats_pageviews\": 54913}, {\"stats_pageviews\": 49676}, {\"stats_pageviews\": 42419}, {\"stats_pageviews\": 29630}, {\"stats_pageviews\": 27326}, {\"stats_pageviews\": 23795}, {\"stats_pageviews\": 22006}, {\"stats_pageviews\": 21540}, {\"stats_pageviews\": 17513}, {\"stats_pageviews\": 17403}, {\"stats_pageviews\": 17320}, {\"stats_pageviews\": 15996}, {\"stats_pageviews\": 15389}, {\"stats_pageviews\": 15379}, {\"stats_pageviews\": 14969}, {\"stats_pageviews\": 14293}, {\"stats_pageviews\": 13910}, {\"stats_pageviews\": 11560}, {\"stats_pageviews\": 11484}, {\"stats_pageviews\": 11279}, {\"stats_pageviews\": 10407}, {\"stats_pageviews\": 10248}, {\"stats_pageviews\": 10242}, {\"stats_pageviews\": 9847}, {\"stats_pageviews\": 9541}, {\"stats_pageviews\": 9232}, {\"stats_pageviews\": 9202}, {\"stats_pageviews\": 9132}, {\"stats_pageviews\": 9023}, {\"stats_pageviews\": 8374}, {\"stats_pageviews\": 8065}, {\"stats_pageviews\": 7872}, {\"stats_pageviews\": 6534}, {\"stats_pageviews\": 6273}, {\"stats_pageviews\": 6157}, {\"stats_pageviews\": 5808}, {\"stats_pageviews\": 5565}, {\"stats_pageviews\": 19220}, {\"stats_pageviews\": 7287}, {\"stats_pageviews\": 6935}, {\"stats_pageviews\": 167268}, {\"stats_pageviews\": 78445}, {\"stats_pageviews\": 33316}, {\"stats_pageviews\": 26995}, {\"stats_pageviews\": 21486}, {\"stats_pageviews\": 14826}, {\"stats_pageviews\": 10887}, {\"stats_pageviews\": 10854}, {\"stats_pageviews\": 5213}, {\"stats_pageviews\": 5006}, {\"stats_pageviews\": 72602}, {\"stats_pageviews\": 50892}, {\"stats_pageviews\": 39988}, {\"stats_pageviews\": 31307}, {\"stats_pageviews\": 30912}, {\"stats_pageviews\": 26411}, {\"stats_pageviews\": 21638}, {\"stats_pageviews\": 18459}, {\"stats_pageviews\": 17420}, {\"stats_pageviews\": 17367}, {\"stats_pageviews\": 16657}, {\"stats_pageviews\": 16519}, {\"stats_pageviews\": 15470}, {\"stats_pageviews\": 14335}, {\"stats_pageviews\": 13672}, {\"stats_pageviews\": 12821}, {\"stats_pageviews\": 12435}, {\"stats_pageviews\": 12249}, {\"stats_pageviews\": 12230}, {\"stats_pageviews\": 11911}, {\"stats_pageviews\": 11237}, {\"stats_pageviews\": 11101}, {\"stats_pageviews\": 10520}, {\"stats_pageviews\": 10492}, {\"stats_pageviews\": 9337}, {\"stats_pageviews\": 9331}, {\"stats_pageviews\": 9210}, {\"stats_pageviews\": 8459}, {\"stats_pageviews\": 8459}, {\"stats_pageviews\": 8027}, {\"stats_pageviews\": 7243}, {\"stats_pageviews\": 7098}, {\"stats_pageviews\": 6972}, {\"stats_pageviews\": 6939}, {\"stats_pageviews\": 6930}, {\"stats_pageviews\": 6818}, {\"stats_pageviews\": 6765}, {\"stats_pageviews\": 6728}, {\"stats_pageviews\": 6521}, {\"stats_pageviews\": 6385}, {\"stats_pageviews\": 6335}, {\"stats_pageviews\": 6311}, {\"stats_pageviews\": 6301}, {\"stats_pageviews\": 5993}, {\"stats_pageviews\": 5537}, {\"stats_pageviews\": 5246}, {\"stats_pageviews\": 5233}, {\"stats_pageviews\": 5043}, {\"stats_pageviews\": 105025}, {\"stats_pageviews\": 70849}, {\"stats_pageviews\": 59339}, {\"stats_pageviews\": 57603}, {\"stats_pageviews\": 56222}, {\"stats_pageviews\": 51427}, {\"stats_pageviews\": 50806}, {\"stats_pageviews\": 49207}, {\"stats_pageviews\": 43288}, {\"stats_pageviews\": 43182}, {\"stats_pageviews\": 42491}, {\"stats_pageviews\": 42193}, {\"stats_pageviews\": 42047}, {\"stats_pageviews\": 41431}, {\"stats_pageviews\": 35904}, {\"stats_pageviews\": 28636}, {\"stats_pageviews\": 28396}, {\"stats_pageviews\": 27969}, {\"stats_pageviews\": 27704}, {\"stats_pageviews\": 27105}, {\"stats_pageviews\": 27102}, {\"stats_pageviews\": 26756}, {\"stats_pageviews\": 24767}, {\"stats_pageviews\": 24641}, {\"stats_pageviews\": 23520}, {\"stats_pageviews\": 23517}, {\"stats_pageviews\": 23099}, {\"stats_pageviews\": 20418}, {\"stats_pageviews\": 19437}, {\"stats_pageviews\": 19239}, {\"stats_pageviews\": 18038}, {\"stats_pageviews\": 17180}, {\"stats_pageviews\": 17070}, {\"stats_pageviews\": 16793}, {\"stats_pageviews\": 16740}, {\"stats_pageviews\": 16513}, {\"stats_pageviews\": 15800}, {\"stats_pageviews\": 15481}, {\"stats_pageviews\": 15455}, {\"stats_pageviews\": 15138}, {\"stats_pageviews\": 14252}, {\"stats_pageviews\": 13767}, {\"stats_pageviews\": 13241}, {\"stats_pageviews\": 13150}, {\"stats_pageviews\": 12968}, {\"stats_pageviews\": 12633}, {\"stats_pageviews\": 12211}, {\"stats_pageviews\": 12188}, {\"stats_pageviews\": 12057}, {\"stats_pageviews\": 11626}, {\"stats_pageviews\": 11540}, {\"stats_pageviews\": 11322}, {\"stats_pageviews\": 10848}, {\"stats_pageviews\": 10783}, {\"stats_pageviews\": 10591}, {\"stats_pageviews\": 10390}, {\"stats_pageviews\": 10269}, {\"stats_pageviews\": 10098}, {\"stats_pageviews\": 10089}, {\"stats_pageviews\": 10013}, {\"stats_pageviews\": 9842}, {\"stats_pageviews\": 9523}, {\"stats_pageviews\": 9348}, {\"stats_pageviews\": 9181}, {\"stats_pageviews\": 9156}, {\"stats_pageviews\": 8915}, {\"stats_pageviews\": 8650}, {\"stats_pageviews\": 8572}, {\"stats_pageviews\": 8332}, {\"stats_pageviews\": 8245}, {\"stats_pageviews\": 8162}, {\"stats_pageviews\": 8073}, {\"stats_pageviews\": 7774}, {\"stats_pageviews\": 7755}, {\"stats_pageviews\": 7700}, {\"stats_pageviews\": 7621}, {\"stats_pageviews\": 7539}, {\"stats_pageviews\": 7526}, {\"stats_pageviews\": 7485}, {\"stats_pageviews\": 7340}, {\"stats_pageviews\": 7078}, {\"stats_pageviews\": 6980}, {\"stats_pageviews\": 6916}, {\"stats_pageviews\": 6773}, {\"stats_pageviews\": 6288}, {\"stats_pageviews\": 6283}, {\"stats_pageviews\": 6196}, {\"stats_pageviews\": 6172}, {\"stats_pageviews\": 6131}, {\"stats_pageviews\": 6071}, {\"stats_pageviews\": 6062}, {\"stats_pageviews\": 5985}, {\"stats_pageviews\": 5963}, {\"stats_pageviews\": 5767}, {\"stats_pageviews\": 5761}, {\"stats_pageviews\": 5747}, {\"stats_pageviews\": 5621}, {\"stats_pageviews\": 5549}, {\"stats_pageviews\": 5433}, {\"stats_pageviews\": 5200}, {\"stats_pageviews\": 5083}, {\"stats_pageviews\": 5070}, {\"stats_pageviews\": 388368}, {\"stats_pageviews\": 174457}, {\"stats_pageviews\": 103338}, {\"stats_pageviews\": 99405}, {\"stats_pageviews\": 90912}, {\"stats_pageviews\": 83201}, {\"stats_pageviews\": 81510}, {\"stats_pageviews\": 75789}, {\"stats_pageviews\": 74541}, {\"stats_pageviews\": 73574}, {\"stats_pageviews\": 72614}, {\"stats_pageviews\": 72435}, {\"stats_pageviews\": 68607}, {\"stats_pageviews\": 62763}, {\"stats_pageviews\": 61904}, {\"stats_pageviews\": 60841}, {\"stats_pageviews\": 60479}, {\"stats_pageviews\": 59052}, {\"stats_pageviews\": 56458}, {\"stats_pageviews\": 55704}, {\"stats_pageviews\": 55487}, {\"stats_pageviews\": 53232}, {\"stats_pageviews\": 52656}, {\"stats_pageviews\": 52414}, {\"stats_pageviews\": 52403}, {\"stats_pageviews\": 51715}, {\"stats_pageviews\": 50683}, {\"stats_pageviews\": 50583}, {\"stats_pageviews\": 50500}, {\"stats_pageviews\": 48692}, {\"stats_pageviews\": 46303}, {\"stats_pageviews\": 43982}, {\"stats_pageviews\": 42999}, {\"stats_pageviews\": 42479}, {\"stats_pageviews\": 40562}, {\"stats_pageviews\": 40445}, {\"stats_pageviews\": 39769}, {\"stats_pageviews\": 38174}, {\"stats_pageviews\": 38136}, {\"stats_pageviews\": 38040}, {\"stats_pageviews\": 37842}, {\"stats_pageviews\": 37178}, {\"stats_pageviews\": 37106}, {\"stats_pageviews\": 36048}, {\"stats_pageviews\": 36034}, {\"stats_pageviews\": 35420}, {\"stats_pageviews\": 35319}, {\"stats_pageviews\": 35038}, {\"stats_pageviews\": 34547}, {\"stats_pageviews\": 34004}, {\"stats_pageviews\": 33112}, {\"stats_pageviews\": 32042}, {\"stats_pageviews\": 31676}, {\"stats_pageviews\": 30813}, {\"stats_pageviews\": 30593}, {\"stats_pageviews\": 30518}, {\"stats_pageviews\": 30339}, {\"stats_pageviews\": 30307}, {\"stats_pageviews\": 30034}, {\"stats_pageviews\": 29644}, {\"stats_pageviews\": 29515}, {\"stats_pageviews\": 29297}, {\"stats_pageviews\": 29093}, {\"stats_pageviews\": 27804}, {\"stats_pageviews\": 27655}, {\"stats_pageviews\": 27394}, {\"stats_pageviews\": 26629}, {\"stats_pageviews\": 26524}, {\"stats_pageviews\": 26495}, {\"stats_pageviews\": 26083}, {\"stats_pageviews\": 25988}, {\"stats_pageviews\": 25449}, {\"stats_pageviews\": 25247}, {\"stats_pageviews\": 24905}, {\"stats_pageviews\": 24377}, {\"stats_pageviews\": 24177}, {\"stats_pageviews\": 24166}, {\"stats_pageviews\": 24145}, {\"stats_pageviews\": 24019}, {\"stats_pageviews\": 23639}, {\"stats_pageviews\": 23577}, {\"stats_pageviews\": 23426}, {\"stats_pageviews\": 23421}, {\"stats_pageviews\": 22794}, {\"stats_pageviews\": 22168}, {\"stats_pageviews\": 21570}, {\"stats_pageviews\": 21396}, {\"stats_pageviews\": 20834}, {\"stats_pageviews\": 20459}, {\"stats_pageviews\": 20441}, {\"stats_pageviews\": 20079}, {\"stats_pageviews\": 20032}, {\"stats_pageviews\": 19075}, {\"stats_pageviews\": 18801}, {\"stats_pageviews\": 18757}, {\"stats_pageviews\": 17885}, {\"stats_pageviews\": 17568}, {\"stats_pageviews\": 17516}, {\"stats_pageviews\": 17299}, {\"stats_pageviews\": 17148}, {\"stats_pageviews\": 17122}, {\"stats_pageviews\": 16978}, {\"stats_pageviews\": 16427}, {\"stats_pageviews\": 16327}, {\"stats_pageviews\": 16033}, {\"stats_pageviews\": 15486}, {\"stats_pageviews\": 15485}, {\"stats_pageviews\": 15248}, {\"stats_pageviews\": 15207}, {\"stats_pageviews\": 14837}, {\"stats_pageviews\": 14644}, {\"stats_pageviews\": 14555}, {\"stats_pageviews\": 14290}, {\"stats_pageviews\": 14076}, {\"stats_pageviews\": 13885}, {\"stats_pageviews\": 13627}, {\"stats_pageviews\": 13440}, {\"stats_pageviews\": 13336}, {\"stats_pageviews\": 12981}, {\"stats_pageviews\": 12936}, {\"stats_pageviews\": 12921}, {\"stats_pageviews\": 12893}, {\"stats_pageviews\": 12389}, {\"stats_pageviews\": 12385}, {\"stats_pageviews\": 11827}, {\"stats_pageviews\": 11772}, {\"stats_pageviews\": 11749}, {\"stats_pageviews\": 11691}, {\"stats_pageviews\": 11561}, {\"stats_pageviews\": 11522}, {\"stats_pageviews\": 11473}, {\"stats_pageviews\": 11390}, {\"stats_pageviews\": 11309}, {\"stats_pageviews\": 11296}, {\"stats_pageviews\": 11165}, {\"stats_pageviews\": 11138}, {\"stats_pageviews\": 10908}, {\"stats_pageviews\": 10562}, {\"stats_pageviews\": 10316}, {\"stats_pageviews\": 10307}, {\"stats_pageviews\": 10282}, {\"stats_pageviews\": 10193}, {\"stats_pageviews\": 10097}, {\"stats_pageviews\": 9804}, {\"stats_pageviews\": 9756}, {\"stats_pageviews\": 8954}, {\"stats_pageviews\": 8712}, {\"stats_pageviews\": 8688}, {\"stats_pageviews\": 8461}, {\"stats_pageviews\": 8177}, {\"stats_pageviews\": 8017}, {\"stats_pageviews\": 7927}, {\"stats_pageviews\": 7924}, {\"stats_pageviews\": 7911}, {\"stats_pageviews\": 7677}, {\"stats_pageviews\": 7575}, {\"stats_pageviews\": 7561}, {\"stats_pageviews\": 7439}, {\"stats_pageviews\": 7155}, {\"stats_pageviews\": 7075}, {\"stats_pageviews\": 7055}, {\"stats_pageviews\": 6908}, {\"stats_pageviews\": 6899}, {\"stats_pageviews\": 6856}, {\"stats_pageviews\": 6847}, {\"stats_pageviews\": 6795}, {\"stats_pageviews\": 6793}, {\"stats_pageviews\": 6744}, {\"stats_pageviews\": 6510}, {\"stats_pageviews\": 6508}, {\"stats_pageviews\": 6449}, {\"stats_pageviews\": 6409}, {\"stats_pageviews\": 6391}, {\"stats_pageviews\": 6339}, {\"stats_pageviews\": 6316}, {\"stats_pageviews\": 6307}, {\"stats_pageviews\": 6187}, {\"stats_pageviews\": 6128}, {\"stats_pageviews\": 6101}, {\"stats_pageviews\": 5865}, {\"stats_pageviews\": 5836}, {\"stats_pageviews\": 5722}, {\"stats_pageviews\": 5661}, {\"stats_pageviews\": 5615}, {\"stats_pageviews\": 5217}, {\"stats_pageviews\": 5085}, {\"stats_pageviews\": 5071}, {\"stats_pageviews\": 5045}, {\"stats_pageviews\": 5041}, {\"stats_pageviews\": 5023}, {\"stats_pageviews\": 67106}, {\"stats_pageviews\": 48346}, {\"stats_pageviews\": 42957}, {\"stats_pageviews\": 40377}, {\"stats_pageviews\": 37742}, {\"stats_pageviews\": 31812}, {\"stats_pageviews\": 22402}, {\"stats_pageviews\": 21716}, {\"stats_pageviews\": 21625}, {\"stats_pageviews\": 19569}, {\"stats_pageviews\": 19174}, {\"stats_pageviews\": 15776}, {\"stats_pageviews\": 15741}, {\"stats_pageviews\": 15054}, {\"stats_pageviews\": 14825}, {\"stats_pageviews\": 13190}, {\"stats_pageviews\": 12681}, {\"stats_pageviews\": 12620}, {\"stats_pageviews\": 12355}, {\"stats_pageviews\": 11702}, {\"stats_pageviews\": 11701}, {\"stats_pageviews\": 10652}, {\"stats_pageviews\": 9958}, {\"stats_pageviews\": 9319}, {\"stats_pageviews\": 9295}, {\"stats_pageviews\": 8526}, {\"stats_pageviews\": 8322}, {\"stats_pageviews\": 8100}, {\"stats_pageviews\": 8067}, {\"stats_pageviews\": 7481}, {\"stats_pageviews\": 7258}, {\"stats_pageviews\": 7117}, {\"stats_pageviews\": 7076}, {\"stats_pageviews\": 6658}, {\"stats_pageviews\": 6434}, {\"stats_pageviews\": 6309}, {\"stats_pageviews\": 6106}, {\"stats_pageviews\": 6100}, {\"stats_pageviews\": 5968}, {\"stats_pageviews\": 5801}, {\"stats_pageviews\": 5753}, {\"stats_pageviews\": 5605}, {\"stats_pageviews\": 5462}, {\"stats_pageviews\": 5365}, {\"stats_pageviews\": 5102}, {\"stats_pageviews\": 19367}, {\"stats_pageviews\": 13796}, {\"stats_pageviews\": 12015}, {\"stats_pageviews\": 6888}, {\"stats_pageviews\": 6750}, {\"stats_pageviews\": 6422}, {\"stats_pageviews\": 5528}, {\"stats_pageviews\": 5318}, {\"stats_pageviews\": 5099}, {\"stats_pageviews\": 47995}, {\"stats_pageviews\": 43386}, {\"stats_pageviews\": 36501}, {\"stats_pageviews\": 14977}, {\"stats_pageviews\": 13019}, {\"stats_pageviews\": 12671}, {\"stats_pageviews\": 8286}, {\"stats_pageviews\": 7779}, {\"stats_pageviews\": 7722}, {\"stats_pageviews\": 7549}, {\"stats_pageviews\": 7311}, {\"stats_pageviews\": 7072}, {\"stats_pageviews\": 7046}, {\"stats_pageviews\": 6324}, {\"stats_pageviews\": 6281}, {\"stats_pageviews\": 6133}, {\"stats_pageviews\": 5994}, {\"stats_pageviews\": 5427}, {\"stats_pageviews\": 5420}, {\"stats_pageviews\": 5370}, {\"stats_pageviews\": 5074}, {\"stats_pageviews\": 5841}, {\"stats_pageviews\": 102219}, {\"stats_pageviews\": 74141}, {\"stats_pageviews\": 35513}, {\"stats_pageviews\": 25118}, {\"stats_pageviews\": 24508}, {\"stats_pageviews\": 23899}, {\"stats_pageviews\": 20900}, {\"stats_pageviews\": 20521}, {\"stats_pageviews\": 19697}, {\"stats_pageviews\": 18969}, {\"stats_pageviews\": 16580}, {\"stats_pageviews\": 15236}, {\"stats_pageviews\": 14759}, {\"stats_pageviews\": 14258}, {\"stats_pageviews\": 12777}, {\"stats_pageviews\": 12389}, {\"stats_pageviews\": 11816}, {\"stats_pageviews\": 11786}, {\"stats_pageviews\": 11785}, {\"stats_pageviews\": 11772}, {\"stats_pageviews\": 11464}, {\"stats_pageviews\": 11079}, {\"stats_pageviews\": 10944}, {\"stats_pageviews\": 10684}, {\"stats_pageviews\": 10131}, {\"stats_pageviews\": 9908}, {\"stats_pageviews\": 9520}, {\"stats_pageviews\": 9130}, {\"stats_pageviews\": 8858}, {\"stats_pageviews\": 8778}, {\"stats_pageviews\": 8189}, {\"stats_pageviews\": 7878}, {\"stats_pageviews\": 7864}, {\"stats_pageviews\": 7027}, {\"stats_pageviews\": 6735}, {\"stats_pageviews\": 6626}, {\"stats_pageviews\": 6546}, {\"stats_pageviews\": 6470}, {\"stats_pageviews\": 6428}, {\"stats_pageviews\": 6369}, {\"stats_pageviews\": 6249}, {\"stats_pageviews\": 6159}, {\"stats_pageviews\": 5981}, {\"stats_pageviews\": 5975}, {\"stats_pageviews\": 5963}, {\"stats_pageviews\": 5394}, {\"stats_pageviews\": 5293}, {\"stats_pageviews\": 5399}, {\"stats_pageviews\": 33361}, {\"stats_pageviews\": 27253}, {\"stats_pageviews\": 10334}, {\"stats_pageviews\": 9136}, {\"stats_pageviews\": 6408}, {\"stats_pageviews\": 11203}, {\"stats_pageviews\": 10337}, {\"stats_pageviews\": 9335}, {\"stats_pageviews\": 9158}, {\"stats_pageviews\": 7536}, {\"stats_pageviews\": 6359}, {\"stats_pageviews\": 5438}, {\"stats_pageviews\": 39202}, {\"stats_pageviews\": 24311}, {\"stats_pageviews\": 19077}, {\"stats_pageviews\": 18407}, {\"stats_pageviews\": 15272}, {\"stats_pageviews\": 12096}, {\"stats_pageviews\": 11488}, {\"stats_pageviews\": 10810}, {\"stats_pageviews\": 10287}, {\"stats_pageviews\": 10235}, {\"stats_pageviews\": 9874}, {\"stats_pageviews\": 9814}, {\"stats_pageviews\": 8744}, {\"stats_pageviews\": 8604}, {\"stats_pageviews\": 7451}, {\"stats_pageviews\": 6731}, {\"stats_pageviews\": 6529}, {\"stats_pageviews\": 6421}, {\"stats_pageviews\": 6319}, {\"stats_pageviews\": 5464}, {\"stats_pageviews\": 5248}, {\"stats_pageviews\": 5156}, {\"stats_pageviews\": 176471}, {\"stats_pageviews\": 137148}, {\"stats_pageviews\": 70326}, {\"stats_pageviews\": 56500}, {\"stats_pageviews\": 40079}, {\"stats_pageviews\": 39624}, {\"stats_pageviews\": 37585}, {\"stats_pageviews\": 37163}, {\"stats_pageviews\": 34412}, {\"stats_pageviews\": 34331}, {\"stats_pageviews\": 28704}, {\"stats_pageviews\": 28145}, {\"stats_pageviews\": 23187}, {\"stats_pageviews\": 21440}, {\"stats_pageviews\": 17539}, {\"stats_pageviews\": 17466}, {\"stats_pageviews\": 16649}, {\"stats_pageviews\": 16335}, {\"stats_pageviews\": 15684}, {\"stats_pageviews\": 13924}, {\"stats_pageviews\": 13112}, {\"stats_pageviews\": 12986}, {\"stats_pageviews\": 11041}, {\"stats_pageviews\": 11023}, {\"stats_pageviews\": 10416}, {\"stats_pageviews\": 9950}, {\"stats_pageviews\": 9676}, {\"stats_pageviews\": 9632}, {\"stats_pageviews\": 8578}, {\"stats_pageviews\": 8414}, {\"stats_pageviews\": 8363}, {\"stats_pageviews\": 8163}, {\"stats_pageviews\": 7869}, {\"stats_pageviews\": 7844}, {\"stats_pageviews\": 7772}, {\"stats_pageviews\": 7751}, {\"stats_pageviews\": 7105}, {\"stats_pageviews\": 6656}, {\"stats_pageviews\": 6138}, {\"stats_pageviews\": 6003}, {\"stats_pageviews\": 5950}, {\"stats_pageviews\": 5707}, {\"stats_pageviews\": 5466}, {\"stats_pageviews\": 5330}, {\"stats_pageviews\": 5122}, {\"stats_pageviews\": 5016}, {\"stats_pageviews\": 692900}, {\"stats_pageviews\": 499980}, {\"stats_pageviews\": 456566}, {\"stats_pageviews\": 422144}, {\"stats_pageviews\": 355311}, {\"stats_pageviews\": 299809}, {\"stats_pageviews\": 264071}, {\"stats_pageviews\": 228410}, {\"stats_pageviews\": 197329}, {\"stats_pageviews\": 185729}, {\"stats_pageviews\": 183039}, {\"stats_pageviews\": 168341}, {\"stats_pageviews\": 165054}, {\"stats_pageviews\": 163450}, {\"stats_pageviews\": 154443}, {\"stats_pageviews\": 154004}, {\"stats_pageviews\": 143940}, {\"stats_pageviews\": 138970}, {\"stats_pageviews\": 127596}, {\"stats_pageviews\": 122848}, {\"stats_pageviews\": 120567}, {\"stats_pageviews\": 120553}, {\"stats_pageviews\": 120165}, {\"stats_pageviews\": 118895}, {\"stats_pageviews\": 114949}, {\"stats_pageviews\": 114243}, {\"stats_pageviews\": 113685}, {\"stats_pageviews\": 109488}, {\"stats_pageviews\": 109230}, {\"stats_pageviews\": 108758}, {\"stats_pageviews\": 106825}, {\"stats_pageviews\": 103040}, {\"stats_pageviews\": 102450}, {\"stats_pageviews\": 91111}, {\"stats_pageviews\": 90280}, {\"stats_pageviews\": 88669}, {\"stats_pageviews\": 88408}, {\"stats_pageviews\": 83723}, {\"stats_pageviews\": 82033}, {\"stats_pageviews\": 81610}, {\"stats_pageviews\": 75439}, {\"stats_pageviews\": 74254}, {\"stats_pageviews\": 72313}, {\"stats_pageviews\": 72081}, {\"stats_pageviews\": 68782}, {\"stats_pageviews\": 68358}, {\"stats_pageviews\": 68154}, {\"stats_pageviews\": 65580}, {\"stats_pageviews\": 63703}, {\"stats_pageviews\": 63265}, {\"stats_pageviews\": 60137}, {\"stats_pageviews\": 59730}, {\"stats_pageviews\": 57635}, {\"stats_pageviews\": 55119}, {\"stats_pageviews\": 54216}, {\"stats_pageviews\": 54098}, {\"stats_pageviews\": 53244}, {\"stats_pageviews\": 52683}, {\"stats_pageviews\": 52413}, {\"stats_pageviews\": 50755}, {\"stats_pageviews\": 48774}, {\"stats_pageviews\": 47711}, {\"stats_pageviews\": 45294}, {\"stats_pageviews\": 45215}, {\"stats_pageviews\": 43844}, {\"stats_pageviews\": 42701}, {\"stats_pageviews\": 41401}, {\"stats_pageviews\": 41088}, {\"stats_pageviews\": 40913}, {\"stats_pageviews\": 39497}, {\"stats_pageviews\": 39181}, {\"stats_pageviews\": 38322}, {\"stats_pageviews\": 38278}, {\"stats_pageviews\": 38187}, {\"stats_pageviews\": 36047}, {\"stats_pageviews\": 35508}, {\"stats_pageviews\": 34048}, {\"stats_pageviews\": 33922}, {\"stats_pageviews\": 32682}, {\"stats_pageviews\": 31227}, {\"stats_pageviews\": 31091}, {\"stats_pageviews\": 30577}, {\"stats_pageviews\": 28949}, {\"stats_pageviews\": 28872}, {\"stats_pageviews\": 27205}, {\"stats_pageviews\": 26554}, {\"stats_pageviews\": 26216}, {\"stats_pageviews\": 25850}, {\"stats_pageviews\": 25327}, {\"stats_pageviews\": 23599}, {\"stats_pageviews\": 22807}, {\"stats_pageviews\": 22796}, {\"stats_pageviews\": 22079}, {\"stats_pageviews\": 18474}, {\"stats_pageviews\": 16285}, {\"stats_pageviews\": 15224}, {\"stats_pageviews\": 14968}, {\"stats_pageviews\": 14804}, {\"stats_pageviews\": 12321}, {\"stats_pageviews\": 11271}, {\"stats_pageviews\": 10855}, {\"stats_pageviews\": 8666}, {\"stats_pageviews\": 7441}, {\"stats_pageviews\": 7250}, {\"stats_pageviews\": 6095}, {\"stats_pageviews\": 38366}, {\"stats_pageviews\": 14257}, {\"stats_pageviews\": 13079}, {\"stats_pageviews\": 11673}, {\"stats_pageviews\": 11535}, {\"stats_pageviews\": 10567}, {\"stats_pageviews\": 10421}, {\"stats_pageviews\": 10343}, {\"stats_pageviews\": 10325}, {\"stats_pageviews\": 9869}, {\"stats_pageviews\": 9238}, {\"stats_pageviews\": 8655}, {\"stats_pageviews\": 8496}, {\"stats_pageviews\": 8398}, {\"stats_pageviews\": 8201}, {\"stats_pageviews\": 8012}, {\"stats_pageviews\": 7500}, {\"stats_pageviews\": 7182}, {\"stats_pageviews\": 6167}, {\"stats_pageviews\": 5972}, {\"stats_pageviews\": 5894}, {\"stats_pageviews\": 5787}, {\"stats_pageviews\": 5672}, {\"stats_pageviews\": 5633}, {\"stats_pageviews\": 5374}, {\"stats_pageviews\": 5310}, {\"stats_pageviews\": 20134}, {\"stats_pageviews\": 12975}, {\"stats_pageviews\": 9180}, {\"stats_pageviews\": 7744}, {\"stats_pageviews\": 7556}, {\"stats_pageviews\": 7554}, {\"stats_pageviews\": 7517}, {\"stats_pageviews\": 7493}, {\"stats_pageviews\": 6572}, {\"stats_pageviews\": 5610}, {\"stats_pageviews\": 5366}, {\"stats_pageviews\": 5151}, {\"stats_pageviews\": 5061}, {\"stats_pageviews\": 46217}, {\"stats_pageviews\": 18598}, {\"stats_pageviews\": 16386}, {\"stats_pageviews\": 16373}, {\"stats_pageviews\": 13759}, {\"stats_pageviews\": 12718}, {\"stats_pageviews\": 12645}, {\"stats_pageviews\": 11229}, {\"stats_pageviews\": 10708}, {\"stats_pageviews\": 10047}, {\"stats_pageviews\": 9890}, {\"stats_pageviews\": 9675}, {\"stats_pageviews\": 9282}, {\"stats_pageviews\": 7961}, {\"stats_pageviews\": 7932}, {\"stats_pageviews\": 7899}, {\"stats_pageviews\": 7245}, {\"stats_pageviews\": 7164}, {\"stats_pageviews\": 6244}, {\"stats_pageviews\": 6022}, {\"stats_pageviews\": 5765}, {\"stats_pageviews\": 5430}, {\"stats_pageviews\": 5361}, {\"stats_pageviews\": 5325}, {\"stats_pageviews\": 5247}, {\"stats_pageviews\": 5126}, {\"stats_pageviews\": 75385}, {\"stats_pageviews\": 448993}, {\"stats_pageviews\": 373397}, {\"stats_pageviews\": 359142}, {\"stats_pageviews\": 307266}, {\"stats_pageviews\": 271048}, {\"stats_pageviews\": 237007}, {\"stats_pageviews\": 206444}, {\"stats_pageviews\": 201396}, {\"stats_pageviews\": 190560}, {\"stats_pageviews\": 184614}, {\"stats_pageviews\": 165904}, {\"stats_pageviews\": 146648}, {\"stats_pageviews\": 145848}, {\"stats_pageviews\": 143915}, {\"stats_pageviews\": 138134}, {\"stats_pageviews\": 135315}, {\"stats_pageviews\": 132876}, {\"stats_pageviews\": 128579}, {\"stats_pageviews\": 126633}, {\"stats_pageviews\": 126060}, {\"stats_pageviews\": 125384}, {\"stats_pageviews\": 124001}, {\"stats_pageviews\": 120483}, {\"stats_pageviews\": 118838}, {\"stats_pageviews\": 118769}, {\"stats_pageviews\": 118728}, {\"stats_pageviews\": 114494}, {\"stats_pageviews\": 113315}, {\"stats_pageviews\": 112807}, {\"stats_pageviews\": 111359}, {\"stats_pageviews\": 109444}, {\"stats_pageviews\": 108871}, {\"stats_pageviews\": 105917}, {\"stats_pageviews\": 105355}, {\"stats_pageviews\": 95898}, {\"stats_pageviews\": 95501}, {\"stats_pageviews\": 94861}, {\"stats_pageviews\": 90617}, {\"stats_pageviews\": 88930}, {\"stats_pageviews\": 88579}, {\"stats_pageviews\": 82607}, {\"stats_pageviews\": 78449}, {\"stats_pageviews\": 77637}, {\"stats_pageviews\": 77256}, {\"stats_pageviews\": 77221}, {\"stats_pageviews\": 76319}, {\"stats_pageviews\": 75371}, {\"stats_pageviews\": 74988}, {\"stats_pageviews\": 74615}, {\"stats_pageviews\": 73402}, {\"stats_pageviews\": 73296}, {\"stats_pageviews\": 69812}, {\"stats_pageviews\": 69153}, {\"stats_pageviews\": 68219}, {\"stats_pageviews\": 67060}, {\"stats_pageviews\": 66967}, {\"stats_pageviews\": 64390}, {\"stats_pageviews\": 63607}, {\"stats_pageviews\": 63280}, {\"stats_pageviews\": 62689}, {\"stats_pageviews\": 62421}, {\"stats_pageviews\": 62292}, {\"stats_pageviews\": 62118}, {\"stats_pageviews\": 61844}, {\"stats_pageviews\": 61616}, {\"stats_pageviews\": 60834}, {\"stats_pageviews\": 59181}, {\"stats_pageviews\": 58111}, {\"stats_pageviews\": 56445}, {\"stats_pageviews\": 55679}, {\"stats_pageviews\": 52901}, {\"stats_pageviews\": 52249}, {\"stats_pageviews\": 52040}, {\"stats_pageviews\": 49981}, {\"stats_pageviews\": 48557}, {\"stats_pageviews\": 48170}, {\"stats_pageviews\": 47621}, {\"stats_pageviews\": 47066}, {\"stats_pageviews\": 46765}, {\"stats_pageviews\": 45217}, {\"stats_pageviews\": 44806}, {\"stats_pageviews\": 44262}, {\"stats_pageviews\": 42234}, {\"stats_pageviews\": 41373}, {\"stats_pageviews\": 40349}, {\"stats_pageviews\": 40055}, {\"stats_pageviews\": 39732}, {\"stats_pageviews\": 39119}, {\"stats_pageviews\": 38508}, {\"stats_pageviews\": 37263}, {\"stats_pageviews\": 35789}, {\"stats_pageviews\": 34776}, {\"stats_pageviews\": 30771}, {\"stats_pageviews\": 30583}, {\"stats_pageviews\": 29140}, {\"stats_pageviews\": 26702}, {\"stats_pageviews\": 26324}, {\"stats_pageviews\": 25939}, {\"stats_pageviews\": 25783}, {\"stats_pageviews\": 25126}, {\"stats_pageviews\": 23909}, {\"stats_pageviews\": 23780}, {\"stats_pageviews\": 23694}, {\"stats_pageviews\": 22215}, {\"stats_pageviews\": 21745}, {\"stats_pageviews\": 20122}, {\"stats_pageviews\": 20079}, {\"stats_pageviews\": 18414}, {\"stats_pageviews\": 18300}, {\"stats_pageviews\": 17250}, {\"stats_pageviews\": 17158}, {\"stats_pageviews\": 16826}, {\"stats_pageviews\": 16673}, {\"stats_pageviews\": 14966}, {\"stats_pageviews\": 14595}, {\"stats_pageviews\": 14174}, {\"stats_pageviews\": 13951}, {\"stats_pageviews\": 12429}, {\"stats_pageviews\": 11765}, {\"stats_pageviews\": 10931}, {\"stats_pageviews\": 9732}, {\"stats_pageviews\": 8906}, {\"stats_pageviews\": 8436}, {\"stats_pageviews\": 8208}, {\"stats_pageviews\": 7956}, {\"stats_pageviews\": 6117}, {\"stats_pageviews\": 5469}, {\"stats_pageviews\": 116437}, {\"stats_pageviews\": 112920}, {\"stats_pageviews\": 107298}, {\"stats_pageviews\": 101119}, {\"stats_pageviews\": 95465}, {\"stats_pageviews\": 88820}, {\"stats_pageviews\": 82110}, {\"stats_pageviews\": 78581}, {\"stats_pageviews\": 75221}, {\"stats_pageviews\": 73183}, {\"stats_pageviews\": 72823}, {\"stats_pageviews\": 72319}, {\"stats_pageviews\": 71137}, {\"stats_pageviews\": 70473}, {\"stats_pageviews\": 67434}, {\"stats_pageviews\": 62865}, {\"stats_pageviews\": 60054}, {\"stats_pageviews\": 57809}, {\"stats_pageviews\": 53698}, {\"stats_pageviews\": 53548}, {\"stats_pageviews\": 52986}, {\"stats_pageviews\": 52868}, {\"stats_pageviews\": 51711}, {\"stats_pageviews\": 51242}, {\"stats_pageviews\": 50586}, {\"stats_pageviews\": 50247}, {\"stats_pageviews\": 46964}, {\"stats_pageviews\": 46521}, {\"stats_pageviews\": 45649}, {\"stats_pageviews\": 44841}, {\"stats_pageviews\": 43975}, {\"stats_pageviews\": 43048}, {\"stats_pageviews\": 42869}, {\"stats_pageviews\": 42530}, {\"stats_pageviews\": 41659}, {\"stats_pageviews\": 40990}, {\"stats_pageviews\": 40026}, {\"stats_pageviews\": 36372}, {\"stats_pageviews\": 36040}, {\"stats_pageviews\": 34935}, {\"stats_pageviews\": 31961}, {\"stats_pageviews\": 31634}, {\"stats_pageviews\": 31529}, {\"stats_pageviews\": 29332}, {\"stats_pageviews\": 28749}, {\"stats_pageviews\": 26507}, {\"stats_pageviews\": 24160}, {\"stats_pageviews\": 23324}, {\"stats_pageviews\": 22759}, {\"stats_pageviews\": 22682}, {\"stats_pageviews\": 22462}, {\"stats_pageviews\": 21943}, {\"stats_pageviews\": 21782}, {\"stats_pageviews\": 21755}, {\"stats_pageviews\": 21753}, {\"stats_pageviews\": 21446}, {\"stats_pageviews\": 21392}, {\"stats_pageviews\": 19945}, {\"stats_pageviews\": 19867}, {\"stats_pageviews\": 19671}, {\"stats_pageviews\": 19372}, {\"stats_pageviews\": 19096}, {\"stats_pageviews\": 18819}, {\"stats_pageviews\": 18501}, {\"stats_pageviews\": 18483}, {\"stats_pageviews\": 18078}, {\"stats_pageviews\": 18014}, {\"stats_pageviews\": 18007}, {\"stats_pageviews\": 17857}, {\"stats_pageviews\": 17843}, {\"stats_pageviews\": 17618}, {\"stats_pageviews\": 17547}, {\"stats_pageviews\": 17187}, {\"stats_pageviews\": 17148}, {\"stats_pageviews\": 17009}, {\"stats_pageviews\": 16857}, {\"stats_pageviews\": 16688}, {\"stats_pageviews\": 16507}, {\"stats_pageviews\": 16099}, {\"stats_pageviews\": 15918}, {\"stats_pageviews\": 15727}, {\"stats_pageviews\": 15604}, {\"stats_pageviews\": 14716}, {\"stats_pageviews\": 14537}, {\"stats_pageviews\": 14309}, {\"stats_pageviews\": 14071}, {\"stats_pageviews\": 13383}, {\"stats_pageviews\": 13341}, {\"stats_pageviews\": 13061}, {\"stats_pageviews\": 12979}, {\"stats_pageviews\": 12860}, {\"stats_pageviews\": 12043}, {\"stats_pageviews\": 11932}, {\"stats_pageviews\": 11931}, {\"stats_pageviews\": 11801}, {\"stats_pageviews\": 11556}, {\"stats_pageviews\": 11431}, {\"stats_pageviews\": 11188}, {\"stats_pageviews\": 10725}, {\"stats_pageviews\": 10461}, {\"stats_pageviews\": 9784}, {\"stats_pageviews\": 9714}, {\"stats_pageviews\": 9496}, {\"stats_pageviews\": 9473}, {\"stats_pageviews\": 9021}, {\"stats_pageviews\": 8801}, {\"stats_pageviews\": 8759}, {\"stats_pageviews\": 8665}, {\"stats_pageviews\": 8648}, {\"stats_pageviews\": 8568}, {\"stats_pageviews\": 8549}, {\"stats_pageviews\": 8282}, {\"stats_pageviews\": 8059}, {\"stats_pageviews\": 8039}, {\"stats_pageviews\": 7738}, {\"stats_pageviews\": 7229}, {\"stats_pageviews\": 6343}, {\"stats_pageviews\": 6242}, {\"stats_pageviews\": 6111}, {\"stats_pageviews\": 5582}, {\"stats_pageviews\": 144674}, {\"stats_pageviews\": 69722}, {\"stats_pageviews\": 65269}, {\"stats_pageviews\": 61287}, {\"stats_pageviews\": 60729}, {\"stats_pageviews\": 46276}, {\"stats_pageviews\": 46009}, {\"stats_pageviews\": 40850}, {\"stats_pageviews\": 40398}, {\"stats_pageviews\": 31272}, {\"stats_pageviews\": 30077}, {\"stats_pageviews\": 29445}, {\"stats_pageviews\": 28988}, {\"stats_pageviews\": 27359}, {\"stats_pageviews\": 25323}, {\"stats_pageviews\": 25174}, {\"stats_pageviews\": 25043}, {\"stats_pageviews\": 24976}, {\"stats_pageviews\": 23128}, {\"stats_pageviews\": 23074}, {\"stats_pageviews\": 22405}, {\"stats_pageviews\": 22047}, {\"stats_pageviews\": 21549}, {\"stats_pageviews\": 17897}, {\"stats_pageviews\": 17354}, {\"stats_pageviews\": 17244}, {\"stats_pageviews\": 14874}, {\"stats_pageviews\": 13961}, {\"stats_pageviews\": 13482}, {\"stats_pageviews\": 13209}, {\"stats_pageviews\": 12038}, {\"stats_pageviews\": 11488}, {\"stats_pageviews\": 10881}, {\"stats_pageviews\": 10832}, {\"stats_pageviews\": 9951}, {\"stats_pageviews\": 9921}, {\"stats_pageviews\": 9718}, {\"stats_pageviews\": 7260}, {\"stats_pageviews\": 5916}, {\"stats_pageviews\": 5098}, {\"stats_pageviews\": 104525}, {\"stats_pageviews\": 51032}, {\"stats_pageviews\": 48163}, {\"stats_pageviews\": 40103}, {\"stats_pageviews\": 21594}, {\"stats_pageviews\": 18505}, {\"stats_pageviews\": 12546}, {\"stats_pageviews\": 12032}, {\"stats_pageviews\": 10255}, {\"stats_pageviews\": 9371}, {\"stats_pageviews\": 7315}, {\"stats_pageviews\": 7257}, {\"stats_pageviews\": 7028}, {\"stats_pageviews\": 6978}, {\"stats_pageviews\": 6246}, {\"stats_pageviews\": 6222}, {\"stats_pageviews\": 5750}, {\"stats_pageviews\": 5741}, {\"stats_pageviews\": 5449}, {\"stats_pageviews\": 5122}, {\"stats_pageviews\": 423119}, {\"stats_pageviews\": 421148}, {\"stats_pageviews\": 399801}, {\"stats_pageviews\": 382855}, {\"stats_pageviews\": 306849}, {\"stats_pageviews\": 291557}, {\"stats_pageviews\": 210232}, {\"stats_pageviews\": 174367}, {\"stats_pageviews\": 166748}, {\"stats_pageviews\": 156734}, {\"stats_pageviews\": 133840}, {\"stats_pageviews\": 129088}, {\"stats_pageviews\": 100284}, {\"stats_pageviews\": 90604}, {\"stats_pageviews\": 90349}, {\"stats_pageviews\": 72833}, {\"stats_pageviews\": 71938}, {\"stats_pageviews\": 70167}, {\"stats_pageviews\": 69905}, {\"stats_pageviews\": 60423}, {\"stats_pageviews\": 59139}, {\"stats_pageviews\": 52194}, {\"stats_pageviews\": 49760}, {\"stats_pageviews\": 46868}, {\"stats_pageviews\": 46412}, {\"stats_pageviews\": 43372}, {\"stats_pageviews\": 42913}, {\"stats_pageviews\": 39446}, {\"stats_pageviews\": 36582}, {\"stats_pageviews\": 34444}, {\"stats_pageviews\": 34301}, {\"stats_pageviews\": 32808}, {\"stats_pageviews\": 32382}, {\"stats_pageviews\": 30765}, {\"stats_pageviews\": 29594}, {\"stats_pageviews\": 26941}, {\"stats_pageviews\": 24821}, {\"stats_pageviews\": 23515}, {\"stats_pageviews\": 22273}, {\"stats_pageviews\": 21492}, {\"stats_pageviews\": 20463}, {\"stats_pageviews\": 19760}, {\"stats_pageviews\": 19426}, {\"stats_pageviews\": 18685}, {\"stats_pageviews\": 18635}, {\"stats_pageviews\": 18137}, {\"stats_pageviews\": 17797}, {\"stats_pageviews\": 17187}, {\"stats_pageviews\": 17049}, {\"stats_pageviews\": 16317}, {\"stats_pageviews\": 16273}, {\"stats_pageviews\": 14590}, {\"stats_pageviews\": 14478}, {\"stats_pageviews\": 14038}, {\"stats_pageviews\": 13261}, {\"stats_pageviews\": 11097}, {\"stats_pageviews\": 10790}, {\"stats_pageviews\": 8661}, {\"stats_pageviews\": 7975}, {\"stats_pageviews\": 7626}, {\"stats_pageviews\": 7017}, {\"stats_pageviews\": 6717}, {\"stats_pageviews\": 6570}, {\"stats_pageviews\": 6298}, {\"stats_pageviews\": 6016}, {\"stats_pageviews\": 5774}, {\"stats_pageviews\": 5762}, {\"stats_pageviews\": 5509}, {\"stats_pageviews\": 5457}, {\"stats_pageviews\": 5442}, {\"stats_pageviews\": 5269}, {\"stats_pageviews\": 5251}, {\"stats_pageviews\": 5155}, {\"stats_pageviews\": 5058}, {\"stats_pageviews\": 63850}, {\"stats_pageviews\": 20001}, {\"stats_pageviews\": 19641}, {\"stats_pageviews\": 14837}, {\"stats_pageviews\": 14687}, {\"stats_pageviews\": 14007}, {\"stats_pageviews\": 12594}, {\"stats_pageviews\": 12144}, {\"stats_pageviews\": 12134}, {\"stats_pageviews\": 11825}, {\"stats_pageviews\": 11729}, {\"stats_pageviews\": 11121}, {\"stats_pageviews\": 10642}, {\"stats_pageviews\": 10427}, {\"stats_pageviews\": 9421}, {\"stats_pageviews\": 9332}, {\"stats_pageviews\": 8913}, {\"stats_pageviews\": 8762}, {\"stats_pageviews\": 8560}, {\"stats_pageviews\": 8379}, {\"stats_pageviews\": 8243}, {\"stats_pageviews\": 7627}, {\"stats_pageviews\": 7297}, {\"stats_pageviews\": 7024}, {\"stats_pageviews\": 6994}, {\"stats_pageviews\": 6454}, {\"stats_pageviews\": 5532}, {\"stats_pageviews\": 5374}, {\"stats_pageviews\": 5168}, {\"stats_pageviews\": 5024}, {\"stats_pageviews\": 86718}, {\"stats_pageviews\": 75254}, {\"stats_pageviews\": 48530}, {\"stats_pageviews\": 40828}, {\"stats_pageviews\": 37253}, {\"stats_pageviews\": 36960}, {\"stats_pageviews\": 36960}, {\"stats_pageviews\": 36943}, {\"stats_pageviews\": 36743}, {\"stats_pageviews\": 32428}, {\"stats_pageviews\": 30735}, {\"stats_pageviews\": 30158}, {\"stats_pageviews\": 29040}, {\"stats_pageviews\": 28616}, {\"stats_pageviews\": 28093}, {\"stats_pageviews\": 26294}, {\"stats_pageviews\": 25785}, {\"stats_pageviews\": 25394}, {\"stats_pageviews\": 24766}, {\"stats_pageviews\": 22899}, {\"stats_pageviews\": 21668}, {\"stats_pageviews\": 21347}, {\"stats_pageviews\": 20272}, {\"stats_pageviews\": 18437}, {\"stats_pageviews\": 15083}, {\"stats_pageviews\": 14015}, {\"stats_pageviews\": 14015}, {\"stats_pageviews\": 13271}, {\"stats_pageviews\": 10760}, {\"stats_pageviews\": 10743}, {\"stats_pageviews\": 9945}, {\"stats_pageviews\": 9507}, {\"stats_pageviews\": 9085}, {\"stats_pageviews\": 8478}, {\"stats_pageviews\": 6867}, {\"stats_pageviews\": 6864}, {\"stats_pageviews\": 6839}, {\"stats_pageviews\": 6803}, {\"stats_pageviews\": 6484}, {\"stats_pageviews\": 5621}, {\"stats_pageviews\": 38437}, {\"stats_pageviews\": 26881}, {\"stats_pageviews\": 19023}, {\"stats_pageviews\": 15897}, {\"stats_pageviews\": 11976}, {\"stats_pageviews\": 10997}, {\"stats_pageviews\": 9909}, {\"stats_pageviews\": 8551}, {\"stats_pageviews\": 7717}, {\"stats_pageviews\": 7559}, {\"stats_pageviews\": 5598}, {\"stats_pageviews\": 5395}, {\"stats_pageviews\": 313202}, {\"stats_pageviews\": 207568}, {\"stats_pageviews\": 105077}, {\"stats_pageviews\": 54951}, {\"stats_pageviews\": 48938}, {\"stats_pageviews\": 48134}, {\"stats_pageviews\": 25369}, {\"stats_pageviews\": 24093}, {\"stats_pageviews\": 23970}, {\"stats_pageviews\": 22420}, {\"stats_pageviews\": 22133}, {\"stats_pageviews\": 22059}, {\"stats_pageviews\": 21699}, {\"stats_pageviews\": 19859}, {\"stats_pageviews\": 19258}, {\"stats_pageviews\": 18860}, {\"stats_pageviews\": 18700}, {\"stats_pageviews\": 16734}, {\"stats_pageviews\": 16621}, {\"stats_pageviews\": 16491}, {\"stats_pageviews\": 16281}, {\"stats_pageviews\": 16007}, {\"stats_pageviews\": 15997}, {\"stats_pageviews\": 14309}, {\"stats_pageviews\": 14121}, {\"stats_pageviews\": 13223}, {\"stats_pageviews\": 12908}, {\"stats_pageviews\": 12778}, {\"stats_pageviews\": 12732}, {\"stats_pageviews\": 12050}, {\"stats_pageviews\": 11779}, {\"stats_pageviews\": 11661}, {\"stats_pageviews\": 11340}, {\"stats_pageviews\": 10955}, {\"stats_pageviews\": 10571}, {\"stats_pageviews\": 10563}, {\"stats_pageviews\": 10347}, {\"stats_pageviews\": 10256}, {\"stats_pageviews\": 9867}, {\"stats_pageviews\": 9448}, {\"stats_pageviews\": 9314}, {\"stats_pageviews\": 7957}, {\"stats_pageviews\": 7707}, {\"stats_pageviews\": 7604}, {\"stats_pageviews\": 7459}, {\"stats_pageviews\": 6660}, {\"stats_pageviews\": 6655}, {\"stats_pageviews\": 6589}, {\"stats_pageviews\": 6126}, {\"stats_pageviews\": 6065}, {\"stats_pageviews\": 5932}, {\"stats_pageviews\": 5868}, {\"stats_pageviews\": 5540}, {\"stats_pageviews\": 5321}, {\"stats_pageviews\": 5143}, {\"stats_pageviews\": 44135}, {\"stats_pageviews\": 34785}, {\"stats_pageviews\": 33851}, {\"stats_pageviews\": 26070}, {\"stats_pageviews\": 25210}, {\"stats_pageviews\": 20133}, {\"stats_pageviews\": 10318}, {\"stats_pageviews\": 9562}, {\"stats_pageviews\": 7779}, {\"stats_pageviews\": 7518}, {\"stats_pageviews\": 7345}, {\"stats_pageviews\": 6036}, {\"stats_pageviews\": 5972}, {\"stats_pageviews\": 5182}, {\"stats_pageviews\": 287622}, {\"stats_pageviews\": 254747}, {\"stats_pageviews\": 202869}, {\"stats_pageviews\": 179893}, {\"stats_pageviews\": 171006}, {\"stats_pageviews\": 149089}, {\"stats_pageviews\": 143374}, {\"stats_pageviews\": 107163}, {\"stats_pageviews\": 104387}, {\"stats_pageviews\": 101850}, {\"stats_pageviews\": 98021}, {\"stats_pageviews\": 89228}, {\"stats_pageviews\": 83755}, {\"stats_pageviews\": 73267}, {\"stats_pageviews\": 68682}, {\"stats_pageviews\": 59508}, {\"stats_pageviews\": 55848}, {\"stats_pageviews\": 55219}, {\"stats_pageviews\": 55166}, {\"stats_pageviews\": 54951}, {\"stats_pageviews\": 51345}, {\"stats_pageviews\": 50616}, {\"stats_pageviews\": 50153}, {\"stats_pageviews\": 49085}, {\"stats_pageviews\": 47726}, {\"stats_pageviews\": 47703}, {\"stats_pageviews\": 43198}, {\"stats_pageviews\": 41269}, {\"stats_pageviews\": 41376}, {\"stats_pageviews\": 40826}, {\"stats_pageviews\": 37728}, {\"stats_pageviews\": 37371}, {\"stats_pageviews\": 37208}, {\"stats_pageviews\": 37018}, {\"stats_pageviews\": 36683}, {\"stats_pageviews\": 36637}, {\"stats_pageviews\": 34869}, {\"stats_pageviews\": 34108}, {\"stats_pageviews\": 32720}, {\"stats_pageviews\": 32709}, {\"stats_pageviews\": 32451}, {\"stats_pageviews\": 31306}, {\"stats_pageviews\": 29863}, {\"stats_pageviews\": 28379}, {\"stats_pageviews\": 28187}, {\"stats_pageviews\": 27948}, {\"stats_pageviews\": 26700}, {\"stats_pageviews\": 26639}, {\"stats_pageviews\": 24342}, {\"stats_pageviews\": 24252}, {\"stats_pageviews\": 23604}, {\"stats_pageviews\": 23262}, {\"stats_pageviews\": 22537}, {\"stats_pageviews\": 21465}, {\"stats_pageviews\": 21232}, {\"stats_pageviews\": 21040}, {\"stats_pageviews\": 20161}, {\"stats_pageviews\": 19720}, {\"stats_pageviews\": 19054}, {\"stats_pageviews\": 18418}, {\"stats_pageviews\": 17856}, {\"stats_pageviews\": 17795}, {\"stats_pageviews\": 17657}, {\"stats_pageviews\": 17661}, {\"stats_pageviews\": 17337}, {\"stats_pageviews\": 16993}, {\"stats_pageviews\": 16976}, {\"stats_pageviews\": 16231}, {\"stats_pageviews\": 16208}, {\"stats_pageviews\": 15711}, {\"stats_pageviews\": 15734}, {\"stats_pageviews\": 15504}, {\"stats_pageviews\": 15208}, {\"stats_pageviews\": 14860}, {\"stats_pageviews\": 14163}, {\"stats_pageviews\": 13837}, {\"stats_pageviews\": 13403}, {\"stats_pageviews\": 13386}, {\"stats_pageviews\": 12695}, {\"stats_pageviews\": 12271}, {\"stats_pageviews\": 11909}, {\"stats_pageviews\": 11734}, {\"stats_pageviews\": 10470}, {\"stats_pageviews\": 9835}, {\"stats_pageviews\": 9646}, {\"stats_pageviews\": 9287}, {\"stats_pageviews\": 9282}, {\"stats_pageviews\": 9067}, {\"stats_pageviews\": 8977}, {\"stats_pageviews\": 8669}, {\"stats_pageviews\": 8390}, {\"stats_pageviews\": 8010}, {\"stats_pageviews\": 7855}, {\"stats_pageviews\": 7772}, {\"stats_pageviews\": 7065}, {\"stats_pageviews\": 6999}, {\"stats_pageviews\": 6953}, {\"stats_pageviews\": 6661}, {\"stats_pageviews\": 6652}, {\"stats_pageviews\": 6642}, {\"stats_pageviews\": 5554}, {\"stats_pageviews\": 37461}, {\"stats_pageviews\": 19485}, {\"stats_pageviews\": 17711}, {\"stats_pageviews\": 14236}, {\"stats_pageviews\": 9729}, {\"stats_pageviews\": 7965}, {\"stats_pageviews\": 6708}, {\"stats_pageviews\": 109736}, {\"stats_pageviews\": 29598}, {\"stats_pageviews\": 24349}, {\"stats_pageviews\": 23983}, {\"stats_pageviews\": 19389}, {\"stats_pageviews\": 18431}, {\"stats_pageviews\": 17408}, {\"stats_pageviews\": 12683}, {\"stats_pageviews\": 10578}, {\"stats_pageviews\": 9686}, {\"stats_pageviews\": 8963}, {\"stats_pageviews\": 8837}, {\"stats_pageviews\": 8663}, {\"stats_pageviews\": 8278}, {\"stats_pageviews\": 7354}, {\"stats_pageviews\": 7313}, {\"stats_pageviews\": 7110}, {\"stats_pageviews\": 6702}, {\"stats_pageviews\": 6567}, {\"stats_pageviews\": 6484}, {\"stats_pageviews\": 6313}, {\"stats_pageviews\": 5559}, {\"stats_pageviews\": 5454}, {\"stats_pageviews\": 5203}, {\"stats_pageviews\": 5114}, {\"stats_pageviews\": 5111}, {\"stats_pageviews\": 326162}, {\"stats_pageviews\": 177471}, {\"stats_pageviews\": 168425}, {\"stats_pageviews\": 147944}, {\"stats_pageviews\": 127040}, {\"stats_pageviews\": 108213}, {\"stats_pageviews\": 97423}, {\"stats_pageviews\": 85826}, {\"stats_pageviews\": 80378}, {\"stats_pageviews\": 75701}, {\"stats_pageviews\": 75507}, {\"stats_pageviews\": 74019}, {\"stats_pageviews\": 72157}, {\"stats_pageviews\": 71653}, {\"stats_pageviews\": 71517}, {\"stats_pageviews\": 68124}, {\"stats_pageviews\": 64942}, {\"stats_pageviews\": 64310}, {\"stats_pageviews\": 61973}, {\"stats_pageviews\": 59511}, {\"stats_pageviews\": 59119}, {\"stats_pageviews\": 57591}, {\"stats_pageviews\": 56015}, {\"stats_pageviews\": 55197}, {\"stats_pageviews\": 54150}, {\"stats_pageviews\": 51748}, {\"stats_pageviews\": 48797}, {\"stats_pageviews\": 48391}, {\"stats_pageviews\": 47589}, {\"stats_pageviews\": 47151}, {\"stats_pageviews\": 46638}, {\"stats_pageviews\": 45764}, {\"stats_pageviews\": 42827}, {\"stats_pageviews\": 41510}, {\"stats_pageviews\": 40527}, {\"stats_pageviews\": 39088}, {\"stats_pageviews\": 38209}, {\"stats_pageviews\": 37420}, {\"stats_pageviews\": 36159}, {\"stats_pageviews\": 34946}, {\"stats_pageviews\": 33172}, {\"stats_pageviews\": 32484}, {\"stats_pageviews\": 32320}, {\"stats_pageviews\": 31507}, {\"stats_pageviews\": 30504}, {\"stats_pageviews\": 30414}, {\"stats_pageviews\": 30027}, {\"stats_pageviews\": 29071}, {\"stats_pageviews\": 28912}, {\"stats_pageviews\": 28772}, {\"stats_pageviews\": 26120}, {\"stats_pageviews\": 25953}, {\"stats_pageviews\": 25814}, {\"stats_pageviews\": 25702}, {\"stats_pageviews\": 24939}, {\"stats_pageviews\": 24683}, {\"stats_pageviews\": 24448}, {\"stats_pageviews\": 24422}, {\"stats_pageviews\": 23929}, {\"stats_pageviews\": 23912}, {\"stats_pageviews\": 23897}, {\"stats_pageviews\": 23327}, {\"stats_pageviews\": 22917}, {\"stats_pageviews\": 22835}, {\"stats_pageviews\": 22513}, {\"stats_pageviews\": 22017}, {\"stats_pageviews\": 21216}, {\"stats_pageviews\": 20646}, {\"stats_pageviews\": 20451}, {\"stats_pageviews\": 20340}, {\"stats_pageviews\": 19721}, {\"stats_pageviews\": 18981}, {\"stats_pageviews\": 18697}, {\"stats_pageviews\": 18171}, {\"stats_pageviews\": 17631}, {\"stats_pageviews\": 17588}, {\"stats_pageviews\": 15906}, {\"stats_pageviews\": 15675}, {\"stats_pageviews\": 15660}, {\"stats_pageviews\": 14485}, {\"stats_pageviews\": 13659}, {\"stats_pageviews\": 13261}, {\"stats_pageviews\": 12161}, {\"stats_pageviews\": 11869}, {\"stats_pageviews\": 11191}, {\"stats_pageviews\": 10796}, {\"stats_pageviews\": 10372}, {\"stats_pageviews\": 9450}, {\"stats_pageviews\": 8722}, {\"stats_pageviews\": 6663}, {\"stats_pageviews\": 6341}, {\"stats_pageviews\": 131920}, {\"stats_pageviews\": 82204}, {\"stats_pageviews\": 31601}, {\"stats_pageviews\": 17512}, {\"stats_pageviews\": 16726}, {\"stats_pageviews\": 14363}, {\"stats_pageviews\": 11246}, {\"stats_pageviews\": 10911}, {\"stats_pageviews\": 8263}, {\"stats_pageviews\": 7696}, {\"stats_pageviews\": 7643}, {\"stats_pageviews\": 7519}, {\"stats_pageviews\": 7474}, {\"stats_pageviews\": 7377}, {\"stats_pageviews\": 6552}, {\"stats_pageviews\": 5900}, {\"stats_pageviews\": 5331}, {\"stats_pageviews\": 144361}, {\"stats_pageviews\": 122611}, {\"stats_pageviews\": 100485}, {\"stats_pageviews\": 100375}, {\"stats_pageviews\": 95434}, {\"stats_pageviews\": 92185}, {\"stats_pageviews\": 89014}, {\"stats_pageviews\": 86460}, {\"stats_pageviews\": 83733}, {\"stats_pageviews\": 61684}, {\"stats_pageviews\": 61071}, {\"stats_pageviews\": 52955}, {\"stats_pageviews\": 49953}, {\"stats_pageviews\": 46508}, {\"stats_pageviews\": 46038}, {\"stats_pageviews\": 44898}, {\"stats_pageviews\": 44272}, {\"stats_pageviews\": 40220}, {\"stats_pageviews\": 39897}, {\"stats_pageviews\": 39298}, {\"stats_pageviews\": 39225}, {\"stats_pageviews\": 38469}, {\"stats_pageviews\": 38253}, {\"stats_pageviews\": 36876}, {\"stats_pageviews\": 36585}, {\"stats_pageviews\": 36004}, {\"stats_pageviews\": 35788}, {\"stats_pageviews\": 35697}, {\"stats_pageviews\": 35582}, {\"stats_pageviews\": 35015}, {\"stats_pageviews\": 34931}, {\"stats_pageviews\": 34849}, {\"stats_pageviews\": 34849}, {\"stats_pageviews\": 34726}, {\"stats_pageviews\": 33522}, {\"stats_pageviews\": 33141}, {\"stats_pageviews\": 31937}, {\"stats_pageviews\": 31698}, {\"stats_pageviews\": 31178}, {\"stats_pageviews\": 30835}, {\"stats_pageviews\": 29736}, {\"stats_pageviews\": 28892}, {\"stats_pageviews\": 28803}, {\"stats_pageviews\": 28133}, {\"stats_pageviews\": 26424}, {\"stats_pageviews\": 25283}, {\"stats_pageviews\": 24894}, {\"stats_pageviews\": 24333}, {\"stats_pageviews\": 24144}, {\"stats_pageviews\": 23287}, {\"stats_pageviews\": 23204}, {\"stats_pageviews\": 23174}, {\"stats_pageviews\": 21782}, {\"stats_pageviews\": 21776}, {\"stats_pageviews\": 21398}, {\"stats_pageviews\": 21149}, {\"stats_pageviews\": 20867}, {\"stats_pageviews\": 20859}, {\"stats_pageviews\": 20818}, {\"stats_pageviews\": 20277}, {\"stats_pageviews\": 20088}, {\"stats_pageviews\": 19380}, {\"stats_pageviews\": 19202}, {\"stats_pageviews\": 18947}, {\"stats_pageviews\": 18634}, {\"stats_pageviews\": 18435}, {\"stats_pageviews\": 18119}, {\"stats_pageviews\": 18029}, {\"stats_pageviews\": 17906}, {\"stats_pageviews\": 17591}, {\"stats_pageviews\": 17368}, {\"stats_pageviews\": 17272}, {\"stats_pageviews\": 16775}, {\"stats_pageviews\": 16167}, {\"stats_pageviews\": 16089}, {\"stats_pageviews\": 16020}, {\"stats_pageviews\": 15493}, {\"stats_pageviews\": 15316}, {\"stats_pageviews\": 15021}, {\"stats_pageviews\": 14381}, {\"stats_pageviews\": 14060}, {\"stats_pageviews\": 14055}, {\"stats_pageviews\": 13849}, {\"stats_pageviews\": 13295}, {\"stats_pageviews\": 13155}, {\"stats_pageviews\": 13145}, {\"stats_pageviews\": 12878}, {\"stats_pageviews\": 12694}, {\"stats_pageviews\": 12694}, {\"stats_pageviews\": 12593}, {\"stats_pageviews\": 12565}, {\"stats_pageviews\": 12346}, {\"stats_pageviews\": 12144}, {\"stats_pageviews\": 12125}, {\"stats_pageviews\": 11951}, {\"stats_pageviews\": 11723}, {\"stats_pageviews\": 11341}, {\"stats_pageviews\": 11037}, {\"stats_pageviews\": 10975}, {\"stats_pageviews\": 10701}, {\"stats_pageviews\": 10565}, {\"stats_pageviews\": 10447}, {\"stats_pageviews\": 10277}, {\"stats_pageviews\": 10075}, {\"stats_pageviews\": 10033}, {\"stats_pageviews\": 9781}, {\"stats_pageviews\": 9599}, {\"stats_pageviews\": 9505}, {\"stats_pageviews\": 9256}, {\"stats_pageviews\": 8834}, {\"stats_pageviews\": 8591}, {\"stats_pageviews\": 8389}, {\"stats_pageviews\": 8335}, {\"stats_pageviews\": 7897}, {\"stats_pageviews\": 7825}, {\"stats_pageviews\": 7650}, {\"stats_pageviews\": 7546}, {\"stats_pageviews\": 7321}, {\"stats_pageviews\": 7021}, {\"stats_pageviews\": 6904}, {\"stats_pageviews\": 6890}, {\"stats_pageviews\": 6618}, {\"stats_pageviews\": 6596}, {\"stats_pageviews\": 6551}, {\"stats_pageviews\": 6500}, {\"stats_pageviews\": 6379}, {\"stats_pageviews\": 6175}, {\"stats_pageviews\": 6162}, {\"stats_pageviews\": 6106}, {\"stats_pageviews\": 5867}, {\"stats_pageviews\": 5533}, {\"stats_pageviews\": 5474}, {\"stats_pageviews\": 5358}, {\"stats_pageviews\": 5321}, {\"stats_pageviews\": 5181}, {\"stats_pageviews\": 5122}, {\"stats_pageviews\": 5051}, {\"stats_pageviews\": 5043}, {\"stats_pageviews\": 94111}, {\"stats_pageviews\": 69852}, {\"stats_pageviews\": 61527}, {\"stats_pageviews\": 56005}, {\"stats_pageviews\": 55949}, {\"stats_pageviews\": 42054}, {\"stats_pageviews\": 39751}, {\"stats_pageviews\": 27971}, {\"stats_pageviews\": 22040}, {\"stats_pageviews\": 21497}, {\"stats_pageviews\": 21456}, {\"stats_pageviews\": 21084}, {\"stats_pageviews\": 20436}, {\"stats_pageviews\": 19424}, {\"stats_pageviews\": 17497}, {\"stats_pageviews\": 16303}, {\"stats_pageviews\": 15727}, {\"stats_pageviews\": 9976}, {\"stats_pageviews\": 9055}, {\"stats_pageviews\": 8873}, {\"stats_pageviews\": 8275}, {\"stats_pageviews\": 7424}, {\"stats_pageviews\": 7145}, {\"stats_pageviews\": 6396}, {\"stats_pageviews\": 6054}, {\"stats_pageviews\": 6012}, {\"stats_pageviews\": 5878}, {\"stats_pageviews\": 5825}, {\"stats_pageviews\": 5761}, {\"stats_pageviews\": 5442}, {\"stats_pageviews\": 5087}, {\"stats_pageviews\": 65811}, {\"stats_pageviews\": 50723}, {\"stats_pageviews\": 43859}, {\"stats_pageviews\": 43585}, {\"stats_pageviews\": 43369}, {\"stats_pageviews\": 39051}, {\"stats_pageviews\": 37675}, {\"stats_pageviews\": 35913}, {\"stats_pageviews\": 31814}, {\"stats_pageviews\": 30248}, {\"stats_pageviews\": 29593}, {\"stats_pageviews\": 28693}, {\"stats_pageviews\": 26164}, {\"stats_pageviews\": 24978}, {\"stats_pageviews\": 24572}, {\"stats_pageviews\": 21091}, {\"stats_pageviews\": 20934}, {\"stats_pageviews\": 19640}, {\"stats_pageviews\": 19157}, {\"stats_pageviews\": 18541}, {\"stats_pageviews\": 18077}, {\"stats_pageviews\": 17843}, {\"stats_pageviews\": 17267}, {\"stats_pageviews\": 16827}, {\"stats_pageviews\": 16710}, {\"stats_pageviews\": 16490}, {\"stats_pageviews\": 16468}, {\"stats_pageviews\": 15540}, {\"stats_pageviews\": 14165}, {\"stats_pageviews\": 13522}, {\"stats_pageviews\": 13487}, {\"stats_pageviews\": 13026}, {\"stats_pageviews\": 12088}, {\"stats_pageviews\": 12057}, {\"stats_pageviews\": 11119}, {\"stats_pageviews\": 11079}, {\"stats_pageviews\": 10531}, {\"stats_pageviews\": 10342}, {\"stats_pageviews\": 10049}, {\"stats_pageviews\": 9779}, {\"stats_pageviews\": 9605}, {\"stats_pageviews\": 9417}, {\"stats_pageviews\": 9399}, {\"stats_pageviews\": 9046}, {\"stats_pageviews\": 8458}, {\"stats_pageviews\": 8325}, {\"stats_pageviews\": 8161}, {\"stats_pageviews\": 8118}, {\"stats_pageviews\": 7987}, {\"stats_pageviews\": 7660}, {\"stats_pageviews\": 7497}, {\"stats_pageviews\": 7285}, {\"stats_pageviews\": 7135}, {\"stats_pageviews\": 6043}, {\"stats_pageviews\": 6029}, {\"stats_pageviews\": 5834}, {\"stats_pageviews\": 5514}, {\"stats_pageviews\": 5180}, {\"stats_pageviews\": 5040}, {\"stats_pageviews\": 8401}, {\"stats_pageviews\": 6596}, {\"stats_pageviews\": 6209}, {\"stats_pageviews\": 5772}, {\"stats_pageviews\": 327624}, {\"stats_pageviews\": 258765}, {\"stats_pageviews\": 230104}, {\"stats_pageviews\": 219201}, {\"stats_pageviews\": 182956}, {\"stats_pageviews\": 164328}, {\"stats_pageviews\": 146991}, {\"stats_pageviews\": 144639}, {\"stats_pageviews\": 143481}, {\"stats_pageviews\": 138915}, {\"stats_pageviews\": 135095}, {\"stats_pageviews\": 127739}, {\"stats_pageviews\": 121593}, {\"stats_pageviews\": 115959}, {\"stats_pageviews\": 114994}, {\"stats_pageviews\": 112964}, {\"stats_pageviews\": 110419}, {\"stats_pageviews\": 104463}, {\"stats_pageviews\": 103555}, {\"stats_pageviews\": 101649}, {\"stats_pageviews\": 101140}, {\"stats_pageviews\": 95496}, {\"stats_pageviews\": 95002}, {\"stats_pageviews\": 94485}, {\"stats_pageviews\": 93049}, {\"stats_pageviews\": 91522}, {\"stats_pageviews\": 88995}, {\"stats_pageviews\": 87206}, {\"stats_pageviews\": 83391}, {\"stats_pageviews\": 82161}, {\"stats_pageviews\": 80163}, {\"stats_pageviews\": 78239}, {\"stats_pageviews\": 77094}, {\"stats_pageviews\": 76453}, {\"stats_pageviews\": 76199}, {\"stats_pageviews\": 74896}, {\"stats_pageviews\": 73770}, {\"stats_pageviews\": 72067}, {\"stats_pageviews\": 70683}, {\"stats_pageviews\": 70034}, {\"stats_pageviews\": 66992}, {\"stats_pageviews\": 65728}, {\"stats_pageviews\": 62122}, {\"stats_pageviews\": 62040}, {\"stats_pageviews\": 57945}, {\"stats_pageviews\": 54946}, {\"stats_pageviews\": 53517}, {\"stats_pageviews\": 52092}, {\"stats_pageviews\": 51638}, {\"stats_pageviews\": 50047}, {\"stats_pageviews\": 49799}, {\"stats_pageviews\": 49027}, {\"stats_pageviews\": 48343}, {\"stats_pageviews\": 46900}, {\"stats_pageviews\": 46679}, {\"stats_pageviews\": 45345}, {\"stats_pageviews\": 45309}, {\"stats_pageviews\": 42921}, {\"stats_pageviews\": 41544}, {\"stats_pageviews\": 40586}, {\"stats_pageviews\": 39890}, {\"stats_pageviews\": 38918}, {\"stats_pageviews\": 37692}, {\"stats_pageviews\": 34075}, {\"stats_pageviews\": 33404}, {\"stats_pageviews\": 33305}, {\"stats_pageviews\": 32581}, {\"stats_pageviews\": 30910}, {\"stats_pageviews\": 29511}, {\"stats_pageviews\": 28467}, {\"stats_pageviews\": 27492}, {\"stats_pageviews\": 25662}, {\"stats_pageviews\": 23690}, {\"stats_pageviews\": 22291}, {\"stats_pageviews\": 21790}, {\"stats_pageviews\": 19125}, {\"stats_pageviews\": 18704}, {\"stats_pageviews\": 14852}, {\"stats_pageviews\": 12338}, {\"stats_pageviews\": 11890}, {\"stats_pageviews\": 9996}, {\"stats_pageviews\": 9916}, {\"stats_pageviews\": 9781}, {\"stats_pageviews\": 7837}, {\"stats_pageviews\": 84055}, {\"stats_pageviews\": 60893}, {\"stats_pageviews\": 34369}, {\"stats_pageviews\": 30069}, {\"stats_pageviews\": 23831}, {\"stats_pageviews\": 22327}, {\"stats_pageviews\": 22147}, {\"stats_pageviews\": 21732}, {\"stats_pageviews\": 19371}, {\"stats_pageviews\": 16531}, {\"stats_pageviews\": 13579}, {\"stats_pageviews\": 12217}, {\"stats_pageviews\": 11338}, {\"stats_pageviews\": 9878}, {\"stats_pageviews\": 9310}, {\"stats_pageviews\": 7283}, {\"stats_pageviews\": 7181}, {\"stats_pageviews\": 7135}, {\"stats_pageviews\": 5963}, {\"stats_pageviews\": 5726}, {\"stats_pageviews\": 5176}, {\"stats_pageviews\": 5126}, {\"stats_pageviews\": 7054}, {\"stats_pageviews\": 5858}, {\"stats_pageviews\": 137520}, {\"stats_pageviews\": 56220}, {\"stats_pageviews\": 45625}, {\"stats_pageviews\": 41159}, {\"stats_pageviews\": 25638}, {\"stats_pageviews\": 25526}, {\"stats_pageviews\": 24152}, {\"stats_pageviews\": 22128}, {\"stats_pageviews\": 20894}, {\"stats_pageviews\": 20351}, {\"stats_pageviews\": 18268}, {\"stats_pageviews\": 16346}, {\"stats_pageviews\": 13980}, {\"stats_pageviews\": 13264}, {\"stats_pageviews\": 11194}, {\"stats_pageviews\": 10278}, {\"stats_pageviews\": 10145}, {\"stats_pageviews\": 9895}, {\"stats_pageviews\": 9829}, {\"stats_pageviews\": 9169}, {\"stats_pageviews\": 8961}, {\"stats_pageviews\": 8872}, {\"stats_pageviews\": 8593}, {\"stats_pageviews\": 7992}, {\"stats_pageviews\": 7588}, {\"stats_pageviews\": 7470}, {\"stats_pageviews\": 6922}, {\"stats_pageviews\": 6671}, {\"stats_pageviews\": 6562}, {\"stats_pageviews\": 6277}, {\"stats_pageviews\": 6248}, {\"stats_pageviews\": 5808}, {\"stats_pageviews\": 5671}, {\"stats_pageviews\": 5560}, {\"stats_pageviews\": 5399}, {\"stats_pageviews\": 5182}, {\"stats_pageviews\": 5140}, {\"stats_pageviews\": 5007}, {\"stats_pageviews\": 89042}, {\"stats_pageviews\": 77163}, {\"stats_pageviews\": 61470}, {\"stats_pageviews\": 59623}, {\"stats_pageviews\": 57418}, {\"stats_pageviews\": 53620}, {\"stats_pageviews\": 50771}, {\"stats_pageviews\": 40918}, {\"stats_pageviews\": 40121}, {\"stats_pageviews\": 37818}, {\"stats_pageviews\": 34189}, {\"stats_pageviews\": 30711}, {\"stats_pageviews\": 25736}, {\"stats_pageviews\": 24475}, {\"stats_pageviews\": 24181}, {\"stats_pageviews\": 23666}, {\"stats_pageviews\": 21547}, {\"stats_pageviews\": 20156}, {\"stats_pageviews\": 17293}, {\"stats_pageviews\": 17024}, {\"stats_pageviews\": 15131}, {\"stats_pageviews\": 14024}, {\"stats_pageviews\": 13684}, {\"stats_pageviews\": 13649}, {\"stats_pageviews\": 13586}, {\"stats_pageviews\": 12666}, {\"stats_pageviews\": 11462}, {\"stats_pageviews\": 10432}, {\"stats_pageviews\": 9713}, {\"stats_pageviews\": 9596}, {\"stats_pageviews\": 9064}, {\"stats_pageviews\": 8995}, {\"stats_pageviews\": 8303}, {\"stats_pageviews\": 8113}, {\"stats_pageviews\": 7801}, {\"stats_pageviews\": 7401}, {\"stats_pageviews\": 6772}, {\"stats_pageviews\": 6640}, {\"stats_pageviews\": 6587}, {\"stats_pageviews\": 6443}, {\"stats_pageviews\": 6386}, {\"stats_pageviews\": 6314}, {\"stats_pageviews\": 6236}, {\"stats_pageviews\": 5670}, {\"stats_pageviews\": 5559}, {\"stats_pageviews\": 5439}, {\"stats_pageviews\": 177766}, {\"stats_pageviews\": 80767}, {\"stats_pageviews\": 60169}, {\"stats_pageviews\": 35610}, {\"stats_pageviews\": 19974}, {\"stats_pageviews\": 18184}, {\"stats_pageviews\": 14011}, {\"stats_pageviews\": 13143}, {\"stats_pageviews\": 9586}, {\"stats_pageviews\": 9261}, {\"stats_pageviews\": 9123}, {\"stats_pageviews\": 8653}, {\"stats_pageviews\": 6823}, {\"stats_pageviews\": 6457}, {\"stats_pageviews\": 6290}, {\"stats_pageviews\": 5492}, {\"stats_pageviews\": 5404}, {\"stats_pageviews\": 5378}, {\"stats_pageviews\": 762450}, {\"stats_pageviews\": 250916}, {\"stats_pageviews\": 229964}, {\"stats_pageviews\": 228675}, {\"stats_pageviews\": 220129}, {\"stats_pageviews\": 202803}, {\"stats_pageviews\": 167938}, {\"stats_pageviews\": 166906}, {\"stats_pageviews\": 151917}, {\"stats_pageviews\": 142994}, {\"stats_pageviews\": 140654}, {\"stats_pageviews\": 137582}, {\"stats_pageviews\": 136672}, {\"stats_pageviews\": 132326}, {\"stats_pageviews\": 130360}, {\"stats_pageviews\": 128903}, {\"stats_pageviews\": 127073}, {\"stats_pageviews\": 120991}, {\"stats_pageviews\": 117600}, {\"stats_pageviews\": 112525}, {\"stats_pageviews\": 111987}, {\"stats_pageviews\": 110302}, {\"stats_pageviews\": 103309}, {\"stats_pageviews\": 97944}, {\"stats_pageviews\": 97208}, {\"stats_pageviews\": 91659}, {\"stats_pageviews\": 87005}, {\"stats_pageviews\": 86297}, {\"stats_pageviews\": 84165}, {\"stats_pageviews\": 83579}, {\"stats_pageviews\": 82869}, {\"stats_pageviews\": 82471}, {\"stats_pageviews\": 81029}, {\"stats_pageviews\": 80083}, {\"stats_pageviews\": 79787}, {\"stats_pageviews\": 78151}, {\"stats_pageviews\": 78082}, {\"stats_pageviews\": 76386}, {\"stats_pageviews\": 75082}, {\"stats_pageviews\": 74198}, {\"stats_pageviews\": 74081}, {\"stats_pageviews\": 70808}, {\"stats_pageviews\": 70666}, {\"stats_pageviews\": 70041}, {\"stats_pageviews\": 68663}, {\"stats_pageviews\": 68308}, {\"stats_pageviews\": 68053}, {\"stats_pageviews\": 66745}, {\"stats_pageviews\": 66495}, {\"stats_pageviews\": 65962}, {\"stats_pageviews\": 65328}, {\"stats_pageviews\": 65172}, {\"stats_pageviews\": 62592}, {\"stats_pageviews\": 61912}, {\"stats_pageviews\": 61721}, {\"stats_pageviews\": 61707}, {\"stats_pageviews\": 61607}, {\"stats_pageviews\": 60662}, {\"stats_pageviews\": 60541}, {\"stats_pageviews\": 60229}, {\"stats_pageviews\": 60175}, {\"stats_pageviews\": 58792}, {\"stats_pageviews\": 58770}, {\"stats_pageviews\": 58410}, {\"stats_pageviews\": 57854}, {\"stats_pageviews\": 57839}, {\"stats_pageviews\": 57614}, {\"stats_pageviews\": 57116}, {\"stats_pageviews\": 57103}, {\"stats_pageviews\": 56611}, {\"stats_pageviews\": 55600}, {\"stats_pageviews\": 55486}, {\"stats_pageviews\": 55016}, {\"stats_pageviews\": 54750}, {\"stats_pageviews\": 54402}, {\"stats_pageviews\": 54103}, {\"stats_pageviews\": 54068}, {\"stats_pageviews\": 52192}, {\"stats_pageviews\": 51295}, {\"stats_pageviews\": 50745}, {\"stats_pageviews\": 49560}, {\"stats_pageviews\": 49232}, {\"stats_pageviews\": 46621}, {\"stats_pageviews\": 45752}, {\"stats_pageviews\": 45460}, {\"stats_pageviews\": 45448}, {\"stats_pageviews\": 43721}, {\"stats_pageviews\": 43663}, {\"stats_pageviews\": 43533}, {\"stats_pageviews\": 43353}, {\"stats_pageviews\": 43000}, {\"stats_pageviews\": 42630}, {\"stats_pageviews\": 42591}, {\"stats_pageviews\": 41758}, {\"stats_pageviews\": 41556}, {\"stats_pageviews\": 40990}, {\"stats_pageviews\": 40950}, {\"stats_pageviews\": 40794}, {\"stats_pageviews\": 40602}, {\"stats_pageviews\": 40306}, {\"stats_pageviews\": 40105}, {\"stats_pageviews\": 40062}, {\"stats_pageviews\": 39710}, {\"stats_pageviews\": 39512}, {\"stats_pageviews\": 38984}, {\"stats_pageviews\": 38920}, {\"stats_pageviews\": 38859}, {\"stats_pageviews\": 38666}, {\"stats_pageviews\": 38387}, {\"stats_pageviews\": 38215}, {\"stats_pageviews\": 37887}, {\"stats_pageviews\": 36933}, {\"stats_pageviews\": 36728}, {\"stats_pageviews\": 36661}, {\"stats_pageviews\": 36168}, {\"stats_pageviews\": 36055}, {\"stats_pageviews\": 35634}, {\"stats_pageviews\": 35575}, {\"stats_pageviews\": 33939}, {\"stats_pageviews\": 33893}, {\"stats_pageviews\": 33826}, {\"stats_pageviews\": 33756}, {\"stats_pageviews\": 33657}, {\"stats_pageviews\": 33290}, {\"stats_pageviews\": 32714}, {\"stats_pageviews\": 32575}, {\"stats_pageviews\": 32498}, {\"stats_pageviews\": 31668}, {\"stats_pageviews\": 31232}, {\"stats_pageviews\": 30921}, {\"stats_pageviews\": 30389}, {\"stats_pageviews\": 30353}, {\"stats_pageviews\": 29470}, {\"stats_pageviews\": 29299}, {\"stats_pageviews\": 28943}, {\"stats_pageviews\": 28863}, {\"stats_pageviews\": 28736}, {\"stats_pageviews\": 28632}, {\"stats_pageviews\": 28134}, {\"stats_pageviews\": 28103}, {\"stats_pageviews\": 28095}, {\"stats_pageviews\": 27634}, {\"stats_pageviews\": 27583}, {\"stats_pageviews\": 27166}, {\"stats_pageviews\": 26956}, {\"stats_pageviews\": 26952}, {\"stats_pageviews\": 26669}, {\"stats_pageviews\": 26370}, {\"stats_pageviews\": 26263}, {\"stats_pageviews\": 25906}, {\"stats_pageviews\": 25485}, {\"stats_pageviews\": 25002}, {\"stats_pageviews\": 24713}, {\"stats_pageviews\": 24560}, {\"stats_pageviews\": 24501}, {\"stats_pageviews\": 24428}, {\"stats_pageviews\": 23931}, {\"stats_pageviews\": 23910}, {\"stats_pageviews\": 23877}, {\"stats_pageviews\": 23838}, {\"stats_pageviews\": 23722}, {\"stats_pageviews\": 23634}, {\"stats_pageviews\": 23587}, {\"stats_pageviews\": 23381}, {\"stats_pageviews\": 23361}, {\"stats_pageviews\": 23266}, {\"stats_pageviews\": 22706}, {\"stats_pageviews\": 22628}, {\"stats_pageviews\": 22261}, {\"stats_pageviews\": 21305}, {\"stats_pageviews\": 21298}, {\"stats_pageviews\": 20762}, {\"stats_pageviews\": 20457}, {\"stats_pageviews\": 20443}, {\"stats_pageviews\": 20200}, {\"stats_pageviews\": 20181}, {\"stats_pageviews\": 20139}, {\"stats_pageviews\": 19777}, {\"stats_pageviews\": 19578}, {\"stats_pageviews\": 19445}, {\"stats_pageviews\": 19255}, {\"stats_pageviews\": 18834}, {\"stats_pageviews\": 18775}, {\"stats_pageviews\": 18723}, {\"stats_pageviews\": 18492}, {\"stats_pageviews\": 18234}, {\"stats_pageviews\": 18112}, {\"stats_pageviews\": 17904}, {\"stats_pageviews\": 17899}, {\"stats_pageviews\": 17740}, {\"stats_pageviews\": 17601}, {\"stats_pageviews\": 17051}, {\"stats_pageviews\": 17013}, {\"stats_pageviews\": 16735}, {\"stats_pageviews\": 16698}, {\"stats_pageviews\": 16638}, {\"stats_pageviews\": 16603}, {\"stats_pageviews\": 16334}, {\"stats_pageviews\": 16190}, {\"stats_pageviews\": 15846}, {\"stats_pageviews\": 15367}, {\"stats_pageviews\": 15338}, {\"stats_pageviews\": 14950}, {\"stats_pageviews\": 14890}, {\"stats_pageviews\": 14466}, {\"stats_pageviews\": 14435}, {\"stats_pageviews\": 14263}, {\"stats_pageviews\": 13759}, {\"stats_pageviews\": 13597}, {\"stats_pageviews\": 13565}, {\"stats_pageviews\": 13549}, {\"stats_pageviews\": 13077}, {\"stats_pageviews\": 12941}, {\"stats_pageviews\": 12889}, {\"stats_pageviews\": 12777}, {\"stats_pageviews\": 12668}, {\"stats_pageviews\": 12605}, {\"stats_pageviews\": 12425}, {\"stats_pageviews\": 12362}, {\"stats_pageviews\": 12345}, {\"stats_pageviews\": 12333}, {\"stats_pageviews\": 12200}, {\"stats_pageviews\": 12184}, {\"stats_pageviews\": 12116}, {\"stats_pageviews\": 12079}, {\"stats_pageviews\": 12026}, {\"stats_pageviews\": 11980}, {\"stats_pageviews\": 11613}, {\"stats_pageviews\": 11441}, {\"stats_pageviews\": 11424}, {\"stats_pageviews\": 10804}, {\"stats_pageviews\": 10693}, {\"stats_pageviews\": 10579}, {\"stats_pageviews\": 10539}, {\"stats_pageviews\": 10436}, {\"stats_pageviews\": 10303}, {\"stats_pageviews\": 10291}, {\"stats_pageviews\": 10204}, {\"stats_pageviews\": 10107}, {\"stats_pageviews\": 10038}, {\"stats_pageviews\": 10003}, {\"stats_pageviews\": 9799}, {\"stats_pageviews\": 9752}, {\"stats_pageviews\": 9574}, {\"stats_pageviews\": 9481}, {\"stats_pageviews\": 9446}, {\"stats_pageviews\": 9380}, {\"stats_pageviews\": 9235}, {\"stats_pageviews\": 8970}, {\"stats_pageviews\": 8906}, {\"stats_pageviews\": 8904}, {\"stats_pageviews\": 8832}, {\"stats_pageviews\": 8636}, {\"stats_pageviews\": 8294}, {\"stats_pageviews\": 8213}, {\"stats_pageviews\": 8175}, {\"stats_pageviews\": 8090}, {\"stats_pageviews\": 8077}, {\"stats_pageviews\": 7959}, {\"stats_pageviews\": 7860}, {\"stats_pageviews\": 7653}, {\"stats_pageviews\": 7620}, {\"stats_pageviews\": 7449}, {\"stats_pageviews\": 7434}, {\"stats_pageviews\": 7244}, {\"stats_pageviews\": 7193}, {\"stats_pageviews\": 7160}, {\"stats_pageviews\": 7086}, {\"stats_pageviews\": 6923}, {\"stats_pageviews\": 6863}, {\"stats_pageviews\": 6861}, {\"stats_pageviews\": 6860}, {\"stats_pageviews\": 6761}, {\"stats_pageviews\": 6677}, {\"stats_pageviews\": 6548}, {\"stats_pageviews\": 6478}, {\"stats_pageviews\": 6475}, {\"stats_pageviews\": 6400}, {\"stats_pageviews\": 6361}, {\"stats_pageviews\": 6337}, {\"stats_pageviews\": 6294}, {\"stats_pageviews\": 6127}, {\"stats_pageviews\": 6074}, {\"stats_pageviews\": 6058}, {\"stats_pageviews\": 5912}, {\"stats_pageviews\": 5876}, {\"stats_pageviews\": 5847}, {\"stats_pageviews\": 5780}, {\"stats_pageviews\": 5598}, {\"stats_pageviews\": 5544}, {\"stats_pageviews\": 5438}, {\"stats_pageviews\": 5373}, {\"stats_pageviews\": 114871}, {\"stats_pageviews\": 72353}, {\"stats_pageviews\": 57082}, {\"stats_pageviews\": 49665}, {\"stats_pageviews\": 44066}, {\"stats_pageviews\": 35754}, {\"stats_pageviews\": 29298}, {\"stats_pageviews\": 26485}, {\"stats_pageviews\": 24514}, {\"stats_pageviews\": 20314}, {\"stats_pageviews\": 19402}, {\"stats_pageviews\": 18230}, {\"stats_pageviews\": 16679}, {\"stats_pageviews\": 15919}, {\"stats_pageviews\": 14557}, {\"stats_pageviews\": 12781}, {\"stats_pageviews\": 12376}, {\"stats_pageviews\": 12163}, {\"stats_pageviews\": 9678}, {\"stats_pageviews\": 8852}, {\"stats_pageviews\": 8808}, {\"stats_pageviews\": 8325}, {\"stats_pageviews\": 7926}, {\"stats_pageviews\": 7912}, {\"stats_pageviews\": 7640}, {\"stats_pageviews\": 7337}, {\"stats_pageviews\": 6875}, {\"stats_pageviews\": 6550}, {\"stats_pageviews\": 6335}, {\"stats_pageviews\": 6151}, {\"stats_pageviews\": 5645}, {\"stats_pageviews\": 5064}, {\"stats_pageviews\": 318971}, {\"stats_pageviews\": 196054}, {\"stats_pageviews\": 147776}, {\"stats_pageviews\": 137153}, {\"stats_pageviews\": 132060}, {\"stats_pageviews\": 113804}, {\"stats_pageviews\": 110434}, {\"stats_pageviews\": 106627}, {\"stats_pageviews\": 86813}, {\"stats_pageviews\": 76151}, {\"stats_pageviews\": 66882}, {\"stats_pageviews\": 64913}, {\"stats_pageviews\": 59907}, {\"stats_pageviews\": 49616}, {\"stats_pageviews\": 49307}, {\"stats_pageviews\": 19657}, {\"stats_pageviews\": 11381}, {\"stats_pageviews\": 11335}, {\"stats_pageviews\": 10697}, {\"stats_pageviews\": 10620}, {\"stats_pageviews\": 9508}, {\"stats_pageviews\": 9486}, {\"stats_pageviews\": 5660}, {\"stats_pageviews\": 51119}, {\"stats_pageviews\": 34305}, {\"stats_pageviews\": 33451}, {\"stats_pageviews\": 33260}, {\"stats_pageviews\": 32110}, {\"stats_pageviews\": 30502}, {\"stats_pageviews\": 30412}, {\"stats_pageviews\": 30087}, {\"stats_pageviews\": 29072}, {\"stats_pageviews\": 26657}, {\"stats_pageviews\": 26597}, {\"stats_pageviews\": 25047}, {\"stats_pageviews\": 24633}, {\"stats_pageviews\": 23130}, {\"stats_pageviews\": 22823}, {\"stats_pageviews\": 22801}, {\"stats_pageviews\": 22389}, {\"stats_pageviews\": 19143}, {\"stats_pageviews\": 18586}, {\"stats_pageviews\": 18435}, {\"stats_pageviews\": 18212}, {\"stats_pageviews\": 18095}, {\"stats_pageviews\": 17793}, {\"stats_pageviews\": 16259}, {\"stats_pageviews\": 16108}, {\"stats_pageviews\": 16084}, {\"stats_pageviews\": 15329}, {\"stats_pageviews\": 15114}, {\"stats_pageviews\": 14656}, {\"stats_pageviews\": 14642}, {\"stats_pageviews\": 14615}, {\"stats_pageviews\": 14475}, {\"stats_pageviews\": 14206}, {\"stats_pageviews\": 13290}, {\"stats_pageviews\": 13247}, {\"stats_pageviews\": 13211}, {\"stats_pageviews\": 13048}, {\"stats_pageviews\": 12607}, {\"stats_pageviews\": 12353}, {\"stats_pageviews\": 11425}, {\"stats_pageviews\": 11293}, {\"stats_pageviews\": 10775}, {\"stats_pageviews\": 10626}, {\"stats_pageviews\": 10274}, {\"stats_pageviews\": 9930}, {\"stats_pageviews\": 9721}, {\"stats_pageviews\": 9489}, {\"stats_pageviews\": 9208}, {\"stats_pageviews\": 9134}, {\"stats_pageviews\": 8874}, {\"stats_pageviews\": 8694}, {\"stats_pageviews\": 8641}, {\"stats_pageviews\": 8500}, {\"stats_pageviews\": 8423}, {\"stats_pageviews\": 8336}, {\"stats_pageviews\": 8045}, {\"stats_pageviews\": 7951}, {\"stats_pageviews\": 7782}, {\"stats_pageviews\": 7778}, {\"stats_pageviews\": 7657}, {\"stats_pageviews\": 7595}, {\"stats_pageviews\": 7554}, {\"stats_pageviews\": 7419}, {\"stats_pageviews\": 7348}, {\"stats_pageviews\": 6565}, {\"stats_pageviews\": 6544}, {\"stats_pageviews\": 6404}, {\"stats_pageviews\": 6266}, {\"stats_pageviews\": 6098}, {\"stats_pageviews\": 6020}, {\"stats_pageviews\": 5927}, {\"stats_pageviews\": 5914}, {\"stats_pageviews\": 5787}, {\"stats_pageviews\": 5621}, {\"stats_pageviews\": 5586}, {\"stats_pageviews\": 5524}, {\"stats_pageviews\": 5425}, {\"stats_pageviews\": 5333}, {\"stats_pageviews\": 5224}, {\"stats_pageviews\": 5176}, {\"stats_pageviews\": 5165}, {\"stats_pageviews\": 5155}, {\"stats_pageviews\": 5144}, {\"stats_pageviews\": 5119}, {\"stats_pageviews\": 5101}, {\"stats_pageviews\": 5098}, {\"stats_pageviews\": 5093}, {\"stats_pageviews\": 5056}, {\"stats_pageviews\": 5028}, {\"stats_pageviews\": 27065}, {\"stats_pageviews\": 158557}, {\"stats_pageviews\": 148398}, {\"stats_pageviews\": 147694}, {\"stats_pageviews\": 111414}, {\"stats_pageviews\": 106162}, {\"stats_pageviews\": 87255}, {\"stats_pageviews\": 80999}, {\"stats_pageviews\": 78599}, {\"stats_pageviews\": 78113}, {\"stats_pageviews\": 73836}, {\"stats_pageviews\": 70310}, {\"stats_pageviews\": 68915}, {\"stats_pageviews\": 64192}, {\"stats_pageviews\": 54728}, {\"stats_pageviews\": 49927}, {\"stats_pageviews\": 48859}, {\"stats_pageviews\": 46662}, {\"stats_pageviews\": 45897}, {\"stats_pageviews\": 44893}, {\"stats_pageviews\": 44132}, {\"stats_pageviews\": 41844}, {\"stats_pageviews\": 41236}, {\"stats_pageviews\": 38720}, {\"stats_pageviews\": 38467}, {\"stats_pageviews\": 35556}, {\"stats_pageviews\": 34738}, {\"stats_pageviews\": 33951}, {\"stats_pageviews\": 33856}, {\"stats_pageviews\": 32926}, {\"stats_pageviews\": 32548}, {\"stats_pageviews\": 32421}, {\"stats_pageviews\": 31825}, {\"stats_pageviews\": 31470}, {\"stats_pageviews\": 31354}, {\"stats_pageviews\": 29218}, {\"stats_pageviews\": 28990}, {\"stats_pageviews\": 28970}, {\"stats_pageviews\": 28960}, {\"stats_pageviews\": 28758}, {\"stats_pageviews\": 27093}, {\"stats_pageviews\": 27039}, {\"stats_pageviews\": 25644}, {\"stats_pageviews\": 25611}, {\"stats_pageviews\": 25363}, {\"stats_pageviews\": 25180}, {\"stats_pageviews\": 25002}, {\"stats_pageviews\": 24783}, {\"stats_pageviews\": 24667}, {\"stats_pageviews\": 23808}, {\"stats_pageviews\": 23088}, {\"stats_pageviews\": 22930}, {\"stats_pageviews\": 22561}, {\"stats_pageviews\": 22085}, {\"stats_pageviews\": 21875}, {\"stats_pageviews\": 21343}, {\"stats_pageviews\": 21181}, {\"stats_pageviews\": 20920}, {\"stats_pageviews\": 20863}, {\"stats_pageviews\": 20540}, {\"stats_pageviews\": 19050}, {\"stats_pageviews\": 18728}, {\"stats_pageviews\": 18657}, {\"stats_pageviews\": 18576}, {\"stats_pageviews\": 18294}, {\"stats_pageviews\": 18207}, {\"stats_pageviews\": 17955}, {\"stats_pageviews\": 17782}, {\"stats_pageviews\": 17738}, {\"stats_pageviews\": 17106}, {\"stats_pageviews\": 16910}, {\"stats_pageviews\": 16722}, {\"stats_pageviews\": 15148}, {\"stats_pageviews\": 14963}, {\"stats_pageviews\": 13931}, {\"stats_pageviews\": 13830}, {\"stats_pageviews\": 13660}, {\"stats_pageviews\": 13610}, {\"stats_pageviews\": 12985}, {\"stats_pageviews\": 12644}, {\"stats_pageviews\": 12496}, {\"stats_pageviews\": 12414}, {\"stats_pageviews\": 12309}, {\"stats_pageviews\": 11555}, {\"stats_pageviews\": 11461}, {\"stats_pageviews\": 11283}, {\"stats_pageviews\": 11037}, {\"stats_pageviews\": 10822}, {\"stats_pageviews\": 10576}, {\"stats_pageviews\": 10569}, {\"stats_pageviews\": 10439}, {\"stats_pageviews\": 10275}, {\"stats_pageviews\": 10191}, {\"stats_pageviews\": 10093}, {\"stats_pageviews\": 9682}, {\"stats_pageviews\": 9574}, {\"stats_pageviews\": 9168}, {\"stats_pageviews\": 9099}, {\"stats_pageviews\": 9005}, {\"stats_pageviews\": 8935}, {\"stats_pageviews\": 8925}, {\"stats_pageviews\": 8854}, {\"stats_pageviews\": 8827}, {\"stats_pageviews\": 8749}, {\"stats_pageviews\": 8730}, {\"stats_pageviews\": 8578}, {\"stats_pageviews\": 8289}, {\"stats_pageviews\": 8099}, {\"stats_pageviews\": 7586}, {\"stats_pageviews\": 7512}, {\"stats_pageviews\": 7381}, {\"stats_pageviews\": 7198}, {\"stats_pageviews\": 7128}, {\"stats_pageviews\": 6977}, {\"stats_pageviews\": 6968}, {\"stats_pageviews\": 6625}, {\"stats_pageviews\": 6544}, {\"stats_pageviews\": 6418}, {\"stats_pageviews\": 6346}, {\"stats_pageviews\": 6190}, {\"stats_pageviews\": 6090}, {\"stats_pageviews\": 5922}, {\"stats_pageviews\": 5227}, {\"stats_pageviews\": 5190}, {\"stats_pageviews\": 5145}, {\"stats_pageviews\": 5071}, {\"stats_pageviews\": 33733}, {\"stats_pageviews\": 30880}, {\"stats_pageviews\": 21369}, {\"stats_pageviews\": 15566}, {\"stats_pageviews\": 14433}, {\"stats_pageviews\": 13773}, {\"stats_pageviews\": 13718}, {\"stats_pageviews\": 11861}, {\"stats_pageviews\": 11790}, {\"stats_pageviews\": 11063}, {\"stats_pageviews\": 9632}, {\"stats_pageviews\": 9268}, {\"stats_pageviews\": 8820}, {\"stats_pageviews\": 8269}, {\"stats_pageviews\": 7906}, {\"stats_pageviews\": 7689}, {\"stats_pageviews\": 7651}, {\"stats_pageviews\": 7161}, {\"stats_pageviews\": 5980}, {\"stats_pageviews\": 5829}, {\"stats_pageviews\": 5563}, {\"stats_pageviews\": 261063}, {\"stats_pageviews\": 96741}, {\"stats_pageviews\": 80598}, {\"stats_pageviews\": 70057}, {\"stats_pageviews\": 68279}, {\"stats_pageviews\": 66708}, {\"stats_pageviews\": 61492}, {\"stats_pageviews\": 56732}, {\"stats_pageviews\": 42502}, {\"stats_pageviews\": 37438}, {\"stats_pageviews\": 36821}, {\"stats_pageviews\": 36622}, {\"stats_pageviews\": 31636}, {\"stats_pageviews\": 28391}, {\"stats_pageviews\": 25978}, {\"stats_pageviews\": 22744}, {\"stats_pageviews\": 21864}, {\"stats_pageviews\": 20652}, {\"stats_pageviews\": 19366}, {\"stats_pageviews\": 17220}, {\"stats_pageviews\": 15805}, {\"stats_pageviews\": 14822}, {\"stats_pageviews\": 14002}, {\"stats_pageviews\": 13540}, {\"stats_pageviews\": 12821}, {\"stats_pageviews\": 11930}, {\"stats_pageviews\": 11607}, {\"stats_pageviews\": 11502}, {\"stats_pageviews\": 11433}, {\"stats_pageviews\": 11173}, {\"stats_pageviews\": 11045}, {\"stats_pageviews\": 10906}, {\"stats_pageviews\": 10430}, {\"stats_pageviews\": 10220}, {\"stats_pageviews\": 9905}, {\"stats_pageviews\": 9822}, {\"stats_pageviews\": 9764}, {\"stats_pageviews\": 9639}, {\"stats_pageviews\": 9465}, {\"stats_pageviews\": 8882}, {\"stats_pageviews\": 8871}, {\"stats_pageviews\": 8273}, {\"stats_pageviews\": 8230}, {\"stats_pageviews\": 8167}, {\"stats_pageviews\": 7420}, {\"stats_pageviews\": 7372}, {\"stats_pageviews\": 7015}, {\"stats_pageviews\": 6933}, {\"stats_pageviews\": 6893}, {\"stats_pageviews\": 6680}, {\"stats_pageviews\": 6581}, {\"stats_pageviews\": 6499}, {\"stats_pageviews\": 6328}, {\"stats_pageviews\": 6302}, {\"stats_pageviews\": 6211}, {\"stats_pageviews\": 6179}, {\"stats_pageviews\": 6031}, {\"stats_pageviews\": 5986}, {\"stats_pageviews\": 5941}, {\"stats_pageviews\": 5661}, {\"stats_pageviews\": 5450}, {\"stats_pageviews\": 5288}, {\"stats_pageviews\": 5439}, {\"stats_pageviews\": 5120}, {\"stats_pageviews\": 5078}, {\"stats_pageviews\": 5055}, {\"stats_pageviews\": 121130}, {\"stats_pageviews\": 33268}, {\"stats_pageviews\": 19798}, {\"stats_pageviews\": 18466}, {\"stats_pageviews\": 14919}, {\"stats_pageviews\": 5338}, {\"stats_pageviews\": 1971207}, {\"stats_pageviews\": 477926}, {\"stats_pageviews\": 305077}, {\"stats_pageviews\": 239140}, {\"stats_pageviews\": 165256}, {\"stats_pageviews\": 139088}, {\"stats_pageviews\": 121464}, {\"stats_pageviews\": 120230}, {\"stats_pageviews\": 110583}, {\"stats_pageviews\": 105924}, {\"stats_pageviews\": 105299}, {\"stats_pageviews\": 92434}, {\"stats_pageviews\": 90744}, {\"stats_pageviews\": 89196}, {\"stats_pageviews\": 82020}, {\"stats_pageviews\": 80615}, {\"stats_pageviews\": 74909}, {\"stats_pageviews\": 71403}, {\"stats_pageviews\": 67734}, {\"stats_pageviews\": 67210}, {\"stats_pageviews\": 64763}, {\"stats_pageviews\": 63547}, {\"stats_pageviews\": 58527}, {\"stats_pageviews\": 56659}, {\"stats_pageviews\": 56125}, {\"stats_pageviews\": 55463}, {\"stats_pageviews\": 55252}, {\"stats_pageviews\": 54887}, {\"stats_pageviews\": 54709}, {\"stats_pageviews\": 54700}, {\"stats_pageviews\": 53339}, {\"stats_pageviews\": 53294}, {\"stats_pageviews\": 53069}, {\"stats_pageviews\": 52121}, {\"stats_pageviews\": 51911}, {\"stats_pageviews\": 50632}, {\"stats_pageviews\": 48883}, {\"stats_pageviews\": 45805}, {\"stats_pageviews\": 44646}, {\"stats_pageviews\": 41835}, {\"stats_pageviews\": 41543}, {\"stats_pageviews\": 41485}, {\"stats_pageviews\": 40756}, {\"stats_pageviews\": 39182}, {\"stats_pageviews\": 37416}, {\"stats_pageviews\": 36140}, {\"stats_pageviews\": 35620}, {\"stats_pageviews\": 32733}, {\"stats_pageviews\": 32005}, {\"stats_pageviews\": 31905}, {\"stats_pageviews\": 31837}, {\"stats_pageviews\": 31476}, {\"stats_pageviews\": 31154}, {\"stats_pageviews\": 30735}, {\"stats_pageviews\": 30358}, {\"stats_pageviews\": 29081}, {\"stats_pageviews\": 28224}, {\"stats_pageviews\": 28058}, {\"stats_pageviews\": 26770}, {\"stats_pageviews\": 26734}, {\"stats_pageviews\": 26145}, {\"stats_pageviews\": 25822}, {\"stats_pageviews\": 25626}, {\"stats_pageviews\": 25222}, {\"stats_pageviews\": 25186}, {\"stats_pageviews\": 25133}, {\"stats_pageviews\": 24861}, {\"stats_pageviews\": 24772}, {\"stats_pageviews\": 23988}, {\"stats_pageviews\": 23959}, {\"stats_pageviews\": 22028}, {\"stats_pageviews\": 21999}, {\"stats_pageviews\": 21806}, {\"stats_pageviews\": 21603}, {\"stats_pageviews\": 21523}, {\"stats_pageviews\": 21277}, {\"stats_pageviews\": 20505}, {\"stats_pageviews\": 20196}, {\"stats_pageviews\": 20043}, {\"stats_pageviews\": 19784}, {\"stats_pageviews\": 19473}, {\"stats_pageviews\": 19222}, {\"stats_pageviews\": 19187}, {\"stats_pageviews\": 19163}, {\"stats_pageviews\": 18974}, {\"stats_pageviews\": 18884}, {\"stats_pageviews\": 18879}, {\"stats_pageviews\": 17802}, {\"stats_pageviews\": 17473}, {\"stats_pageviews\": 17259}, {\"stats_pageviews\": 17192}, {\"stats_pageviews\": 17125}, {\"stats_pageviews\": 16666}, {\"stats_pageviews\": 16414}, {\"stats_pageviews\": 16259}, {\"stats_pageviews\": 16114}, {\"stats_pageviews\": 15702}, {\"stats_pageviews\": 15623}, {\"stats_pageviews\": 13589}, {\"stats_pageviews\": 12508}, {\"stats_pageviews\": 12263}, {\"stats_pageviews\": 11611}, {\"stats_pageviews\": 11417}, {\"stats_pageviews\": 11180}, {\"stats_pageviews\": 10940}, {\"stats_pageviews\": 10428}, {\"stats_pageviews\": 10194}, {\"stats_pageviews\": 10107}, {\"stats_pageviews\": 9375}, {\"stats_pageviews\": 9093}, {\"stats_pageviews\": 8517}, {\"stats_pageviews\": 8361}, {\"stats_pageviews\": 8324}, {\"stats_pageviews\": 8294}, {\"stats_pageviews\": 8083}, {\"stats_pageviews\": 7999}, {\"stats_pageviews\": 7852}, {\"stats_pageviews\": 7549}, {\"stats_pageviews\": 7416}, {\"stats_pageviews\": 7366}, {\"stats_pageviews\": 7275}, {\"stats_pageviews\": 7221}, {\"stats_pageviews\": 6843}, {\"stats_pageviews\": 6689}, {\"stats_pageviews\": 6547}, {\"stats_pageviews\": 6318}, {\"stats_pageviews\": 6123}, {\"stats_pageviews\": 5317}, {\"stats_pageviews\": 261909}, {\"stats_pageviews\": 198744}, {\"stats_pageviews\": 142743}, {\"stats_pageviews\": 101555}, {\"stats_pageviews\": 75472}, {\"stats_pageviews\": 70870}, {\"stats_pageviews\": 70849}, {\"stats_pageviews\": 57967}, {\"stats_pageviews\": 56880}, {\"stats_pageviews\": 52547}, {\"stats_pageviews\": 50299}, {\"stats_pageviews\": 49002}, {\"stats_pageviews\": 48533}, {\"stats_pageviews\": 47695}, {\"stats_pageviews\": 46415}, {\"stats_pageviews\": 46078}, {\"stats_pageviews\": 44927}, {\"stats_pageviews\": 44579}, {\"stats_pageviews\": 44013}, {\"stats_pageviews\": 42852}, {\"stats_pageviews\": 41077}, {\"stats_pageviews\": 39683}, {\"stats_pageviews\": 39498}, {\"stats_pageviews\": 34201}, {\"stats_pageviews\": 32209}, {\"stats_pageviews\": 30208}, {\"stats_pageviews\": 28760}, {\"stats_pageviews\": 27860}, {\"stats_pageviews\": 27645}, {\"stats_pageviews\": 27281}, {\"stats_pageviews\": 27051}, {\"stats_pageviews\": 26849}, {\"stats_pageviews\": 25389}, {\"stats_pageviews\": 25319}, {\"stats_pageviews\": 25118}, {\"stats_pageviews\": 24381}, {\"stats_pageviews\": 23031}, {\"stats_pageviews\": 20915}, {\"stats_pageviews\": 20486}, {\"stats_pageviews\": 20312}, {\"stats_pageviews\": 20177}, {\"stats_pageviews\": 19515}, {\"stats_pageviews\": 19102}, {\"stats_pageviews\": 18309}, {\"stats_pageviews\": 17956}, {\"stats_pageviews\": 17349}, {\"stats_pageviews\": 17270}, {\"stats_pageviews\": 17217}, {\"stats_pageviews\": 17144}, {\"stats_pageviews\": 16749}, {\"stats_pageviews\": 16494}, {\"stats_pageviews\": 16344}, {\"stats_pageviews\": 15975}, {\"stats_pageviews\": 15356}, {\"stats_pageviews\": 13432}, {\"stats_pageviews\": 13363}, {\"stats_pageviews\": 13247}, {\"stats_pageviews\": 12357}, {\"stats_pageviews\": 12355}, {\"stats_pageviews\": 12281}, {\"stats_pageviews\": 12074}, {\"stats_pageviews\": 12061}, {\"stats_pageviews\": 11575}, {\"stats_pageviews\": 11244}, {\"stats_pageviews\": 10922}, {\"stats_pageviews\": 10779}, {\"stats_pageviews\": 10402}, {\"stats_pageviews\": 9706}, {\"stats_pageviews\": 9527}, {\"stats_pageviews\": 9383}, {\"stats_pageviews\": 9375}, {\"stats_pageviews\": 9066}, {\"stats_pageviews\": 8803}, {\"stats_pageviews\": 8718}, {\"stats_pageviews\": 8670}, {\"stats_pageviews\": 8476}, {\"stats_pageviews\": 8422}, {\"stats_pageviews\": 8248}, {\"stats_pageviews\": 8145}, {\"stats_pageviews\": 8089}, {\"stats_pageviews\": 8074}, {\"stats_pageviews\": 7976}, {\"stats_pageviews\": 7783}, {\"stats_pageviews\": 7550}, {\"stats_pageviews\": 7409}, {\"stats_pageviews\": 7279}, {\"stats_pageviews\": 7230}, {\"stats_pageviews\": 6581}, {\"stats_pageviews\": 6250}, {\"stats_pageviews\": 6218}, {\"stats_pageviews\": 6184}, {\"stats_pageviews\": 6188}, {\"stats_pageviews\": 6180}, {\"stats_pageviews\": 6071}, {\"stats_pageviews\": 5978}, {\"stats_pageviews\": 5972}, {\"stats_pageviews\": 5707}, {\"stats_pageviews\": 5595}, {\"stats_pageviews\": 5528}, {\"stats_pageviews\": 5491}, {\"stats_pageviews\": 5466}, {\"stats_pageviews\": 5416}, {\"stats_pageviews\": 5355}, {\"stats_pageviews\": 5310}, {\"stats_pageviews\": 5255}, {\"stats_pageviews\": 5217}, {\"stats_pageviews\": 5044}, {\"stats_pageviews\": 299422}, {\"stats_pageviews\": 288052}, {\"stats_pageviews\": 196436}, {\"stats_pageviews\": 146729}, {\"stats_pageviews\": 140757}, {\"stats_pageviews\": 135705}, {\"stats_pageviews\": 128161}, {\"stats_pageviews\": 118175}, {\"stats_pageviews\": 112067}, {\"stats_pageviews\": 95083}, {\"stats_pageviews\": 94780}, {\"stats_pageviews\": 89319}, {\"stats_pageviews\": 79032}, {\"stats_pageviews\": 68128}, {\"stats_pageviews\": 67040}, {\"stats_pageviews\": 66954}, {\"stats_pageviews\": 66907}, {\"stats_pageviews\": 63402}, {\"stats_pageviews\": 59977}, {\"stats_pageviews\": 58386}, {\"stats_pageviews\": 57850}, {\"stats_pageviews\": 57196}, {\"stats_pageviews\": 56461}, {\"stats_pageviews\": 52898}, {\"stats_pageviews\": 52565}, {\"stats_pageviews\": 50204}, {\"stats_pageviews\": 48504}, {\"stats_pageviews\": 47992}, {\"stats_pageviews\": 47339}, {\"stats_pageviews\": 46811}, {\"stats_pageviews\": 46295}, {\"stats_pageviews\": 45343}, {\"stats_pageviews\": 42202}, {\"stats_pageviews\": 41811}, {\"stats_pageviews\": 40476}, {\"stats_pageviews\": 39242}, {\"stats_pageviews\": 38828}, {\"stats_pageviews\": 36793}, {\"stats_pageviews\": 36586}, {\"stats_pageviews\": 36577}, {\"stats_pageviews\": 36181}, {\"stats_pageviews\": 34347}, {\"stats_pageviews\": 34317}, {\"stats_pageviews\": 34188}, {\"stats_pageviews\": 30786}, {\"stats_pageviews\": 30636}, {\"stats_pageviews\": 30120}, {\"stats_pageviews\": 29182}, {\"stats_pageviews\": 28446}, {\"stats_pageviews\": 27732}, {\"stats_pageviews\": 27430}, {\"stats_pageviews\": 26441}, {\"stats_pageviews\": 26031}, {\"stats_pageviews\": 25850}, {\"stats_pageviews\": 23616}, {\"stats_pageviews\": 23154}, {\"stats_pageviews\": 19572}, {\"stats_pageviews\": 18537}, {\"stats_pageviews\": 17254}, {\"stats_pageviews\": 16552}, {\"stats_pageviews\": 15494}, {\"stats_pageviews\": 15405}, {\"stats_pageviews\": 15131}, {\"stats_pageviews\": 13611}, {\"stats_pageviews\": 13415}, {\"stats_pageviews\": 12884}, {\"stats_pageviews\": 12502}, {\"stats_pageviews\": 11608}, {\"stats_pageviews\": 11520}, {\"stats_pageviews\": 11404}, {\"stats_pageviews\": 11351}, {\"stats_pageviews\": 10242}, {\"stats_pageviews\": 9864}, {\"stats_pageviews\": 9715}, {\"stats_pageviews\": 9641}, {\"stats_pageviews\": 8424}, {\"stats_pageviews\": 8411}, {\"stats_pageviews\": 8174}, {\"stats_pageviews\": 8000}, {\"stats_pageviews\": 7675}, {\"stats_pageviews\": 6883}, {\"stats_pageviews\": 6634}, {\"stats_pageviews\": 6355}, {\"stats_pageviews\": 6317}, {\"stats_pageviews\": 6231}, {\"stats_pageviews\": 5409}, {\"stats_pageviews\": 5304}, {\"stats_pageviews\": 31252}, {\"stats_pageviews\": 30445}, {\"stats_pageviews\": 13508}, {\"stats_pageviews\": 10422}, {\"stats_pageviews\": 8538}, {\"stats_pageviews\": 6294}, {\"stats_pageviews\": 6143}, {\"stats_pageviews\": 6074}, {\"stats_pageviews\": 5705}, {\"stats_pageviews\": 117430}, {\"stats_pageviews\": 54266}, {\"stats_pageviews\": 51567}, {\"stats_pageviews\": 51543}, {\"stats_pageviews\": 38823}, {\"stats_pageviews\": 25039}, {\"stats_pageviews\": 22405}, {\"stats_pageviews\": 21571}, {\"stats_pageviews\": 20998}, {\"stats_pageviews\": 18319}, {\"stats_pageviews\": 16353}, {\"stats_pageviews\": 16028}, {\"stats_pageviews\": 13524}, {\"stats_pageviews\": 13349}, {\"stats_pageviews\": 12138}, {\"stats_pageviews\": 10328}, {\"stats_pageviews\": 10007}, {\"stats_pageviews\": 9239}, {\"stats_pageviews\": 6117}, {\"stats_pageviews\": 5759}, {\"stats_pageviews\": 5527}, {\"stats_pageviews\": 5219}, {\"stats_pageviews\": 5141}, {\"stats_pageviews\": 328167}, {\"stats_pageviews\": 174408}, {\"stats_pageviews\": 157305}, {\"stats_pageviews\": 126066}, {\"stats_pageviews\": 99818}, {\"stats_pageviews\": 83343}, {\"stats_pageviews\": 72771}, {\"stats_pageviews\": 70693}, {\"stats_pageviews\": 68242}, {\"stats_pageviews\": 62117}, {\"stats_pageviews\": 58530}, {\"stats_pageviews\": 57439}, {\"stats_pageviews\": 42220}, {\"stats_pageviews\": 41721}, {\"stats_pageviews\": 34841}, {\"stats_pageviews\": 34197}, {\"stats_pageviews\": 33997}, {\"stats_pageviews\": 32704}, {\"stats_pageviews\": 31336}, {\"stats_pageviews\": 29385}, {\"stats_pageviews\": 28351}, {\"stats_pageviews\": 26658}, {\"stats_pageviews\": 25812}, {\"stats_pageviews\": 25809}, {\"stats_pageviews\": 25482}, {\"stats_pageviews\": 24995}, {\"stats_pageviews\": 23455}, {\"stats_pageviews\": 23320}, {\"stats_pageviews\": 22839}, {\"stats_pageviews\": 22335}, {\"stats_pageviews\": 22301}, {\"stats_pageviews\": 21804}, {\"stats_pageviews\": 21711}, {\"stats_pageviews\": 21149}, {\"stats_pageviews\": 20791}, {\"stats_pageviews\": 19506}, {\"stats_pageviews\": 18877}, {\"stats_pageviews\": 18809}, {\"stats_pageviews\": 18649}, {\"stats_pageviews\": 18628}, {\"stats_pageviews\": 16267}, {\"stats_pageviews\": 15651}, {\"stats_pageviews\": 15401}, {\"stats_pageviews\": 14516}, {\"stats_pageviews\": 14018}, {\"stats_pageviews\": 13972}, {\"stats_pageviews\": 13668}, {\"stats_pageviews\": 12845}, {\"stats_pageviews\": 12377}, {\"stats_pageviews\": 12139}, {\"stats_pageviews\": 12111}, {\"stats_pageviews\": 11322}, {\"stats_pageviews\": 10182}, {\"stats_pageviews\": 9759}, {\"stats_pageviews\": 9107}, {\"stats_pageviews\": 9072}, {\"stats_pageviews\": 8826}, {\"stats_pageviews\": 8725}, {\"stats_pageviews\": 7841}, {\"stats_pageviews\": 7697}, {\"stats_pageviews\": 7685}, {\"stats_pageviews\": 7629}, {\"stats_pageviews\": 7313}, {\"stats_pageviews\": 7305}, {\"stats_pageviews\": 6755}, {\"stats_pageviews\": 6494}, {\"stats_pageviews\": 6190}, {\"stats_pageviews\": 6114}, {\"stats_pageviews\": 6061}, {\"stats_pageviews\": 5879}, {\"stats_pageviews\": 5553}, {\"stats_pageviews\": 5353}, {\"stats_pageviews\": 5282}, {\"stats_pageviews\": 314566}, {\"stats_pageviews\": 241364}, {\"stats_pageviews\": 204898}, {\"stats_pageviews\": 173562}, {\"stats_pageviews\": 166103}, {\"stats_pageviews\": 121269}, {\"stats_pageviews\": 117345}, {\"stats_pageviews\": 115263}, {\"stats_pageviews\": 93327}, {\"stats_pageviews\": 91987}, {\"stats_pageviews\": 84372}, {\"stats_pageviews\": 80555}, {\"stats_pageviews\": 74588}, {\"stats_pageviews\": 73878}, {\"stats_pageviews\": 72908}, {\"stats_pageviews\": 69056}, {\"stats_pageviews\": 66337}, {\"stats_pageviews\": 63496}, {\"stats_pageviews\": 61410}, {\"stats_pageviews\": 51949}, {\"stats_pageviews\": 44094}, {\"stats_pageviews\": 43919}, {\"stats_pageviews\": 43516}, {\"stats_pageviews\": 42710}, {\"stats_pageviews\": 42455}, {\"stats_pageviews\": 42403}, {\"stats_pageviews\": 40218}, {\"stats_pageviews\": 39369}, {\"stats_pageviews\": 36580}, {\"stats_pageviews\": 35969}, {\"stats_pageviews\": 35147}, {\"stats_pageviews\": 34851}, {\"stats_pageviews\": 34631}, {\"stats_pageviews\": 32585}, {\"stats_pageviews\": 30496}, {\"stats_pageviews\": 30484}, {\"stats_pageviews\": 30149}, {\"stats_pageviews\": 30110}, {\"stats_pageviews\": 29905}, {\"stats_pageviews\": 29871}, {\"stats_pageviews\": 29622}, {\"stats_pageviews\": 28502}, {\"stats_pageviews\": 28334}, {\"stats_pageviews\": 27596}, {\"stats_pageviews\": 26826}, {\"stats_pageviews\": 25830}, {\"stats_pageviews\": 24428}, {\"stats_pageviews\": 24321}, {\"stats_pageviews\": 24004}, {\"stats_pageviews\": 23988}, {\"stats_pageviews\": 23771}, {\"stats_pageviews\": 23608}, {\"stats_pageviews\": 22849}, {\"stats_pageviews\": 22635}, {\"stats_pageviews\": 21032}, {\"stats_pageviews\": 20716}, {\"stats_pageviews\": 20672}, {\"stats_pageviews\": 20662}, {\"stats_pageviews\": 20312}, {\"stats_pageviews\": 20291}, {\"stats_pageviews\": 19950}, {\"stats_pageviews\": 19671}, {\"stats_pageviews\": 19599}, {\"stats_pageviews\": 19443}, {\"stats_pageviews\": 18791}, {\"stats_pageviews\": 18050}, {\"stats_pageviews\": 17891}, {\"stats_pageviews\": 17881}, {\"stats_pageviews\": 16650}, {\"stats_pageviews\": 16640}, {\"stats_pageviews\": 16461}, {\"stats_pageviews\": 16067}, {\"stats_pageviews\": 15723}, {\"stats_pageviews\": 15501}, {\"stats_pageviews\": 15418}, {\"stats_pageviews\": 15319}, {\"stats_pageviews\": 15221}, {\"stats_pageviews\": 15109}, {\"stats_pageviews\": 15001}, {\"stats_pageviews\": 14200}, {\"stats_pageviews\": 13973}, {\"stats_pageviews\": 13660}, {\"stats_pageviews\": 13480}, {\"stats_pageviews\": 13241}, {\"stats_pageviews\": 13236}, {\"stats_pageviews\": 13132}, {\"stats_pageviews\": 12999}, {\"stats_pageviews\": 12559}, {\"stats_pageviews\": 12557}, {\"stats_pageviews\": 12087}, {\"stats_pageviews\": 11790}, {\"stats_pageviews\": 11774}, {\"stats_pageviews\": 11634}, {\"stats_pageviews\": 11580}, {\"stats_pageviews\": 11563}, {\"stats_pageviews\": 10724}, {\"stats_pageviews\": 10549}, {\"stats_pageviews\": 10188}, {\"stats_pageviews\": 10081}, {\"stats_pageviews\": 9945}, {\"stats_pageviews\": 9750}, {\"stats_pageviews\": 9621}, {\"stats_pageviews\": 9372}, {\"stats_pageviews\": 9370}, {\"stats_pageviews\": 9091}, {\"stats_pageviews\": 8858}, {\"stats_pageviews\": 8617}, {\"stats_pageviews\": 8472}, {\"stats_pageviews\": 8268}, {\"stats_pageviews\": 8148}, {\"stats_pageviews\": 7543}, {\"stats_pageviews\": 7538}, {\"stats_pageviews\": 7457}, {\"stats_pageviews\": 6840}, {\"stats_pageviews\": 6742}, {\"stats_pageviews\": 6456}, {\"stats_pageviews\": 6306}, {\"stats_pageviews\": 6283}, {\"stats_pageviews\": 6002}, {\"stats_pageviews\": 5983}, {\"stats_pageviews\": 5820}, {\"stats_pageviews\": 5688}, {\"stats_pageviews\": 5599}, {\"stats_pageviews\": 5259}, {\"stats_pageviews\": 22973}, {\"stats_pageviews\": 14999}, {\"stats_pageviews\": 12061}, {\"stats_pageviews\": 8600}, {\"stats_pageviews\": 7901}, {\"stats_pageviews\": 7849}, {\"stats_pageviews\": 7802}, {\"stats_pageviews\": 7105}, {\"stats_pageviews\": 6345}, {\"stats_pageviews\": 6338}, {\"stats_pageviews\": 6136}, {\"stats_pageviews\": 5944}, {\"stats_pageviews\": 5805}, {\"stats_pageviews\": 5570}, {\"stats_pageviews\": 5114}, {\"stats_pageviews\": 16787}, {\"stats_pageviews\": 7644}, {\"stats_pageviews\": 7262}, {\"stats_pageviews\": 106767}, {\"stats_pageviews\": 95292}, {\"stats_pageviews\": 79788}, {\"stats_pageviews\": 67623}, {\"stats_pageviews\": 58312}, {\"stats_pageviews\": 57788}, {\"stats_pageviews\": 51343}, {\"stats_pageviews\": 24215}, {\"stats_pageviews\": 23648}, {\"stats_pageviews\": 18483}, {\"stats_pageviews\": 18009}, {\"stats_pageviews\": 16306}, {\"stats_pageviews\": 15986}, {\"stats_pageviews\": 15632}, {\"stats_pageviews\": 15508}, {\"stats_pageviews\": 13739}, {\"stats_pageviews\": 13346}, {\"stats_pageviews\": 13220}, {\"stats_pageviews\": 10453}, {\"stats_pageviews\": 10359}, {\"stats_pageviews\": 9697}, {\"stats_pageviews\": 9401}, {\"stats_pageviews\": 8822}, {\"stats_pageviews\": 8639}, {\"stats_pageviews\": 8165}, {\"stats_pageviews\": 6792}, {\"stats_pageviews\": 6374}, {\"stats_pageviews\": 5939}, {\"stats_pageviews\": 67884}, {\"stats_pageviews\": 48859}, {\"stats_pageviews\": 33347}, {\"stats_pageviews\": 32447}, {\"stats_pageviews\": 27512}, {\"stats_pageviews\": 25329}, {\"stats_pageviews\": 22588}, {\"stats_pageviews\": 19369}, {\"stats_pageviews\": 17657}, {\"stats_pageviews\": 14139}, {\"stats_pageviews\": 14052}, {\"stats_pageviews\": 13881}, {\"stats_pageviews\": 13625}, {\"stats_pageviews\": 12780}, {\"stats_pageviews\": 12554}, {\"stats_pageviews\": 12205}, {\"stats_pageviews\": 11181}, {\"stats_pageviews\": 10875}, {\"stats_pageviews\": 10340}, {\"stats_pageviews\": 9788}, {\"stats_pageviews\": 8308}, {\"stats_pageviews\": 8229}, {\"stats_pageviews\": 8205}, {\"stats_pageviews\": 6423}, {\"stats_pageviews\": 6412}, {\"stats_pageviews\": 6383}, {\"stats_pageviews\": 6054}, {\"stats_pageviews\": 5587}, {\"stats_pageviews\": 5118}, {\"stats_pageviews\": 51696}, {\"stats_pageviews\": 28690}, {\"stats_pageviews\": 23318}, {\"stats_pageviews\": 17807}, {\"stats_pageviews\": 16486}, {\"stats_pageviews\": 12563}, {\"stats_pageviews\": 9211}, {\"stats_pageviews\": 5383}, {\"stats_pageviews\": 108176}, {\"stats_pageviews\": 104080}, {\"stats_pageviews\": 60390}, {\"stats_pageviews\": 38523}, {\"stats_pageviews\": 37461}, {\"stats_pageviews\": 36018}, {\"stats_pageviews\": 34852}, {\"stats_pageviews\": 32995}, {\"stats_pageviews\": 32015}, {\"stats_pageviews\": 31988}, {\"stats_pageviews\": 28645}, {\"stats_pageviews\": 26233}, {\"stats_pageviews\": 25392}, {\"stats_pageviews\": 24858}, {\"stats_pageviews\": 24801}, {\"stats_pageviews\": 24368}, {\"stats_pageviews\": 21728}, {\"stats_pageviews\": 21560}, {\"stats_pageviews\": 20348}, {\"stats_pageviews\": 19622}, {\"stats_pageviews\": 19559}, {\"stats_pageviews\": 19322}, {\"stats_pageviews\": 18827}, {\"stats_pageviews\": 17957}, {\"stats_pageviews\": 17386}, {\"stats_pageviews\": 17378}, {\"stats_pageviews\": 17296}, {\"stats_pageviews\": 17035}, {\"stats_pageviews\": 15807}, {\"stats_pageviews\": 15743}, {\"stats_pageviews\": 15299}, {\"stats_pageviews\": 15081}, {\"stats_pageviews\": 14737}, {\"stats_pageviews\": 14410}, {\"stats_pageviews\": 14312}, {\"stats_pageviews\": 13966}, {\"stats_pageviews\": 13563}, {\"stats_pageviews\": 13404}, {\"stats_pageviews\": 13375}, {\"stats_pageviews\": 12797}, {\"stats_pageviews\": 12325}, {\"stats_pageviews\": 11904}, {\"stats_pageviews\": 11679}, {\"stats_pageviews\": 11556}, {\"stats_pageviews\": 11404}, {\"stats_pageviews\": 10324}, {\"stats_pageviews\": 10156}, {\"stats_pageviews\": 9984}, {\"stats_pageviews\": 9855}, {\"stats_pageviews\": 9736}, {\"stats_pageviews\": 9052}, {\"stats_pageviews\": 8778}, {\"stats_pageviews\": 8741}, {\"stats_pageviews\": 8677}, {\"stats_pageviews\": 8438}, {\"stats_pageviews\": 8353}, {\"stats_pageviews\": 7813}, {\"stats_pageviews\": 7762}, {\"stats_pageviews\": 7662}, {\"stats_pageviews\": 7648}, {\"stats_pageviews\": 7573}, {\"stats_pageviews\": 7564}, {\"stats_pageviews\": 7416}, {\"stats_pageviews\": 6347}, {\"stats_pageviews\": 5552}, {\"stats_pageviews\": 5501}, {\"stats_pageviews\": 5198}, {\"stats_pageviews\": 5017}, {\"stats_pageviews\": 314558}, {\"stats_pageviews\": 261559}, {\"stats_pageviews\": 251737}, {\"stats_pageviews\": 215279}, {\"stats_pageviews\": 191959}, {\"stats_pageviews\": 183008}, {\"stats_pageviews\": 161868}, {\"stats_pageviews\": 145201}, {\"stats_pageviews\": 139289}, {\"stats_pageviews\": 139072}, {\"stats_pageviews\": 129792}, {\"stats_pageviews\": 120155}, {\"stats_pageviews\": 115644}, {\"stats_pageviews\": 113254}, {\"stats_pageviews\": 112735}, {\"stats_pageviews\": 104835}, {\"stats_pageviews\": 101099}, {\"stats_pageviews\": 98657}, {\"stats_pageviews\": 98127}, {\"stats_pageviews\": 96661}, {\"stats_pageviews\": 95645}, {\"stats_pageviews\": 95225}, {\"stats_pageviews\": 94630}, {\"stats_pageviews\": 92469}, {\"stats_pageviews\": 90641}, {\"stats_pageviews\": 87821}, {\"stats_pageviews\": 81468}, {\"stats_pageviews\": 80384}, {\"stats_pageviews\": 80282}, {\"stats_pageviews\": 77281}, {\"stats_pageviews\": 74171}, {\"stats_pageviews\": 72454}, {\"stats_pageviews\": 71302}, {\"stats_pageviews\": 68157}, {\"stats_pageviews\": 67021}, {\"stats_pageviews\": 66857}, {\"stats_pageviews\": 64942}, {\"stats_pageviews\": 63855}, {\"stats_pageviews\": 63519}, {\"stats_pageviews\": 61962}, {\"stats_pageviews\": 60779}, {\"stats_pageviews\": 59357}, {\"stats_pageviews\": 58119}, {\"stats_pageviews\": 57185}, {\"stats_pageviews\": 56802}, {\"stats_pageviews\": 55133}, {\"stats_pageviews\": 55012}, {\"stats_pageviews\": 52970}, {\"stats_pageviews\": 52463}, {\"stats_pageviews\": 48339}, {\"stats_pageviews\": 47947}, {\"stats_pageviews\": 47707}, {\"stats_pageviews\": 46254}, {\"stats_pageviews\": 45668}, {\"stats_pageviews\": 43262}, {\"stats_pageviews\": 42580}, {\"stats_pageviews\": 42463}, {\"stats_pageviews\": 41906}, {\"stats_pageviews\": 41695}, {\"stats_pageviews\": 41136}, {\"stats_pageviews\": 40546}, {\"stats_pageviews\": 40322}, {\"stats_pageviews\": 39958}, {\"stats_pageviews\": 39058}, {\"stats_pageviews\": 36780}, {\"stats_pageviews\": 36327}, {\"stats_pageviews\": 33560}, {\"stats_pageviews\": 33425}, {\"stats_pageviews\": 32666}, {\"stats_pageviews\": 31114}, {\"stats_pageviews\": 30822}, {\"stats_pageviews\": 30522}, {\"stats_pageviews\": 28775}, {\"stats_pageviews\": 27620}, {\"stats_pageviews\": 27370}, {\"stats_pageviews\": 27306}, {\"stats_pageviews\": 27087}, {\"stats_pageviews\": 27024}, {\"stats_pageviews\": 26919}, {\"stats_pageviews\": 26188}, {\"stats_pageviews\": 26008}, {\"stats_pageviews\": 24725}, {\"stats_pageviews\": 23172}, {\"stats_pageviews\": 23111}, {\"stats_pageviews\": 22411}, {\"stats_pageviews\": 21969}, {\"stats_pageviews\": 21108}, {\"stats_pageviews\": 21107}, {\"stats_pageviews\": 20373}, {\"stats_pageviews\": 19585}, {\"stats_pageviews\": 19394}, {\"stats_pageviews\": 19126}, {\"stats_pageviews\": 18597}, {\"stats_pageviews\": 18061}, {\"stats_pageviews\": 18056}, {\"stats_pageviews\": 17947}, {\"stats_pageviews\": 17500}, {\"stats_pageviews\": 17329}, {\"stats_pageviews\": 17231}, {\"stats_pageviews\": 17043}, {\"stats_pageviews\": 17008}, {\"stats_pageviews\": 16183}, {\"stats_pageviews\": 16111}, {\"stats_pageviews\": 15877}, {\"stats_pageviews\": 14924}, {\"stats_pageviews\": 14751}, {\"stats_pageviews\": 14368}, {\"stats_pageviews\": 14238}, {\"stats_pageviews\": 14024}, {\"stats_pageviews\": 13986}, {\"stats_pageviews\": 13590}, {\"stats_pageviews\": 13074}, {\"stats_pageviews\": 12990}, {\"stats_pageviews\": 12799}, {\"stats_pageviews\": 12585}, {\"stats_pageviews\": 12462}, {\"stats_pageviews\": 12322}, {\"stats_pageviews\": 12064}, {\"stats_pageviews\": 11870}, {\"stats_pageviews\": 11774}, {\"stats_pageviews\": 11367}, {\"stats_pageviews\": 11359}, {\"stats_pageviews\": 11080}, {\"stats_pageviews\": 10264}, {\"stats_pageviews\": 10238}, {\"stats_pageviews\": 10143}, {\"stats_pageviews\": 8968}, {\"stats_pageviews\": 8783}, {\"stats_pageviews\": 7519}, {\"stats_pageviews\": 7324}, {\"stats_pageviews\": 7022}, {\"stats_pageviews\": 6320}, {\"stats_pageviews\": 5725}, {\"stats_pageviews\": 5661}, {\"stats_pageviews\": 5485}, {\"stats_pageviews\": 5469}, {\"stats_pageviews\": 5113}, {\"stats_pageviews\": 36046}, {\"stats_pageviews\": 27342}, {\"stats_pageviews\": 16194}, {\"stats_pageviews\": 12316}, {\"stats_pageviews\": 10636}, {\"stats_pageviews\": 9454}, {\"stats_pageviews\": 7326}, {\"stats_pageviews\": 7220}, {\"stats_pageviews\": 6578}, {\"stats_pageviews\": 6338}, {\"stats_pageviews\": 6177}, {\"stats_pageviews\": 5793}, {\"stats_pageviews\": 5637}, {\"stats_pageviews\": 5310}, {\"stats_pageviews\": 325017}, {\"stats_pageviews\": 242134}, {\"stats_pageviews\": 219647}, {\"stats_pageviews\": 206822}, {\"stats_pageviews\": 169126}, {\"stats_pageviews\": 131367}, {\"stats_pageviews\": 118335}, {\"stats_pageviews\": 117252}, {\"stats_pageviews\": 110136}, {\"stats_pageviews\": 104246}, {\"stats_pageviews\": 104219}, {\"stats_pageviews\": 98646}, {\"stats_pageviews\": 96497}, {\"stats_pageviews\": 94241}, {\"stats_pageviews\": 94195}, {\"stats_pageviews\": 94124}, {\"stats_pageviews\": 91872}, {\"stats_pageviews\": 88310}, {\"stats_pageviews\": 72548}, {\"stats_pageviews\": 70659}, {\"stats_pageviews\": 70301}, {\"stats_pageviews\": 60207}, {\"stats_pageviews\": 56823}, {\"stats_pageviews\": 56506}, {\"stats_pageviews\": 51070}, {\"stats_pageviews\": 49263}, {\"stats_pageviews\": 49241}, {\"stats_pageviews\": 48605}, {\"stats_pageviews\": 45081}, {\"stats_pageviews\": 44310}, {\"stats_pageviews\": 42428}, {\"stats_pageviews\": 40923}, {\"stats_pageviews\": 40437}, {\"stats_pageviews\": 39760}, {\"stats_pageviews\": 39103}, {\"stats_pageviews\": 37764}, {\"stats_pageviews\": 37131}, {\"stats_pageviews\": 34995}, {\"stats_pageviews\": 34059}, {\"stats_pageviews\": 33343}, {\"stats_pageviews\": 31460}, {\"stats_pageviews\": 31387}, {\"stats_pageviews\": 29536}, {\"stats_pageviews\": 28276}, {\"stats_pageviews\": 28240}, {\"stats_pageviews\": 26803}, {\"stats_pageviews\": 26707}, {\"stats_pageviews\": 25507}, {\"stats_pageviews\": 24667}, {\"stats_pageviews\": 24089}, {\"stats_pageviews\": 23984}, {\"stats_pageviews\": 23480}, {\"stats_pageviews\": 22819}, {\"stats_pageviews\": 21893}, {\"stats_pageviews\": 21270}, {\"stats_pageviews\": 21100}, {\"stats_pageviews\": 19725}, {\"stats_pageviews\": 19053}, {\"stats_pageviews\": 18606}, {\"stats_pageviews\": 18179}, {\"stats_pageviews\": 16149}, {\"stats_pageviews\": 16136}, {\"stats_pageviews\": 15994}, {\"stats_pageviews\": 15606}, {\"stats_pageviews\": 14921}, {\"stats_pageviews\": 14656}, {\"stats_pageviews\": 13774}, {\"stats_pageviews\": 12765}, {\"stats_pageviews\": 11327}, {\"stats_pageviews\": 10332}, {\"stats_pageviews\": 9939}, {\"stats_pageviews\": 9119}, {\"stats_pageviews\": 8422}, {\"stats_pageviews\": 7104}, {\"stats_pageviews\": 6548}, {\"stats_pageviews\": 6474}, {\"stats_pageviews\": 6359}, {\"stats_pageviews\": 5354}, {\"stats_pageviews\": 139335}, {\"stats_pageviews\": 121630}, {\"stats_pageviews\": 100968}, {\"stats_pageviews\": 84971}, {\"stats_pageviews\": 80457}, {\"stats_pageviews\": 73386}, {\"stats_pageviews\": 67455}, {\"stats_pageviews\": 65627}, {\"stats_pageviews\": 65532}, {\"stats_pageviews\": 61544}, {\"stats_pageviews\": 59183}, {\"stats_pageviews\": 58810}, {\"stats_pageviews\": 57738}, {\"stats_pageviews\": 55760}, {\"stats_pageviews\": 52876}, {\"stats_pageviews\": 51106}, {\"stats_pageviews\": 45750}, {\"stats_pageviews\": 45526}, {\"stats_pageviews\": 45112}, {\"stats_pageviews\": 44488}, {\"stats_pageviews\": 39557}, {\"stats_pageviews\": 38712}, {\"stats_pageviews\": 37175}, {\"stats_pageviews\": 35848}, {\"stats_pageviews\": 35448}, {\"stats_pageviews\": 33387}, {\"stats_pageviews\": 32789}, {\"stats_pageviews\": 32602}, {\"stats_pageviews\": 31939}, {\"stats_pageviews\": 31846}, {\"stats_pageviews\": 30971}, {\"stats_pageviews\": 30223}, {\"stats_pageviews\": 27690}, {\"stats_pageviews\": 27531}, {\"stats_pageviews\": 27445}, {\"stats_pageviews\": 27330}, {\"stats_pageviews\": 26119}, {\"stats_pageviews\": 24994}, {\"stats_pageviews\": 24814}, {\"stats_pageviews\": 24517}, {\"stats_pageviews\": 24262}, {\"stats_pageviews\": 24130}, {\"stats_pageviews\": 22766}, {\"stats_pageviews\": 22468}, {\"stats_pageviews\": 22085}, {\"stats_pageviews\": 21604}, {\"stats_pageviews\": 21032}, {\"stats_pageviews\": 20894}, {\"stats_pageviews\": 20727}, {\"stats_pageviews\": 20377}, {\"stats_pageviews\": 20152}, {\"stats_pageviews\": 19816}, {\"stats_pageviews\": 19811}, {\"stats_pageviews\": 19677}, {\"stats_pageviews\": 19479}, {\"stats_pageviews\": 19305}, {\"stats_pageviews\": 19272}, {\"stats_pageviews\": 18980}, {\"stats_pageviews\": 18934}, {\"stats_pageviews\": 18764}, {\"stats_pageviews\": 18744}, {\"stats_pageviews\": 18529}, {\"stats_pageviews\": 17819}, {\"stats_pageviews\": 17475}, {\"stats_pageviews\": 17066}, {\"stats_pageviews\": 16755}, {\"stats_pageviews\": 16450}, {\"stats_pageviews\": 16399}, {\"stats_pageviews\": 16059}, {\"stats_pageviews\": 15529}, {\"stats_pageviews\": 14772}, {\"stats_pageviews\": 14544}, {\"stats_pageviews\": 14078}, {\"stats_pageviews\": 14000}, {\"stats_pageviews\": 13877}, {\"stats_pageviews\": 13249}, {\"stats_pageviews\": 13228}, {\"stats_pageviews\": 13232}, {\"stats_pageviews\": 13176}, {\"stats_pageviews\": 12530}, {\"stats_pageviews\": 12526}, {\"stats_pageviews\": 12116}, {\"stats_pageviews\": 11922}, {\"stats_pageviews\": 11748}, {\"stats_pageviews\": 11574}, {\"stats_pageviews\": 11340}, {\"stats_pageviews\": 11076}, {\"stats_pageviews\": 10507}, {\"stats_pageviews\": 10081}, {\"stats_pageviews\": 9968}, {\"stats_pageviews\": 9883}, {\"stats_pageviews\": 9829}, {\"stats_pageviews\": 9712}, {\"stats_pageviews\": 9691}, {\"stats_pageviews\": 9482}, {\"stats_pageviews\": 9079}, {\"stats_pageviews\": 8815}, {\"stats_pageviews\": 8800}, {\"stats_pageviews\": 8760}, {\"stats_pageviews\": 8591}, {\"stats_pageviews\": 8543}, {\"stats_pageviews\": 8425}, {\"stats_pageviews\": 7934}, {\"stats_pageviews\": 7786}, {\"stats_pageviews\": 7736}, {\"stats_pageviews\": 7557}, {\"stats_pageviews\": 7446}, {\"stats_pageviews\": 7446}, {\"stats_pageviews\": 7149}, {\"stats_pageviews\": 7036}, {\"stats_pageviews\": 6807}, {\"stats_pageviews\": 6668}, {\"stats_pageviews\": 6125}, {\"stats_pageviews\": 5912}, {\"stats_pageviews\": 5476}, {\"stats_pageviews\": 5379}, {\"stats_pageviews\": 5206}, {\"stats_pageviews\": 14301}, {\"stats_pageviews\": 5159}, {\"stats_pageviews\": 55360}, {\"stats_pageviews\": 28726}, {\"stats_pageviews\": 21468}, {\"stats_pageviews\": 21092}, {\"stats_pageviews\": 19931}, {\"stats_pageviews\": 19910}, {\"stats_pageviews\": 18542}, {\"stats_pageviews\": 17183}, {\"stats_pageviews\": 15658}, {\"stats_pageviews\": 15146}, {\"stats_pageviews\": 12772}, {\"stats_pageviews\": 12324}, {\"stats_pageviews\": 11807}, {\"stats_pageviews\": 11656}, {\"stats_pageviews\": 11445}, {\"stats_pageviews\": 9618}, {\"stats_pageviews\": 9397}, {\"stats_pageviews\": 9306}, {\"stats_pageviews\": 8981}, {\"stats_pageviews\": 8975}, {\"stats_pageviews\": 7873}, {\"stats_pageviews\": 7778}, {\"stats_pageviews\": 7492}, {\"stats_pageviews\": 7060}, {\"stats_pageviews\": 6529}, {\"stats_pageviews\": 6485}, {\"stats_pageviews\": 6181}, {\"stats_pageviews\": 5798}, {\"stats_pageviews\": 5583}, {\"stats_pageviews\": 5124}, {\"stats_pageviews\": 5100}, {\"stats_pageviews\": 5075}, {\"stats_pageviews\": 33013}, {\"stats_pageviews\": 30609}, {\"stats_pageviews\": 25711}, {\"stats_pageviews\": 23787}, {\"stats_pageviews\": 17664}, {\"stats_pageviews\": 14565}, {\"stats_pageviews\": 14460}, {\"stats_pageviews\": 12439}, {\"stats_pageviews\": 11465}, {\"stats_pageviews\": 10242}, {\"stats_pageviews\": 9843}, {\"stats_pageviews\": 9623}, {\"stats_pageviews\": 8190}, {\"stats_pageviews\": 8044}, {\"stats_pageviews\": 7582}, {\"stats_pageviews\": 6676}, {\"stats_pageviews\": 6562}, {\"stats_pageviews\": 6400}, {\"stats_pageviews\": 6368}, {\"stats_pageviews\": 6295}, {\"stats_pageviews\": 6284}, {\"stats_pageviews\": 6188}, {\"stats_pageviews\": 6121}, {\"stats_pageviews\": 5985}, {\"stats_pageviews\": 5916}, {\"stats_pageviews\": 5871}, {\"stats_pageviews\": 5554}, {\"stats_pageviews\": 5523}, {\"stats_pageviews\": 130665}, {\"stats_pageviews\": 57591}, {\"stats_pageviews\": 55147}, {\"stats_pageviews\": 50149}, {\"stats_pageviews\": 43937}, {\"stats_pageviews\": 40595}, {\"stats_pageviews\": 36240}, {\"stats_pageviews\": 34375}, {\"stats_pageviews\": 32871}, {\"stats_pageviews\": 32488}, {\"stats_pageviews\": 30809}, {\"stats_pageviews\": 30426}, {\"stats_pageviews\": 30092}, {\"stats_pageviews\": 29522}, {\"stats_pageviews\": 28372}, {\"stats_pageviews\": 25395}, {\"stats_pageviews\": 24643}, {\"stats_pageviews\": 23481}, {\"stats_pageviews\": 16401}, {\"stats_pageviews\": 16175}, {\"stats_pageviews\": 15708}, {\"stats_pageviews\": 15370}, {\"stats_pageviews\": 14599}, {\"stats_pageviews\": 13332}, {\"stats_pageviews\": 13294}, {\"stats_pageviews\": 13126}, {\"stats_pageviews\": 13114}, {\"stats_pageviews\": 12976}, {\"stats_pageviews\": 12722}, {\"stats_pageviews\": 12347}, {\"stats_pageviews\": 12164}, {\"stats_pageviews\": 12071}, {\"stats_pageviews\": 11868}, {\"stats_pageviews\": 11270}, {\"stats_pageviews\": 10480}, {\"stats_pageviews\": 10416}, {\"stats_pageviews\": 9358}, {\"stats_pageviews\": 9123}, {\"stats_pageviews\": 7910}, {\"stats_pageviews\": 7614}, {\"stats_pageviews\": 7602}, {\"stats_pageviews\": 7598}, {\"stats_pageviews\": 7367}, {\"stats_pageviews\": 7198}, {\"stats_pageviews\": 6719}, {\"stats_pageviews\": 6571}, {\"stats_pageviews\": 6620}, {\"stats_pageviews\": 6388}, {\"stats_pageviews\": 6251}, {\"stats_pageviews\": 5864}, {\"stats_pageviews\": 5672}, {\"stats_pageviews\": 5650}, {\"stats_pageviews\": 5485}, {\"stats_pageviews\": 5234}, {\"stats_pageviews\": 5130}, {\"stats_pageviews\": 398401}, {\"stats_pageviews\": 373918}, {\"stats_pageviews\": 351125}, {\"stats_pageviews\": 335730}, {\"stats_pageviews\": 292849}, {\"stats_pageviews\": 249652}, {\"stats_pageviews\": 246502}, {\"stats_pageviews\": 241055}, {\"stats_pageviews\": 223117}, {\"stats_pageviews\": 211945}, {\"stats_pageviews\": 211204}, {\"stats_pageviews\": 203726}, {\"stats_pageviews\": 198183}, {\"stats_pageviews\": 175973}, {\"stats_pageviews\": 168360}, {\"stats_pageviews\": 161619}, {\"stats_pageviews\": 161590}, {\"stats_pageviews\": 159020}, {\"stats_pageviews\": 151720}, {\"stats_pageviews\": 151114}, {\"stats_pageviews\": 146737}, {\"stats_pageviews\": 143009}, {\"stats_pageviews\": 142712}, {\"stats_pageviews\": 134715}, {\"stats_pageviews\": 130261}, {\"stats_pageviews\": 126411}, {\"stats_pageviews\": 125413}, {\"stats_pageviews\": 117338}, {\"stats_pageviews\": 116868}, {\"stats_pageviews\": 115035}, {\"stats_pageviews\": 112028}, {\"stats_pageviews\": 109878}, {\"stats_pageviews\": 109860}, {\"stats_pageviews\": 104657}, {\"stats_pageviews\": 100577}, {\"stats_pageviews\": 99193}, {\"stats_pageviews\": 99064}, {\"stats_pageviews\": 96842}, {\"stats_pageviews\": 93981}, {\"stats_pageviews\": 93398}, {\"stats_pageviews\": 93262}, {\"stats_pageviews\": 86408}, {\"stats_pageviews\": 83471}, {\"stats_pageviews\": 82373}, {\"stats_pageviews\": 79518}, {\"stats_pageviews\": 78196}, {\"stats_pageviews\": 77810}, {\"stats_pageviews\": 77807}, {\"stats_pageviews\": 77784}, {\"stats_pageviews\": 77717}, {\"stats_pageviews\": 76923}, {\"stats_pageviews\": 75214}, {\"stats_pageviews\": 75105}, {\"stats_pageviews\": 74100}, {\"stats_pageviews\": 73050}, {\"stats_pageviews\": 71130}, {\"stats_pageviews\": 69407}, {\"stats_pageviews\": 69055}, {\"stats_pageviews\": 67712}, {\"stats_pageviews\": 64922}, {\"stats_pageviews\": 64499}, {\"stats_pageviews\": 62456}, {\"stats_pageviews\": 56232}, {\"stats_pageviews\": 54752}, {\"stats_pageviews\": 51876}, {\"stats_pageviews\": 51801}, {\"stats_pageviews\": 49752}, {\"stats_pageviews\": 49442}, {\"stats_pageviews\": 47400}, {\"stats_pageviews\": 46749}, {\"stats_pageviews\": 46560}, {\"stats_pageviews\": 46214}, {\"stats_pageviews\": 45753}, {\"stats_pageviews\": 45683}, {\"stats_pageviews\": 43203}, {\"stats_pageviews\": 40946}, {\"stats_pageviews\": 40812}, {\"stats_pageviews\": 40478}, {\"stats_pageviews\": 38292}, {\"stats_pageviews\": 37759}, {\"stats_pageviews\": 37696}, {\"stats_pageviews\": 37660}, {\"stats_pageviews\": 37345}, {\"stats_pageviews\": 36004}, {\"stats_pageviews\": 35527}, {\"stats_pageviews\": 34064}, {\"stats_pageviews\": 32893}, {\"stats_pageviews\": 32885}, {\"stats_pageviews\": 32779}, {\"stats_pageviews\": 32227}, {\"stats_pageviews\": 31913}, {\"stats_pageviews\": 31500}, {\"stats_pageviews\": 30932}, {\"stats_pageviews\": 28446}, {\"stats_pageviews\": 28321}, {\"stats_pageviews\": 27204}, {\"stats_pageviews\": 27158}, {\"stats_pageviews\": 26595}, {\"stats_pageviews\": 26223}, {\"stats_pageviews\": 25890}, {\"stats_pageviews\": 25125}, {\"stats_pageviews\": 24924}, {\"stats_pageviews\": 23941}, {\"stats_pageviews\": 23683}, {\"stats_pageviews\": 23660}, {\"stats_pageviews\": 23088}, {\"stats_pageviews\": 21911}, {\"stats_pageviews\": 21612}, {\"stats_pageviews\": 21541}, {\"stats_pageviews\": 20648}, {\"stats_pageviews\": 20613}, {\"stats_pageviews\": 19999}, {\"stats_pageviews\": 19983}, {\"stats_pageviews\": 18487}, {\"stats_pageviews\": 18475}, {\"stats_pageviews\": 18232}, {\"stats_pageviews\": 17492}, {\"stats_pageviews\": 17402}, {\"stats_pageviews\": 17222}, {\"stats_pageviews\": 17169}, {\"stats_pageviews\": 16785}, {\"stats_pageviews\": 16436}, {\"stats_pageviews\": 15708}, {\"stats_pageviews\": 14578}, {\"stats_pageviews\": 14519}, {\"stats_pageviews\": 14130}, {\"stats_pageviews\": 13815}, {\"stats_pageviews\": 13742}, {\"stats_pageviews\": 13695}, {\"stats_pageviews\": 13579}, {\"stats_pageviews\": 13315}, {\"stats_pageviews\": 13001}, {\"stats_pageviews\": 12956}, {\"stats_pageviews\": 11920}, {\"stats_pageviews\": 11865}, {\"stats_pageviews\": 11232}, {\"stats_pageviews\": 11080}, {\"stats_pageviews\": 10415}, {\"stats_pageviews\": 10379}, {\"stats_pageviews\": 10326}, {\"stats_pageviews\": 9942}, {\"stats_pageviews\": 9832}, {\"stats_pageviews\": 9707}, {\"stats_pageviews\": 9108}, {\"stats_pageviews\": 8727}, {\"stats_pageviews\": 7954}, {\"stats_pageviews\": 6957}, {\"stats_pageviews\": 6834}, {\"stats_pageviews\": 6816}, {\"stats_pageviews\": 6172}, {\"stats_pageviews\": 5746}, {\"stats_pageviews\": 5606}, {\"stats_pageviews\": 5326}, {\"stats_pageviews\": 5221}]}}, {\"mode\": \"vega-lite\"});\n",
       "</script>"
      ],
      "text/plain": [
       "alt.LayerChart(...)"
      ]
     },
     "metadata": {},
     "output_type": "display_data"
    }
   ],
   "source": [
    "invalid_pageviews = df[(df['stats_pageviews'] < 0)]\n",
    "if len(invalid_pageviews) > 0:\n",
    "    print(f\"{len(invalid_pageviews)} rows with invalid pageviews (negative values):\")\n",
    "    display(invalid_pageviews[['id', 'title', 'name_artist', 'stats_pageviews']].head(10))\n",
    "\n",
    "chart_data = df[['stats_pageviews']].dropna().copy()\n",
    "chart_data['stats_pageviews'] = pd.to_numeric(chart_data['stats_pageviews']) #float is safer for Altair\n",
    "\n",
    "base = alt.Chart(chart_data).encode(\n",
    "    x=alt.X('stats_pageviews', bin=alt.Bin(maxbins=30), title='Pageviews Range'),\n",
    "    y=alt.Y('count()', title='Number of Tracks')\n",
    ").properties(\n",
    "    title='Distribution of Tracks by Pageviews Range',\n",
    "    width=1000,\n",
    "    height=400\n",
    ")\n",
    "\n",
    "bars = base.mark_bar(color='steelblue', opacity=0.7)\n",
    "# text labels on top of the bars\n",
    "text = base.mark_text(\n",
    "    dy=-5,\n",
    "    color='black'\n",
    ").encode(\n",
    "    text=alt.Text('count()')\n",
    ")\n",
    "\n",
    "chart = (bars + text).interactive()\n",
    "\n",
    "display(chart)"
   ]
  },
  {
   "cell_type": "markdown",
   "id": "5819fec9-a8e5-44ea-996e-3d811c8911a9",
   "metadata": {},
   "source": [
    "there seems to be outliers in the distribution, let's analyze the top pageviews tracks"
   ]
  },
  {
   "cell_type": "code",
   "execution_count": 26,
   "id": "8d078c7e-cc20-45b9-856a-b63c729995cc",
   "metadata": {},
   "outputs": [
    {
     "name": "stdout",
     "output_type": "stream",
     "text": [
      "top 10 tracks by pageviews:\n"
     ]
    },
    {
     "data": {
      "text/html": [
       "<div>\n",
       "<style scoped>\n",
       "    .dataframe tbody tr th:only-of-type {\n",
       "        vertical-align: middle;\n",
       "    }\n",
       "\n",
       "    .dataframe tbody tr th {\n",
       "        vertical-align: top;\n",
       "    }\n",
       "\n",
       "    .dataframe thead th {\n",
       "        text-align: right;\n",
       "    }\n",
       "</style>\n",
       "<table border=\"1\" class=\"dataframe\">\n",
       "  <thead>\n",
       "    <tr style=\"text-align: right;\">\n",
       "      <th></th>\n",
       "      <th>title</th>\n",
       "      <th>name_artist</th>\n",
       "      <th>stats_pageviews</th>\n",
       "    </tr>\n",
       "  </thead>\n",
       "  <tbody>\n",
       "    <tr>\n",
       "      <th>8188</th>\n",
       "      <td>Veleno 6</td>\n",
       "      <td>MadMan</td>\n",
       "      <td>1971207</td>\n",
       "    </tr>\n",
       "    <tr>\n",
       "      <th>7028</th>\n",
       "      <td>Veleno 7</td>\n",
       "      <td>Gemitaiz</td>\n",
       "      <td>762450</td>\n",
       "    </tr>\n",
       "    <tr>\n",
       "      <th>3046</th>\n",
       "      <td>Cupido</td>\n",
       "      <td>Sfera Ebbasta</td>\n",
       "      <td>692900</td>\n",
       "    </tr>\n",
       "    <tr>\n",
       "      <th>3047</th>\n",
       "      <td>Tran Tran</td>\n",
       "      <td>Sfera Ebbasta</td>\n",
       "      <td>499980</td>\n",
       "    </tr>\n",
       "    <tr>\n",
       "      <th>1197</th>\n",
       "      <td>Giovane fuoriclasse</td>\n",
       "      <td>Capo Plaza</td>\n",
       "      <td>484090</td>\n",
       "    </tr>\n",
       "    <tr>\n",
       "      <th>8189</th>\n",
       "      <td>Bolla papale Freestyle</td>\n",
       "      <td>MadMan</td>\n",
       "      <td>477926</td>\n",
       "    </tr>\n",
       "    <tr>\n",
       "      <th>3048</th>\n",
       "      <td>Sciroppo</td>\n",
       "      <td>Sfera Ebbasta</td>\n",
       "      <td>456566</td>\n",
       "    </tr>\n",
       "    <tr>\n",
       "      <th>3740</th>\n",
       "      <td>La legge del più forte</td>\n",
       "      <td>Tedua</td>\n",
       "      <td>448993</td>\n",
       "    </tr>\n",
       "    <tr>\n",
       "      <th>198</th>\n",
       "      <td>​blun7 a swishland</td>\n",
       "      <td>thasup</td>\n",
       "      <td>448797</td>\n",
       "    </tr>\n",
       "    <tr>\n",
       "      <th>4374</th>\n",
       "      <td>Ninna Nanna</td>\n",
       "      <td>Ghali</td>\n",
       "      <td>423119</td>\n",
       "    </tr>\n",
       "  </tbody>\n",
       "</table>\n",
       "</div>"
      ],
      "text/plain": [
       "                       title    name_artist  stats_pageviews\n",
       "8188                Veleno 6         MadMan          1971207\n",
       "7028                Veleno 7       Gemitaiz           762450\n",
       "3046                  Cupido  Sfera Ebbasta           692900\n",
       "3047               Tran Tran  Sfera Ebbasta           499980\n",
       "1197     Giovane fuoriclasse     Capo Plaza           484090\n",
       "8189  Bolla papale Freestyle         MadMan           477926\n",
       "3048                Sciroppo  Sfera Ebbasta           456566\n",
       "3740  La legge del più forte          Tedua           448993\n",
       "198       ​blun7 a swishland         thasup           448797\n",
       "4374             Ninna Nanna          Ghali           423119"
      ]
     },
     "metadata": {},
     "output_type": "display_data"
    }
   ],
   "source": [
    "top_10_tracks = df.sort_values(by='stats_pageviews', ascending=False).head(10)\n",
    "\n",
    "print(\"top 10 tracks by pageviews:\")\n",
    "display(top_10_tracks[['title', 'name_artist', 'stats_pageviews']])"
   ]
  },
  {
   "cell_type": "markdown",
   "id": "7e4687a5",
   "metadata": {},
   "source": [
    "### swear_IT_words"
   ]
  },
  {
   "cell_type": "code",
   "execution_count": 27,
   "id": "9b40fbdb",
   "metadata": {},
   "outputs": [
    {
     "name": "stdout",
     "output_type": "stream",
     "text": [
      "Series([], Name: swear_IT_words, dtype: object)\n",
      "number of missing values in swear_IT_words: 0\n"
     ]
    }
   ],
   "source": [
    "invalid_elems = df[df['swear_IT_words'].apply(check_type_validity, expected_type=str)]\n",
    "print(invalid_elems['swear_IT_words'])\n",
    "\n",
    "nan_indexes = df.index[df['swear_IT_words'].isna()].tolist()\n",
    "print(f\"number of missing values in swear_IT_words: {len(nan_indexes)}\")"
   ]
  },
  {
   "cell_type": "code",
   "execution_count": 28,
   "id": "38e256f4",
   "metadata": {},
   "outputs": [
    {
     "name": "stdout",
     "output_type": "stream",
     "text": [
      "{'cesso', 'leccaculo', 'fottuto', 'cagare', 'merdata', 'deretano', 'farabutto', 'scopare', 'figa', 'mazzo', 'fogne', 'rottinculo', 'checca', 'sedere', 'stupida', 'scazzato', 'troiaggine', 'gnocca', 'fortuna', 'pisciata', 'cagna', 'ricchione', 'grilletto', 'cretina', 'gigolo', 'piccione', 'tetta', 'pippa', 'coglione', 'sfiga', 'stronzata', 'merdaiolo', 'cappella', 'cretino', 'incazzarsi', 'maiala', 'cretini', 'pisciare', 'controcazzi', 'scazzo', 'troia', 'arrapante', 'cunnu', 'mezzasega', 'sborrare', 'scassare', 'chiappa', 'cazzeggiare', 'merdina', 'schizzare', 'seccatore', 'fottuti', 'paraculo', 'arrapato', 'pecorina', 'figo', 'bocchino', 'rompicoglioni', 'spompinare', 'pompinara', 'cacata', 'stronzo', 'bastardo', 'spagnola', 'pisello', 'nerchia', 'travestito', 'inculare', 'vagina', 'idiozia', 'puttano', 'sputtanare', 'finocchio', 'cogliona', 'frocio', 'sgualdrina', 'cazzone', 'stupido', 'zanzara', 'topa', 'pipa', 'puttaniere', 'chiavare', 'escremento', 'segaiolo', 'bombare', 'piscio', 'arrapare', 'sborra', 'culo', 'zizza', 'fellatio', 'strafottenza', 'cacca', 'zoccola', 'water', 'fregna', 'scopata', 'scoreggia', 'fregare', 'incazzato', 'pugnetta', 'fesso', 'pene', 'merda', 'bastardi', 'puttana', 'fottersi', 'minchioni', 'coglioni', 'coglionata', 'selvaggio', 'bernarda', 'culattone', 'handicappato', 'vaffanculo', 'trombare', 'sfigata', 'missionario', 'porca', 'granchio', 'sega', 'jug', 'cazzi', 'sveltina', 'fogna', 'fava', 'cazzo', 'incazzare', 'cazzeggio', 'glutei', 'sboccare', 'mignotta', 'cacare', 'cazzata', 'uccello', 'fottere', 'farabutti', 'sorca', 'merdaio', 'blowjob', 'peluria', 'controcoglioni', 'rompipalle', 'cagata', 'puttanata', 'bagascia', 'puttanaio', 'cozza', 'cazzuto', 'toro', 'palle', 'scrofa', 'minchiata', 'smerdare', 'vaccata', 'pompino', 'fico', 'chiavata', 'troiaio', 'bocchinaro', 'bischero', 'fica', 'gay', 'vacca', 'fregarsene', 'fottio', 'maroni', 'feci', 'raspa', 'battona', 'cornuto', 'madonna'}\n"
     ]
    }
   ],
   "source": [
    "import ast\n",
    "\n",
    "all_it_swear_words = set()\n",
    "\n",
    "for value in df['swear_IT_words']:\n",
    "    if pd.notna(value) and value != '[]':  #skip NaN and empty lists\n",
    "        try:\n",
    "            word_list = ast.literal_eval(value)\n",
    "            all_it_swear_words.update(word_list)\n",
    "        except:\n",
    "            pass\n",
    "        \n",
    "print(all_it_swear_words)"
   ]
  },
  {
   "cell_type": "markdown",
   "id": "ef8751ac",
   "metadata": {},
   "source": [
    "there seems to be some english words among the italian swear words: \"water, blowjob, jug\"; \"gay\" is also english, but it doesn't appean in the swear_EN_words, so it was probably counted as an italian word. also there are words that are not swear words (\"toro, fortuna, zanzara, granchio\"), and other that are 'neutral' words (\"pene, vagina, glutei, sedere, escremento, feci, peluria, selvaggio\") but can sound vulgar in certain tracks. note that not all the swear words are taken into consideration, since some of them inside the lyrics can be a bit 'creative' (e.g. \"apputtanamento\")"
   ]
  },
  {
   "cell_type": "code",
   "execution_count": 29,
   "id": "edea3405",
   "metadata": {},
   "outputs": [],
   "source": [
    "it_words_to_exclude = ['water', 'blowjob', 'jug', 'toro', 'fortuna', 'zanzara', 'granchio']\n",
    "filtered_it_swear_words = {word for word in all_it_swear_words if word not in it_words_to_exclude}"
   ]
  },
  {
   "cell_type": "code",
   "execution_count": 30,
   "id": "f0334ae5",
   "metadata": {},
   "outputs": [
    {
     "name": "stdout",
     "output_type": "stream",
     "text": [
      "unchanged rows: 10659\n",
      "rows where swear_IT_words was changed: 507\n",
      "\t- words added only: 0\n",
      "\t- words removed only: 507\n",
      "\t- both added and removed: 0\n"
     ]
    }
   ],
   "source": [
    "def find_swear_words_in_lyrics(lyrics, swear_words_list):\n",
    "    if pd.isna(lyrics):\n",
    "        return []\n",
    "\n",
    "    lyrics_lower = lyrics.lower() #case-insensitive matching\n",
    "    \n",
    "    found_words = []\n",
    "    for word in swear_words_list:\n",
    "        pattern = r'\\b' + re.escape(word) + r'\\b'\n",
    "        if re.search(pattern, lyrics_lower):\n",
    "            found_words.append(word)\n",
    "    \n",
    "    return found_words\n",
    "            \n",
    "rows_changed = 0\n",
    "rows_increased = 0\n",
    "rows_decreased = 0\n",
    "rows_both_changed = 0\n",
    "rows_unchanged = 0\n",
    "rows_processed = 0\n",
    "\n",
    "for idx in df.index:\n",
    "    lyrics = df.loc[idx, 'lyrics']\n",
    "    \n",
    "    found_words = find_swear_words_in_lyrics(lyrics, filtered_it_swear_words)\n",
    "    new_words = set(found_words)\n",
    "    \n",
    "    old_value = df.loc[idx, 'swear_IT_words']\n",
    "    \n",
    "    #parse old swear words\n",
    "    try:\n",
    "        if pd.isna(old_value) or old_value == '[]':\n",
    "            old_words = set()\n",
    "        else:\n",
    "            old_words = set(ast.literal_eval(old_value))\n",
    "    except:\n",
    "        old_words = set()\n",
    "    \n",
    "    new_value = str(found_words)\n",
    "    df.loc[idx, 'swear_IT_words'] = new_value\n",
    "    \n",
    "    #track changes\n",
    "    if old_words != new_words:\n",
    "        rows_changed += 1\n",
    "        \n",
    "        words_added = new_words - old_words\n",
    "        words_removed = old_words - new_words\n",
    "        \n",
    "        if words_added and words_removed:\n",
    "            rows_both_changed += 1\n",
    "        elif words_added:\n",
    "            rows_increased += 1\n",
    "        elif words_removed:\n",
    "            rows_decreased += 1\n",
    "    else:\n",
    "        rows_unchanged += 1\n",
    "    \n",
    "    rows_processed += 1\n",
    "\n",
    "print(f\"unchanged rows: {rows_processed - rows_changed}\")\n",
    "print(f\"rows where swear_IT_words was changed: {rows_changed}\")\n",
    "\n",
    "print(f\"\\t- words added only: {rows_increased}\")\n",
    "print(f\"\\t- words removed only: {rows_decreased}\")\n",
    "print(f\"\\t- both added and removed: {rows_both_changed}\")"
   ]
  },
  {
   "cell_type": "markdown",
   "id": "16a7037b",
   "metadata": {},
   "source": [
    "### swear_EN_words"
   ]
  },
  {
   "cell_type": "code",
   "execution_count": 31,
   "id": "558bfde1",
   "metadata": {},
   "outputs": [
    {
     "name": "stdout",
     "output_type": "stream",
     "text": [
      "Series([], Name: swear_EN_words, dtype: object)\n",
      "number of missing values in swear_EN_words: 0\n"
     ]
    }
   ],
   "source": [
    "invalid_elems = df[df['swear_EN_words'].apply(check_type_validity, expected_type=str)]\n",
    "print(invalid_elems['swear_EN_words'])\n",
    "\n",
    "nan_indexes = df.index[df['swear_EN_words'].isna()].tolist()\n",
    "print(f\"number of missing values in swear_EN_words: {len(nan_indexes)}\")"
   ]
  },
  {
   "cell_type": "code",
   "execution_count": 32,
   "id": "d3af9704",
   "metadata": {},
   "outputs": [
    {
     "name": "stdout",
     "output_type": "stream",
     "text": [
      "{'cumming', 'masturbation', 'sexo', 'threesome', 'cumshot', 'fuck', 'sucks', 'bitches', 'tranny', 'punany', 'bbw', 'playboy', 'coon', 'sexy', 'fisting', 'porno', 'gangbang', 'sex', 'fucking', 'motherfucker', 'nipple', 'scat', 'horny', 'bastard', 'suck', 'xxx', 'anal', 'ecchi', 'bukkake', 'shibari', 'hentai', 'panties', 'hooker', 'tit', 'neonazi', 'shitty', 'topless', 'titty', 'bastardo', 'bitch', 'shit', 'vagina', 'rapist', 'hardcore', 'butt', 'ass', 'escort', 'negro', 'semen', 'busty', 'fellatio', 'tits', 'rape', 'fag', 'cum', 'pussy', 'porn', 'milf', 'vulva', 'domination', 'nigga', 'fuckin', 'boobs', 'nympho', 'rimming', 'sexual', 'cunt', 'pedobear', 'raping', 'cock', 'slut', 'bondage', 'poof', 'snatch', 'bullshit', 'doggystyle', 'spic', 'cialis', 'lolita', 'nude', 'voyeur', 'blowjob', 'clit', 'xx', 'cocks', 'creampie', 'asshole', 'pissing', 'dildo', 'viagra', 'anus', 'deepthroat', 'kinky', 'skeet', 'dick', 'faggot'}\n"
     ]
    }
   ],
   "source": [
    "import ast\n",
    "\n",
    "all_en_swear_words = set()\n",
    "\n",
    "for value in df['swear_EN_words']:\n",
    "    if pd.notna(value) and value != '[]':  #skip NaN and empty lists\n",
    "        try:\n",
    "            word_list = ast.literal_eval(value)\n",
    "            all_en_swear_words.update(word_list)\n",
    "        except:\n",
    "            pass\n",
    "        \n",
    "print(all_en_swear_words)"
   ]
  },
  {
   "cell_type": "markdown",
   "id": "d23e4043",
   "metadata": {},
   "source": [
    "there's an italian word \"bastardo\" among the english swear words. as in the italian set of swear words, there are words that aren't necessary swear words, but in certain tracks can be perceived as vulgar."
   ]
  },
  {
   "cell_type": "code",
   "execution_count": 33,
   "id": "16b35252",
   "metadata": {},
   "outputs": [],
   "source": [
    "en_words_to_exclude = ['bastardo']\n",
    "filtered_en_swear_words = {word for word in all_en_swear_words if word not in en_words_to_exclude}"
   ]
  },
  {
   "cell_type": "code",
   "execution_count": 34,
   "id": "fc58e820",
   "metadata": {},
   "outputs": [
    {
     "name": "stdout",
     "output_type": "stream",
     "text": [
      "unchanged rows: 10954\n",
      "rows where swear_EN_words was changed: 212\n",
      "\t- words added only: 0\n",
      "\t- words removed only: 212\n",
      "\t- both added and removed: 0\n"
     ]
    }
   ],
   "source": [
    "rows_changed = 0\n",
    "rows_increased = 0\n",
    "rows_decreased = 0\n",
    "rows_both_changed = 0\n",
    "rows_unchanged = 0\n",
    "rows_processed = 0\n",
    "\n",
    "for idx in df.index:\n",
    "    lyrics = df.loc[idx, 'lyrics']\n",
    "    \n",
    "    found_words = find_swear_words_in_lyrics(lyrics, filtered_en_swear_words)\n",
    "    new_words = set(found_words)\n",
    "    \n",
    "    old_value = df.loc[idx, 'swear_EN_words']\n",
    "    \n",
    "    #parse old swear words\n",
    "    try:\n",
    "        if pd.isna(old_value) or old_value == '[]':\n",
    "            old_words = set()\n",
    "        else:\n",
    "            old_words = set(ast.literal_eval(old_value))\n",
    "    except:\n",
    "        old_words = set()\n",
    "    \n",
    "    new_value = str(found_words)\n",
    "    df.loc[idx, 'swear_EN_words'] = new_value\n",
    "    \n",
    "    #track changes\n",
    "    if old_words != new_words:\n",
    "        rows_changed += 1\n",
    "        \n",
    "        words_added = new_words - old_words\n",
    "        words_removed = old_words - new_words\n",
    "        \n",
    "        if words_added and words_removed:\n",
    "            rows_both_changed += 1\n",
    "        elif words_added:\n",
    "            rows_increased += 1\n",
    "        elif words_removed:\n",
    "            rows_decreased += 1\n",
    "    else:\n",
    "        rows_unchanged += 1\n",
    "    \n",
    "    rows_processed += 1\n",
    "\n",
    "print(f\"unchanged rows: {rows_processed - rows_changed}\")\n",
    "print(f\"rows where swear_EN_words was changed: {rows_changed}\")\n",
    "\n",
    "print(f\"\\t- words added only: {rows_increased}\")\n",
    "print(f\"\\t- words removed only: {rows_decreased}\")\n",
    "print(f\"\\t- both added and removed: {rows_both_changed}\")"
   ]
  },
  {
   "cell_type": "markdown",
   "id": "80c1c60e",
   "metadata": {},
   "source": [
    "### swear_IT"
   ]
  },
  {
   "cell_type": "code",
   "execution_count": 35,
   "id": "10a50f97",
   "metadata": {},
   "outputs": [
    {
     "name": "stdout",
     "output_type": "stream",
     "text": [
      "Series([], Name: swear_IT, dtype: int64)\n",
      "number of missing values in swear_IT: 0\n"
     ]
    }
   ],
   "source": [
    "invalid_elems = df[df['swear_IT'].apply(check_type_validity, expected_type=int)]\n",
    "print(invalid_elems['swear_IT'])\n",
    "\n",
    "nan_indexes = df.index[df['swear_IT'].isna()].tolist()\n",
    "print(f\"number of missing values in swear_IT: {len(nan_indexes)}\")"
   ]
  },
  {
   "cell_type": "code",
   "execution_count": 36,
   "id": "0baa0f5a",
   "metadata": {},
   "outputs": [
    {
     "name": "stdout",
     "output_type": "stream",
     "text": [
      "unchanged rows: 10659\n",
      "rows where swear_IT_words was updated: 507\n"
     ]
    }
   ],
   "source": [
    "def count_swear_words_in_lyrics(lyrics, swear_words_list):\n",
    "    if pd.isna(lyrics):\n",
    "        return 0\n",
    "    \n",
    "    lyrics_lower = lyrics.lower()\n",
    "    total_count = 0\n",
    "    \n",
    "    for word in swear_words_list:\n",
    "        pattern = r'\\b' + re.escape(word) + r'\\b'\n",
    "        matches = re.findall(pattern, lyrics_lower)\n",
    "        total_count += len(matches)\n",
    "    \n",
    "    return total_count\n",
    "\n",
    "rows_processed = 0\n",
    "rows_changed = 0\n",
    "\n",
    "for idx in df.index:\n",
    "    lyrics = df.loc[idx, 'lyrics']\n",
    "    old_count = df.loc[idx, 'swear_IT']\n",
    "    \n",
    "    swear_words_value = df.loc[idx, 'swear_IT_words']\n",
    "    \n",
    "    try:\n",
    "        if pd.isna(swear_words_value) or swear_words_value == '[]':\n",
    "            words_to_count = []\n",
    "        else:\n",
    "            words_to_count = ast.literal_eval(swear_words_value)\n",
    "    except:\n",
    "        words_to_count = []\n",
    "    \n",
    "    new_count = count_swear_words_in_lyrics(lyrics, words_to_count)\n",
    "    \n",
    "    df.loc[idx, 'swear_IT'] = new_count\n",
    "    \n",
    "    if old_count != new_count:\n",
    "        rows_changed += 1\n",
    "    \n",
    "    rows_processed += 1\n",
    "    \n",
    "print(f\"unchanged rows: {rows_processed - rows_changed}\")\n",
    "print(f\"rows where swear_IT_words was updated: {rows_changed}\")"
   ]
  },
  {
   "cell_type": "markdown",
   "id": "f5af7a07",
   "metadata": {},
   "source": [
    "### swear_EN"
   ]
  },
  {
   "cell_type": "code",
   "execution_count": 37,
   "id": "c3172a82",
   "metadata": {},
   "outputs": [
    {
     "name": "stdout",
     "output_type": "stream",
     "text": [
      "Series([], Name: swear_EN, dtype: int64)\n",
      "number of missing values in swear_EN: 0\n"
     ]
    }
   ],
   "source": [
    "invalid_elems = df[df['swear_EN'].apply(check_type_validity, expected_type=int)]\n",
    "print(invalid_elems['swear_EN'])\n",
    "\n",
    "nan_indexes = df.index[df['swear_EN'].isna()].tolist()\n",
    "print(f\"number of missing values in swear_EN: {len(nan_indexes)}\")"
   ]
  },
  {
   "cell_type": "code",
   "execution_count": 38,
   "id": "fa7545ae",
   "metadata": {},
   "outputs": [
    {
     "name": "stdout",
     "output_type": "stream",
     "text": [
      "unchanged rows: 10954\n",
      "rows where swear_EN_words was updated: 212\n"
     ]
    }
   ],
   "source": [
    "rows_processed = 0\n",
    "rows_changed = 0\n",
    "\n",
    "for idx in df.index:\n",
    "    lyrics = df.loc[idx, 'lyrics']\n",
    "    old_count = df.loc[idx, 'swear_EN']\n",
    "    \n",
    "    swear_words_value = df.loc[idx, 'swear_EN_words']\n",
    "    \n",
    "    try:\n",
    "        if pd.isna(swear_words_value) or swear_words_value == '[]':\n",
    "            words_to_count = []\n",
    "        else:\n",
    "            words_to_count = ast.literal_eval(swear_words_value)\n",
    "    except:\n",
    "        words_to_count = []\n",
    "    \n",
    "    new_count = count_swear_words_in_lyrics(lyrics, words_to_count)\n",
    "    \n",
    "    df.loc[idx, 'swear_EN'] = new_count\n",
    "    \n",
    "    if old_count != new_count:\n",
    "        rows_changed += 1\n",
    "    \n",
    "    rows_processed += 1\n",
    "    \n",
    "print(f\"unchanged rows: {rows_processed - rows_changed}\")\n",
    "print(f\"rows where swear_EN_words was updated: {rows_changed}\")"
   ]
  },
  {
   "cell_type": "markdown",
   "id": "95dd1d20",
   "metadata": {},
   "source": [
    "### year"
   ]
  },
  {
   "cell_type": "code",
   "execution_count": 39,
   "id": "a549767b",
   "metadata": {},
   "outputs": [
    {
     "name": "stdout",
     "output_type": "stream",
     "text": [
      "0        2021.0\n",
      "1        2020.0\n",
      "2        2021.0\n",
      "3        2019.0\n",
      "4        2020.0\n",
      "          ...  \n",
      "11161       NaN\n",
      "11162    2015.0\n",
      "11163       NaN\n",
      "11164    2005.0\n",
      "11165       NaN\n",
      "Name: year, Length: 11166, dtype: object\n",
      "number of missing values in year: 400\n"
     ]
    }
   ],
   "source": [
    "invalid_elems = df[df['year'].apply(check_type_validity, expected_type=int)]\n",
    "print(invalid_elems['year'])\n",
    "\n",
    "nan_indexes = df.index[df['year'].isna()].tolist()\n",
    "print(f\"number of missing values in year: {len(nan_indexes)}\")"
   ]
  },
  {
   "cell_type": "code",
   "execution_count": 40,
   "id": "1ca08a55",
   "metadata": {},
   "outputs": [
    {
     "name": "stdout",
     "output_type": "stream",
     "text": [
      "non-numeric year values (38):\n",
      "['nPmvFS' 'MoKKcY' 'PdLLvs' 'Tr5ghq' 'FZM9N5' '3KBIhx' '7arrc9' '0S4bYq'\n",
      " 'Ww2RM0' 'YDWvPA' 'v9Gs4k' '1uWHmg' 's7ujOB' 'CeZdpY' 'DkWnRx' 'oiiWuy'\n",
      " 'IlHfzv' 'uUsYUb' 'unxIUH' 'iW9Q9J' 'td0lg8' 'fNBiFf' 'RqnJ7g' 'VwVFFX'\n",
      " 'Ise7dm' 'vgGgkT' 'QPNIJj' 'BMMnal' 'k2QnmQ' '6R1q9L' 'P03Hkq' 'tMcdp6'\n",
      " 'epqCR2' 'Tl2Dgz' 'uiux8t' 'gZ2JDM' 'Gv70wC' '8i0piY']\n",
      "0        2021\n",
      "1        2020\n",
      "2        2021\n",
      "3        2019\n",
      "4        2020\n",
      "         ... \n",
      "11161    <NA>\n",
      "11162    2015\n",
      "11163    <NA>\n",
      "11164    2005\n",
      "11165    <NA>\n",
      "Name: year, Length: 11166, dtype: Int64\n",
      "number of missing values in year: 438\n"
     ]
    }
   ],
   "source": [
    "non_numeric = df[pd.to_numeric(df['year'], errors='coerce').isna() & df['year'].notna()]\n",
    "print(f\"non-numeric year values ({len(non_numeric)}):\")\n",
    "print(non_numeric['year'].unique())\n",
    "\n",
    "df['year'] = pd.to_numeric(df['year'], errors='coerce').astype('Int64')\n",
    "\n",
    "invalid_elems = df[df['year'].apply(check_type_validity, expected_type=int)]\n",
    "print(invalid_elems['year'])\n",
    "\n",
    "nan_indexes = df.index[df['year'].isna()].tolist()\n",
    "print(f\"number of missing values in year: {len(nan_indexes)}\")"
   ]
  },
  {
   "cell_type": "code",
   "execution_count": 41,
   "id": "16832fcb",
   "metadata": {},
   "outputs": [
    {
     "name": "stdout",
     "output_type": "stream",
     "text": [
      "found 2153 rows with invalid years (< 1973 or > 2025):\n"
     ]
    },
    {
     "data": {
      "text/html": [
       "<div>\n",
       "<style scoped>\n",
       "    .dataframe tbody tr th:only-of-type {\n",
       "        vertical-align: middle;\n",
       "    }\n",
       "\n",
       "    .dataframe tbody tr th {\n",
       "        vertical-align: top;\n",
       "    }\n",
       "\n",
       "    .dataframe thead th {\n",
       "        text-align: right;\n",
       "    }\n",
       "</style>\n",
       "<table border=\"1\" class=\"dataframe\">\n",
       "  <thead>\n",
       "    <tr style=\"text-align: right;\">\n",
       "      <th></th>\n",
       "      <th>id</th>\n",
       "      <th>title</th>\n",
       "      <th>name_artist</th>\n",
       "      <th>year</th>\n",
       "    </tr>\n",
       "  </thead>\n",
       "  <tbody>\n",
       "    <tr>\n",
       "      <th>6</th>\n",
       "      <td>TR170793</td>\n",
       "      <td>LOBBY WAY</td>\n",
       "      <td>Rosa Chemical</td>\n",
       "      <td>2072</td>\n",
       "    </tr>\n",
       "    <tr>\n",
       "      <th>7</th>\n",
       "      <td>TR627195</td>\n",
       "      <td>SLATT</td>\n",
       "      <td>Rosa Chemical</td>\n",
       "      <td>2098</td>\n",
       "    </tr>\n",
       "    <tr>\n",
       "      <th>22</th>\n",
       "      <td>TR634516</td>\n",
       "      <td>Freestyle #redbullnext #essemagazine</td>\n",
       "      <td>Rosa Chemical</td>\n",
       "      <td>1917</td>\n",
       "    </tr>\n",
       "    <tr>\n",
       "      <th>29</th>\n",
       "      <td>TR242610</td>\n",
       "      <td>Sono Io !!</td>\n",
       "      <td>Rosa Chemical</td>\n",
       "      <td>1920</td>\n",
       "    </tr>\n",
       "    <tr>\n",
       "      <th>34</th>\n",
       "      <td>TR344681</td>\n",
       "      <td>ALIENO</td>\n",
       "      <td>Rosa Chemical</td>\n",
       "      <td>1901</td>\n",
       "    </tr>\n",
       "    <tr>\n",
       "      <th>35</th>\n",
       "      <td>TR945862</td>\n",
       "      <td>Teschio</td>\n",
       "      <td>Rosa Chemical</td>\n",
       "      <td>2052</td>\n",
       "    </tr>\n",
       "    <tr>\n",
       "      <th>48</th>\n",
       "      <td>TR225367</td>\n",
       "      <td>TIPO DI N</td>\n",
       "      <td>Rosa Chemical</td>\n",
       "      <td>2081</td>\n",
       "    </tr>\n",
       "    <tr>\n",
       "      <th>53</th>\n",
       "      <td>TR904495</td>\n",
       "      <td>Dovreicomprarmiunacollanacomeimigos</td>\n",
       "      <td>Rosa Chemical</td>\n",
       "      <td>2060</td>\n",
       "    </tr>\n",
       "    <tr>\n",
       "      <th>58</th>\n",
       "      <td>TR440692</td>\n",
       "      <td>LATTE +</td>\n",
       "      <td>Rosa Chemical</td>\n",
       "      <td>1933</td>\n",
       "    </tr>\n",
       "    <tr>\n",
       "      <th>59</th>\n",
       "      <td>TR141416</td>\n",
       "      <td>I need some sleep (Intro)</td>\n",
       "      <td>Rosa Chemical</td>\n",
       "      <td>1928</td>\n",
       "    </tr>\n",
       "  </tbody>\n",
       "</table>\n",
       "</div>"
      ],
      "text/plain": [
       "          id                                 title    name_artist  year\n",
       "6   TR170793                             LOBBY WAY  Rosa Chemical  2072\n",
       "7   TR627195                                 SLATT  Rosa Chemical  2098\n",
       "22  TR634516  Freestyle #redbullnext #essemagazine  Rosa Chemical  1917\n",
       "29  TR242610                            Sono Io !!  Rosa Chemical  1920\n",
       "34  TR344681                                ALIENO  Rosa Chemical  1901\n",
       "35  TR945862                               Teschio  Rosa Chemical  2052\n",
       "48  TR225367                             TIPO DI N  Rosa Chemical  2081\n",
       "53  TR904495   Dovreicomprarmiunacollanacomeimigos  Rosa Chemical  2060\n",
       "58  TR440692                               LATTE +  Rosa Chemical  1933\n",
       "59  TR141416             I need some sleep (Intro)  Rosa Chemical  1928"
      ]
     },
     "metadata": {},
     "output_type": "display_data"
    },
    {
     "data": {
      "text/html": [
       "\n",
       "<style>\n",
       "  #altair-viz-f2acb39081114c9692e1d494d486122d.vega-embed {\n",
       "    width: 100%;\n",
       "    display: flex;\n",
       "  }\n",
       "\n",
       "  #altair-viz-f2acb39081114c9692e1d494d486122d.vega-embed details,\n",
       "  #altair-viz-f2acb39081114c9692e1d494d486122d.vega-embed details summary {\n",
       "    position: relative;\n",
       "  }\n",
       "</style>\n",
       "<div id=\"altair-viz-f2acb39081114c9692e1d494d486122d\"></div>\n",
       "<script type=\"text/javascript\">\n",
       "  var VEGA_DEBUG = (typeof VEGA_DEBUG == \"undefined\") ? {} : VEGA_DEBUG;\n",
       "  (function(spec, embedOpt){\n",
       "    let outputDiv = document.currentScript.previousElementSibling;\n",
       "    if (outputDiv.id !== \"altair-viz-f2acb39081114c9692e1d494d486122d\") {\n",
       "      outputDiv = document.getElementById(\"altair-viz-f2acb39081114c9692e1d494d486122d\");\n",
       "    }\n",
       "\n",
       "    const paths = {\n",
       "      \"vega\": \"https://cdn.jsdelivr.net/npm/vega@5?noext\",\n",
       "      \"vega-lib\": \"https://cdn.jsdelivr.net/npm/vega-lib?noext\",\n",
       "      \"vega-lite\": \"https://cdn.jsdelivr.net/npm/vega-lite@5.20.1?noext\",\n",
       "      \"vega-embed\": \"https://cdn.jsdelivr.net/npm/vega-embed@6?noext\",\n",
       "    };\n",
       "\n",
       "    function maybeLoadScript(lib, version) {\n",
       "      var key = `${lib.replace(\"-\", \"\")}_version`;\n",
       "      return (VEGA_DEBUG[key] == version) ?\n",
       "        Promise.resolve(paths[lib]) :\n",
       "        new Promise(function(resolve, reject) {\n",
       "          var s = document.createElement('script');\n",
       "          document.getElementsByTagName(\"head\")[0].appendChild(s);\n",
       "          s.async = true;\n",
       "          s.onload = () => {\n",
       "            VEGA_DEBUG[key] = version;\n",
       "            return resolve(paths[lib]);\n",
       "          };\n",
       "          s.onerror = () => reject(`Error loading script: ${paths[lib]}`);\n",
       "          s.src = paths[lib];\n",
       "        });\n",
       "    }\n",
       "\n",
       "    function showError(err) {\n",
       "      outputDiv.innerHTML = `<div class=\"error\" style=\"color:red;\">${err}</div>`;\n",
       "      throw err;\n",
       "    }\n",
       "\n",
       "    function displayChart(vegaEmbed) {\n",
       "      vegaEmbed(outputDiv, spec, embedOpt)\n",
       "        .catch(err => showError(`Javascript Error: ${err.message}<br>This usually means there's a typo in your chart specification. See the javascript console for the full traceback.`));\n",
       "    }\n",
       "\n",
       "    if(typeof define === \"function\" && define.amd) {\n",
       "      requirejs.config({paths});\n",
       "      let deps = [\"vega-embed\"];\n",
       "      require(deps, displayChart, err => showError(`Error loading script: ${err.message}`));\n",
       "    } else {\n",
       "      maybeLoadScript(\"vega\", \"5\")\n",
       "        .then(() => maybeLoadScript(\"vega-lite\", \"5.20.1\"))\n",
       "        .then(() => maybeLoadScript(\"vega-embed\", \"6\"))\n",
       "        .catch(showError)\n",
       "        .then(() => displayChart(vegaEmbed));\n",
       "    }\n",
       "  })({\"config\": {\"view\": {\"continuousWidth\": 300, \"continuousHeight\": 300}}, \"data\": {\"name\": \"data-12ce9762ea390a707938961135467888\"}, \"mark\": {\"type\": \"bar\", \"color\": \"steelblue\", \"opacity\": 0.7}, \"encoding\": {\"x\": {\"axis\": {\"format\": \"d\", \"labelAngle\": -45}, \"field\": \"Year\", \"title\": \"Year\", \"type\": \"quantitative\"}, \"y\": {\"field\": \"Number of Tracks\", \"title\": \"Number of Tracks\", \"type\": \"quantitative\"}}, \"height\": 400, \"params\": [{\"name\": \"param_2\", \"select\": {\"type\": \"interval\", \"encodings\": [\"x\", \"y\"]}, \"bind\": \"scales\"}], \"title\": \"Distribution of Tracks per Year\", \"width\": 1000, \"$schema\": \"https://vega.github.io/schema/vega-lite/v5.20.1.json\", \"datasets\": {\"data-12ce9762ea390a707938961135467888\": [{\"Year\": 1900, \"Number of Tracks\": 17}, {\"Year\": 1901, \"Number of Tracks\": 14}, {\"Year\": 1902, \"Number of Tracks\": 11}, {\"Year\": 1903, \"Number of Tracks\": 18}, {\"Year\": 1904, \"Number of Tracks\": 11}, {\"Year\": 1905, \"Number of Tracks\": 12}, {\"Year\": 1906, \"Number of Tracks\": 22}, {\"Year\": 1907, \"Number of Tracks\": 17}, {\"Year\": 1908, \"Number of Tracks\": 14}, {\"Year\": 1909, \"Number of Tracks\": 15}, {\"Year\": 1910, \"Number of Tracks\": 16}, {\"Year\": 1911, \"Number of Tracks\": 13}, {\"Year\": 1912, \"Number of Tracks\": 13}, {\"Year\": 1913, \"Number of Tracks\": 15}, {\"Year\": 1914, \"Number of Tracks\": 18}, {\"Year\": 1915, \"Number of Tracks\": 11}, {\"Year\": 1916, \"Number of Tracks\": 14}, {\"Year\": 1917, \"Number of Tracks\": 18}, {\"Year\": 1918, \"Number of Tracks\": 20}, {\"Year\": 1919, \"Number of Tracks\": 15}, {\"Year\": 1920, \"Number of Tracks\": 25}, {\"Year\": 1921, \"Number of Tracks\": 20}, {\"Year\": 1922, \"Number of Tracks\": 20}, {\"Year\": 1923, \"Number of Tracks\": 14}, {\"Year\": 1924, \"Number of Tracks\": 22}, {\"Year\": 1925, \"Number of Tracks\": 8}, {\"Year\": 1926, \"Number of Tracks\": 13}, {\"Year\": 1927, \"Number of Tracks\": 10}, {\"Year\": 1928, \"Number of Tracks\": 15}, {\"Year\": 1929, \"Number of Tracks\": 17}, {\"Year\": 1930, \"Number of Tracks\": 19}, {\"Year\": 1931, \"Number of Tracks\": 12}, {\"Year\": 1932, \"Number of Tracks\": 19}, {\"Year\": 1933, \"Number of Tracks\": 16}, {\"Year\": 1934, \"Number of Tracks\": 14}, {\"Year\": 1935, \"Number of Tracks\": 19}, {\"Year\": 1936, \"Number of Tracks\": 16}, {\"Year\": 1937, \"Number of Tracks\": 15}, {\"Year\": 1938, \"Number of Tracks\": 20}, {\"Year\": 1939, \"Number of Tracks\": 8}, {\"Year\": 1940, \"Number of Tracks\": 16}, {\"Year\": 1941, \"Number of Tracks\": 16}, {\"Year\": 1942, \"Number of Tracks\": 24}, {\"Year\": 1943, \"Number of Tracks\": 18}, {\"Year\": 1944, \"Number of Tracks\": 21}, {\"Year\": 1945, \"Number of Tracks\": 14}, {\"Year\": 1946, \"Number of Tracks\": 14}, {\"Year\": 1947, \"Number of Tracks\": 13}, {\"Year\": 1948, \"Number of Tracks\": 15}, {\"Year\": 1949, \"Number of Tracks\": 13}, {\"Year\": 1950, \"Number of Tracks\": 12}, {\"Year\": 1951, \"Number of Tracks\": 16}, {\"Year\": 1952, \"Number of Tracks\": 12}, {\"Year\": 1953, \"Number of Tracks\": 12}, {\"Year\": 1954, \"Number of Tracks\": 15}, {\"Year\": 1955, \"Number of Tracks\": 9}, {\"Year\": 1956, \"Number of Tracks\": 18}, {\"Year\": 1957, \"Number of Tracks\": 10}, {\"Year\": 1958, \"Number of Tracks\": 14}, {\"Year\": 1959, \"Number of Tracks\": 17}, {\"Year\": 1960, \"Number of Tracks\": 13}, {\"Year\": 1961, \"Number of Tracks\": 12}, {\"Year\": 1962, \"Number of Tracks\": 16}, {\"Year\": 1963, \"Number of Tracks\": 20}, {\"Year\": 1964, \"Number of Tracks\": 15}, {\"Year\": 1965, \"Number of Tracks\": 17}, {\"Year\": 1966, \"Number of Tracks\": 13}, {\"Year\": 1967, \"Number of Tracks\": 14}, {\"Year\": 1968, \"Number of Tracks\": 13}, {\"Year\": 1969, \"Number of Tracks\": 16}, {\"Year\": 1970, \"Number of Tracks\": 16}, {\"Year\": 1971, \"Number of Tracks\": 14}, {\"Year\": 1972, \"Number of Tracks\": 13}, {\"Year\": 1992, \"Number of Tracks\": 9}, {\"Year\": 1993, \"Number of Tracks\": 42}, {\"Year\": 1994, \"Number of Tracks\": 27}, {\"Year\": 1995, \"Number of Tracks\": 8}, {\"Year\": 1996, \"Number of Tracks\": 78}, {\"Year\": 1997, \"Number of Tracks\": 17}, {\"Year\": 1998, \"Number of Tracks\": 97}, {\"Year\": 1999, \"Number of Tracks\": 70}, {\"Year\": 2000, \"Number of Tracks\": 49}, {\"Year\": 2001, \"Number of Tracks\": 43}, {\"Year\": 2002, \"Number of Tracks\": 51}, {\"Year\": 2003, \"Number of Tracks\": 96}, {\"Year\": 2004, \"Number of Tracks\": 155}, {\"Year\": 2005, \"Number of Tracks\": 133}, {\"Year\": 2006, \"Number of Tracks\": 216}, {\"Year\": 2007, \"Number of Tracks\": 197}, {\"Year\": 2008, \"Number of Tracks\": 180}, {\"Year\": 2009, \"Number of Tracks\": 195}, {\"Year\": 2010, \"Number of Tracks\": 299}, {\"Year\": 2011, \"Number of Tracks\": 377}, {\"Year\": 2012, \"Number of Tracks\": 351}, {\"Year\": 2013, \"Number of Tracks\": 384}, {\"Year\": 2014, \"Number of Tracks\": 303}, {\"Year\": 2015, \"Number of Tracks\": 458}, {\"Year\": 2016, \"Number of Tracks\": 499}, {\"Year\": 2017, \"Number of Tracks\": 477}, {\"Year\": 2018, \"Number of Tracks\": 489}, {\"Year\": 2019, \"Number of Tracks\": 480}, {\"Year\": 2020, \"Number of Tracks\": 545}, {\"Year\": 2021, \"Number of Tracks\": 607}, {\"Year\": 2022, \"Number of Tracks\": 471}, {\"Year\": 2023, \"Number of Tracks\": 405}, {\"Year\": 2024, \"Number of Tracks\": 448}, {\"Year\": 2025, \"Number of Tracks\": 319}, {\"Year\": 2051, \"Number of Tracks\": 19}, {\"Year\": 2052, \"Number of Tracks\": 16}, {\"Year\": 2053, \"Number of Tracks\": 19}, {\"Year\": 2054, \"Number of Tracks\": 23}, {\"Year\": 2055, \"Number of Tracks\": 20}, {\"Year\": 2056, \"Number of Tracks\": 17}, {\"Year\": 2057, \"Number of Tracks\": 23}, {\"Year\": 2058, \"Number of Tracks\": 22}, {\"Year\": 2059, \"Number of Tracks\": 17}, {\"Year\": 2060, \"Number of Tracks\": 24}, {\"Year\": 2061, \"Number of Tracks\": 28}, {\"Year\": 2062, \"Number of Tracks\": 16}, {\"Year\": 2063, \"Number of Tracks\": 26}, {\"Year\": 2064, \"Number of Tracks\": 24}, {\"Year\": 2065, \"Number of Tracks\": 12}, {\"Year\": 2066, \"Number of Tracks\": 28}, {\"Year\": 2067, \"Number of Tracks\": 21}, {\"Year\": 2068, \"Number of Tracks\": 27}, {\"Year\": 2069, \"Number of Tracks\": 25}, {\"Year\": 2070, \"Number of Tracks\": 22}, {\"Year\": 2071, \"Number of Tracks\": 15}, {\"Year\": 2072, \"Number of Tracks\": 14}, {\"Year\": 2073, \"Number of Tracks\": 25}, {\"Year\": 2074, \"Number of Tracks\": 19}, {\"Year\": 2075, \"Number of Tracks\": 18}, {\"Year\": 2076, \"Number of Tracks\": 24}, {\"Year\": 2077, \"Number of Tracks\": 16}, {\"Year\": 2078, \"Number of Tracks\": 24}, {\"Year\": 2079, \"Number of Tracks\": 23}, {\"Year\": 2080, \"Number of Tracks\": 29}, {\"Year\": 2081, \"Number of Tracks\": 25}, {\"Year\": 2082, \"Number of Tracks\": 22}, {\"Year\": 2083, \"Number of Tracks\": 24}, {\"Year\": 2084, \"Number of Tracks\": 20}, {\"Year\": 2085, \"Number of Tracks\": 23}, {\"Year\": 2086, \"Number of Tracks\": 17}, {\"Year\": 2087, \"Number of Tracks\": 13}, {\"Year\": 2088, \"Number of Tracks\": 24}, {\"Year\": 2089, \"Number of Tracks\": 18}, {\"Year\": 2090, \"Number of Tracks\": 24}, {\"Year\": 2091, \"Number of Tracks\": 23}, {\"Year\": 2092, \"Number of Tracks\": 13}, {\"Year\": 2093, \"Number of Tracks\": 17}, {\"Year\": 2094, \"Number of Tracks\": 17}, {\"Year\": 2095, \"Number of Tracks\": 22}, {\"Year\": 2096, \"Number of Tracks\": 21}, {\"Year\": 2097, \"Number of Tracks\": 17}, {\"Year\": 2098, \"Number of Tracks\": 22}, {\"Year\": 2099, \"Number of Tracks\": 24}, {\"Year\": 2100, \"Number of Tracks\": 14}]}}, {\"mode\": \"vega-lite\"});\n",
       "</script>"
      ],
      "text/plain": [
       "alt.Chart(...)"
      ]
     },
     "metadata": {},
     "output_type": "display_data"
    }
   ],
   "source": [
    "invalid_years = df[(df['year'] < 1973) | (df['year'] > 2025)]\n",
    "\n",
    "if len(invalid_years) > 0:\n",
    "    print(f\"found {len(invalid_years)} rows with invalid years (< 1973 or > 2025):\")\n",
    "    display(invalid_years[['id', 'title', 'name_artist', 'year']].head(10))\n",
    "    \n",
    "year_counts = df['year'].value_counts().sort_index()\n",
    "\n",
    "year_counts_df = year_counts.reset_index()\n",
    "year_counts_df.columns = ['Year', 'Number of Tracks']\n",
    "\n",
    "chart = alt.Chart(year_counts_df).mark_bar(\n",
    "    color='steelblue',\n",
    "    opacity=0.7\n",
    ").encode(\n",
    "    x=alt.X('Year:Q', \n",
    "            axis=alt.Axis(format='d', labelAngle=-45), \n",
    "            title='Year'),\n",
    "    y=alt.Y('Number of Tracks', title='Number of Tracks')\n",
    ").properties(\n",
    "    title='Distribution of Tracks per Year',\n",
    "    width=1000,\n",
    "    height=400\n",
    ").interactive()\n",
    "\n",
    "display(chart)"
   ]
  },
  {
   "cell_type": "markdown",
   "id": "8f6ec912",
   "metadata": {},
   "source": [
    "there seems to be a lot of invalid years. the ones above the year 2025 are for obvious reasons wrong, but the ones below 1973 might be really old tracks. let's check this by using the lowest active_start field of the artists.csv dataset"
   ]
  },
  {
   "cell_type": "code",
   "execution_count": 42,
   "id": "6e9e468b",
   "metadata": {},
   "outputs": [
    {
     "name": "stdout",
     "output_type": "stream",
     "text": [
      "missing active_start values: 54\n",
      "earliest active_start: 1988-01-01 00:00:00\n"
     ]
    }
   ],
   "source": [
    "artists_path = path.join('..', 'dataset', 'artists.csv')\n",
    "df_artists = pd.read_csv(artists_path, sep=';')\n",
    "\n",
    "df_artists['active_start'] = pd.to_datetime(df_artists['active_start'], errors='coerce')\n",
    "missing_count = df_artists['active_start'].isna().sum()\n",
    "print(f\"missing active_start values: {missing_count}\")\n",
    "\n",
    "earliest_date = df_artists['active_start'].min()\n",
    "print(f\"earliest active_start: {earliest_date}\")"
   ]
  },
  {
   "cell_type": "markdown",
   "id": "68e269d1",
   "metadata": {},
   "source": [
    "by checking them, we can notice that are there are no artist in the dataset with such low year of active_start. there might be one in the missing active_start values that is lower, but by checking some of the tracks with release year below 1973, i can say with enough confidence that those are all invalid years."
   ]
  },
  {
   "cell_type": "markdown",
   "id": "d5c412db",
   "metadata": {},
   "source": [
    "### month"
   ]
  },
  {
   "cell_type": "code",
   "execution_count": 43,
   "id": "2040b829",
   "metadata": {},
   "outputs": [
    {
     "name": "stdout",
     "output_type": "stream",
     "text": [
      "0         4.0\n",
      "1         3.0\n",
      "2         2.0\n",
      "3         3.0\n",
      "4         5.0\n",
      "         ... \n",
      "11161     NaN\n",
      "11162    11.0\n",
      "11163     NaN\n",
      "11164     1.0\n",
      "11165     NaN\n",
      "Name: month, Length: 11166, dtype: float64\n",
      "number of missing values in month: 1197\n"
     ]
    }
   ],
   "source": [
    "invalid_elems = df[df['month'].apply(check_type_validity, expected_type=int)]\n",
    "print(invalid_elems['month'])\n",
    "\n",
    "nan_indexes = df.index[df['month'].isna()].tolist()\n",
    "print(f\"number of missing values in month: {len(nan_indexes)}\")"
   ]
  },
  {
   "cell_type": "code",
   "execution_count": 44,
   "id": "74e70fb4",
   "metadata": {},
   "outputs": [
    {
     "name": "stdout",
     "output_type": "stream",
     "text": [
      "0           4\n",
      "1           3\n",
      "2           2\n",
      "3           3\n",
      "4           5\n",
      "         ... \n",
      "11161    <NA>\n",
      "11162      11\n",
      "11163    <NA>\n",
      "11164       1\n",
      "11165    <NA>\n",
      "Name: month, Length: 11166, dtype: Int64\n",
      "number of missing values in month: 1197\n"
     ]
    }
   ],
   "source": [
    "df['month'] = pd.to_numeric(df['month'], errors='coerce').astype('Int64')\n",
    "\n",
    "invalid_elems = df[df['month'].apply(check_type_validity, expected_type=int)]\n",
    "print(invalid_elems['month'])\n",
    "\n",
    "nan_indexes = df.index[df['month'].isna()].tolist()\n",
    "print(f\"number of missing values in month: {len(nan_indexes)}\")"
   ]
  },
  {
   "cell_type": "code",
   "execution_count": 45,
   "id": "5afa012d",
   "metadata": {},
   "outputs": [],
   "source": [
    "invalid_months = df[(df['month'] < 1) | (df['month'] > 12)]\n",
    "\n",
    "if len(invalid_months) > 0:\n",
    "    print(f\"found {len(invalid_years)} rows with invalid month (< 1 or > 12):\")\n",
    "    display(invalid_months[['id', 'title', 'name_artist', 'month']].head(10))"
   ]
  },
  {
   "cell_type": "markdown",
   "id": "ddae1ebe",
   "metadata": {},
   "source": [
    "even though all the months have valid values, a lot of them are missing"
   ]
  },
  {
   "cell_type": "markdown",
   "id": "9411e350",
   "metadata": {},
   "source": [
    "### day"
   ]
  },
  {
   "cell_type": "code",
   "execution_count": 46,
   "id": "cff0491e",
   "metadata": {},
   "outputs": [
    {
     "name": "stdout",
     "output_type": "stream",
     "text": [
      "0         2.0\n",
      "1         6.0\n",
      "2        19.0\n",
      "3         8.0\n",
      "4        29.0\n",
      "         ... \n",
      "11161     NaN\n",
      "11162     9.0\n",
      "11163     NaN\n",
      "11164     1.0\n",
      "11165     NaN\n",
      "Name: day, Length: 11166, dtype: float64\n",
      "number of missing values in day: 1323\n"
     ]
    }
   ],
   "source": [
    "invalid_elems = df[df['day'].apply(check_type_validity, expected_type=int)]\n",
    "print(invalid_elems['day'])\n",
    "\n",
    "nan_indexes = df.index[df['day'].isna()].tolist()\n",
    "print(f\"number of missing values in day: {len(nan_indexes)}\")"
   ]
  },
  {
   "cell_type": "code",
   "execution_count": 47,
   "id": "c8a5dd18",
   "metadata": {},
   "outputs": [
    {
     "name": "stdout",
     "output_type": "stream",
     "text": [
      "0           2\n",
      "1           6\n",
      "2          19\n",
      "3           8\n",
      "4          29\n",
      "         ... \n",
      "11161    <NA>\n",
      "11162       9\n",
      "11163    <NA>\n",
      "11164       1\n",
      "11165    <NA>\n",
      "Name: day, Length: 11166, dtype: Int64\n",
      "number of missing values in day: 1323\n"
     ]
    }
   ],
   "source": [
    "df['day'] = pd.to_numeric(df['day'], errors='coerce').astype('Int64')\n",
    "\n",
    "invalid_elems = df[df['day'].apply(check_type_validity, expected_type=int)]\n",
    "print(invalid_elems['day'])\n",
    "\n",
    "nan_indexes = df.index[df['day'].isna()].tolist()\n",
    "print(f\"number of missing values in day: {len(nan_indexes)}\")"
   ]
  },
  {
   "cell_type": "markdown",
   "id": "d69faeb9",
   "metadata": {},
   "source": [
    "### n_sentences"
   ]
  },
  {
   "cell_type": "code",
   "execution_count": 48,
   "id": "13b9f6a9",
   "metadata": {},
   "outputs": [
    {
     "name": "stdout",
     "output_type": "stream",
     "text": [
      "0        102.0\n",
      "1         56.0\n",
      "2         88.0\n",
      "3         37.0\n",
      "4         48.0\n",
      "         ...  \n",
      "11161     75.0\n",
      "11162     76.0\n",
      "11163     74.0\n",
      "11164     32.0\n",
      "11165     45.0\n",
      "Name: n_sentences, Length: 11166, dtype: float64\n",
      "number of missing values in n_sentences: 76\n"
     ]
    }
   ],
   "source": [
    "invalid_elems = df[df['n_sentences'].apply(check_type_validity, expected_type=int)]\n",
    "print(invalid_elems['n_sentences'])\n",
    "\n",
    "nan_indexes = df.index[df['n_sentences'].isna()].tolist()\n",
    "print(f\"number of missing values in n_sentences: {len(nan_indexes)}\")"
   ]
  },
  {
   "cell_type": "code",
   "execution_count": 49,
   "id": "f44ae90c",
   "metadata": {},
   "outputs": [
    {
     "name": "stdout",
     "output_type": "stream",
     "text": [
      "matching rows: 4768\n",
      "mismatching rows: 6398\n",
      "\n"
     ]
    },
    {
     "data": {
      "text/html": [
       "<div>\n",
       "<style scoped>\n",
       "    .dataframe tbody tr th:only-of-type {\n",
       "        vertical-align: middle;\n",
       "    }\n",
       "\n",
       "    .dataframe tbody tr th {\n",
       "        vertical-align: top;\n",
       "    }\n",
       "\n",
       "    .dataframe thead th {\n",
       "        text-align: right;\n",
       "    }\n",
       "</style>\n",
       "<table border=\"1\" class=\"dataframe\">\n",
       "  <thead>\n",
       "    <tr style=\"text-align: right;\">\n",
       "      <th></th>\n",
       "      <th>title</th>\n",
       "      <th>stored_n_sentences</th>\n",
       "      <th>computed_non_empty</th>\n",
       "      <th>empty_lines</th>\n",
       "      <th>total_lines</th>\n",
       "      <th>diff</th>\n",
       "    </tr>\n",
       "  </thead>\n",
       "  <tbody>\n",
       "    <tr>\n",
       "      <th>0</th>\n",
       "      <td>​polka 2 :-/</td>\n",
       "      <td>102</td>\n",
       "      <td>98</td>\n",
       "      <td>5</td>\n",
       "      <td>103</td>\n",
       "      <td>-4</td>\n",
       "    </tr>\n",
       "    <tr>\n",
       "      <th>1</th>\n",
       "      <td>POLKA</td>\n",
       "      <td>56</td>\n",
       "      <td>56</td>\n",
       "      <td>5</td>\n",
       "      <td>61</td>\n",
       "      <td>0</td>\n",
       "    </tr>\n",
       "    <tr>\n",
       "      <th>2</th>\n",
       "      <td>​britney ;-)</td>\n",
       "      <td>88</td>\n",
       "      <td>87</td>\n",
       "      <td>7</td>\n",
       "      <td>94</td>\n",
       "      <td>-1</td>\n",
       "    </tr>\n",
       "    <tr>\n",
       "      <th>3</th>\n",
       "      <td>CEO</td>\n",
       "      <td>37</td>\n",
       "      <td>37</td>\n",
       "      <td>4</td>\n",
       "      <td>41</td>\n",
       "      <td>0</td>\n",
       "    </tr>\n",
       "    <tr>\n",
       "      <th>4</th>\n",
       "      <td>LONDRA</td>\n",
       "      <td>48</td>\n",
       "      <td>48</td>\n",
       "      <td>6</td>\n",
       "      <td>54</td>\n",
       "      <td>0</td>\n",
       "    </tr>\n",
       "    <tr>\n",
       "      <th>5</th>\n",
       "      <td>BOHEME</td>\n",
       "      <td>62</td>\n",
       "      <td>62</td>\n",
       "      <td>8</td>\n",
       "      <td>70</td>\n",
       "      <td>0</td>\n",
       "    </tr>\n",
       "    <tr>\n",
       "      <th>6</th>\n",
       "      <td>LOBBY WAY</td>\n",
       "      <td>82</td>\n",
       "      <td>80</td>\n",
       "      <td>6</td>\n",
       "      <td>86</td>\n",
       "      <td>-2</td>\n",
       "    </tr>\n",
       "    <tr>\n",
       "      <th>7</th>\n",
       "      <td>SLATT</td>\n",
       "      <td>82</td>\n",
       "      <td>77</td>\n",
       "      <td>8</td>\n",
       "      <td>85</td>\n",
       "      <td>-5</td>\n",
       "    </tr>\n",
       "    <tr>\n",
       "      <th>8</th>\n",
       "      <td>MADE IN ITALY</td>\n",
       "      <td>82</td>\n",
       "      <td>82</td>\n",
       "      <td>8</td>\n",
       "      <td>90</td>\n",
       "      <td>0</td>\n",
       "    </tr>\n",
       "    <tr>\n",
       "      <th>9</th>\n",
       "      <td>ROSE &amp; ROVI</td>\n",
       "      <td>50</td>\n",
       "      <td>49</td>\n",
       "      <td>3</td>\n",
       "      <td>52</td>\n",
       "      <td>-1</td>\n",
       "    </tr>\n",
       "  </tbody>\n",
       "</table>\n",
       "</div>"
      ],
      "text/plain": [
       "           title  stored_n_sentences  computed_non_empty  empty_lines  \\\n",
       "0   ​polka 2 :-/                 102                  98            5   \n",
       "1          POLKA                  56                  56            5   \n",
       "2   ​britney ;-)                  88                  87            7   \n",
       "3            CEO                  37                  37            4   \n",
       "4         LONDRA                  48                  48            6   \n",
       "5         BOHEME                  62                  62            8   \n",
       "6      LOBBY WAY                  82                  80            6   \n",
       "7          SLATT                  82                  77            8   \n",
       "8  MADE IN ITALY                  82                  82            8   \n",
       "9    ROSE & ROVI                  50                  49            3   \n",
       "\n",
       "   total_lines  diff  \n",
       "0          103    -4  \n",
       "1           61     0  \n",
       "2           94    -1  \n",
       "3           41     0  \n",
       "4           54     0  \n",
       "5           70     0  \n",
       "6           86    -2  \n",
       "7           85    -5  \n",
       "8           90     0  \n",
       "9           52    -1  "
      ]
     },
     "metadata": {},
     "output_type": "display_data"
    }
   ],
   "source": [
    "df['n_sentences'] = pd.to_numeric(df['n_sentences'], errors='coerce').astype('Int64')\n",
    "\n",
    "def count_sentences_in_lyrics(lyrics):\n",
    "    if pd.isna(lyrics):\n",
    "        return 0\n",
    "    lines = lyrics.split('\\n')\n",
    "    count = sum(1 for line in lines if line.strip())\n",
    "    return count\n",
    "\n",
    "def count_empty_lines(lyrics):\n",
    "    if pd.isna(lyrics):\n",
    "        return 0\n",
    "    lines = lyrics.split('\\n')\n",
    "    return sum(1 for line in lines if not line.strip())\n",
    "\n",
    "def count_total_lines(lyrics):\n",
    "    if pd.isna(lyrics):\n",
    "        return 0\n",
    "    return len(lyrics.split('\\n'))\n",
    "\n",
    "computed_sentences = df['lyrics'].apply(count_sentences_in_lyrics)\n",
    "empty_lines = df['lyrics'].apply(count_empty_lines)\n",
    "total_lines = df['lyrics'].apply(count_total_lines)\n",
    "\n",
    "mismatches_sentences = df[df['n_sentences'] != computed_sentences]\n",
    "\n",
    "print(f\"matching rows: {len(df) - len(mismatches_sentences)}\")\n",
    "print(f\"mismatching rows: {len(mismatches_sentences)}\\n\")\n",
    "\n",
    "comparison_display = pd.DataFrame({\n",
    "    'title': df['title'],\n",
    "    'stored_n_sentences': df['n_sentences'],\n",
    "    'computed_non_empty': computed_sentences,\n",
    "    'empty_lines': empty_lines,\n",
    "    'total_lines': total_lines,\n",
    "    'diff': computed_sentences - df['n_sentences']\n",
    "})\n",
    "display(comparison_display.head(10))"
   ]
  },
  {
   "cell_type": "markdown",
   "id": "4d9e12fd",
   "metadata": {},
   "source": [
    "from those results my guess is that the number of sentences is counted from the number of new lines in the lyrics. the results seems to be inconsistent: some of the songs also count the empty lines, while others don't"
   ]
  },
  {
   "cell_type": "markdown",
   "id": "06dede61",
   "metadata": {},
   "source": [
    " ### n_tokens"
   ]
  },
  {
   "cell_type": "code",
   "execution_count": 50,
   "id": "9d7e28b8",
   "metadata": {},
   "outputs": [
    {
     "name": "stdout",
     "output_type": "stream",
     "text": [
      "0        911.0\n",
      "1        675.0\n",
      "2        758.0\n",
      "3        382.0\n",
      "4        429.0\n",
      "         ...  \n",
      "11161    624.0\n",
      "11162    602.0\n",
      "11163    570.0\n",
      "11164    304.0\n",
      "11165    338.0\n",
      "Name: n_tokens, Length: 11166, dtype: float64\n",
      "number of missing values in n_tokens: 76\n"
     ]
    }
   ],
   "source": [
    "invalid_elems = df[df['n_tokens'].apply(check_type_validity, expected_type=int)]\n",
    "print(invalid_elems['n_tokens'])\n",
    "\n",
    "nan_indexes = df.index[df['n_tokens'].isna()].tolist()\n",
    "print(f\"number of missing values in n_tokens: {len(nan_indexes)}\")"
   ]
  },
  {
   "cell_type": "code",
   "execution_count": 51,
   "id": "4abb224a",
   "metadata": {},
   "outputs": [
    {
     "name": "stdout",
     "output_type": "stream",
     "text": [
      "matches: 88\n",
      "mean difference: -79.56\n",
      "\n",
      "some matching tracks:\n"
     ]
    },
    {
     "data": {
      "text/html": [
       "<div>\n",
       "<style scoped>\n",
       "    .dataframe tbody tr th:only-of-type {\n",
       "        vertical-align: middle;\n",
       "    }\n",
       "\n",
       "    .dataframe tbody tr th {\n",
       "        vertical-align: top;\n",
       "    }\n",
       "\n",
       "    .dataframe thead th {\n",
       "        text-align: right;\n",
       "    }\n",
       "</style>\n",
       "<table border=\"1\" class=\"dataframe\">\n",
       "  <thead>\n",
       "    <tr style=\"text-align: right;\">\n",
       "      <th></th>\n",
       "      <th>title</th>\n",
       "      <th>n_tokens</th>\n",
       "      <th>lyrics</th>\n",
       "    </tr>\n",
       "  </thead>\n",
       "  <tbody>\n",
       "    <tr>\n",
       "      <th>58</th>\n",
       "      <td>LATTE +</td>\n",
       "      <td>4</td>\n",
       "      <td>1 ContributorLATTE + Lyrics</td>\n",
       "    </tr>\n",
       "    <tr>\n",
       "      <th>65</th>\n",
       "      <td>C. A. S.</td>\n",
       "      <td>5</td>\n",
       "      <td>1 ContributorC. A. S. Lyrics</td>\n",
       "    </tr>\n",
       "    <tr>\n",
       "      <th>279</th>\n",
       "      <td>Night Cherry</td>\n",
       "      <td>4</td>\n",
       "      <td>8 ContributorsNight Cherry Lyrics</td>\n",
       "    </tr>\n",
       "    <tr>\n",
       "      <th>641</th>\n",
       "      <td>Escamotage</td>\n",
       "      <td>8</td>\n",
       "      <td>Biggie Paul sopra il beat sta in alto</td>\n",
       "    </tr>\n",
       "    <tr>\n",
       "      <th>645</th>\n",
       "      <td>2P solo</td>\n",
       "      <td>4</td>\n",
       "      <td>4 Contributors2P solo Lyrics</td>\n",
       "    </tr>\n",
       "    <tr>\n",
       "      <th>1575</th>\n",
       "      <td>Overture</td>\n",
       "      <td>3</td>\n",
       "      <td>3 ContributorsOverture Lyrics</td>\n",
       "    </tr>\n",
       "    <tr>\n",
       "      <th>1623</th>\n",
       "      <td>Incompatibile - Strumentale</td>\n",
       "      <td>9</td>\n",
       "      <td>1 ContributorIncompatibile - Strumentale Lyric...</td>\n",
       "    </tr>\n",
       "    <tr>\n",
       "      <th>1626</th>\n",
       "      <td>La Valigia - Strumentale</td>\n",
       "      <td>10</td>\n",
       "      <td>1 ContributorLa Valigia - Strumentale LyricsTh...</td>\n",
       "    </tr>\n",
       "    <tr>\n",
       "      <th>1982</th>\n",
       "      <td>Intro</td>\n",
       "      <td>12</td>\n",
       "      <td>La Pina\\nPina\\nLa Pina\\nPina\\nLa Pina\\nPina\\nL...</td>\n",
       "    </tr>\n",
       "    <tr>\n",
       "      <th>2671</th>\n",
       "      <td>Nobiltà Di Strada (Intro)</td>\n",
       "      <td>4</td>\n",
       "      <td>Inoki\\nNobiltà di strada</td>\n",
       "    </tr>\n",
       "    <tr>\n",
       "      <th>3180</th>\n",
       "      <td>Star*</td>\n",
       "      <td>26</td>\n",
       "      <td>Senorita sai che sono un giovane re\\n\\nOcchi a...</td>\n",
       "    </tr>\n",
       "    <tr>\n",
       "      <th>3484</th>\n",
       "      <td>Cantico Errante Di Due D.J. Notturni</td>\n",
       "      <td>14</td>\n",
       "      <td>Questo è il nostro stile\\n\\nMica male\\nDue\\nDJ...</td>\n",
       "    </tr>\n",
       "    <tr>\n",
       "      <th>3508</th>\n",
       "      <td>Il mio viaggio</td>\n",
       "      <td>5</td>\n",
       "      <td>3 ContributorsIl mio viaggio Lyrics</td>\n",
       "    </tr>\n",
       "    <tr>\n",
       "      <th>3574</th>\n",
       "      <td>Wicked Man</td>\n",
       "      <td>4</td>\n",
       "      <td>3 ContributorsWicked Man Lyrics</td>\n",
       "    </tr>\n",
       "    <tr>\n",
       "      <th>3585</th>\n",
       "      <td>Il Funk Dopo La Morte</td>\n",
       "      <td>7</td>\n",
       "      <td>1 ContributorIl Funk Dopo La Morte Lyrics</td>\n",
       "    </tr>\n",
       "    <tr>\n",
       "      <th>3604</th>\n",
       "      <td>Arrivi e partenze</td>\n",
       "      <td>5</td>\n",
       "      <td>2 ContributorsArrivi e partenze Lyrics</td>\n",
       "    </tr>\n",
       "    <tr>\n",
       "      <th>3631</th>\n",
       "      <td>Tentazioni</td>\n",
       "      <td>3</td>\n",
       "      <td>2 ContributorsTentazioni Lyrics</td>\n",
       "    </tr>\n",
       "    <tr>\n",
       "      <th>3639</th>\n",
       "      <td>0 tempo e 0 vento</td>\n",
       "      <td>108</td>\n",
       "      <td>3 Contributors0 tempo e 0 vento LyricsAs cores...</td>\n",
       "    </tr>\n",
       "    <tr>\n",
       "      <th>3662</th>\n",
       "      <td>Laura</td>\n",
       "      <td>3</td>\n",
       "      <td>1 ContributorLaura Lyrics</td>\n",
       "    </tr>\n",
       "    <tr>\n",
       "      <th>3663</th>\n",
       "      <td>Alpha 2000</td>\n",
       "      <td>4</td>\n",
       "      <td>1 ContributorAlpha 2000 Lyrics</td>\n",
       "    </tr>\n",
       "  </tbody>\n",
       "</table>\n",
       "</div>"
      ],
      "text/plain": [
       "                                     title  n_tokens  \\\n",
       "58                                 LATTE +         4   \n",
       "65                                C. A. S.         5   \n",
       "279                           Night Cherry         4   \n",
       "641                             Escamotage         8   \n",
       "645                                2P solo         4   \n",
       "1575                              Overture         3   \n",
       "1623           Incompatibile - Strumentale         9   \n",
       "1626              La Valigia - Strumentale        10   \n",
       "1982                                 Intro        12   \n",
       "2671             Nobiltà Di Strada (Intro)         4   \n",
       "3180                                 Star*        26   \n",
       "3484  Cantico Errante Di Due D.J. Notturni        14   \n",
       "3508                        Il mio viaggio         5   \n",
       "3574                            Wicked Man         4   \n",
       "3585                 Il Funk Dopo La Morte         7   \n",
       "3604                     Arrivi e partenze         5   \n",
       "3631                            Tentazioni         3   \n",
       "3639                     0 tempo e 0 vento       108   \n",
       "3662                                 Laura         3   \n",
       "3663                            Alpha 2000         4   \n",
       "\n",
       "                                                 lyrics  \n",
       "58                          1 ContributorLATTE + Lyrics  \n",
       "65                         1 ContributorC. A. S. Lyrics  \n",
       "279                   8 ContributorsNight Cherry Lyrics  \n",
       "641               Biggie Paul sopra il beat sta in alto  \n",
       "645                        4 Contributors2P solo Lyrics  \n",
       "1575                      3 ContributorsOverture Lyrics  \n",
       "1623  1 ContributorIncompatibile - Strumentale Lyric...  \n",
       "1626  1 ContributorLa Valigia - Strumentale LyricsTh...  \n",
       "1982  La Pina\\nPina\\nLa Pina\\nPina\\nLa Pina\\nPina\\nL...  \n",
       "2671                           Inoki\\nNobiltà di strada  \n",
       "3180  Senorita sai che sono un giovane re\\n\\nOcchi a...  \n",
       "3484  Questo è il nostro stile\\n\\nMica male\\nDue\\nDJ...  \n",
       "3508                3 ContributorsIl mio viaggio Lyrics  \n",
       "3574                    3 ContributorsWicked Man Lyrics  \n",
       "3585          1 ContributorIl Funk Dopo La Morte Lyrics  \n",
       "3604             2 ContributorsArrivi e partenze Lyrics  \n",
       "3631                    2 ContributorsTentazioni Lyrics  \n",
       "3639  3 Contributors0 tempo e 0 vento LyricsAs cores...  \n",
       "3662                          1 ContributorLaura Lyrics  \n",
       "3663                     1 ContributorAlpha 2000 Lyrics  "
      ]
     },
     "metadata": {},
     "output_type": "display_data"
    }
   ],
   "source": [
    "df['n_tokens'] = pd.to_numeric(df['n_tokens'], errors='coerce').astype('Int64')\n",
    "\n",
    "def count_words(lyrics):\n",
    "    if pd.isna(lyrics):\n",
    "        return 0\n",
    "    return len(lyrics.split()) #split by whitespace\n",
    "\n",
    "computed_words = df['lyrics'].apply(count_words)\n",
    "\n",
    "matches_words = (df['n_tokens'] == computed_words).sum()\n",
    "matching_tracks = df[computed_words == df['n_tokens']].copy()\n",
    "diff_words = computed_words - df['n_tokens']\n",
    "\n",
    "print(f\"matches: {matches_words}\")\n",
    "print(f\"mean difference: {diff_words.mean():+.2f}\")\n",
    "\n",
    "print(f\"\\nsome matching tracks:\")\n",
    "display_cols = ['title', 'n_tokens', 'lyrics']\n",
    "display(matching_tracks[display_cols].head(20))"
   ]
  },
  {
   "cell_type": "markdown",
   "id": "173b4aa5",
   "metadata": {},
   "source": [
    "the number of tokens doesn't seem to count the tokens only by splitting by whitespace. From the mean difference, we can notice that there are missing tokens that are not getting counted. By analyzing some of the lyrics, all seem to have in common to be short (mostly errors) and with no punctuation, so i'll try to include it in the token count"
   ]
  },
  {
   "cell_type": "code",
   "execution_count": 52,
   "id": "c28b9e21",
   "metadata": {},
   "outputs": [
    {
     "name": "stdout",
     "output_type": "stream",
     "text": [
      "matches: 561\n",
      "mean difference: +3.50\n",
      "\n",
      "some matching tracks:\n"
     ]
    },
    {
     "data": {
      "text/html": [
       "<div>\n",
       "<style scoped>\n",
       "    .dataframe tbody tr th:only-of-type {\n",
       "        vertical-align: middle;\n",
       "    }\n",
       "\n",
       "    .dataframe tbody tr th {\n",
       "        vertical-align: top;\n",
       "    }\n",
       "\n",
       "    .dataframe thead th {\n",
       "        text-align: right;\n",
       "    }\n",
       "</style>\n",
       "<table border=\"1\" class=\"dataframe\">\n",
       "  <thead>\n",
       "    <tr style=\"text-align: right;\">\n",
       "      <th></th>\n",
       "      <th>title</th>\n",
       "      <th>n_tokens</th>\n",
       "      <th>lyrics</th>\n",
       "    </tr>\n",
       "  </thead>\n",
       "  <tbody>\n",
       "    <tr>\n",
       "      <th>50</th>\n",
       "      <td>Blackout</td>\n",
       "      <td>241</td>\n",
       "      <td>Chiusi dentro una stanza senza guardare l'ora,...</td>\n",
       "    </tr>\n",
       "    <tr>\n",
       "      <th>58</th>\n",
       "      <td>LATTE +</td>\n",
       "      <td>4</td>\n",
       "      <td>1 ContributorLATTE + Lyrics</td>\n",
       "    </tr>\n",
       "    <tr>\n",
       "      <th>61</th>\n",
       "      <td>Punk 'a Piana</td>\n",
       "      <td>6</td>\n",
       "      <td>2 ContributorsPunk ’a Piana Lyrics</td>\n",
       "    </tr>\n",
       "    <tr>\n",
       "      <th>62</th>\n",
       "      <td>Ritratti dell'odio</td>\n",
       "      <td>805</td>\n",
       "      <td>Kranyo, ah, vai\\n\\nMi siedo e ripenso \"Mah, st...</td>\n",
       "    </tr>\n",
       "    <tr>\n",
       "      <th>68</th>\n",
       "      <td>Luciano Pavarotty // Glock</td>\n",
       "      <td>7</td>\n",
       "      <td>1 ContributorLuciano Pavarotty // Glock Lyrics</td>\n",
       "    </tr>\n",
       "    <tr>\n",
       "      <th>82</th>\n",
       "      <td>Chicas</td>\n",
       "      <td>333</td>\n",
       "      <td>Tutte matte le mie amiche\\nTutte matte le mie ...</td>\n",
       "    </tr>\n",
       "    <tr>\n",
       "      <th>113</th>\n",
       "      <td>Mood Blu</td>\n",
       "      <td>396</td>\n",
       "      <td>Tra tutte le scuse che mi racconto, mi circond...</td>\n",
       "    </tr>\n",
       "    <tr>\n",
       "      <th>153</th>\n",
       "      <td>CI SARÒ</td>\n",
       "      <td>386</td>\n",
       "      <td>Voglio guadagnarmi da vivere, ma non vivere pe...</td>\n",
       "    </tr>\n",
       "    <tr>\n",
       "      <th>167</th>\n",
       "      <td>non so chi ha creato il mondo</td>\n",
       "      <td>45</td>\n",
       "      <td>Questa donna che riflette il cielo\\nChe fa azz...</td>\n",
       "    </tr>\n",
       "    <tr>\n",
       "      <th>176</th>\n",
       "      <td>WNDLST Freestyle</td>\n",
       "      <td>219</td>\n",
       "      <td>Eh, okay\\nNon sono uno che parla tanto, ma sto...</td>\n",
       "    </tr>\n",
       "    <tr>\n",
       "      <th>196</th>\n",
       "      <td>Omega (Outro)</td>\n",
       "      <td>472</td>\n",
       "      <td>Tranne una volta, lei ricorda bene\\nSputo vele...</td>\n",
       "    </tr>\n",
       "    <tr>\n",
       "      <th>235</th>\n",
       "      <td>BLESS SU BLESS</td>\n",
       "      <td>511</td>\n",
       "      <td>(Vedo bless) Da quando ero nella culla\\n(Chied...</td>\n",
       "    </tr>\n",
       "    <tr>\n",
       "      <th>269</th>\n",
       "      <td>Cazzeggio Nella BV3 House</td>\n",
       "      <td>112</td>\n",
       "      <td>Probabilmente si tratta di un provino di BV3 s...</td>\n",
       "    </tr>\n",
       "    <tr>\n",
       "      <th>277</th>\n",
       "      <td>Dulcis in Fundo</td>\n",
       "      <td>27</td>\n",
       "      <td>4 ContributorsDulcis in Fundo Lyrics“Dulcis in...</td>\n",
       "    </tr>\n",
       "    <tr>\n",
       "      <th>279</th>\n",
       "      <td>Night Cherry</td>\n",
       "      <td>4</td>\n",
       "      <td>8 ContributorsNight Cherry Lyrics</td>\n",
       "    </tr>\n",
       "    <tr>\n",
       "      <th>290</th>\n",
       "      <td>I Don't Give a Fück</td>\n",
       "      <td>34</td>\n",
       "      <td>2 ContributorsI Don’t Give a Fück Lyrics“I Don...</td>\n",
       "    </tr>\n",
       "    <tr>\n",
       "      <th>300</th>\n",
       "      <td>Nuova Car</td>\n",
       "      <td>46</td>\n",
       "      <td>Yah,yah\\nGuarda la mia nuova car\\nVado avanti ...</td>\n",
       "    </tr>\n",
       "    <tr>\n",
       "      <th>302</th>\n",
       "      <td>2ombie*</td>\n",
       "      <td>109</td>\n",
       "      <td>\\nYeah\\n\\nCerte volte mi sembro uno zombie, zo...</td>\n",
       "    </tr>\n",
       "    <tr>\n",
       "      <th>303</th>\n",
       "      <td>via da te</td>\n",
       "      <td>59</td>\n",
       "      <td>Ah\\nFumiamo le mura di sta casa\\nSentivo le tu...</td>\n",
       "    </tr>\n",
       "    <tr>\n",
       "      <th>328</th>\n",
       "      <td>100 MESSAGGI</td>\n",
       "      <td>527</td>\n",
       "      <td>Ti prego, non cominciare\\nSai che per me è già...</td>\n",
       "    </tr>\n",
       "  </tbody>\n",
       "</table>\n",
       "</div>"
      ],
      "text/plain": [
       "                             title  n_tokens  \\\n",
       "50                        Blackout       241   \n",
       "58                         LATTE +         4   \n",
       "61                   Punk 'a Piana         6   \n",
       "62              Ritratti dell'odio       805   \n",
       "68      Luciano Pavarotty // Glock         7   \n",
       "82                          Chicas       333   \n",
       "113                       Mood Blu       396   \n",
       "153                        CI SARÒ       386   \n",
       "167  non so chi ha creato il mondo        45   \n",
       "176               WNDLST Freestyle       219   \n",
       "196                  Omega (Outro)       472   \n",
       "235                 BLESS SU BLESS       511   \n",
       "269      Cazzeggio Nella BV3 House       112   \n",
       "277                Dulcis in Fundo        27   \n",
       "279                   Night Cherry         4   \n",
       "290            I Don't Give a Fück        34   \n",
       "300                      Nuova Car        46   \n",
       "302                        2ombie*       109   \n",
       "303                      via da te        59   \n",
       "328                   100 MESSAGGI       527   \n",
       "\n",
       "                                                lyrics  \n",
       "50   Chiusi dentro una stanza senza guardare l'ora,...  \n",
       "58                         1 ContributorLATTE + Lyrics  \n",
       "61                  2 ContributorsPunk ’a Piana Lyrics  \n",
       "62   Kranyo, ah, vai\\n\\nMi siedo e ripenso \"Mah, st...  \n",
       "68      1 ContributorLuciano Pavarotty // Glock Lyrics  \n",
       "82   Tutte matte le mie amiche\\nTutte matte le mie ...  \n",
       "113  Tra tutte le scuse che mi racconto, mi circond...  \n",
       "153  Voglio guadagnarmi da vivere, ma non vivere pe...  \n",
       "167  Questa donna che riflette il cielo\\nChe fa azz...  \n",
       "176  Eh, okay\\nNon sono uno che parla tanto, ma sto...  \n",
       "196  Tranne una volta, lei ricorda bene\\nSputo vele...  \n",
       "235  (Vedo bless) Da quando ero nella culla\\n(Chied...  \n",
       "269  Probabilmente si tratta di un provino di BV3 s...  \n",
       "277  4 ContributorsDulcis in Fundo Lyrics“Dulcis in...  \n",
       "279                  8 ContributorsNight Cherry Lyrics  \n",
       "290  2 ContributorsI Don’t Give a Fück Lyrics“I Don...  \n",
       "300  Yah,yah\\nGuarda la mia nuova car\\nVado avanti ...  \n",
       "302  \\nYeah\\n\\nCerte volte mi sembro uno zombie, zo...  \n",
       "303  Ah\\nFumiamo le mura di sta casa\\nSentivo le tu...  \n",
       "328  Ti prego, non cominciare\\nSai che per me è già...  "
      ]
     },
     "metadata": {},
     "output_type": "display_data"
    }
   ],
   "source": [
    "def count_tokens_split_punctuation(lyrics):\n",
    "    if pd.isna(lyrics):\n",
    "        return 0\n",
    "    import re\n",
    "    #split on word boundaries - keeps alphanumeric sequences separate from punctuation\n",
    "    # \\w+ -> word characters (letters, numbers); [^\\w\\s] ->  punctuation (not words and not separators);\n",
    "    tokens = re.findall(r'\\w+|[^\\w\\s]', lyrics)\n",
    "    return len(tokens)\n",
    "\n",
    "computed_split_punct = df['lyrics'].apply(count_tokens_split_punctuation)\n",
    "\n",
    "matches_words = (df['n_tokens'] == computed_split_punct).sum()\n",
    "matching_tracks = df[computed_split_punct == df['n_tokens']].copy()\n",
    "diff_words = computed_split_punct - df['n_tokens']\n",
    "\n",
    "print(f\"matches: {matches_words}\")\n",
    "print(f\"mean difference: {diff_words.mean():+.2f}\")\n",
    "\n",
    "print(f\"\\nsome matching tracks:\")\n",
    "display_cols = ['title', 'n_tokens', 'lyrics']\n",
    "display(matching_tracks[display_cols].head(20))"
   ]
  },
  {
   "cell_type": "markdown",
   "id": "bb6ee6b3",
   "metadata": {},
   "source": [
    "this produces a result similar to the one in the dataset (with even long songs matching), but it's hard to say which are the chars that counted as tokens and which are not."
   ]
  },
  {
   "cell_type": "markdown",
   "id": "8416f6bd",
   "metadata": {},
   "source": [
    "### tokens_per_sent"
   ]
  },
  {
   "cell_type": "code",
   "execution_count": 53,
   "id": "aedafede",
   "metadata": {},
   "outputs": [
    {
     "name": "stdout",
     "output_type": "stream",
     "text": [
      "0         8.931373\n",
      "1        12.053571\n",
      "2         8.613636\n",
      "3        10.324324\n",
      "4         8.937500\n",
      "           ...    \n",
      "11161     8.320000\n",
      "11162     7.921053\n",
      "11163     7.702703\n",
      "11164     9.500000\n",
      "11165     7.511111\n",
      "Name: tokens_per_sent, Length: 11166, dtype: float64\n",
      "number of missing values in tokens_per_sent: 76\n"
     ]
    }
   ],
   "source": [
    "invalid_elems = df[df['tokens_per_sent'].apply(check_type_validity, expected_type=int)]\n",
    "print(invalid_elems['tokens_per_sent'])\n",
    "\n",
    "nan_indexes = df.index[df['tokens_per_sent'].isna()].tolist()\n",
    "print(f\"number of missing values in tokens_per_sent: {len(nan_indexes)}\")"
   ]
  },
  {
   "cell_type": "code",
   "execution_count": 54,
   "id": "3359ea24",
   "metadata": {},
   "outputs": [
    {
     "name": "stdout",
     "output_type": "stream",
     "text": [
      "Matching rows (correct n_tokens over n_sentences): 11166\n",
      "Mismatching rows: 0\n"
     ]
    }
   ],
   "source": [
    "expected_tokens_per_sent = df['n_tokens'] / df['n_sentences']\n",
    "\n",
    "tolerance = 1e-6\n",
    "matches = (abs(df['tokens_per_sent'] - expected_tokens_per_sent) <= tolerance) | (df['tokens_per_sent'].isna() & expected_tokens_per_sent.isna())\n",
    "\n",
    "total_rows = len(df)\n",
    "num_matches = matches.sum()\n",
    "num_mismatches = total_rows - num_matches\n",
    "\n",
    "print(f\"Matching rows (correct n_tokens over n_sentences): {num_matches}\")\n",
    "print(f\"Mismatching rows: {num_mismatches}\")"
   ]
  },
  {
   "cell_type": "markdown",
   "id": "4be3e9bb",
   "metadata": {},
   "source": [
    "this column is correctly computed, the 76 missing values are given by the missing 76 values of n_tokens and n_sentences."
   ]
  }
 ],
 "metadata": {
  "kernelspec": {
   "display_name": "Python 3 (ipykernel)",
   "language": "python",
   "name": "python3"
  },
  "language_info": {
   "codemirror_mode": {
    "name": "ipython",
    "version": 3
   },
   "file_extension": ".py",
   "mimetype": "text/x-python",
   "name": "python",
   "nbconvert_exporter": "python",
   "pygments_lexer": "ipython3",
   "version": "3.12.3"
  }
 },
 "nbformat": 4,
 "nbformat_minor": 5
}
