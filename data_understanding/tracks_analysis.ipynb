{
 "cells": [
  {
   "cell_type": "markdown",
   "id": "23924fd2",
   "metadata": {},
   "source": [
    "## Tracks data analysis"
   ]
  },
  {
   "cell_type": "markdown",
   "id": "7484a138",
   "metadata": {},
   "source": [
    "Let's assert tracks data analysis by taking a first inspection of the track dataset"
   ]
  },
  {
   "cell_type": "code",
   "execution_count": 9,
   "id": "20f1204c",
   "metadata": {},
   "outputs": [],
   "source": [
    "import pandas as pd\n",
    "import matplotlib.pyplot as plt\n",
    "from os import path\n",
    "dataset_path = path.join('..', 'dataset', 'tracks.csv')\n",
    "df = pd.read_csv(dataset_path, sep=',')"
   ]
  },
  {
   "cell_type": "code",
   "execution_count": 10,
   "id": "94aee455",
   "metadata": {
    "scrolled": true
   },
   "outputs": [
    {
     "name": "stdout",
     "output_type": "stream",
     "text": [
      "<class 'pandas.core.frame.DataFrame'>\n",
      "RangeIndex: 11166 entries, 0 to 11165\n",
      "Data columns (total 45 columns):\n",
      " #   Column                Non-Null Count  Dtype  \n",
      "---  ------                --------------  -----  \n",
      " 0   id                    11166 non-null  object \n",
      " 1   id_artist             11166 non-null  object \n",
      " 2   name_artist           11166 non-null  object \n",
      " 3   full_title            11166 non-null  object \n",
      " 4   title                 11166 non-null  object \n",
      " 5   featured_artists      3517 non-null   object \n",
      " 6   primary_artist        11166 non-null  object \n",
      " 7   language              11061 non-null  object \n",
      " 8   album                 9652 non-null   object \n",
      " 9   stats_pageviews       4642 non-null   float64\n",
      " 10  swear_IT              11166 non-null  int64  \n",
      " 11  swear_EN              11166 non-null  int64  \n",
      " 12  swear_IT_words        11166 non-null  object \n",
      " 13  swear_EN_words        11166 non-null  object \n",
      " 14  year                  10766 non-null  object \n",
      " 15  month                 9969 non-null   float64\n",
      " 16  day                   9843 non-null   float64\n",
      " 17  n_sentences           11090 non-null  float64\n",
      " 18  n_tokens              11090 non-null  float64\n",
      " 19  tokens_per_sent       11090 non-null  float64\n",
      " 20  char_per_tok          11090 non-null  float64\n",
      " 21  lexical_density       11090 non-null  float64\n",
      " 22  avg_token_per_clause  11090 non-null  float64\n",
      " 23  bpm                   11102 non-null  float64\n",
      " 24  centroid              11102 non-null  float64\n",
      " 25  rolloff               11102 non-null  float64\n",
      " 26  flux                  11102 non-null  float64\n",
      " 27  rms                   11102 non-null  float64\n",
      " 28  zcr                   11102 non-null  float64\n",
      " 29  flatness              11102 non-null  float64\n",
      " 30  spectral_complexity   11102 non-null  float64\n",
      " 31  pitch                 11102 non-null  float64\n",
      " 32  loudness              11102 non-null  float64\n",
      " 33  album_name            11088 non-null  object \n",
      " 34  album_release_date    11088 non-null  object \n",
      " 35  album_type            11088 non-null  object \n",
      " 36  disc_number           11088 non-null  float64\n",
      " 37  track_number          11088 non-null  float64\n",
      " 38  duration_ms           11088 non-null  float64\n",
      " 39  explicit              11088 non-null  object \n",
      " 40  popularity            11164 non-null  object \n",
      " 41  album_image           11088 non-null  object \n",
      " 42  id_album              11088 non-null  object \n",
      " 43  lyrics                11163 non-null  object \n",
      " 44  modified_popularity   11166 non-null  bool   \n",
      "dtypes: bool(1), float64(22), int64(2), object(20)\n",
      "memory usage: 3.8+ MB\n"
     ]
    }
   ],
   "source": [
    "df.info()"
   ]
  },
  {
   "cell_type": "markdown",
   "id": "21bb416c",
   "metadata": {},
   "source": [
    "year, month, day, n_sentence, n_tokens, disc_numer, track_number, popularity should all be int64 (or at least float64: year and popularity are object), explicit should be bool"
   ]
  },
  {
   "cell_type": "markdown",
   "id": "720666e6",
   "metadata": {},
   "source": [
    "validation function checking expected types validity"
   ]
  },
  {
   "cell_type": "code",
   "execution_count": 13,
   "id": "68b6d642",
   "metadata": {},
   "outputs": [],
   "source": [
    "def check_type_validity(value, expected_type):\n",
    "    return not isinstance(value, expected_type)"
   ]
  },
  {
   "cell_type": "markdown",
   "id": "691c2626",
   "metadata": {},
   "source": [
    "### id"
   ]
  },
  {
   "cell_type": "code",
   "execution_count": 17,
   "id": "6e0e39f7",
   "metadata": {},
   "outputs": [
    {
     "name": "stdout",
     "output_type": "stream",
     "text": [
      "11093\n"
     ]
    }
   ],
   "source": [
    "unique_ids = df['id'].nunique()\n",
    "print(unique_ids)"
   ]
  },
  {
   "cell_type": "markdown",
   "id": "3e5bc4df",
   "metadata": {},
   "source": [
    "all the ids are strings with the following format \"TR{unique_num_id}\".\n",
    "there are less unique ids than the number of rows (11093 < 11166), let's check if they come from duplicate songs or there are different songs with the same id"
   ]
  },
  {
   "cell_type": "code",
   "execution_count": 46,
   "id": "8d72dcde",
   "metadata": {},
   "outputs": [
    {
     "name": "stdout",
     "output_type": "stream",
     "text": [
      "there are 71 not unique ids:\n",
      "id\n",
      "TR367132    4\n",
      "TR978886    2\n",
      "TR987615    2\n",
      "TR690925    2\n",
      "TR772702    2\n",
      "           ..\n",
      "TR245683    2\n",
      "TR903275    2\n",
      "TR679972    2\n",
      "TR247772    2\n",
      "TR261964    2\n",
      "Name: count, Length: 71, dtype: int64\n",
      "0 come from duplicate songs,  70 come from different songs with the same id,  1 have both duplicate and different songs\n"
     ]
    }
   ],
   "source": [
    "not_unique_ids = df['id'].value_counts()\n",
    "not_unique_ids = not_unique_ids[not_unique_ids > 1]\n",
    "print(f\"there are {len(not_unique_ids)} not unique ids:\")\n",
    "print(not_unique_ids)\n",
    "\n",
    "not_unique_ids_list = not_unique_ids.index.tolist()\n",
    "\n",
    "identical_duplicates = []\n",
    "different_duplicates = []\n",
    "mixed_duplicates = [] #ids with both identical and different rows\n",
    "\n",
    "for dup_id in not_unique_ids_list:\n",
    "    duplicate_rows = df[df['id'] == dup_id]\n",
    "    num_occurrences = len(duplicate_rows)\n",
    "    \n",
    "    unique_songs = duplicate_rows[['name_artist', 'title']].drop_duplicates()\n",
    "    num_unique = len(unique_rows)\n",
    "\n",
    "    if num_unique == 1:\n",
    "        identical_duplicates.append(dup_id) #duplicate rows\n",
    "    elif num_unique == num_occurrences:\n",
    "        different_duplicates.append(dup_id) #different songs\n",
    "    else:\n",
    "        mixed_duplicates.append(dup_id) #duplicate rows and different songs\n",
    "\n",
    "print(f\"{len(identical_duplicates)} come from duplicate songs, \",\n",
    "      f\"{len(different_duplicates)} come from different songs with the same id, \",\n",
    "      f\"{len(mixed_duplicates)} have both duplicate and different songs\")"
   ]
  },
  {
   "cell_type": "markdown",
   "id": "0be2f1bd",
   "metadata": {},
   "source": [
    "of the 71 not unique ids, 70 refers to different songs, meaning that there are no duplicate songs respect to those ids, but there are ids which refers to multiple songs.\n",
    "\n",
    "by analyzing more in depth the case with both duplicate and different songs:"
   ]
  },
  {
   "cell_type": "code",
   "execution_count": 58,
   "id": "1077df2c",
   "metadata": {},
   "outputs": [
    {
     "name": "stdout",
     "output_type": "stream",
     "text": [
      "for id TR367132, there are 2 unique songs:\n",
      "\t- 'BUGIE' by artist: Madame, occuring 2 times\n",
      "\t\tdiffering columns: ['year', 'album_name', 'album_release_date', 'album_type', 'track_number', 'duration_ms', 'popularity', 'album_image', 'id_album']\n",
      "\n",
      "\t- '​sentimi' by artist: Madame, occuring 2 times\n",
      "\t\tdiffering columns: ['album_name', 'album_release_date', 'album_type', 'track_number', 'duration_ms', 'popularity', 'album_image', 'id_album']\n",
      "\n"
     ]
    }
   ],
   "source": [
    "for dup_id in mixed_duplicates: #iterating for a \"general\" solution, but in this case wouldn't be necessary\n",
    "    duplicate_artist_song = df[df['id'] == dup_id]\n",
    "    unique_songs = duplicate_artist_song[['name_artist', 'title']].drop_duplicates()\n",
    "    print(f\"for id {dup_id}, there are {len(unique_songs)} unique songs:\")\n",
    "    \n",
    "    for idx, row in unique_songs.iterrows():\n",
    "        song_rows = duplicate_artist_song[\n",
    "            (duplicate_artist_song['name_artist'] == row['name_artist']) &\n",
    "            (duplicate_artist_song['title'] == row['title'])]\n",
    "        \n",
    "        print(f\"\\t- '{row['title']}' by artist: {row['name_artist']}, occuring {len(song_rows)} times\")\n",
    "        \n",
    "        if len(song_rows) != 1: #more than one occurrence\n",
    "            first_row = song_rows.iloc[0]\n",
    "            all_identical = True\n",
    "            differing_columns = []\n",
    "\n",
    "            for col in song_rows.columns:\n",
    "                unique_values = song_rows[col].nunique()\n",
    "                if unique_values > 1:\n",
    "                    all_identical = False\n",
    "                    differing_columns.append(col)\n",
    "            \n",
    "            if not all_identical:\n",
    "                print(f\"\\t\\tdiffering columns: {differing_columns}\\n\")\n",
    "                \n",
    "                #for col in differing_columns: #uncomment this for see values of different rows\n",
    "                        #values = song_rows[col].tolist()\n",
    "                        #print(f\"\\t\\t• {col}:\")\n",
    "                        #for i, val in enumerate(values):\n",
    "                            #print(f\"\\t\\t\\tRow {i+1}: {val}\")"
   ]
  },
  {
   "cell_type": "markdown",
   "id": "e0a1f29e",
   "metadata": {},
   "source": [
    "so that id not only refers to 2 different songs, but each occurrence of the song (2) has different values. based on the values of different rows, it's possible to cut the additional wrong records"
   ]
  }
 ],
 "metadata": {
  "kernelspec": {
   "display_name": "Python 3 (ipykernel)",
   "language": "python",
   "name": "python3"
  },
  "language_info": {
   "codemirror_mode": {
    "name": "ipython",
    "version": 3
   },
   "file_extension": ".py",
   "mimetype": "text/x-python",
   "name": "python",
   "nbconvert_exporter": "python",
   "pygments_lexer": "ipython3",
   "version": "3.12.3"
  }
 },
 "nbformat": 4,
 "nbformat_minor": 5
}
